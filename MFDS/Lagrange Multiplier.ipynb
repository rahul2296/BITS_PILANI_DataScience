{
 "cells": [
  {
   "cell_type": "code",
   "execution_count": 1,
   "id": "4d2bc3d3",
   "metadata": {},
   "outputs": [],
   "source": [
    "from sympy import *\n",
    "from sympy.parsing.sympy_parser import parse_expr\n",
    "from sympy.printing.latex import LatexPrinter\n",
    "from sympy.solvers.solveset import linsolve\n",
    "from sympy.solvers import solve_poly_system\n",
    "from IPython.display import display, Latex\n",
    "import numpy as np"
   ]
  },
  {
   "cell_type": "code",
   "execution_count": 2,
   "id": "838304f3",
   "metadata": {},
   "outputs": [
    {
     "data": {
      "application/javascript": [
       "IPython.OutputArea.prototype._should_scroll = function(lines) {\n",
       "    return false;\n",
       "}\n"
      ],
      "text/plain": [
       "<IPython.core.display.Javascript object>"
      ]
     },
     "metadata": {},
     "output_type": "display_data"
    }
   ],
   "source": [
    "%%javascript\n",
    "IPython.OutputArea.prototype._should_scroll = function(lines) {\n",
    "    return false;\n",
    "}"
   ]
  },
  {
   "cell_type": "code",
   "execution_count": 3,
   "id": "e4a015cb",
   "metadata": {},
   "outputs": [],
   "source": [
    "def lagrange_multiplier(str_expr, str_constraint, str_symbols, show_decimal = False, rounding_digit=4):\n",
    "    sym = symbols(str_symbols)\n",
    "    f = Function('f')(*sym)\n",
    "    g = Function('g')(*sym)\n",
    "    \n",
    "    expr_f = parse_expr(str_expr)\n",
    "    expr_g = parse_expr(str_constraint)\n",
    "    print('The function is')\n",
    "    display(Eq(f,expr_f))\n",
    "    \n",
    "    print('The constraint is')\n",
    "    display(Eq(g,expr_g))\n",
    "    \n",
    "    grad_f = MatrixSymbol('\\u2207f',len(sym),1)\n",
    "    grad_g = MatrixSymbol('\\u2207g',len(sym),1)\n",
    "    lambda_sym = Symbol('lambda0')\n",
    "    print('\\nLagrange multiplier equation')\n",
    "    display(Eq(grad_f, MatMul(lambda_sym, grad_g)))\n",
    "    \n",
    "    print('\\nThe Gradient of f is')\n",
    "    \n",
    "    display(Eq(grad_f, Matrix([Derivative(f,x) for x in sym])))\n",
    "    display(Eq(grad_f, Matrix([Derivative(expr_f,x) for x in sym])))\n",
    "    grad_f_m = Matrix([diff(expr_f,x) for x in sym])\n",
    "    display(Eq(grad_f, grad_f_m))\n",
    "    \n",
    "    print('\\nThe Gradient of g is')\n",
    "    \n",
    "    display(Eq(grad_g, Matrix([Derivative(g,x) for x in sym])))\n",
    "    display(Eq(grad_g, Matrix([Derivative(expr_g,x) for x in sym])))\n",
    "    grad_g_m = Matrix([diff(expr_g,x) for x in sym])\n",
    "    display(Eq(grad_g, grad_g_m))\n",
    "    print('\\nApplying Lagrange multiplier')\n",
    "    display(Eq(grad_f_m, MatMul(lambda_sym, grad_g_m)))\n",
    "    display(Eq(grad_f_m, Mul(lambda_sym, grad_g_m)))\n",
    "    display(Eq(grad_f_m - lambda_sym*grad_g_m, zeros(len(sym),1)))\n",
    "    print('\\nOn solving we get')\n",
    "#     str_sym_lambda = str_symbols + ' lambda0'\n",
    "#     sym_lambda = symbols(str_symbols)\n",
    "   \n",
    "    res = solve_poly_system(grad_f_m - lambda_sym*grad_g_m, sym)\n",
    "    f_list =[] \n",
    "    #print(res)\n",
    "    for i,r in enumerate(res):\n",
    "        sym_iter = [Symbol(f'{s}_{i+1}') for s in str_symbols.split()]\n",
    "        display(Eq(Matrix(sym_iter), Matrix(r)))         \n",
    "        if not np.all([x.is_number for x in Matrix(r)]):        \n",
    "            print('\\nSubstituting these values in g, to solve for \\u03BB')  \n",
    "            expr_g_eval = expr_g.subs([(i,v) for i,v in zip(sym,r)])\n",
    "            display(Eq(expr_g_eval,0))\n",
    "            l_r = solve(expr_g_eval, lambda_sym)\n",
    "            print('We get')\n",
    "            for l in l_r:\n",
    "                display(Eq(lambda_sym, l))\n",
    "                if show_decimal:\n",
    "                    l =  N(l, rounding_digit)\n",
    "                    display(Eq(lambda_sym, l))\n",
    "                print('\\nSubstituting the lambda value in')\n",
    "                display(Eq(Matrix(sym_iter), Matrix(r))) \n",
    "                print('\\nWe get')\n",
    "                r_eval = [e.subs(lambda_sym, l) for e in r]\n",
    "                display(Eq(Matrix(sym_iter), Matrix(r_eval)))\n",
    "                print('Substituting these values in')\n",
    "                display(Eq(f,expr_f))\n",
    "                print('\\nWe get')\n",
    "                f_eval = expr_f.subs([(s,r) for s,r in zip(sym,r_eval)])\n",
    "                f_list.append(f_eval)\n",
    "                display(Eq(f.subs([(s,r) for s,r in zip(sym,r_eval)]), f_eval))                \n",
    "                print('-----------------------------------------\\n')\n",
    "        else:\n",
    "            print('Substituting these values in')\n",
    "            display(Eq(f,expr_f))\n",
    "            print('\\nWe get')\n",
    "            f_eval = expr_f.subs([(s,r) for s,r in zip(sym,r)])\n",
    "            f_list.append(f_eval)\n",
    "            display(Eq(f.subs([(s,r) for s,r in zip(sym,r)]), f_eval))                \n",
    "            print('-----------------------------------------\\n')\n",
    "        \n",
    "        print('-----------------------------------------')\n",
    "    max_f = max(f_list)\n",
    "    min_f = min(f_list)\n",
    "    print('\\nMaximum Value of f')\n",
    "    display(max_f)\n",
    "    print('\\nMinimum Value of f')\n",
    "    display(min_f)"
   ]
  },
  {
   "cell_type": "code",
   "execution_count": 4,
   "id": "8f6020fd",
   "metadata": {},
   "outputs": [
    {
     "name": "stdout",
     "output_type": "stream",
     "text": [
      "The function is\n"
     ]
    },
    {
     "data": {
      "text/latex": [
       "$\\displaystyle f{\\left(x,y \\right)} = 2 x + y$"
      ],
      "text/plain": [
       "Eq(f(x, y), 2*x + y)"
      ]
     },
     "metadata": {},
     "output_type": "display_data"
    },
    {
     "name": "stdout",
     "output_type": "stream",
     "text": [
      "The constraint is\n"
     ]
    },
    {
     "data": {
      "text/latex": [
       "$\\displaystyle g{\\left(x,y \\right)} = x^{2} + y^{2} - 1$"
      ],
      "text/plain": [
       "Eq(g(x, y), x**2 + y**2 - 1)"
      ]
     },
     "metadata": {},
     "output_type": "display_data"
    },
    {
     "name": "stdout",
     "output_type": "stream",
     "text": [
      "\n",
      "Lagrange multiplier equation\n"
     ]
    },
    {
     "data": {
      "text/latex": [
       "$\\displaystyle ∇f = \\lambda_{0} ∇g$"
      ],
      "text/plain": [
       "Eq(∇f, lambda0*∇g)"
      ]
     },
     "metadata": {},
     "output_type": "display_data"
    },
    {
     "name": "stdout",
     "output_type": "stream",
     "text": [
      "\n",
      "The Gradient of f is\n"
     ]
    },
    {
     "data": {
      "text/latex": [
       "$\\displaystyle ∇f = \\left[\\begin{matrix}\\frac{\\partial}{\\partial x} f{\\left(x,y \\right)}\\\\\\frac{\\partial}{\\partial y} f{\\left(x,y \\right)}\\end{matrix}\\right]$"
      ],
      "text/plain": [
       "Eq(∇f, Matrix([\n",
       "[Derivative(f(x, y), x)],\n",
       "[Derivative(f(x, y), y)]]))"
      ]
     },
     "metadata": {},
     "output_type": "display_data"
    },
    {
     "data": {
      "text/latex": [
       "$\\displaystyle ∇f = \\left[\\begin{matrix}\\frac{\\partial}{\\partial x} \\left(2 x + y\\right)\\\\\\frac{\\partial}{\\partial y} \\left(2 x + y\\right)\\end{matrix}\\right]$"
      ],
      "text/plain": [
       "Eq(∇f, Matrix([\n",
       "[Derivative(2*x + y, x)],\n",
       "[Derivative(2*x + y, y)]]))"
      ]
     },
     "metadata": {},
     "output_type": "display_data"
    },
    {
     "data": {
      "text/latex": [
       "$\\displaystyle ∇f = \\left[\\begin{matrix}2\\\\1\\end{matrix}\\right]$"
      ],
      "text/plain": [
       "Eq(∇f, Matrix([\n",
       "[2],\n",
       "[1]]))"
      ]
     },
     "metadata": {},
     "output_type": "display_data"
    },
    {
     "name": "stdout",
     "output_type": "stream",
     "text": [
      "\n",
      "The Gradient of g is\n"
     ]
    },
    {
     "data": {
      "text/latex": [
       "$\\displaystyle ∇g = \\left[\\begin{matrix}\\frac{\\partial}{\\partial x} g{\\left(x,y \\right)}\\\\\\frac{\\partial}{\\partial y} g{\\left(x,y \\right)}\\end{matrix}\\right]$"
      ],
      "text/plain": [
       "Eq(∇g, Matrix([\n",
       "[Derivative(g(x, y), x)],\n",
       "[Derivative(g(x, y), y)]]))"
      ]
     },
     "metadata": {},
     "output_type": "display_data"
    },
    {
     "data": {
      "text/latex": [
       "$\\displaystyle ∇g = \\left[\\begin{matrix}\\frac{\\partial}{\\partial x} \\left(x^{2} + y^{2} - 1\\right)\\\\\\frac{\\partial}{\\partial y} \\left(x^{2} + y^{2} - 1\\right)\\end{matrix}\\right]$"
      ],
      "text/plain": [
       "Eq(∇g, Matrix([\n",
       "[Derivative(x**2 + y**2 - 1, x)],\n",
       "[Derivative(x**2 + y**2 - 1, y)]]))"
      ]
     },
     "metadata": {},
     "output_type": "display_data"
    },
    {
     "data": {
      "text/latex": [
       "$\\displaystyle ∇g = \\left[\\begin{matrix}2 x\\\\2 y\\end{matrix}\\right]$"
      ],
      "text/plain": [
       "Eq(∇g, Matrix([\n",
       "[2*x],\n",
       "[2*y]]))"
      ]
     },
     "metadata": {},
     "output_type": "display_data"
    },
    {
     "name": "stdout",
     "output_type": "stream",
     "text": [
      "\n",
      "Applying Lagrange multiplier\n"
     ]
    },
    {
     "data": {
      "text/latex": [
       "$\\displaystyle \\left[\\begin{matrix}2\\\\1\\end{matrix}\\right] = \\lambda_{0} \\left[\\begin{matrix}2 x\\\\2 y\\end{matrix}\\right]$"
      ],
      "text/plain": [
       "Eq(Matrix([\n",
       "[2],\n",
       "[1]]), lambda0*Matrix([\n",
       "[2*x],\n",
       "[2*y]]))"
      ]
     },
     "metadata": {},
     "output_type": "display_data"
    },
    {
     "data": {
      "text/latex": [
       "$\\displaystyle \\left[\\begin{matrix}2\\\\1\\end{matrix}\\right] = \\left[\\begin{matrix}2 \\lambda_{0} x\\\\2 \\lambda_{0} y\\end{matrix}\\right]$"
      ],
      "text/plain": [
       "Eq(Matrix([\n",
       "[2],\n",
       "[1]]), Matrix([\n",
       "[2*lambda0*x],\n",
       "[2*lambda0*y]]))"
      ]
     },
     "metadata": {},
     "output_type": "display_data"
    },
    {
     "data": {
      "text/latex": [
       "$\\displaystyle \\left[\\begin{matrix}- 2 \\lambda_{0} x + 2\\\\- 2 \\lambda_{0} y + 1\\end{matrix}\\right] = \\left[\\begin{matrix}0\\\\0\\end{matrix}\\right]$"
      ],
      "text/plain": [
       "Eq(Matrix([\n",
       "[-2*lambda0*x + 2],\n",
       "[-2*lambda0*y + 1]]), Matrix([\n",
       "[0],\n",
       "[0]]))"
      ]
     },
     "metadata": {},
     "output_type": "display_data"
    },
    {
     "name": "stdout",
     "output_type": "stream",
     "text": [
      "\n",
      "On solving we get\n"
     ]
    },
    {
     "data": {
      "text/latex": [
       "$\\displaystyle \\left[\\begin{matrix}x_{1}\\\\y_{1}\\end{matrix}\\right] = \\left[\\begin{matrix}\\frac{1}{\\lambda_{0}}\\\\\\frac{1}{2 \\lambda_{0}}\\end{matrix}\\right]$"
      ],
      "text/plain": [
       "Eq(Matrix([\n",
       "[x_1],\n",
       "[y_1]]), Matrix([\n",
       "[    1/lambda0],\n",
       "[1/(2*lambda0)]]))"
      ]
     },
     "metadata": {},
     "output_type": "display_data"
    },
    {
     "name": "stdout",
     "output_type": "stream",
     "text": [
      "\n",
      "Substituting these values in g, to solve for λ\n"
     ]
    },
    {
     "data": {
      "text/latex": [
       "$\\displaystyle -1 + \\frac{5}{4 \\lambda_{0}^{2}} = 0$"
      ],
      "text/plain": [
       "Eq(-1 + 5/(4*lambda0**2), 0)"
      ]
     },
     "metadata": {},
     "output_type": "display_data"
    },
    {
     "name": "stdout",
     "output_type": "stream",
     "text": [
      "We get\n"
     ]
    },
    {
     "data": {
      "text/latex": [
       "$\\displaystyle \\lambda_{0} = - \\frac{\\sqrt{5}}{2}$"
      ],
      "text/plain": [
       "Eq(lambda0, -sqrt(5)/2)"
      ]
     },
     "metadata": {},
     "output_type": "display_data"
    },
    {
     "name": "stdout",
     "output_type": "stream",
     "text": [
      "\n",
      "Substituting the lambda value in\n"
     ]
    },
    {
     "data": {
      "text/latex": [
       "$\\displaystyle \\left[\\begin{matrix}x_{1}\\\\y_{1}\\end{matrix}\\right] = \\left[\\begin{matrix}\\frac{1}{\\lambda_{0}}\\\\\\frac{1}{2 \\lambda_{0}}\\end{matrix}\\right]$"
      ],
      "text/plain": [
       "Eq(Matrix([\n",
       "[x_1],\n",
       "[y_1]]), Matrix([\n",
       "[    1/lambda0],\n",
       "[1/(2*lambda0)]]))"
      ]
     },
     "metadata": {},
     "output_type": "display_data"
    },
    {
     "name": "stdout",
     "output_type": "stream",
     "text": [
      "\n",
      "We get\n"
     ]
    },
    {
     "data": {
      "text/latex": [
       "$\\displaystyle \\left[\\begin{matrix}x_{1}\\\\y_{1}\\end{matrix}\\right] = \\left[\\begin{matrix}- \\frac{2 \\sqrt{5}}{5}\\\\- \\frac{\\sqrt{5}}{5}\\end{matrix}\\right]$"
      ],
      "text/plain": [
       "Eq(Matrix([\n",
       "[x_1],\n",
       "[y_1]]), Matrix([\n",
       "[-2*sqrt(5)/5],\n",
       "[  -sqrt(5)/5]]))"
      ]
     },
     "metadata": {},
     "output_type": "display_data"
    },
    {
     "name": "stdout",
     "output_type": "stream",
     "text": [
      "Substituting these values in\n"
     ]
    },
    {
     "data": {
      "text/latex": [
       "$\\displaystyle f{\\left(x,y \\right)} = 2 x + y$"
      ],
      "text/plain": [
       "Eq(f(x, y), 2*x + y)"
      ]
     },
     "metadata": {},
     "output_type": "display_data"
    },
    {
     "name": "stdout",
     "output_type": "stream",
     "text": [
      "\n",
      "We get\n"
     ]
    },
    {
     "data": {
      "text/latex": [
       "$\\displaystyle f{\\left(- \\frac{2 \\sqrt{5}}{5},- \\frac{\\sqrt{5}}{5} \\right)} = - \\sqrt{5}$"
      ],
      "text/plain": [
       "Eq(f(-2*sqrt(5)/5, -sqrt(5)/5), -sqrt(5))"
      ]
     },
     "metadata": {},
     "output_type": "display_data"
    },
    {
     "name": "stdout",
     "output_type": "stream",
     "text": [
      "-----------------------------------------\n",
      "\n"
     ]
    },
    {
     "data": {
      "text/latex": [
       "$\\displaystyle \\lambda_{0} = \\frac{\\sqrt{5}}{2}$"
      ],
      "text/plain": [
       "Eq(lambda0, sqrt(5)/2)"
      ]
     },
     "metadata": {},
     "output_type": "display_data"
    },
    {
     "name": "stdout",
     "output_type": "stream",
     "text": [
      "\n",
      "Substituting the lambda value in\n"
     ]
    },
    {
     "data": {
      "text/latex": [
       "$\\displaystyle \\left[\\begin{matrix}x_{1}\\\\y_{1}\\end{matrix}\\right] = \\left[\\begin{matrix}\\frac{1}{\\lambda_{0}}\\\\\\frac{1}{2 \\lambda_{0}}\\end{matrix}\\right]$"
      ],
      "text/plain": [
       "Eq(Matrix([\n",
       "[x_1],\n",
       "[y_1]]), Matrix([\n",
       "[    1/lambda0],\n",
       "[1/(2*lambda0)]]))"
      ]
     },
     "metadata": {},
     "output_type": "display_data"
    },
    {
     "name": "stdout",
     "output_type": "stream",
     "text": [
      "\n",
      "We get\n"
     ]
    },
    {
     "data": {
      "text/latex": [
       "$\\displaystyle \\left[\\begin{matrix}x_{1}\\\\y_{1}\\end{matrix}\\right] = \\left[\\begin{matrix}\\frac{2 \\sqrt{5}}{5}\\\\\\frac{\\sqrt{5}}{5}\\end{matrix}\\right]$"
      ],
      "text/plain": [
       "Eq(Matrix([\n",
       "[x_1],\n",
       "[y_1]]), Matrix([\n",
       "[2*sqrt(5)/5],\n",
       "[  sqrt(5)/5]]))"
      ]
     },
     "metadata": {},
     "output_type": "display_data"
    },
    {
     "name": "stdout",
     "output_type": "stream",
     "text": [
      "Substituting these values in\n"
     ]
    },
    {
     "data": {
      "text/latex": [
       "$\\displaystyle f{\\left(x,y \\right)} = 2 x + y$"
      ],
      "text/plain": [
       "Eq(f(x, y), 2*x + y)"
      ]
     },
     "metadata": {},
     "output_type": "display_data"
    },
    {
     "name": "stdout",
     "output_type": "stream",
     "text": [
      "\n",
      "We get\n"
     ]
    },
    {
     "data": {
      "text/latex": [
       "$\\displaystyle f{\\left(\\frac{2 \\sqrt{5}}{5},\\frac{\\sqrt{5}}{5} \\right)} = \\sqrt{5}$"
      ],
      "text/plain": [
       "Eq(f(2*sqrt(5)/5, sqrt(5)/5), sqrt(5))"
      ]
     },
     "metadata": {},
     "output_type": "display_data"
    },
    {
     "name": "stdout",
     "output_type": "stream",
     "text": [
      "-----------------------------------------\n",
      "\n",
      "-----------------------------------------\n",
      "\n",
      "Maximum Value of f\n"
     ]
    },
    {
     "data": {
      "text/latex": [
       "$\\displaystyle \\sqrt{5}$"
      ],
      "text/plain": [
       "sqrt(5)"
      ]
     },
     "metadata": {},
     "output_type": "display_data"
    },
    {
     "name": "stdout",
     "output_type": "stream",
     "text": [
      "\n",
      "Minimum Value of f\n"
     ]
    },
    {
     "data": {
      "text/latex": [
       "$\\displaystyle - \\sqrt{5}$"
      ],
      "text/plain": [
       "-sqrt(5)"
      ]
     },
     "metadata": {},
     "output_type": "display_data"
    }
   ],
   "source": [
    "## input provided\n",
    "\n",
    "lagrange_multiplier(str_expr='2*x + y', str_constraint= 'x**2 +y**2 -1',str_symbols= 'x y',\n",
    "                    show_decimal = False, rounding_digit =4)"
   ]
  },
  {
   "cell_type": "code",
   "execution_count": null,
   "id": "6c1799ff",
   "metadata": {},
   "outputs": [],
   "source": []
  }
 ],
 "metadata": {
  "kernelspec": {
   "display_name": "Python 3 (ipykernel)",
   "language": "python",
   "name": "python3"
  },
  "language_info": {
   "codemirror_mode": {
    "name": "ipython",
    "version": 3
   },
   "file_extension": ".py",
   "mimetype": "text/x-python",
   "name": "python",
   "nbconvert_exporter": "python",
   "pygments_lexer": "ipython3",
   "version": "3.9.12"
  }
 },
 "nbformat": 4,
 "nbformat_minor": 5
}
