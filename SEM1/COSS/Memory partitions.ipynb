{
 "cells": [
  {
   "cell_type": "markdown",
   "id": "e41b10e3",
   "metadata": {},
   "source": [
    "# First -Fit "
   ]
  },
  {
   "cell_type": "code",
   "execution_count": 60,
   "id": "8309c391",
   "metadata": {},
   "outputs": [],
   "source": [
    "def FirstFit(block_Size, m, process_Size, n):\n",
    "    # code to store the block id of the block that needs to be allocated to a process\n",
    "    allocate = [-1] * n\n",
    "\n",
    "    # Any process is assigned with the memory at the initial stage\n",
    "\n",
    "    # find a suitable block for each process\n",
    "    # the blocks are allocated as per their size\n",
    "\n",
    "    for i in range(n):\n",
    "        for j in range(m):\n",
    "            if block_Size[j] >= process_Size[i]:\n",
    "                # assign the block j to p[i] process\n",
    "                allocate[i] = j\n",
    "\n",
    "                # available block memory is reduced\n",
    "                block_Size[j] -= process_Size[i]\n",
    "                break\n",
    "\n",
    "    print(\"Process No.  Process Size Block No.\")\n",
    "\n",
    "    for i in range(n):\n",
    "        print(str(i + 1) + \"            \" + str(process_Size[i]) + \"             \", end=\" \")\n",
    "\n",
    "        if allocate[i] != -1:\n",
    "            print(allocate[i] + 1)\n",
    "        else:\n",
    "            print(\"Not Allocated\")"
   ]
  },
  {
   "cell_type": "markdown",
   "id": "0692826a",
   "metadata": {},
   "source": [
    "#  Best-fit"
   ]
  },
  {
   "cell_type": "code",
   "execution_count": 61,
   "id": "4ecc13a0",
   "metadata": {},
   "outputs": [],
   "source": [
    "# Python3 implementation of Best - Fit algorithm \n",
    "  \n",
    "# Function to allocate memory to blocks \n",
    "# as per Best fit algorithm \n",
    "def BestFit(blockSize, m, processSize, n):\n",
    "      \n",
    "    # Stores block id of the block \n",
    "    # allocated to a process \n",
    "    allocation = [-1] * n \n",
    "      \n",
    "    # pick each process and find suitable \n",
    "    # blocks according to its size ad \n",
    "    # assign to it\n",
    "    for i in range(n):\n",
    "          \n",
    "        # Find the best fit block for\n",
    "        # current process \n",
    "        bestIdx = -1\n",
    "        for j in range(m):\n",
    "            if blockSize[j] >= processSize[i]:\n",
    "                if bestIdx == -1: \n",
    "                    bestIdx = j \n",
    "                elif blockSize[bestIdx] > blockSize[j]: \n",
    "                    bestIdx = j\n",
    "  \n",
    "        # If we could find a block for \n",
    "        # current process \n",
    "        if bestIdx != -1:\n",
    "              \n",
    "            # allocate block j to p[i] process \n",
    "            allocation[i] = bestIdx \n",
    "  \n",
    "            # Reduce available memory in this block. \n",
    "            blockSize[bestIdx] -= processSize[i]\n",
    "  \n",
    "    print(\"Process No. Process Size     Block no.\")\n",
    "    for i in range(n):\n",
    "        print(i + 1, \"         \", processSize[i], \n",
    "                                end = \"         \") \n",
    "        if allocation[i] != -1: \n",
    "            print(allocation[i] + 1) \n",
    "        else:\n",
    "            print(\"Not Allocated\")"
   ]
  },
  {
   "cell_type": "markdown",
   "id": "1f5d5509",
   "metadata": {},
   "source": [
    "# Worst-fit"
   ]
  },
  {
   "cell_type": "code",
   "execution_count": 62,
   "id": "d3bbf1c6",
   "metadata": {},
   "outputs": [],
   "source": [
    "# Python3 implementation of worst - Fit algorithm \n",
    "  \n",
    "# Function to allocate memory to blocks as \n",
    "# per worst fit algorithm \n",
    "def WorstFit(blockSize, m, processSize, n):\n",
    "      \n",
    "    # Stores block id of the block \n",
    "    # allocated to a process \n",
    "      \n",
    "    # Initially no block is assigned \n",
    "    # to any process \n",
    "    allocation = [-1] * n\n",
    "      \n",
    "    # pick each process and find suitable blocks \n",
    "    # according to its size ad assign to it \n",
    "    for i in range(n):\n",
    "          \n",
    "        # Find the best fit block for \n",
    "        # current process \n",
    "        wstIdx = -1\n",
    "        for j in range(m):\n",
    "            if blockSize[j] >= processSize[i]:\n",
    "                if wstIdx == -1: \n",
    "                    wstIdx = j \n",
    "                elif blockSize[wstIdx] < blockSize[j]: \n",
    "                    wstIdx = j\n",
    "  \n",
    "        # If we could find a block for \n",
    "        # current process \n",
    "        if wstIdx != -1:\n",
    "              \n",
    "            # allocate block j to p[i] process \n",
    "            allocation[i] = wstIdx \n",
    "  \n",
    "            # Reduce available memory in this block. \n",
    "            blockSize[wstIdx] -= processSize[i]\n",
    "  \n",
    "    print(\"Process No. Process Size Block no.\")\n",
    "    for i in range(n):\n",
    "        print(i + 1, \"         \", \n",
    "              processSize[i], end = \"     \") \n",
    "        if allocation[i] != -1:\n",
    "            print(allocation[i] + 1) \n",
    "        else:\n",
    "            print(\"Not Allocated\")"
   ]
  },
  {
   "cell_type": "markdown",
   "id": "03e0a2c0",
   "metadata": {},
   "source": [
    "# Next-fit"
   ]
  },
  {
   "cell_type": "code",
   "execution_count": 63,
   "id": "72222467",
   "metadata": {},
   "outputs": [],
   "source": [
    "# Python3 program for next fit\n",
    "# memory management algorithm\n",
    " \n",
    "# Function to allocate memory to\n",
    "# blocks as per Next fit algorithm\n",
    "def NextFit(blockSize, m, processSize, n):\n",
    "         \n",
    "    # Stores block id of the block\n",
    "    # allocated to a process\n",
    " \n",
    "    # Initially no block is assigned\n",
    "    # to any process\n",
    "    allocation = [-1] * n\n",
    "    j = 0\n",
    "    t = m-1\n",
    "    # pick each process and find suitable blocks\n",
    "    # according to its size ad assign to it\n",
    "    for i in range(n):\n",
    " \n",
    "        # Do not start from beginning\n",
    "        while j < m:\n",
    "            if blockSize[j] >= processSize[i]:\n",
    "                 \n",
    "                # allocate block j to p[i] process\n",
    "                allocation[i] = j\n",
    "                 \n",
    "                # Reduce available memory in this block.\n",
    "                blockSize[j] -= processSize[i]\n",
    "                 \n",
    "                # sets a new end point\n",
    "                t = (j - 1) % m\n",
    "                break\n",
    "            if t == j:\n",
    "                # sets a new end point\n",
    "                t = (j - 1) % m\n",
    "                # breaks the loop after going through all memory block\n",
    "                break\n",
    "             \n",
    "            # mod m will help in traversing the\n",
    "            # blocks from starting block after\n",
    "            # we reach the end.\n",
    "            j = (j + 1) % m\n",
    "              \n",
    "    print(\"Process No. Process Size Block no.\")\n",
    "     \n",
    "    for i in range(n):\n",
    "        print(i + 1, \"         \", processSize[i],end = \"     \")\n",
    "        if allocation[i] != -1:\n",
    "            print(allocation[i] + 1)\n",
    "        else:\n",
    "            print(\"Not Allocated\")"
   ]
  },
  {
   "cell_type": "code",
   "execution_count": 64,
   "id": "22eb9e42",
   "metadata": {},
   "outputs": [],
   "source": [
    "blockSize = [100, 500, 200, 300, 600] \n",
    "processSize = [212, 417, 112, 426] \n",
    "m = len(blockSize) \n",
    "n = len(processSize)     "
   ]
  },
  {
   "cell_type": "code",
   "execution_count": 65,
   "id": "a91a23f2",
   "metadata": {},
   "outputs": [
    {
     "name": "stdout",
     "output_type": "stream",
     "text": [
      "FirstFit:\n",
      "__________________________________________________\n",
      "Process No.  Process Size Block No.\n",
      "1            212              2\n",
      "2            417              5\n",
      "3            112              2\n",
      "4            426              Not Allocated\n"
     ]
    }
   ],
   "source": [
    "print(\"FirstFit:\\n__________________________________________________\")\n",
    "FirstFit(blockSize, m, processSize, n)"
   ]
  },
  {
   "cell_type": "code",
   "execution_count": 66,
   "id": "c09a4747",
   "metadata": {},
   "outputs": [
    {
     "name": "stdout",
     "output_type": "stream",
     "text": [
      "NextFit:\n",
      "__________________________________________________\n",
      "Process No. Process Size Block no.\n",
      "1           212     4\n",
      "2           417     Not Allocated\n",
      "3           112     3\n",
      "4           426     Not Allocated\n"
     ]
    }
   ],
   "source": [
    "print(\"NextFit:\\n__________________________________________________\")\n",
    "NextFit(blockSize, m, processSize, n)"
   ]
  },
  {
   "cell_type": "code",
   "execution_count": 67,
   "id": "40158c1a",
   "metadata": {},
   "outputs": [
    {
     "name": "stdout",
     "output_type": "stream",
     "text": [
      "BestFit:\n",
      "__________________________________________________\n",
      "Process No. Process Size     Block no.\n",
      "1           212         Not Allocated\n",
      "2           417         Not Allocated\n",
      "3           112         2\n",
      "4           426         Not Allocated\n"
     ]
    }
   ],
   "source": [
    "print(\"BestFit:\\n__________________________________________________\")\n",
    "BestFit(blockSize, m, processSize, n)"
   ]
  },
  {
   "cell_type": "code",
   "execution_count": 68,
   "id": "3ca75f31",
   "metadata": {},
   "outputs": [
    {
     "name": "stdout",
     "output_type": "stream",
     "text": [
      "WorstFit:\n",
      "__________________________________________________\n",
      "Process No. Process Size Block no.\n",
      "1           212     Not Allocated\n",
      "2           417     Not Allocated\n",
      "3           112     5\n",
      "4           426     Not Allocated\n"
     ]
    }
   ],
   "source": [
    "print(\"WorstFit:\\n__________________________________________________\")\n",
    "WorstFit(blockSize, m, processSize, n)"
   ]
  },
  {
   "cell_type": "code",
   "execution_count": null,
   "id": "007f1abf",
   "metadata": {},
   "outputs": [],
   "source": []
  }
 ],
 "metadata": {
  "kernelspec": {
   "display_name": "Python 3 (ipykernel)",
   "language": "python",
   "name": "python3"
  },
  "language_info": {
   "codemirror_mode": {
    "name": "ipython",
    "version": 3
   },
   "file_extension": ".py",
   "mimetype": "text/x-python",
   "name": "python",
   "nbconvert_exporter": "python",
   "pygments_lexer": "ipython3",
   "version": "3.9.12"
  }
 },
 "nbformat": 4,
 "nbformat_minor": 5
}
