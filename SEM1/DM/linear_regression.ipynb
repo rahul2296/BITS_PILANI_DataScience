{
 "cells": [
  {
   "cell_type": "code",
   "execution_count": 1,
   "id": "58379c75",
   "metadata": {},
   "outputs": [
    {
     "name": "stdout",
     "output_type": "stream",
     "text": [
      "mean_x:  9.1\n",
      "mean_y:  55.4\n",
      "numerator:  [154.93999999999997, -1.760000000000001, -0.8599999999999971, 64.74000000000001, 118.33999999999999, 38.43999999999999, 6.840000000000004, 411.74, 286.73999999999995, 190.44000000000003]\n",
      "denominator:  [37.209999999999994, 1.2099999999999993, 0.009999999999999929, 15.210000000000003, 37.209999999999994, 9.609999999999998, 3.610000000000001, 141.61, 65.61, 47.61000000000001]\n",
      "w1:  3.5374756199498467\n",
      "w0:  23.208971858456394\n"
     ]
    }
   ],
   "source": [
    "import numpy as np\n",
    "\n",
    "def mean(a):\n",
    "\tsum_a = 0\n",
    "\tfor i in range(0, len(a)):\n",
    "\t\tsum_a = sum_a + a[i]\n",
    "\tmean_a = sum_a / len(a)\n",
    "\n",
    "\treturn mean_a\n",
    "\n",
    "def linear_regression(x, y):\n",
    "\tif(len(x) != len(y)):\n",
    "\t\traise \"Invalid data lengths\"\n",
    "\n",
    "\tmean_x = mean(x)\n",
    "\tmean_y = mean(y)\n",
    "\n",
    "\tprint(\"mean_x: \", mean_x)\n",
    "\tprint(\"mean_y: \", mean_y)\n",
    "\n",
    "\tnumerator = 0\n",
    "\tdenominator = 0\n",
    "\tn = []\n",
    "\td = []\n",
    "\tfor i in range(0, len(x)):\n",
    "\t\tnumerator = numerator + (x[i] - mean_x) * (y[i] - mean_y)\n",
    "\t\tdenominator = denominator + (x[i] - mean_x)**2\n",
    "\t\tn.append((x[i] - mean_x) * (y[i] - mean_y))\n",
    "\t\td.append((x[i] - mean_x)**2)\n",
    "\n",
    "\tprint(\"numerator: \", n)\n",
    "\tprint(\"denominator: \", d)\n",
    "\n",
    "\tw1 = numerator/denominator\n",
    "\n",
    "\tprint(\"w1: \", w1)\n",
    "\n",
    "\tw0 = mean_y - w1*mean_x\n",
    "\n",
    "\tprint(\"w0: \", w0)\n",
    "\n",
    "x = [3, 8, 9, 13, 3, 6, 11, 21, 1, 16]\n",
    "y = [30, 57, 64, 72, 36, 43, 59, 90, 20, 83]\n",
    "\n",
    "linear_regression(x, y)\n"
   ]
  },
  {
   "cell_type": "code",
   "execution_count": null,
   "id": "d1a0a050",
   "metadata": {},
   "outputs": [],
   "source": []
  }
 ],
 "metadata": {
  "kernelspec": {
   "display_name": "Python 3",
   "language": "python",
   "name": "python3"
  },
  "language_info": {
   "codemirror_mode": {
    "name": "ipython",
    "version": 3
   },
   "file_extension": ".py",
   "mimetype": "text/x-python",
   "name": "python",
   "nbconvert_exporter": "python",
   "pygments_lexer": "ipython3",
   "version": "3.8.8"
  }
 },
 "nbformat": 4,
 "nbformat_minor": 5
}
