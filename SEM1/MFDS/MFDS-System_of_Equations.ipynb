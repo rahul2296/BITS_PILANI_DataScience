{
 "cells": [
  {
   "cell_type": "markdown",
   "id": "human-vegetation",
   "metadata": {},
   "source": [
    "1. <B>Gauss_Elimination</B>\n",
    "2. <B>Gauss_Elimination_Rounding</B>\n",
    "3. <B>Condition_Number</B>\n",
    "4. <B>Linear_Independence_Checker</B>\n",
    "5. <B>Basis_Finder</B>\n",
    "6. <B>Gauss_Seidel</B>\n",
    "7. <B>Gauss_Jacobi</B>\n",
    "8. <B>Power_Method</B>\n",
    "9. <B>Rayleigh_Quotient</B>\n",
    "10. <B>Diagonalization</B>\n",
    "11. <B>Gram_Schmidt_Orthonormalization</B>\n",
    "12. <B>QR_Factorization</B>\n",
    "13. <B>LU_Dolittle</B>\n",
    "14. <B>LU_Crout</B>\n",
    "15. <B>SVD</B>\n"
   ]
  },
  {
   "cell_type": "markdown",
   "id": "first-philip",
   "metadata": {},
   "source": [
    "# Execute below cell and then after you can proceed to execution of your problem"
   ]
  },
  {
   "cell_type": "code",
   "execution_count": 3,
   "id": "standing-series",
   "metadata": {},
   "outputs": [],
   "source": [
    "import math\n",
    "from IPython.display import display\n",
    "import pandas as pd\n",
    "import numpy as np\n",
    "from sympy import *\n",
    "from sympy.physics.quantum import Bra, Ket\n",
    "from abc import ABC, abstractmethod\n",
    "\n",
    "init_printing()\n",
    "VALID_SYSTEM_TYPES = [\n",
    "    'gauss_elimination',\n",
    "    'gauss_elimination_rounding',\n",
    "    'condition_number',\n",
    "    'linear_independence_checker',\n",
    "    'basis_finder',\n",
    "    'gauss_seidel',\n",
    "    'gauss_jacobi',\n",
    "    'power_method',\n",
    "    'rayleigh_quotient',\n",
    "    'diagonalization',\n",
    "    'gram_schmidt_orthonormalization',\n",
    "    'qr_factorization',\n",
    "    'lu_dolittle',\n",
    "    'lu_crout',\n",
    "    'svd'\n",
    "]\n",
    "\n",
    "\n",
    "class LinearSystemsFactory:\n",
    "    def __init__(self):\n",
    "        self._linear_systems = {}\n",
    "        for linear_system in LinearSystemsBase.__subclasses__():\n",
    "            linear_system_obj = linear_system()\n",
    "            self._linear_systems[linear_system_obj._get_system_type()] = linear_system_obj\n",
    "\n",
    "    def get_linear_system(self, system_type):\n",
    "        if system_type not in VALID_SYSTEM_TYPES:\n",
    "            raise ValueError('The linear system type supplied is not valid.'\n",
    "                             'You Must enter a Valid linear system Type')\n",
    "        return self._linear_systems[system_type]\n",
    "\n",
    "class LinearSystemsHelper:\n",
    "    round_to_n = staticmethod(lambda a, n: np.array([x if x == 0 else round(x, -int(math.floor(math.log10(abs(x)))) + (n - 1)) for x in a]) \\\n",
    "            if isinstance(a, np.ndarray) else a if a == 0 else round(a, -int(math.floor(math.log10(abs(a)))) + (n - 1)))\n",
    "    @staticmethod\n",
    "    def pivot(a, pivot_index):\n",
    "        pivot_row = a[pivot_index].copy()\n",
    "        max_row = pivot_row.copy()\n",
    "        max_row_index = pivot_index\n",
    "        for i in range(pivot_index + 1, a.shape[0]):\n",
    "            if math.fabs(a[i, pivot_index]) > math.fabs(max_row[pivot_index]):\n",
    "                max_row = a[i].copy()\n",
    "                max_row_index = i\n",
    "        if pivot_index != max_row_index:\n",
    "            print(f'Pivoting R{pivot_index + 1}  <--> R{max_row_index + 1}')\n",
    "            a[pivot_index] = max_row\n",
    "            a[max_row_index] = pivot_row\n",
    "            print(f'Output:\\n{a}\\n\\n')\n",
    "\n",
    "    @staticmethod\n",
    "    def check_for_diagonal_dominance(a):\n",
    "        diag = np.diag(np.abs(a))\n",
    "        #print(diag)\n",
    "\n",
    "        # Find row sum without diagonal\n",
    "        off_diag = np.sum(np.abs(a), axis=1) - diag\n",
    "\n",
    "        if np.all(diag > off_diag):\n",
    "            print('Matrix is diagonally dominant\\n')\n",
    "        else:\n",
    "            print('Matrix is NOT diagonally dominant\\n')\n",
    "\n",
    "    @staticmethod\n",
    "    def generate_random_matrix(size, diag_dom):\n",
    "        eps = 0.1\n",
    "        A = LinearSystemsHelper.gen_diag_matrix(size) if diag_dom \\\n",
    "            else np.random.randint(-10, 10, size) / (np.random.rand() + eps)\n",
    "        # print(f'Input Matrix A:\\n\\n{A}\\n\\n')\n",
    "        b = np.random.randint(-10, 10, size[0]) / (np.random.rand() + eps)\n",
    "        # print(f'b:\\n\\n{b}\\n\\n')\n",
    "        return A,b\n",
    "\n",
    "    @staticmethod\n",
    "    def gen_diag_matrix(size):\n",
    "        eps = 0.1\n",
    "        matrix = np.random.randint(-10, 10, (size)) / (np.random.rand() + eps)\n",
    "        # print(matrix)\n",
    "        sign_matrix = np.where(np.sign(matrix) == 0, 1, np.sign(matrix))\n",
    "\n",
    "        np.fill_diagonal(matrix, np.sum(np.abs(matrix), axis=1)\n",
    "                         + np.diag(np.abs(matrix)) + eps)  # added constant to ensure strict diagonal dominance\n",
    "        return np.abs(matrix) * sign_matrix\n",
    "\n",
    "\n",
    "# noinspection PyAbstractClass\n",
    "class LinearSystemsBase(ABC):\n",
    "    @abstractmethod\n",
    "    def _get_system_type(self):\n",
    "        pass\n",
    "\n",
    "    @abstractmethod\n",
    "    def solve(self, **kwargs):\n",
    "        pass\n",
    "\n",
    "class SingularValueDecomposition(LinearSystemsBase):\n",
    "    def _get_system_type(self):\n",
    "        return 'svd'\n",
    "\n",
    "    def solve(self, **kwargs):\n",
    "        self.a = np.array(kwargs.get('a'))\n",
    "        self.rounding_digit = np.array(kwargs.get('rounding_digit'))\n",
    "        return self.svd()\n",
    "\n",
    "    def svd(self):\n",
    "        A = np.array(self.a)\n",
    "        print('Input Matrix:')\n",
    "        A_sym = MatrixSymbol('A', A.shape[0], A.shape[1])\n",
    "        U_sym = MatrixSymbol('U', A.shape[0], A.shape[0])\n",
    "        sigma_sym = MatrixSymbol('\\u03A3', A.shape[0], A.shape[1])\n",
    "        V_sym = MatrixSymbol('V', A.shape[1], A.shape[1])\n",
    "        display(Eq(A_sym, Matrix(A)))\n",
    "        print('\\nConstructing Singular Value Decomposition of A\\n')\n",
    "        display(Eq(A_sym, Mul(Mul(U_sym,sigma_sym),Transpose(V_sym))))\n",
    "        print('\\nStep-1: Find eigenvalues of A\\u1D40A')\n",
    "        A_m = Matrix(A)\n",
    "        A_T_A = Matrix(A.T @ A)\n",
    "        display(Eq(Mul(Transpose(A_sym),A_sym), Mul(Transpose(A_m),A_m)))\n",
    "        display(Eq(Mul(Transpose(A_sym), A_sym), A_T_A))\n",
    "        # e, v = np.linalg.eig(A.T@A)\n",
    "        # print(np.linalg.eig(A.T@A))\n",
    "        #e = LinearSystemsHelper.round_to_n(e, self.rounding_digit)\n",
    "        #v = LinearSystemsHelper.round_to_n(v, self.rounding_digit)\n",
    "        #I = eye(2)\n",
    "\n",
    "        # x1, x2, Lambda = symbols('x1 x2 Lambda')\n",
    "        # equation = Eq(det(Lambda * I - A_m), 0)\n",
    "        #print([N(element, 4) for element in D])\n",
    "        # D = solve(equation)\n",
    "        # display(D)\n",
    "        #e = A_T_A.eigenvals()\n",
    "        #display(e)\n",
    "        eig_val = []\n",
    "        eig_vec = []\n",
    "\n",
    "        print('\\nEigenvalues of A\\u1D40A are')\n",
    "\n",
    "        v = A_T_A.eigenvects()\n",
    "        v.sort(key=lambda x: x[0], reverse=True)\n",
    "        for element in v:\n",
    "            eig_val.append(element[0])\n",
    "            eig_vec.append(list(element[2][0]/element[2][0].norm()))\n",
    "\n",
    "        for i, x in enumerate(eig_val):\n",
    "            display(Eq(Symbol(f'\\u03BB{i+1}'), x))\n",
    "\n",
    "        print('\\nStep-2: Setup V ')\n",
    "        print('\\nV is the Matrix with columns as Eigenvectors of A\\u1D40A ')\n",
    "\n",
    "        V_m = Matrix(np.array(eig_vec).T)\n",
    "\n",
    "        # display(v)\n",
    "        # display(V_m)\n",
    "\n",
    "        if  V_m.rows < A.shape[1] or V_m.cols < A.shape[1]:\n",
    "\n",
    "            print(f'\\nWe only have {V_m.cols} vectors\\n')\n",
    "            print(f'\\nSo to find other {A.shape[1]-V_m.cols} vectors we need to construct orthogonal vectors to \\n')\n",
    "            display(V_m)\n",
    "            print('\\nusing orthogonality conditions\\n')\n",
    "\n",
    "            #if V_m.cols == 1:\n",
    "            eig_vec_new = [eig_vec[0],eig_vec[0]]\n",
    "            V_m = Matrix(np.array(eig_vec_new))\n",
    "            #display(V_m)\n",
    "            vectors = V_m.nullspace()\n",
    "            print('Orthogonal vectors to v are')\n",
    "            display(vectors)\n",
    "            eig_vec = [eig_vec[0]]\n",
    "            for vector in vectors:\n",
    "                #display(vector)\n",
    "                eig_vec.append(vector)\n",
    "            #display(eig_vec)\n",
    "            eig_vec = [list(x) for x in eig_vec]\n",
    "            # display(u)\n",
    "            print('To construct V, we need to find orthonormal set of vectors')\n",
    "            eig_vec = GramSchmidtOrthonormalization().solve(a=eig_vec)[2]\n",
    "            #display(eig_vec)\n",
    "            V_m = Matrix(np.array([list(x) for x in eig_vec]).T)\n",
    "\n",
    "\n",
    "        #display([list(x) for x in eig_vec])\n",
    "        display(Eq(V_sym,V_m))\n",
    "\n",
    "        print('\\nStep-3: Setup  \\u03A3')\n",
    "\n",
    "        print('\\nThe square roots of Eigenvalues of A\\u1D40A are singular values\\n')\n",
    "\n",
    "        eig_val = [sqrt(x) for x in eig_val]\n",
    "\n",
    "        for i, x in enumerate(eig_val):\n",
    "            display(Eq(Symbol(f'\\u03C3{i + 1}'), x))\n",
    "\n",
    "        print('\\nDiscarding the 0 singular values\\n')\n",
    "\n",
    "        print('\\n\\u03A3 is the matrix of same shape as A conatining non zero singular values along diagonal\\n')\n",
    "\n",
    "        eig_val = [x for x in eig_val if x !=0]\n",
    "\n",
    "        sigma = np.diag(eig_val)\n",
    "        # col = np.array([[0],\n",
    "        #                 [0]])\n",
    "        # row = np.array([])\n",
    "        while sigma.shape[0] < A.shape[0]:\n",
    "            row = np.zeros([1,sigma.shape[1]])\n",
    "            sigma = np.append(sigma, row, axis=0)\n",
    "\n",
    "        while sigma.shape[1] < A.shape[1]:\n",
    "            col = np.zeros([sigma.shape[0],1])\n",
    "            sigma = np.append(sigma, col, axis=1)\n",
    "\n",
    "        #print(eig_val)\n",
    "        #display(Matrix(sigma))\n",
    "\n",
    "\n",
    "\n",
    "        # for i in range(len(sigma)):\n",
    "        #     sigma[i,i] = eig_val[i]\n",
    "\n",
    "        sigma_m = Matrix(sigma)\n",
    "\n",
    "        display(Eq(sigma_sym, sigma_m))\n",
    "\n",
    "        print('\\nStep-4: Cunstruct U')\n",
    "\n",
    "        u = []\n",
    "\n",
    "        count =0\n",
    "\n",
    "        for i in range(len(A)):\n",
    "            count = i + 1\n",
    "            if i == len(eig_val) or eig_val[i] ==0:\n",
    "                break\n",
    "\n",
    "            display(Eq(Symbol(f'u{i+1}'), Mul(Mul(Pow(Symbol(f'\\u03C3{i + 1}'), Integer(-1)),Symbol('A')),Symbol(f'v{i+1}'))))\n",
    "            u_i = A_m*Matrix(eig_vec[i])/eig_val[i]\n",
    "            display(Eq(MatrixSymbol('', A.shape[0],1),u_i))\n",
    "            u.append(u_i)\n",
    "\n",
    "        if len(u) < len(A):\n",
    "            if count > 0:\n",
    "                print(f'\\nEigenvalue {count} is zero.\\n')\n",
    "            print(f'\\nSo to find other {len(A)-len(u)} vectors we need to construct orthogonal vectors to \\n')\n",
    "            display(u)\n",
    "            print('\\nusing orthogonality conditions\\n')\n",
    "            U_m = Matrix(np.array([list(x) for x in u]))\n",
    "\n",
    "            if len(u) == 1:\n",
    "                u_new = u*2\n",
    "                U_m = Matrix(np.array([list(x) for x in u_new]))\n",
    "                #display(U_m)\n",
    "            vectors = U_m.nullspace()\n",
    "\n",
    "            print('Orthogonal vectors to u are')\n",
    "            for vector in vectors:\n",
    "                display(vector)\n",
    "                u.append(vector)\n",
    "            #vectors = Matrix([list(x) for x in vectors])\n",
    "            u = [list(x) for x in u]\n",
    "            #display(u)\n",
    "            print('To construct U, we need to find orthonormal set of vectors')\n",
    "            u = GramSchmidtOrthonormalization().solve(a=u)[2]\n",
    "            #u = [list(x) for x in u]\n",
    "\n",
    "\n",
    "\n",
    "        U_m = Matrix(np.array([list(x) for x in u]).T)\n",
    "\n",
    "        display(Eq(U_sym,U_m))\n",
    "\n",
    "        print('\\nSingular Value decomposition of A is\\n')\n",
    "        display(Eq(A_sym, MatMul(MatMul(U_m, sigma_m), Transpose(V_m))))\n",
    "\n",
    "\n",
    "class QRFactorization(LinearSystemsBase):\n",
    "    def _get_system_type(self):\n",
    "        return 'qr_factorization'\n",
    "\n",
    "    def solve(self, **kwargs):\n",
    "        self.a = np.array(kwargs.get('a'))\n",
    "        return self.qr()\n",
    "\n",
    "    def qr(self):\n",
    "        A = np.array((self.a))\n",
    "        print('Input Matrix:')\n",
    "        A_sym = MatrixSymbol('A', A.shape[0], A.shape[1])\n",
    "        Q_sym = MatrixSymbol('Q', A.shape[0], A.shape[1])\n",
    "        R_sym = MatrixSymbol('R', A.shape[1], A.shape[1])\n",
    "        I_sym = MatrixSymbol('I', A.shape[1], A.shape[1])\n",
    "        display(Eq(A_sym, Matrix(A)))\n",
    "\n",
    "        if np.linalg.matrix_rank(A) < A.shape[1]:\n",
    "            print('Column vectors of A are not linearly independent')\n",
    "            print('\\nQR Factorization cannot be applied. Exiting')\n",
    "            return\n",
    "\n",
    "        print('\\nTo find QR factorization of A we need to find\\n')\n",
    "        display(Eq(A_sym, MatMul(Q_sym, R_sym)))\n",
    "        print('\\nWhere Q is the matrix having orthonormal column vectors found by applying Gram Schmidt Orthonormalization to the columns of A ')\n",
    "        print('\\nStep-1: Find Q using Gram Schmidt Orthonormalization\\n')\n",
    "        Q = GramSchmidtOrthonormalization().solve(a=A.T)[2]\n",
    "        Q = [list(x) for x in Q]\n",
    "        Q = Matrix(np.array(Q).T)\n",
    "        display(Eq(Q_sym, Q))\n",
    "        print('\\nStep-1: Use Q to get R\\n')\n",
    "        display(Eq(A_sym, MatMul(Q_sym, R_sym)))\n",
    "        display(Eq(MatMul(Transpose(Q_sym),A_sym), MatMul(MatMul(Transpose(Q_sym),Q_sym), R_sym)))\n",
    "        display(Eq(MatMul(Transpose(Q_sym), A_sym), MatMul(I_sym, R_sym)))\n",
    "        display(Eq(R_sym,MatMul(Transpose(Q_sym), A_sym)))\n",
    "        display(Eq(R_sym, MatMul(Transpose(Q), Matrix(A))))\n",
    "        R = Transpose(Q) * Matrix(A)\n",
    "        display(Eq(R_sym, R))\n",
    "\n",
    "\n",
    "class GramSchmidtOrthonormalization(LinearSystemsBase):\n",
    "    def _get_system_type(self):\n",
    "        return 'gram_schmidt_orthonormalization'\n",
    "\n",
    "    def solve(self, **kwargs):\n",
    "        self.a = np.array(kwargs.get('a'))\n",
    "        return self.gram_schmidt()\n",
    "\n",
    "    def gram_schmidt(self):\n",
    "        A = self.a\n",
    "        Q = np.array(self.a).astype(float)\n",
    "\n",
    "        print(f'Input vectors: ')\n",
    "        for i in range(len(A)):\n",
    "            display(Eq(MatrixSymbol(f'a{i + 1}', len(A[i]), 1), Matrix(A[i])))\n",
    "\n",
    "        print('\\n\\nInitiating Gram Schmidt Orthonormalization to find Orthonornal vectors q\\n\\n')\n",
    "        gs = GramSchmidt([Matrix(x) for x in A])\n",
    "        gs_ortho = GramSchmidt([Matrix(x) for x in A], True)\n",
    "\n",
    "        for i in range(len(A)):\n",
    "            expr = Symbol(f'a{i + 1}')\n",
    "            expr_num = Matrix(Q[i])\n",
    "            for j in range(i):\n",
    "                # Performing successive orthogonalization\n",
    "                Q[i] -= np.dot(Q[j], Q[i]) / np.linalg.norm(Q[j]) * Q[j]\n",
    "                expr += Mul(Mul(Integer(-1), Bra(f'a{i + 1}') * Ket(f'q{j + 1}')),\n",
    "                            Pow(Bra(f'q{j + 1}') * Ket(f'q{j + 1}'),\n",
    "                                Integer(-1))) * Symbol(f'q{j + 1}')\n",
    "\n",
    "            expr = Eq(Symbol(f'q{i + 1}'), expr)\n",
    "\n",
    "            # display(LatexPrinter(dict(order='none'))._print_Add(expr))\n",
    "            # print(expr)\n",
    "\n",
    "            display(expr)\n",
    "            display(Eq(MatrixSymbol(f'q{i + 1}', Q[i].shape[0], 1), gs[i]))\n",
    "            display(Eq(MatrixSymbol(f'q{i + 1}', Q[i].shape[0], 1), Matrix(Q[i])))\n",
    "\n",
    "            print('Normalizing the vector')\n",
    "            Q[i] = Q[i] / np.linalg.norm(Q[i])\n",
    "            display(Eq(MatrixSymbol(f'q{i + 1}', Q[i].shape[0], 1), gs_ortho[i]))\n",
    "            display(Eq(MatrixSymbol(f'q{i + 1}', Q[i].shape[0], 1), Matrix(Q[i])))\n",
    "\n",
    "        print('\\n\\nThe orthonormal vectors are:\\n')\n",
    "\n",
    "        for i in range(len(Q)):\n",
    "            display(Eq(MatrixSymbol(f'q{i + 1}', Q[i].shape[0], 1), gs_ortho[i]))\n",
    "\n",
    "        return Q, gs, gs_ortho\n",
    "\n",
    "class Diagonalization(LinearSystemsBase):\n",
    "    def _get_system_type(self):\n",
    "        return 'diagonalization'\n",
    "\n",
    "    def solve(self, **kwargs):\n",
    "        self.a = np.array(kwargs.get('a'))\n",
    "        print('Input matrix A:\\n')\n",
    "        display(Matrix(self.a))\n",
    "        e,v = np.linalg.eig(self.a)\n",
    "        v = v.T\n",
    "        print(f'\\nEigenvalues of A:\\n{e}')\n",
    "        print(f'\\nEigenvectors of A:\\n')\n",
    "\n",
    "        display(Matrix(v[0]),Matrix(v[1]),Matrix(v[2]))\n",
    "        shape = self.a.shape[0]\n",
    "        Am = MatrixSymbol('A', shape, shape)\n",
    "        Dm = MatrixSymbol('D', shape, shape)\n",
    "        Pm = MatrixSymbol('P', shape, shape)\n",
    "        print('\\nWe can write A in the form:\\n')\n",
    "        display(Eq(Am, MatMul(Pm,Dm,Inverse(Pm))))\n",
    "        print('Where, D is the diagonal matrix containing eigenvalues:\\n')\n",
    "        display(Eq(Dm,Matrix(np.diag(e))))\n",
    "        print('And P is the matrix containing eigenvectors as columns:\\n')\n",
    "        display(Eq(Pm, Matrix(v)))\n",
    "\n",
    "\n",
    "\n",
    "class PowerMethod(LinearSystemsBase):\n",
    "    def _get_system_type(self):\n",
    "        return 'power_method'\n",
    "\n",
    "    def solve(self, **kwargs):\n",
    "        print('\\nPerforming Power Method iterations to find dominant eigenvalue\\n')\n",
    "        self._A = kwargs.get('A')\n",
    "        self.size = kwargs.get('size') if self._A is None else self._A.shape\n",
    "        self.rounding_digit = kwargs.get('rounding_digit') if kwargs.get('rounding_digit') is not None else 10\n",
    "        if self._A is None:\n",
    "            if kwargs.get('randomize'):\n",
    "                self._A, self._b = LinearSystemsHelper.generate_random_matrix(self.size, kwargs.get('diag_dom'))\n",
    "            else:\n",
    "                raise ValueError('Please provide input matrix A or set randomize flag to True')\n",
    "\n",
    "        self._A = np.array([LinearSystemsHelper.round_to_n(x, self.rounding_digit) for x in self._A])\n",
    "\n",
    "        self.x_init = kwargs.get('x_init') if kwargs.get('x_init') is not None else np.ones(self._A.shape[1])\n",
    "        self.n_iterations = kwargs.get('n_iterations') if kwargs.get('n_iterations') is not None else 10\n",
    "        self.print_iterations = kwargs.get('print_iterations')\n",
    "        self.plot_iterations = kwargs.get('plot_iterations')\n",
    "\n",
    "        self.tolerance = kwargs.get('tolerance') if kwargs.get('tolerance') is not None else 0.0001\n",
    "\n",
    "        self.perform_power_methodIterations()\n",
    "\n",
    "    def perform_power_methodIterations(self):\n",
    "        print(f'\\nInput Matrix \\'A\\':\\n{self._A}\\n')\n",
    "        print(f'\\nInitial value x: {self.x_init}')\n",
    "        x_norm = []\n",
    "        x = LinearSystemsHelper.round_to_n(np.array(self.x_init), self.rounding_digit)\n",
    "        # epsilon = 0.001\n",
    "        converged = False\n",
    "        eig = 0\n",
    "        eig_new = 0\n",
    "        #q=0\n",
    "        for i in range(self.n_iterations):\n",
    "            print(f'\\n\\nIteration: {i+1}\\n')\n",
    "            print(f'x = {x}\\n')\n",
    "            y = LinearSystemsHelper.round_to_n(self._A@x, self.rounding_digit)\n",
    "            print(f'y = Ax = {y}\\n')\n",
    "\n",
    "            y_norm = LinearSystemsHelper.round_to_n(y/max(y), self.rounding_digit)\n",
    "            print(f'y_norm = y/max(y) = {y_norm}')\n",
    "\n",
    "            eig = eig_new\n",
    "            eig_new = max(y)\n",
    "            print(f'\\n\\u03BB_old = {eig}')\n",
    "            print(f'\\u03BB_new = max(y) = {eig_new}')\n",
    "\n",
    "            x = y_norm\n",
    "            delta = LinearSystemsHelper.round_to_n(np.abs(eig_new-eig), self.rounding_digit)\n",
    "\n",
    "            print(f'\\ndelta = |\\u03BB_new - \\u03BB_old| =  {delta}\\n')\n",
    "\n",
    "\n",
    "            if self.plot_iterations:\n",
    "                x_norm.append(delta)\n",
    "\n",
    "            if delta < self.tolerance:\n",
    "                converged = True\n",
    "                print(f'Since delta < {self.tolerance} (tolerance)')\n",
    "                print('Converged!')\n",
    "                print(f'\\nDominant Eigenvalue estimate using Power Method: {eig_new}')\n",
    "                break\n",
    "            else:\n",
    "                print(f'delta > {self.tolerance} (tolerance)')\n",
    "\n",
    "        if not converged:\n",
    "            print(f'Not converged after {self.n_iterations} iterations')\n",
    "\n",
    "        if self.plot_iterations:\n",
    "            plt.plot(x_norm)\n",
    "            plt.xlabel('Iterations')\n",
    "            plt.ylabel('Difference')\n",
    "\n",
    "\n",
    "class RayleighQuotient(LinearSystemsBase):\n",
    "    def _get_system_type(self):\n",
    "        return 'rayleigh_quotient'\n",
    "\n",
    "\n",
    "\n",
    "    def solve(self, **kwargs):\n",
    "        print('\\nPerforming Rayleigh Quotient iterations to find dominant eigenvalue\\n')\n",
    "        self._A = kwargs.get('A')\n",
    "        self.size = kwargs.get('size') if self._A is None else self._A.shape\n",
    "        self.rounding_digit = kwargs.get('rounding_digit') if kwargs.get('rounding_digit') is not None else 10\n",
    "        if self._A is None:\n",
    "            if kwargs.get('randomize'):\n",
    "                self._A, self._b = LinearSystemsHelper.generate_random_matrix(self.size, kwargs.get('diag_dom'))\n",
    "            else:\n",
    "                raise ValueError('Please provide input matrix A or set randomize flag to True')\n",
    "\n",
    "        self._A = np.array([LinearSystemsHelper.round_to_n(x, self.rounding_digit) for x in self._A])\n",
    "\n",
    "        self.x_init = kwargs.get('x_init') if kwargs.get('x_init') is not None else np.ones(self._A.shape[1])\n",
    "        self.n_iterations = kwargs.get('n_iterations') if kwargs.get('n_iterations') is not None else 10\n",
    "        self.print_iterations = kwargs.get('print_iterations')\n",
    "        self.plot_iterations = kwargs.get('plot_iterations')\n",
    "\n",
    "        self.tolerance = kwargs.get('tolerance') if kwargs.get('tolerance') is not None else 0.0001\n",
    "\n",
    "        self.perform_Rayleigh_Iterations()\n",
    "\n",
    "    def perform_Rayleigh_Iterations(self):\n",
    "        print(f'\\nInput Matrix \\'A\\':\\n{self._A}\\n')\n",
    "        print(f'\\nInitial value x: {self.x_init}')\n",
    "        x_norm = []\n",
    "        x = LinearSystemsHelper.round_to_n(np.array(self.x_init), self.rounding_digit)\n",
    "        # epsilon = 0.001\n",
    "        converged = False\n",
    "        #q=0\n",
    "        for i in range(self.n_iterations):\n",
    "            print(f'\\n\\nIteration: {i+1}\\n')\n",
    "            print(f'x = {x}\\n')\n",
    "            y = LinearSystemsHelper.round_to_n(self._A@x, self.rounding_digit)\n",
    "            print(f'y = Ax = {y}\\n')\n",
    "\n",
    "            m_0 = LinearSystemsHelper.round_to_n(x@x, self.rounding_digit)\n",
    "            print(f'm\\u2080 = x\\u1D40x = {m_0}')\n",
    "\n",
    "            m_1 = LinearSystemsHelper.round_to_n(x@y, self.rounding_digit)\n",
    "            print(f'm\\u2081 = x\\u1D40y = {m_1}')\n",
    "\n",
    "            m_2 = LinearSystemsHelper.round_to_n(y@y, self.rounding_digit)\n",
    "            print(f'm\\u2082 = y\\u1D40y = {m_2}')\n",
    "\n",
    "            y_norm = LinearSystemsHelper.round_to_n(y/max(y), self.rounding_digit)\n",
    "            print(f'y_norm = y/max(y) = {y_norm}')\n",
    "\n",
    "            q = LinearSystemsHelper.round_to_n(m_1/m_0, self.rounding_digit)\n",
    "            print(f'q = m\\u2081/m\\u2080 = {q}')\n",
    "\n",
    "            x = y_norm\n",
    "            delta = LinearSystemsHelper.round_to_n(np.sqrt(np.abs(m_2/m_0 - q**2)), self.rounding_digit)\n",
    "\n",
    "            print(f'delta = sqrt(m\\u2082/m\\u2080 - q\\u00B2) =  {delta}  (Delta is useful only for symmetric matrix)')\n",
    "\n",
    "\n",
    "            if self.plot_iterations:\n",
    "                x_norm.append(delta)\n",
    "\n",
    "            if delta < self.tolerance:\n",
    "                converged = True\n",
    "                print('Converged!')\n",
    "                print(f'\\nDominant Eigenvalue estimate using Rayleigh Quotient: {q}')\n",
    "                break\n",
    "\n",
    "        if not converged:\n",
    "            print(f'Not converged after {self.n_iterations} iterations')\n",
    "\n",
    "        if self.plot_iterations:\n",
    "            plt.plot(x_norm)\n",
    "            plt.xlabel('Iterations')\n",
    "            plt.ylabel('Difference')\n",
    "\n",
    "\n",
    "class GaussSeidel(LinearSystemsBase):\n",
    "    def _get_system_type(self):\n",
    "        return 'gauss_seidel'\n",
    "\n",
    "    def solve(self, **kwargs):\n",
    "        print('\\nPerforming Gauss Seidel Iterations\\n')\n",
    "        self._A = kwargs.get('A')\n",
    "        self._b = kwargs.get('b')\n",
    "        self.size = kwargs.get('size') if self._A is None else self._A.shape\n",
    "        self.rounding_digit = kwargs.get('rounding_digit') if kwargs.get('rounding_digit') is not None else 10\n",
    "        if self._A is None:\n",
    "            if kwargs.get('randomize'):\n",
    "                self._A, self._b = LinearSystemsHelper.generate_random_matrix(self.size, kwargs.get('diag_dom'))\n",
    "            else:\n",
    "                raise ValueError('Please provide input matrix A and b or set randomize flag to True')\n",
    "\n",
    "        self._A = np.array([LinearSystemsHelper.round_to_n(x, self.rounding_digit) for x in self._A])\n",
    "        self._b = LinearSystemsHelper.round_to_n(self._b, self.rounding_digit)\n",
    "\n",
    "        self.x_init = kwargs.get('x_init') if kwargs.get('x_init') is not None else np.zeros(self._A.shape[1])\n",
    "        self.n_iterations = kwargs.get('n_iterations') if kwargs.get('n_iterations') is not None else 10\n",
    "        self.print_iterations = kwargs.get('print_iterations')\n",
    "        self.plot_iterations = kwargs.get('plot_iterations')\n",
    "        self.tolerance = kwargs.get('tolerance') if kwargs.get('tolerance') is not None else 0.001\n",
    "\n",
    "        self.generate_Gauss_Seidel_Iteration()\n",
    "        self.perform_Gauss_Seidel_Iterations()\n",
    "\n",
    "    def generate_Gauss_Seidel_Iteration(self, x=None):\n",
    "        if x is None:\n",
    "            A = self._A\n",
    "            b = self._b\n",
    "            A = A.astype(float)\n",
    "            if b is not None:\n",
    "                b = b.astype(float)\n",
    "            print(f'Input Matrix \\'A\\':\\n{A}\\n')\n",
    "            pprint(Matrix(A))\n",
    "            LinearSystemsHelper.check_for_diagonal_dominance(A)\n",
    "            print('\\nReducing diagonal elements to 1\\n')\n",
    "            for i in range(0, A.shape[0]):\n",
    "                div = A[i, i]\n",
    "                A[i] = LinearSystemsHelper.round_to_n(A[i] / div, self.rounding_digit)\n",
    "                if b is not None:\n",
    "                    b[i] = LinearSystemsHelper.round_to_n(b[i] / div, self.rounding_digit)\n",
    "            print(f'A: \\n{A}\\n')\n",
    "            if b is not None:\n",
    "                print(f'b: \\n{b}\\n')\n",
    "            self.I = np.eye(A.shape[0])\n",
    "            self.L = np.tril(A) - self.I\n",
    "            self.U = np.triu(A) - self.I\n",
    "            print('A = I + L + U, we get\\n')\n",
    "            print(f'I: \\n{self.I}\\n\\nL:\\n{self.L}\\n\\nU:\\n{self.U}')\n",
    "            self.iteration_matrix = np.linalg.inv(self.I + self.L) @ self.U\n",
    "            self.iteration_matrix = np.array([LinearSystemsHelper.round_to_n(x, self.rounding_digit) for x in self.iteration_matrix ])\n",
    "            print(f'\\nIteration Matrix (I+L)\\u207B\\u00B9U: \\n{self.iteration_matrix}')\n",
    "            # print(np.linalg.inv(I+L)@U)\n",
    "            self.norm_one = np.linalg.norm(self.iteration_matrix, 1)\n",
    "            self.norm_inf = np.linalg.norm(self.iteration_matrix, np.inf)\n",
    "            self.norm_fro = np.linalg.norm(self.iteration_matrix, 'fro')\n",
    "            print(f'\\nnorm_1 : {self.norm_one}\\nnorm_inf : {self.norm_inf}\\nnorm_frobenius : {self.norm_fro}\\n')\n",
    "            self._A = A\n",
    "            self._b = b\n",
    "        else:\n",
    "            x = LinearSystemsHelper.round_to_n(np.linalg.inv(self.I + self.L) @ self._b, self.rounding_digit)  \\\n",
    "                - LinearSystemsHelper.round_to_n(self.iteration_matrix @ x, self.rounding_digit)\n",
    "            x = LinearSystemsHelper.round_to_n(x, self.rounding_digit)\n",
    "        return x\n",
    "\n",
    "    def perform_Gauss_Seidel_Iterations(self):\n",
    "        print(f'\\n\\nInitial value x: {self.x_init}')\n",
    "        x_norm = []\n",
    "        x_prev = np.array(self.x_init)\n",
    "        #epsilon = 0.001\n",
    "        converged = False\n",
    "        for i in range(self.n_iterations):\n",
    "            x = list(self.generate_Gauss_Seidel_Iteration(x_prev))\n",
    "            diff_x = np.linalg.norm(np.array(x) - x_prev, 2)\n",
    "            # print(diff_x)\n",
    "            x_prev = np.array(x)\n",
    "            if self.print_iterations:\n",
    "                print(f'Iteration - {i + 1}, x_{i+1}  = (I+L)\\u207B\\u00B9*b - (I+L)\\u207B\\u00B9U*x_{i} = {x}')\n",
    "            if self.plot_iterations:\n",
    "                x_norm.append(diff_x)\n",
    "\n",
    "            if diff_x < self.tolerance:\n",
    "                converged = True\n",
    "                print('Converged!')\n",
    "                break\n",
    "\n",
    "        if not converged:\n",
    "            print(f'Not converged after {self.n_iterations} iterations')\n",
    "\n",
    "        if self.plot_iterations:\n",
    "            plt.plot(x_norm)\n",
    "            plt.xlabel('Iterations')\n",
    "            plt.ylabel('Difference')\n",
    "\n",
    "class GaussJacobi(LinearSystemsBase):\n",
    "    def _get_system_type(self):\n",
    "        return 'gauss_jacobi'\n",
    "\n",
    "    def solve(self, **kwargs):\n",
    "        print('\\nPerforming Gauss Jacobi Iterations\\n')\n",
    "        self._A = kwargs.get('A')\n",
    "        self._b = kwargs.get('b')\n",
    "        self.size = kwargs.get('size') if self._A is None else self._A.shape\n",
    "        self.rounding_digit = kwargs.get('rounding_digit') if kwargs.get('rounding_digit') is not None else 10\n",
    "        if self._A is None:\n",
    "            if kwargs.get('randomize'):\n",
    "                self._A, self._b = LinearSystemsHelper.generate_random_matrix(self.size, kwargs.get('diag_dom'))\n",
    "            else:\n",
    "                raise ValueError('Please provide input matrix A and b or set randomize flag to True')\n",
    "\n",
    "        self._A = np.array([LinearSystemsHelper.round_to_n(x, self.rounding_digit) for x in self._A])\n",
    "        self._b = LinearSystemsHelper.round_to_n(self._b, self.rounding_digit)\n",
    "\n",
    "        self.x_init = kwargs.get('x_init') if kwargs.get('x_init') is not None else np.zeros(self._A.shape[1])\n",
    "        self.n_iterations = kwargs.get('n_iterations') if kwargs.get('n_iterations') is not None else 10\n",
    "        self.print_iterations = kwargs.get('print_iterations')\n",
    "        self.plot_iterations = kwargs.get('plot_iterations')\n",
    "        self.tolerance = kwargs.get('tolerance') if kwargs.get('tolerance') is not None else 0.001\n",
    "\n",
    "        self.generate_Gauss_Jacobi_Iteration()\n",
    "        self.perform_Gauss_Jacobi_Iterations()\n",
    "\n",
    "    def generate_Gauss_Jacobi_Iteration(self, x=None):\n",
    "        if x is None:\n",
    "            A = self._A\n",
    "            b = self._b\n",
    "            A = A.astype(float)\n",
    "            if b is not None:\n",
    "                b = b.astype(float)\n",
    "            print(f'Input Matrix \\'A\\':\\n{A}\\n')\n",
    "            LinearSystemsHelper.check_for_diagonal_dominance(A)\n",
    "            print('\\nReducing diagonal elements to 1\\n')\n",
    "            for i in range(0, A.shape[0]):\n",
    "                div = A[i, i]\n",
    "                A[i] = LinearSystemsHelper.round_to_n(A[i] / div, self.rounding_digit)\n",
    "                if b is not None:\n",
    "                    b[i] = LinearSystemsHelper.round_to_n(b[i] / div, self.rounding_digit)\n",
    "            print(f'A: \\n{A}\\n')\n",
    "            if b is not None:\n",
    "                print(f'b: \\n{b}\\n')\n",
    "            self.I = np.eye(A.shape[0])\n",
    "            self.L = np.tril(A) - self.I\n",
    "            self.U = np.triu(A) - self.I\n",
    "            print('A = I + L + U, we get\\n')\n",
    "            print(f'I: \\n{self.I}\\n\\nL:\\n{self.L}\\n\\nU:\\n{self.U}')\n",
    "            self.iteration_matrix = self.L + self.U\n",
    "            self.iteration_matrix = np.array([LinearSystemsHelper.round_to_n(x, self.rounding_digit) for x in self.iteration_matrix ])\n",
    "            print(f'\\nIteration Matrix (L+U): \\n{self.iteration_matrix}')\n",
    "            # print(np.linalg.inv(I+L)@U)\n",
    "            self.norm_one = np.linalg.norm(self.iteration_matrix, 1)\n",
    "            self.norm_inf = np.linalg.norm(self.iteration_matrix, np.inf)\n",
    "            self.norm_fro = np.linalg.norm(self.iteration_matrix, 'fro')\n",
    "            print(f'\\nnorm_1 : {self.norm_one}\\nnorm_inf : {self.norm_inf}\\nnorm_frobenius : {self.norm_fro}\\n')\n",
    "            self._A = A\n",
    "            self._b = b\n",
    "        else:\n",
    "            x = LinearSystemsHelper.round_to_n(self._b, self.rounding_digit)  \\\n",
    "                - LinearSystemsHelper.round_to_n(self.iteration_matrix @ x, self.rounding_digit)\n",
    "            x = LinearSystemsHelper.round_to_n(x, self.rounding_digit)\n",
    "        return x\n",
    "\n",
    "    def perform_Gauss_Jacobi_Iterations(self):\n",
    "        print(f'\\n\\nInitial value x: {self.x_init}')\n",
    "        x_norm = []\n",
    "        x_prev = np.array(self.x_init)\n",
    "        #epsilon = 0.001\n",
    "        converged = False\n",
    "        for i in range(self.n_iterations):\n",
    "            x = list(self.generate_Gauss_Jacobi_Iteration(x_prev))\n",
    "            diff_x = np.linalg.norm(np.array(x) - x_prev, 2)\n",
    "            # print(diff_x)\n",
    "            x_prev = np.array(x)\n",
    "            if self.print_iterations:\n",
    "                print(f'Iteration - {i + 1}, x_{i+1}  = b - (L+U)*x_{i} = {x}')\n",
    "            if self.plot_iterations:\n",
    "                x_norm.append(diff_x)\n",
    "\n",
    "            if diff_x < self.tolerance:\n",
    "                converged = True\n",
    "                print('Converged!')\n",
    "                break\n",
    "\n",
    "        if not converged:\n",
    "            print(f'Not converged after {self.n_iterations} iterations')\n",
    "\n",
    "        if self.plot_iterations:\n",
    "            plt.plot(x_norm)\n",
    "            plt.xlabel('Iterations')\n",
    "            plt.ylabel('Difference')\n",
    "\n",
    "\n",
    "class ConditionNumber(LinearSystemsBase):\n",
    "    def _get_system_type(self):\n",
    "        return 'condition_number'\n",
    "\n",
    "    def solve(self, **kwargs):\n",
    "        print('Finding condition number')\n",
    "        self._a = kwargs.get('a')\n",
    "        if self._a is None:\n",
    "            raise ValueError('Input Matrix is Missing')\n",
    "        print(f'Input Matrix:\\n\\n{self._a}\\n\\n')\n",
    "        cond_one = np.linalg.norm(self._a,1)*np.linalg.norm(np.linalg.inv(self._a),1)\n",
    "        cond_inf = np.linalg.norm(self._a, np.inf) * np.linalg.norm(np.linalg.inv(self._a), np.inf)\n",
    "        print(f'Condition Number(1): {cond_one}\\nCondition Number(inf): {cond_inf}')\n",
    "        return cond_one, cond_inf\n",
    "\n",
    "\n",
    "class LinearIndependenceChecker(LinearSystemsBase):\n",
    "    def _get_system_type(self):\n",
    "        return 'linear_independence_checker'\n",
    "    def solve(self, **kwargs):\n",
    "        linear_Independent = False\n",
    "        try:\n",
    "            matrix = np.array(list(kwargs.values()))\n",
    "            #print(matrix.shape)\n",
    "            #print(np.linalg.matrix_rank(matrix))\n",
    "            if matrix.shape[0] == np.linalg.matrix_rank(matrix):\n",
    "                linear_Independent = True\n",
    "                print('Vectors are linearly independent')\n",
    "            else:\n",
    "                print('Vectors are not linearly independent')\n",
    "        except e:\n",
    "            print(e)\n",
    "        return linear_Independent\n",
    "\n",
    "\n",
    "class BasisFinder(LinearSystemsBase):\n",
    "    def _get_system_type(self):\n",
    "        return 'basis_finder'\n",
    "\n",
    "    def solve(self, **kwargs):\n",
    "        self._a = kwargs.get('a')\n",
    "        if self._a is None:\n",
    "            raise ValueError('Input matrix a is not provided')\n",
    "        self._pivoting = kwargs.get('pivoting') if kwargs.get('pivoting') is not None else True\n",
    "        self._rounding_digit = kwargs.get('rounding_digit') if kwargs.get('rounding_digit') is not None else 10\n",
    "        print(f'Input Matrix: \\n{self._a}\\n\\n')\n",
    "        print(f'Input Matrix Rank: \\n{np.linalg.matrix_rank(self._a)}\\n\\n')\n",
    "        self.reduce_to_ref()\n",
    "        self.find_rs_basis()\n",
    "        self.find_cs_basis()\n",
    "        self.find_ns_basis()\n",
    "\n",
    "    def find_rs_basis(self):\n",
    "        self.rs_basis = self._ref_a[np.nonzero(np.sum(self._ref_a, axis =1))]\n",
    "        print(f'\\n\\nBasis for Row space (Non zero rows in REF):\\n{self.rs_basis}')\n",
    "\n",
    "    def find_cs_basis(self):\n",
    "        self.pivot_index_list = [np.argwhere(x != 0)[0][0] for x in self.rs_basis]\n",
    "        cs_basis = self._a.T[self.pivot_index_list]\n",
    "        print(f'\\n\\nBasis for Column space (Columns in input matrix corresponding to pivot entries in REF):\\n{cs_basis}')\n",
    "\n",
    "    def find_ns_basis(self):\n",
    "        M = Matrix(self._a)\n",
    "        #print(\"Matrix : {} \".format(M))\n",
    "\n",
    "        # Use sympy.nullspace() method\n",
    "        M_nullspace = M.nullspace()\n",
    "\n",
    "        a_nullspace = np.array(M_nullspace)\n",
    "        basis_list = [row.flatten() for row in a_nullspace]\n",
    "        ns_basis = np.array(basis_list)\n",
    "        var_index = range(self._a.shape[1])\n",
    "        nullity = self._a.shape[1] - np.linalg.matrix_rank(self._a)\n",
    "        print(f'\\n\\nNullity of the given Matrix is: {nullity}')\n",
    "        if nullity > 0:\n",
    "            free_vars = [f'x{x + 1}' for x in var_index if x not in self.pivot_index_list]\n",
    "            print(f'This means there are {nullity} free variables: {free_vars} ')\n",
    "            print(f'Setting {free_vars} with arbitrary values.')\n",
    "        print(f'\\nWe get basis for Null space (Solution of homogenous equation Ax = 0):\\n{ns_basis}')\n",
    "\n",
    "    def reduce_to_ref(self):\n",
    "        print('Reducing the matrix to REF:\\n')\n",
    "        a = self._a.copy().astype(float)\n",
    "        num_rows = a.shape[0]\n",
    "        for i in range(num_rows):\n",
    "            if self._pivoting == True:\n",
    "                LinearSystemsHelper.pivot(a, i)\n",
    "\n",
    "            if np.argwhere(a[i] != 0).size == 0:\n",
    "                break\n",
    "\n",
    "            pivot_index = np.argwhere(a[i] != 0)[0][0]\n",
    "            if pivot_index == a.shape[1] -1:\n",
    "                break\n",
    "\n",
    "            for j in range(i + 1, num_rows):\n",
    "                if a[j, pivot_index] != 0 and a[i, pivot_index] != 0:\n",
    "                    print(f'R{j + 1} -> R{j + 1} - {a[j, pivot_index]}/{a[i, pivot_index]}*R{i + 1}')\n",
    "                    a[j] -= LinearSystemsHelper.round_to_n(LinearSystemsHelper.round_to_n(a[j, pivot_index] / a[i, pivot_index],\n",
    "                                                      self._rounding_digit) * LinearSystemsHelper.round_to_n(a[i],\n",
    "                                                                                   self._rounding_digit), self._rounding_digit)\n",
    "                    a[j] = LinearSystemsHelper.round_to_n(a[j], self._rounding_digit)\n",
    "                    a[j, pivot_index] = 0\n",
    "                    print(f'Output:\\n{a}\\n\\n')\n",
    "\n",
    "        print(f'Final REF form: \\n {a}')\n",
    "        self._ref_a = a\n",
    "\n",
    "\n",
    "class GaussElimination(LinearSystemsBase):\n",
    "    def _get_system_type(self):\n",
    "        return 'gauss_elimination'\n",
    "\n",
    "    def solve(self, **kwargs):\n",
    "        print('Starting Gauss Elimination with rounding')\n",
    "        self._a = kwargs.get('a')\n",
    "        self._b = kwargs.get('b')\n",
    "        self._pivoting = kwargs.get('pivoting')\n",
    "        if self._b is not None:\n",
    "            self._a = np.concatenate((self._a, self._b.T), axis=1)\n",
    "        print(f'Augmented Matrix: \\n{self._a}\\n\\n')\n",
    "        self.forward_elimination()\n",
    "        self.backward_substitution()\n",
    "\n",
    "    def forward_elimination(self):\n",
    "        print('Performing forward elimination:\\n')\n",
    "        a = self._a.astype(float)\n",
    "        num_rows = a.shape[0]\n",
    "        for i in range(num_rows):\n",
    "            if self._pivoting == True:\n",
    "                LinearSystemsHelper.pivot(a, i)\n",
    "\n",
    "            if np.argwhere(a[i] != 0).size == 0:\n",
    "                break\n",
    "\n",
    "            pivot_index = np.argwhere(a[i] != 0)[0][0]\n",
    "            if pivot_index == a.shape[1] - 1:\n",
    "                break\n",
    "            for j in range(i + 1, num_rows):\n",
    "                if a[j, pivot_index] != 0 and a[i, pivot_index] != 0:\n",
    "                    print(f'R{j + 1} -> R{j + 1} - {a[j, pivot_index]}/{a[i, pivot_index]}*R{i + 1}')\n",
    "                    a[j] -= a[j, pivot_index] / a[i, pivot_index] *a[i]\n",
    "                    a[j, pivot_index] = 0\n",
    "                    print(f'Output:\\n{a}\\n\\n')\n",
    "        print(f'Final REF form: \\n {a}')\n",
    "        self._a = a\n",
    "\n",
    "    def backward_substitution(self):\n",
    "        a = self._a\n",
    "        print('\\n\\nPerforming backward substitution:\\n')\n",
    "        num_vars = a.shape[1] - 1\n",
    "        # print(num_vars)\n",
    "        num_rows = a.shape[0]\n",
    "        # print(num_rows)\n",
    "        #if num_vars <= num_rows:\n",
    "        # for i in range(num_rows):\n",
    "        #     if sum(a[i, :-1]) <= 1.0e-12 and a[i, num_vars] != 0:\n",
    "        #         print('Given system of equations is inconsistent')\n",
    "        #         return\n",
    "        if np.linalg.matrix_rank(a[:,:-1]) != np.linalg.matrix_rank(a):\n",
    "            print('Given system of equations is inconsistent')\n",
    "            return\n",
    "        elif np.linalg.matrix_rank(a) < num_vars:\n",
    "            print(f'There are {num_vars - np.linalg.matrix_rank(a)} free variables.\\nGiven system of equations have infinitely many solutions')\n",
    "            return\n",
    "\n",
    "        var_names = []\n",
    "        var_counter = num_vars\n",
    "        var_values = np.ones(num_vars + 1)\n",
    "        # print(var_values)\n",
    "        for j in range(num_vars - 1, -1, -1):\n",
    "            if len(var_names) == 0:\n",
    "                row = a[j]\n",
    "                row_op = row * var_values\n",
    "                rhs = sum(row_op) - row_op[j] - row_op[-1]\n",
    "                var_val = (row_op[-1] - rhs) / row_op[j]\n",
    "                var_val = var_val\n",
    "                print(f'From R{j + 1}, we get X{j + 1} = {var_val}')\n",
    "                var_values[j] = var_val\n",
    "                var_names.append(f'X{j + 1}')\n",
    "            else:\n",
    "                row = a[j]\n",
    "                row_op = row * var_values\n",
    "                rhs = sum(row_op) - row_op[j] - row_op[-1]\n",
    "                var_val = (row_op[-1] - rhs) / row_op[j]\n",
    "                var_val = var_val\n",
    "                var_list = list(var_values)\n",
    "                var_list.reverse()\n",
    "                var_list = var_list[1:len(var_names) + 1]\n",
    "                var_str = [x + ' = ' + str(y) for x, y in zip(var_names, var_list)]\n",
    "                print(f'Substituting {var_str} in R{j + 1}, we get X{j + 1} = {var_val}')\n",
    "                var_values[j] = var_val\n",
    "                var_names.append(f'X{j + 1}')\n",
    "        # elif num_vars > num_rows:\n",
    "        #     print('Given system of equations have infinitely many solutions')\n",
    "\n",
    "\n",
    "class GaussEliminationRounding(LinearSystemsBase):\n",
    "\n",
    "    def _get_system_type(self):\n",
    "        return 'gauss_elimination_rounding'\n",
    "\n",
    "    def solve(self, **kwargs):\n",
    "        print('Starting Gauss Elimination with rounding')\n",
    "        self._a = kwargs.get('a')\n",
    "        self._b = kwargs.get('b')\n",
    "        self._pivoting = kwargs.get('pivoting')\n",
    "        self._rounding_digit = kwargs.get('rounding_digit') if kwargs.get('rounding_digit') is not None else 4\n",
    "        if self._b is not None:\n",
    "            self._a = np.concatenate((self._a, self._b.T), axis=1)\n",
    "        print(f'Augmented Matrix: \\n{self._a}\\n\\n')\n",
    "        self.forward_elimination()\n",
    "        self.backward_substitution()\n",
    "\n",
    "    def forward_elimination(self):\n",
    "        print('Performing forward elimination:\\n')\n",
    "        a = self._a.astype(float)\n",
    "        num_rows = a.shape[0]\n",
    "        for i in range(num_rows):\n",
    "            if self._pivoting == True:\n",
    "                LinearSystemsHelper.pivot(a, i)\n",
    "\n",
    "            if np.argwhere(a[i] != 0).size == 0:\n",
    "                break\n",
    "\n",
    "            pivot_index = np.argwhere(a[i] != 0)[0][0]\n",
    "            if pivot_index == a.shape[1] -1:\n",
    "                break\n",
    "\n",
    "            for j in range(i + 1, num_rows):\n",
    "                if a[j, pivot_index] != 0 and a[i, pivot_index] != 0:\n",
    "                    print(f'R{j + 1} -> R{j + 1} - {a[j, pivot_index]}/{a[i, pivot_index]}*R{i + 1}')\n",
    "                    a[j] -= LinearSystemsHelper.round_to_n(LinearSystemsHelper.round_to_n(a[j, pivot_index] / a[i, pivot_index],\n",
    "                                                      self._rounding_digit) * LinearSystemsHelper.round_to_n(a[i],\n",
    "                                                                                   self._rounding_digit), self._rounding_digit)\n",
    "                    a[j] = LinearSystemsHelper.round_to_n(a[j], self._rounding_digit)\n",
    "                    a[j, pivot_index] = 0\n",
    "                    print(f'Output:\\n{a}\\n\\n')\n",
    "\n",
    "        print(f'Final REF form: \\n {a}')\n",
    "        self._a = a\n",
    "\n",
    "    def backward_substitution(self):\n",
    "        a = self._a\n",
    "\n",
    "        print('\\n\\nPerforming backward substitution:\\n')\n",
    "        num_vars = a.shape[1] - 1\n",
    "        # print(num_vars)\n",
    "        num_rows = a.shape[0]\n",
    "        # print(num_rows)\n",
    "        #if num_vars <= num_rows:\n",
    "        # for i in range(num_rows):\n",
    "        #     if sum(a[i, :-1]) <= 1.0e-12 and a[i, num_vars] != 0:\n",
    "        #         print('Given system of equations is inconsistent')\n",
    "        #         return\n",
    "        if np.linalg.matrix_rank(a[:, :-1]) != np.linalg.matrix_rank(a):\n",
    "            print('Given system of equations is inconsistent')\n",
    "            return\n",
    "        elif np.linalg.matrix_rank(a) < num_vars:\n",
    "            print(f'There are {num_vars - np.linalg.matrix_rank(a)} free variables.\\nGiven system of equations have infinitely many solutions')\n",
    "            return\n",
    "\n",
    "        var_names = []\n",
    "        var_counter = num_vars\n",
    "        var_values = np.ones(num_vars + 1)\n",
    "        # print(var_values)\n",
    "        for j in range(num_vars - 1, -1, -1):\n",
    "            if len(var_names) == 0:\n",
    "                row = a[j]\n",
    "                row_op = LinearSystemsHelper.round_to_n(row * var_values, self._rounding_digit)\n",
    "                rhs = LinearSystemsHelper.round_to_n(sum(row_op) - row_op[j] - row_op[-1], self._rounding_digit)\n",
    "                var_val = (row_op[-1] - rhs) / row_op[j]\n",
    "                var_val = LinearSystemsHelper.round_to_n(var_val, self._rounding_digit)\n",
    "                print(f'From R{j + 1}, we get X{j + 1} = {var_val}')\n",
    "                var_values[j] = var_val\n",
    "                var_names.append(f'X{j + 1}')\n",
    "            else:\n",
    "                row = a[j]\n",
    "                row_op = LinearSystemsHelper.round_to_n(row * var_values, self._rounding_digit)\n",
    "                rhs = LinearSystemsHelper.round_to_n(sum(row_op) - row_op[j] - row_op[-1], self._rounding_digit)\n",
    "                var_val = (row_op[-1] - rhs) / row_op[j]\n",
    "                var_val = LinearSystemsHelper.round_to_n(var_val, self._rounding_digit)\n",
    "                var_list = list(var_values)\n",
    "                var_list.reverse()\n",
    "                var_list = var_list[1:len(var_names) + 1]\n",
    "                var_str = [x + ' = ' + str(y) for x, y in zip(var_names, var_list)]\n",
    "                print(f'Substituting {var_str} in R{j + 1}, we get X{j + 1} = {var_val}')\n",
    "                var_values[j] = var_val\n",
    "                var_names.append(f'X{j + 1}')\n",
    "        # elif num_vars > num_rows:\n",
    "        #     print('Given system of equations have infinitely many solutions')\n",
    "\n",
    "\n",
    "class LUDolittle(LinearSystemsBase):\n",
    "    def _get_system_type(self):\n",
    "        return 'lu_dolittle'\n",
    "\n",
    "    def solve(self, **kwargs):\n",
    "        print('Starting Dolittle method for LU decomposition')\n",
    "        self._a = kwargs.get('a')\n",
    "        self._b = kwargs.get('b')\n",
    "        self._pivoting = kwargs.get('pivoting')\n",
    "        self._rounding_digit = kwargs.get('rounding_digit') if kwargs.get('rounding_digit') is not None else 4\n",
    "        self.get_LU()\n",
    "        self.substitution()\n",
    "\n",
    "    def get_LU(self):\n",
    "        M = Matrix(self._a)\n",
    "        shape = M.shape[0]\n",
    "        print('Input Matrix A:\\n')\n",
    "        display(M)\n",
    "        print('\\nA = LU, where\\n')\n",
    "        U = MatrixSymbol('U', shape, shape)\n",
    "        L = MatrixSymbol('L', shape, shape)\n",
    "        U_ex = MatrixSymbol('u', shape, shape)\n",
    "        L_ex = MatrixSymbol('l', shape, shape)\n",
    "        L_ex = L_ex.as_explicit() - L_ex.as_explicit().upper_triangular() + Matrix(np.eye(shape).astype(int))\n",
    "        U_ex = U_ex.as_explicit().upper_triangular()\n",
    "\n",
    "        display(Eq(L, L_ex))\n",
    "        print('\\nand\\n')\n",
    "        display(Eq(U, U_ex))\n",
    "\n",
    "        display(Eq(MatMul(L, U), MatMul(L_ex, U_ex)))\n",
    "        print()\n",
    "        display(Eq(MatMul(L, U), MatMul(L_ex, U_ex).expand()))\n",
    "        print('\\nOn equating this with A, we get')\n",
    "        mat_nul = MatMul(L_ex, U_ex).expand()\n",
    "\n",
    "        display(Eq(M, mat_nul))\n",
    "        for i in range(M.shape[0]):\n",
    "            for j in range(M.shape[1]):\n",
    "                display(Eq(mat_nul[i, j], M[i, j]))\n",
    "        print('\\nSolving the above equations, we get\\n')\n",
    "        L_num, U_num, _ = M.LUdecomposition()\n",
    "\n",
    "        display(Eq(L,L_num))\n",
    "        print('\\nand\\n')\n",
    "        display(Eq(U,U_num))\n",
    "        self.L = L_num\n",
    "        self.U = U_num\n",
    "\n",
    "    def substitution(self):\n",
    "        print('\\nA = LU, Thus, the system Ax = b is')\n",
    "        print('\\nLUx = b')\n",
    "        print('\\nLet Ux = y, then')\n",
    "        print('\\nLy = b')\n",
    "        print('\\nStep-1: Solve Ly = b, to find y')\n",
    "        shape = self.L.shape[0]\n",
    "\n",
    "        b = Matrix(self._b)\n",
    "        y = MatrixSymbol('y', shape, 1)\n",
    "        display(Eq(MatMul(self.L,y), Matrix(self._b)))\n",
    "        display(Eq(MatMul(self.L, y.as_explicit()), Matrix(self._b)))\n",
    "\n",
    "        y_num = LinearSystemsHelper.round_to_n(np.linalg.solve(np.array(self.L).astype(float), np.array(self._b).astype(float)),self._rounding_digit)\n",
    "        print('By Applying forward substitution, we get')\n",
    "        display(Eq(y,Matrix(y_num)))\n",
    "\n",
    "        print('Step-2: Now solve Ux = y, to find x')\n",
    "        x = MatrixSymbol('x', shape, 1)\n",
    "        display(Eq(MatMul(self.U, x), Matrix(y_num)))\n",
    "        display(Eq(MatMul(self.U, x.as_explicit()), Matrix(y_num)))\n",
    "\n",
    "        x_num = LinearSystemsHelper.round_to_n(np.linalg.solve(np.array(self.U).astype(float), np.array(y_num).astype(float)), self._rounding_digit)\n",
    "        print('By Applying back substitution, we get')\n",
    "        display(Eq(x, Matrix(x_num)))\n",
    "\n",
    "\n",
    "class LUCrout(LinearSystemsBase):\n",
    "    def _get_system_type(self):\n",
    "        return 'lu_crout'\n",
    "\n",
    "    def solve(self, **kwargs):\n",
    "        print('Starting Dolittle method for LU decomposition')\n",
    "        self._a = kwargs.get('a')\n",
    "        self._b = kwargs.get('b')\n",
    "        self._pivoting = kwargs.get('pivoting')\n",
    "        self._rounding_digit = kwargs.get('rounding_digit') if kwargs.get('rounding_digit') is not None else 4\n",
    "        self.get_LU()\n",
    "        self.substitution()\n",
    "\n",
    "    def get_LU(self):\n",
    "        M = Matrix(self._a)\n",
    "        shape = M.shape[0]\n",
    "        print('Input Matrix A:\\n')\n",
    "        display(M)\n",
    "        print('\\nA = LU, where\\n')\n",
    "        U = MatrixSymbol('U', shape, shape)\n",
    "        L = MatrixSymbol('L', shape, shape)\n",
    "        U_ex = MatrixSymbol('u', shape, shape)\n",
    "        L_ex = MatrixSymbol('l', shape, shape)\n",
    "        U_ex = U_ex.as_explicit() - U_ex.as_explicit().lower_triangular() + Matrix(np.eye(shape).astype(int))\n",
    "        L_ex = L_ex.as_explicit().lower_triangular()\n",
    "\n",
    "        display(Eq(L, L_ex))\n",
    "        print('\\nand\\n')\n",
    "        display(Eq(U, U_ex))\n",
    "\n",
    "        display(Eq(MatMul(L, U), MatMul(L_ex, U_ex)))\n",
    "        print()\n",
    "        display(Eq(MatMul(L, U), MatMul(L_ex, U_ex).expand()))\n",
    "        print('\\nOn equating this with A, we get')\n",
    "        mat_nul = MatMul(L_ex, U_ex).expand()\n",
    "\n",
    "        display(Eq(M, mat_nul))\n",
    "        for i in range(M.shape[0]):\n",
    "            for j in range(M.shape[1]):\n",
    "                display(Eq(mat_nul[i, j], M[i, j]))\n",
    "        print('\\nSolving the above equations, we get\\n')\n",
    "        L_num, U_num = self.crout()\n",
    "\n",
    "        display(Eq(L, Matrix(L_num)))\n",
    "        print('\\nand\\n')\n",
    "        display(Eq(U, Matrix(U_num)))\n",
    "        self.L = Matrix(L_num)\n",
    "        self.U = Matrix(U_num)\n",
    "\n",
    "    def crout(self):\n",
    "\n",
    "        A = np.array(self._a)\n",
    "\n",
    "        shape = A.shape[0]\n",
    "\n",
    "        L = np.zeros_like(A)\n",
    "        U = np.zeros_like(A)\n",
    "\n",
    "        for k in range(0, shape):\n",
    "            U[k, k] = 1\n",
    "\n",
    "            for j in range(k, shape):\n",
    "                sum0 = sum([L[j, s] * U[s, k] for s in range(0, k)])\n",
    "                L[j, k] = A[j, k] - sum0\n",
    "\n",
    "            for j in range(k + 1, shape):\n",
    "                sum1 = sum([L[k, s] * U[s, j] for s in range(0, k)])\n",
    "                U[k, j] = (A[k, j] - sum1) / L[k, k]\n",
    "\n",
    "        return L, U\n",
    "\n",
    "    def substitution(self):\n",
    "        print('\\nA = LU, Thus, the system Ax = b is')\n",
    "        print('\\nLUx = b')\n",
    "        print('\\nLet Ux = y, then')\n",
    "        print('\\nLy = b')\n",
    "        print('\\nStep-1: Solve Ly = b, to find y')\n",
    "        shape = self.L.shape[0]\n",
    "\n",
    "        b = Matrix(self._b)\n",
    "        y = MatrixSymbol('y', shape, 1)\n",
    "        display(Eq(MatMul(self.L, y), Matrix(self._b)))\n",
    "        display(Eq(MatMul(self.L, y.as_explicit()), Matrix(self._b)))\n",
    "\n",
    "        y_num = LinearSystemsHelper.round_to_n(\n",
    "            np.linalg.solve(np.array(self.L).astype(float), np.array(self._b).astype(float)), self._rounding_digit)\n",
    "        print('By Applying forward substitution, we get')\n",
    "        display(Eq(y, Matrix(y_num)))\n",
    "\n",
    "        print('Step-2: Now solve Ux = y, to find x')\n",
    "        x = MatrixSymbol('x', shape, 1)\n",
    "        display(Eq(MatMul(self.U, x), Matrix(y_num)))\n",
    "        display(Eq(MatMul(self.U, x.as_explicit()), Matrix(y_num)))\n",
    "\n",
    "        x_num = LinearSystemsHelper.round_to_n(\n",
    "            np.linalg.solve(np.array(self.U).astype(float), np.array(y_num).astype(float)), self._rounding_digit)\n",
    "        print('By Applying back substitution, we get')\n",
    "        display(Eq(x, Matrix(x_num)))\n",
    "\n"
   ]
  },
  {
   "cell_type": "markdown",
   "id": "loving-pierre",
   "metadata": {},
   "source": [
    "-----------------------------------------------------------------------------------"
   ]
  },
  {
   "cell_type": "markdown",
   "id": "domestic-visibility",
   "metadata": {},
   "source": [
    "# Gauss Elimination  ( Pivoting = True)"
   ]
  },
  {
   "cell_type": "code",
   "execution_count": 4,
   "id": "copyrighted-kazakhstan",
   "metadata": {},
   "outputs": [
    {
     "name": "stdout",
     "output_type": "stream",
     "text": [
      "Starting Gauss Elimination with rounding\n",
      "Augmented Matrix: \n",
      "[[3 2 1 3]\n",
      " [2 1 1 0]\n",
      " [6 2 4 6]]\n",
      "\n",
      "\n",
      "Performing forward elimination:\n",
      "\n",
      "Pivoting R1  <--> R3\n",
      "Output:\n",
      "[[6. 2. 4. 6.]\n",
      " [2. 1. 1. 0.]\n",
      " [3. 2. 1. 3.]]\n",
      "\n",
      "\n",
      "R2 -> R2 - 2.0/6.0*R1\n",
      "Output:\n",
      "[[ 6.          2.          4.          6.        ]\n",
      " [ 0.          0.33333333 -0.33333333 -2.        ]\n",
      " [ 3.          2.          1.          3.        ]]\n",
      "\n",
      "\n",
      "R3 -> R3 - 3.0/6.0*R1\n",
      "Output:\n",
      "[[ 6.          2.          4.          6.        ]\n",
      " [ 0.          0.33333333 -0.33333333 -2.        ]\n",
      " [ 0.          1.         -1.          0.        ]]\n",
      "\n",
      "\n",
      "Pivoting R2  <--> R3\n",
      "Output:\n",
      "[[ 6.          2.          4.          6.        ]\n",
      " [ 0.          1.         -1.          0.        ]\n",
      " [ 0.          0.33333333 -0.33333333 -2.        ]]\n",
      "\n",
      "\n",
      "R3 -> R3 - 0.33333333333333337/1.0*R2\n",
      "Output:\n",
      "[[ 6.00000000e+00  2.00000000e+00  4.00000000e+00  6.00000000e+00]\n",
      " [ 0.00000000e+00  1.00000000e+00 -1.00000000e+00  0.00000000e+00]\n",
      " [ 0.00000000e+00  0.00000000e+00  1.11022302e-16 -2.00000000e+00]]\n",
      "\n",
      "\n",
      "Final REF form: \n",
      " [[ 6.00000000e+00  2.00000000e+00  4.00000000e+00  6.00000000e+00]\n",
      " [ 0.00000000e+00  1.00000000e+00 -1.00000000e+00  0.00000000e+00]\n",
      " [ 0.00000000e+00  0.00000000e+00  1.11022302e-16 -2.00000000e+00]]\n",
      "\n",
      "\n",
      "Performing backward substitution:\n",
      "\n",
      "Given system of equations is inconsistent\n"
     ]
    }
   ],
   "source": [
    "a = np.array([[3,2,1], [2,1,1], [6,2,4] ])\n",
    "b =np.array([[3,0,6]])\n",
    "lsf = LinearSystemsFactory()\n",
    "#print(VALID_SYSTEM_TYPES)\n",
    "lsf.get_linear_system(system_type='gauss_elimination').solve(a=a, b = b, pivoting = True)"
   ]
  },
  {
   "cell_type": "markdown",
   "id": "appropriate-speaking",
   "metadata": {},
   "source": [
    "-------------------------------------------------------------------------------------------------"
   ]
  },
  {
   "cell_type": "markdown",
   "id": "alternative-district",
   "metadata": {},
   "source": [
    "# Gauss Elimination (Pivoting = False)"
   ]
  },
  {
   "cell_type": "code",
   "execution_count": 5,
   "id": "furnished-blackjack",
   "metadata": {},
   "outputs": [
    {
     "name": "stdout",
     "output_type": "stream",
     "text": [
      "Starting Gauss Elimination with rounding\n",
      "Augmented Matrix: \n",
      "[[3 2 1 3]\n",
      " [2 1 1 0]\n",
      " [6 2 4 6]]\n",
      "\n",
      "\n",
      "Performing forward elimination:\n",
      "\n",
      "R2 -> R2 - 2.0/3.0*R1\n",
      "Output:\n",
      "[[ 3.          2.          1.          3.        ]\n",
      " [ 0.         -0.33333333  0.33333333 -2.        ]\n",
      " [ 6.          2.          4.          6.        ]]\n",
      "\n",
      "\n",
      "R3 -> R3 - 6.0/3.0*R1\n",
      "Output:\n",
      "[[ 3.          2.          1.          3.        ]\n",
      " [ 0.         -0.33333333  0.33333333 -2.        ]\n",
      " [ 0.         -2.          2.          0.        ]]\n",
      "\n",
      "\n",
      "R3 -> R3 - -2.0/-0.33333333333333326*R2\n",
      "Output:\n",
      "[[ 3.00000000e+00  2.00000000e+00  1.00000000e+00  3.00000000e+00]\n",
      " [ 0.00000000e+00 -3.33333333e-01  3.33333333e-01 -2.00000000e+00]\n",
      " [ 0.00000000e+00  0.00000000e+00 -8.88178420e-16  1.20000000e+01]]\n",
      "\n",
      "\n",
      "Final REF form: \n",
      " [[ 3.00000000e+00  2.00000000e+00  1.00000000e+00  3.00000000e+00]\n",
      " [ 0.00000000e+00 -3.33333333e-01  3.33333333e-01 -2.00000000e+00]\n",
      " [ 0.00000000e+00  0.00000000e+00 -8.88178420e-16  1.20000000e+01]]\n",
      "\n",
      "\n",
      "Performing backward substitution:\n",
      "\n",
      "Given system of equations is inconsistent\n"
     ]
    }
   ],
   "source": [
    "a = np.array([[3,2,1], [2,1,1], [6,2,4] ])\n",
    "b =np.array([[3,0,6]])\n",
    "lsf = LinearSystemsFactory()\n",
    "#print(VALID_SYSTEM_TYPES)\n",
    "lsf.get_linear_system(system_type='gauss_elimination').solve(a=a, b = b, pivoting = False)"
   ]
  },
  {
   "cell_type": "markdown",
   "id": "hydraulic-coverage",
   "metadata": {},
   "source": [
    "-----------------------------------------------------------------------------------"
   ]
  },
  {
   "cell_type": "markdown",
   "id": "voluntary-ukraine",
   "metadata": {},
   "source": [
    "# Gauss Elimination Rounding"
   ]
  },
  {
   "cell_type": "code",
   "execution_count": 6,
   "id": "veterinary-therapy",
   "metadata": {},
   "outputs": [
    {
     "name": "stdout",
     "output_type": "stream",
     "text": [
      "Starting Gauss Elimination with rounding\n",
      "Augmented Matrix: \n",
      "[[3 2 1 3]\n",
      " [2 1 1 0]\n",
      " [6 2 4 6]]\n",
      "\n",
      "\n",
      "Performing forward elimination:\n",
      "\n",
      "Pivoting R1  <--> R3\n",
      "Output:\n",
      "[[6. 2. 4. 6.]\n",
      " [2. 1. 1. 0.]\n",
      " [3. 2. 1. 3.]]\n",
      "\n",
      "\n",
      "R2 -> R2 - 2.0/6.0*R1\n",
      "Output:\n",
      "[[ 6.      2.      4.      6.    ]\n",
      " [ 0.      0.3334 -0.333  -2.    ]\n",
      " [ 3.      2.      1.      3.    ]]\n",
      "\n",
      "\n",
      "R3 -> R3 - 3.0/6.0*R1\n",
      "Output:\n",
      "[[ 6.      2.      4.      6.    ]\n",
      " [ 0.      0.3334 -0.333  -2.    ]\n",
      " [ 0.      1.     -1.      0.    ]]\n",
      "\n",
      "\n",
      "Pivoting R2  <--> R3\n",
      "Output:\n",
      "[[ 6.      2.      4.      6.    ]\n",
      " [ 0.      1.     -1.      0.    ]\n",
      " [ 0.      0.3334 -0.333  -2.    ]]\n",
      "\n",
      "\n",
      "R3 -> R3 - 0.3334/1.0*R2\n",
      "Output:\n",
      "[[ 6.e+00  2.e+00  4.e+00  6.e+00]\n",
      " [ 0.e+00  1.e+00 -1.e+00  0.e+00]\n",
      " [ 0.e+00  0.e+00  4.e-04 -2.e+00]]\n",
      "\n",
      "\n",
      "Final REF form: \n",
      " [[ 6.e+00  2.e+00  4.e+00  6.e+00]\n",
      " [ 0.e+00  1.e+00 -1.e+00  0.e+00]\n",
      " [ 0.e+00  0.e+00  4.e-04 -2.e+00]]\n",
      "\n",
      "\n",
      "Performing backward substitution:\n",
      "\n",
      "From R3, we get X3 = -5000.0\n",
      "Substituting ['X3 = -5000.0'] in R2, we get X2 = -5000.0\n",
      "Substituting ['X3 = -5000.0', 'X2 = -5000.0'] in R1, we get X1 = 5001.0\n"
     ]
    }
   ],
   "source": [
    "a = np.array([[3,2,1], [2,1,1], [6,2,4] ])\n",
    "b =np.array([[3,0,6]])\n",
    "lsf = LinearSystemsFactory()\n",
    "lsf.get_linear_system(system_type='gauss_elimination_rounding').solve(a=a, b=b, pivoting = True,rounding_digit = 4)"
   ]
  },
  {
   "cell_type": "markdown",
   "id": "political-relaxation",
   "metadata": {},
   "source": [
    "----------------------------------------------------------------------------------"
   ]
  },
  {
   "cell_type": "markdown",
   "id": "strange-prairie",
   "metadata": {},
   "source": [
    "#  Linear_Independence_Checker"
   ]
  },
  {
   "cell_type": "code",
   "execution_count": 7,
   "id": "acceptable-pointer",
   "metadata": {},
   "outputs": [
    {
     "name": "stdout",
     "output_type": "stream",
     "text": [
      "Vectors are linearly independent\n"
     ]
    },
    {
     "data": {
      "text/plain": [
       "True"
      ]
     },
     "execution_count": 7,
     "metadata": {},
     "output_type": "execute_result"
    }
   ],
   "source": [
    "#a = np.array([[3,4,0,2],[2,-1,3,7],[1,16,-12,-22]])\n",
    "lsf = LinearSystemsFactory()\n",
    "lsf.get_linear_system(system_type='linear_independence_checker').solve(v1=[0,1,1],v2=[1,1,1], v3=[0,0,1])"
   ]
  },
  {
   "cell_type": "markdown",
   "id": "expensive-lighter",
   "metadata": {},
   "source": [
    "-------------------------------------------------------------"
   ]
  },
  {
   "cell_type": "markdown",
   "id": "three-outdoors",
   "metadata": {},
   "source": [
    "# Basis_Finder (Pivoting =False)"
   ]
  },
  {
   "cell_type": "code",
   "execution_count": 8,
   "id": "infrared-directory",
   "metadata": {},
   "outputs": [
    {
     "name": "stdout",
     "output_type": "stream",
     "text": [
      "Input Matrix: \n",
      "[[ 1  2 -2  1]\n",
      " [ 3  6 -5  4]\n",
      " [ 1  2  0  3]]\n",
      "\n",
      "\n",
      "Input Matrix Rank: \n",
      "2\n",
      "\n",
      "\n",
      "Reducing the matrix to REF:\n",
      "\n",
      "R2 -> R2 - 3.0/1.0*R1\n",
      "Output:\n",
      "[[ 1.  2. -2.  1.]\n",
      " [ 0.  0.  1.  1.]\n",
      " [ 1.  2.  0.  3.]]\n",
      "\n",
      "\n",
      "R3 -> R3 - 1.0/1.0*R1\n",
      "Output:\n",
      "[[ 1.  2. -2.  1.]\n",
      " [ 0.  0.  1.  1.]\n",
      " [ 0.  0.  2.  2.]]\n",
      "\n",
      "\n",
      "R3 -> R3 - 2.0/1.0*R2\n",
      "Output:\n",
      "[[ 1.  2. -2.  1.]\n",
      " [ 0.  0.  1.  1.]\n",
      " [ 0.  0.  0.  0.]]\n",
      "\n",
      "\n",
      "Final REF form: \n",
      " [[ 1.  2. -2.  1.]\n",
      " [ 0.  0.  1.  1.]\n",
      " [ 0.  0.  0.  0.]]\n",
      "\n",
      "\n",
      "Basis for Row space (Non zero rows in REF):\n",
      "[[ 1.  2. -2.  1.]\n",
      " [ 0.  0.  1.  1.]]\n",
      "\n",
      "\n",
      "Basis for Column space (Columns in input matrix corresponding to pivot entries in REF):\n",
      "[[ 1  3  1]\n",
      " [-2 -5  0]]\n",
      "\n",
      "\n",
      "Nullity of the given Matrix is: 2\n",
      "This means there are 2 free variables: ['x2', 'x4'] \n",
      "Setting ['x2', 'x4'] with arbitrary values.\n",
      "\n",
      "We get basis for Null space (Solution of homogenous equation Ax = 0):\n",
      "[[-2 1 0 0]\n",
      " [-3 0 -1 1]]\n"
     ]
    }
   ],
   "source": [
    "a = np.array([[1,2,-2,1], [3,6,-5,4], [1,2,0,3]])\n",
    "lsf = LinearSystemsFactory()\n",
    "lsf.get_linear_system(system_type='basis_finder').solve(a=a, pivoting = False, rounding_digit=10)"
   ]
  },
  {
   "cell_type": "markdown",
   "id": "intellectual-relationship",
   "metadata": {},
   "source": [
    "----------------------------------------------------"
   ]
  },
  {
   "cell_type": "markdown",
   "id": "affected-desert",
   "metadata": {},
   "source": [
    "#  Gauss Seidel - Single Matrix"
   ]
  },
  {
   "cell_type": "code",
   "execution_count": 9,
   "id": "effective-drink",
   "metadata": {},
   "outputs": [
    {
     "name": "stdout",
     "output_type": "stream",
     "text": [
      "\n",
      "Performing Gauss Seidel Iterations\n",
      "\n",
      "Input Matrix 'A':\n",
      "[[ 45.02    0.     17.97  -17.97 ]\n",
      " [  8.984  58.5     6.738   6.738]\n",
      " [  0.    -17.97  -56.25   -6.738]\n",
      " [ 17.97   -6.738   6.738 -58.5  ]]\n",
      "\n",
      "⎡45.02    0     17.97   -17.97⎤\n",
      "⎢                             ⎥\n",
      "⎢8.984   58.5   6.738   6.738 ⎥\n",
      "⎢                             ⎥\n",
      "⎢  0    -17.97  -56.25  -6.738⎥\n",
      "⎢                             ⎥\n",
      "⎣17.97  -6.738  6.738   -58.5 ⎦\n",
      "Matrix is diagonally dominant\n",
      "\n",
      "\n",
      "Reducing diagonal elements to 1\n",
      "\n",
      "A: \n",
      "[[ 1.      0.      0.3992 -0.3992]\n",
      " [ 0.1536  1.      0.1152  0.1152]\n",
      " [-0.      0.3195  1.      0.1198]\n",
      " [-0.3072  0.1152 -0.1152  1.    ]]\n",
      "\n",
      "b: \n",
      "[-0.06602  0.127   -0.02642  0.2032 ]\n",
      "\n",
      "A = I + L + U, we get\n",
      "\n",
      "I: \n",
      "[[1. 0. 0. 0.]\n",
      " [0. 1. 0. 0.]\n",
      " [0. 0. 1. 0.]\n",
      " [0. 0. 0. 1.]]\n",
      "\n",
      "L:\n",
      "[[ 0.      0.      0.      0.    ]\n",
      " [ 0.1536  0.      0.      0.    ]\n",
      " [-0.      0.3195  0.      0.    ]\n",
      " [-0.3072  0.1152 -0.1152  0.    ]]\n",
      "\n",
      "U:\n",
      "[[ 0.      0.      0.3992 -0.3992]\n",
      " [ 0.      0.      0.1152  0.1152]\n",
      " [ 0.      0.      0.      0.1198]\n",
      " [ 0.      0.      0.      0.    ]]\n",
      "\n",
      "Iteration Matrix (I+L)⁻¹U: \n",
      "[[ 0.       0.       0.3992  -0.3992 ]\n",
      " [ 0.       0.       0.05388  0.1765 ]\n",
      " [ 0.       0.      -0.01722  0.0634 ]\n",
      " [ 0.       0.       0.1144  -0.1357 ]]\n",
      "\n",
      "norm_1 : 0.7747999999999999\n",
      "norm_inf : 0.7984\n",
      "norm_frobenius : 0.6233735018429962\n",
      "\n",
      "\n",
      "\n",
      "Initial value x: [0. 0. 0. 0.]\n",
      "Iteration - 1, x_1  = (I+L)⁻¹*b - (I+L)⁻¹U*x_0 = [-0.06602, 0.1371, -0.07024, 0.159]\n",
      "Iteration - 2, x_2  = (I+L)⁻¹*b - (I+L)⁻¹U*x_1 = [0.02549, 0.1128, -0.08153, 0.1886]\n",
      "Iteration - 3, x_3  = (I+L)⁻¹*b - (I+L)⁻¹U*x_2 = [0.04178, 0.1082, -0.0836, 0.1939]\n",
      "Iteration - 4, x_4  = (I+L)⁻¹*b - (I+L)⁻¹U*x_3 = [0.04478, 0.1074, -0.08397, 0.1949]\n",
      "Iteration - 5, x_5  = (I+L)⁻¹*b - (I+L)⁻¹U*x_4 = [0.04528, 0.1072, -0.08404, 0.195]\n",
      "Iteration - 6, x_6  = (I+L)⁻¹*b - (I+L)⁻¹U*x_5 = [0.04538, 0.1072, -0.08405, 0.1951]\n",
      "Iteration - 7, x_7  = (I+L)⁻¹*b - (I+L)⁻¹U*x_6 = [0.04538, 0.1072, -0.08406, 0.1951]\n",
      "Iteration - 8, x_8  = (I+L)⁻¹*b - (I+L)⁻¹U*x_7 = [0.04538, 0.1072, -0.08406, 0.1951]\n",
      "Converged!\n"
     ]
    }
   ],
   "source": [
    "a = np.array([[1, 0, 1, 3], [2, 3, 4, 7], [-1, -3, -3, -4]])\n",
    "lsf = LinearSystemsFactory()\n",
    "lsf.get_linear_system(system_type='gauss_seidel').solve(size = (4,4), diag_dom = True, randomize=True, rounding_digit= 4,\n",
    "                                                        print_iterations = True, n_iterations =100, tolerance = 0.000001)"
   ]
  },
  {
   "cell_type": "markdown",
   "id": "deadly-factor",
   "metadata": {},
   "source": [
    "-------------------------------------------------------------------"
   ]
  },
  {
   "cell_type": "markdown",
   "id": "frank-massage",
   "metadata": {},
   "source": [
    "#  Gauss Seidel - Double Matrix"
   ]
  },
  {
   "cell_type": "code",
   "execution_count": 10,
   "id": "daily-gospel",
   "metadata": {},
   "outputs": [
    {
     "name": "stdout",
     "output_type": "stream",
     "text": [
      "\n",
      "Performing Gauss Seidel Iterations\n",
      "\n",
      "Input Matrix 'A':\n",
      "[[146.7    15.85   31.7   -27.74 ]\n",
      " [-15.85  107.1   -31.7    27.74 ]\n",
      " [-15.85   27.74  -71.43   19.81 ]\n",
      " [  3.963 -39.63  -27.74   95.2  ]]\n",
      "\n",
      "⎡146.7   15.85    31.7   -27.74⎤\n",
      "⎢                              ⎥\n",
      "⎢-15.85  107.1   -31.7   27.74 ⎥\n",
      "⎢                              ⎥\n",
      "⎢-15.85  27.74   -71.43  19.81 ⎥\n",
      "⎢                              ⎥\n",
      "⎣3.963   -39.63  -27.74   95.2 ⎦\n",
      "Matrix is diagonally dominant\n",
      "\n",
      "\n",
      "Reducing diagonal elements to 1\n",
      "\n",
      "A: \n",
      "[[ 1.       0.108    0.2161  -0.1891 ]\n",
      " [-0.148    1.      -0.296    0.259  ]\n",
      " [ 0.2219  -0.3884   1.      -0.2773 ]\n",
      " [ 0.04163 -0.4163  -0.2914   1.     ]]\n",
      "\n",
      "b: \n",
      "[-0.007096 -0.08752  -0.05832   0.0547  ]\n",
      "\n",
      "A = I + L + U, we get\n",
      "\n",
      "I: \n",
      "[[1. 0. 0. 0.]\n",
      " [0. 1. 0. 0.]\n",
      " [0. 0. 1. 0.]\n",
      " [0. 0. 0. 1.]]\n",
      "\n",
      "L:\n",
      "[[ 0.       0.       0.       0.     ]\n",
      " [-0.148    0.       0.       0.     ]\n",
      " [ 0.2219  -0.3884   0.       0.     ]\n",
      " [ 0.04163 -0.4163  -0.2914   0.     ]]\n",
      "\n",
      "U:\n",
      "[[ 0.      0.108   0.2161 -0.1891]\n",
      " [ 0.      0.     -0.296   0.259 ]\n",
      " [ 0.      0.      0.     -0.2773]\n",
      " [ 0.      0.      0.      0.    ]]\n",
      "\n",
      "Iteration Matrix (I+L)⁻¹U: \n",
      "[[ 0.        0.108     0.2161   -0.1891  ]\n",
      " [ 0.        0.01598  -0.264     0.231   ]\n",
      " [ 0.       -0.01776  -0.1505   -0.1456  ]\n",
      " [ 0.       -0.003016 -0.1628    0.06161 ]]\n",
      "\n",
      "norm_1 : 0.7933999999999999\n",
      "norm_inf : 0.5132\n",
      "norm_frobenius : 0.5402852361077434\n",
      "\n",
      "\n",
      "\n",
      "Initial value x: [0. 0. 0. 0.]\n",
      "Iteration - 1, x_1  = (I+L)⁻¹*b - (I+L)⁻¹U*x_0 = [-0.007096, -0.08857, -0.09115, -0.008436]\n",
      "Iteration - 2, x_2  = (I+L)⁻¹*b - (I+L)⁻¹U*x_1 = [0.02057, -0.1093, -0.1077, -0.02303]\n",
      "Iteration - 3, x_3  = (I+L)⁻¹*b - (I+L)⁻¹U*x_2 = [0.02362, -0.1099, -0.1126, -0.02488]\n",
      "Iteration - 4, x_4  = (I+L)⁻¹*b - (I+L)⁻¹U*x_3 = [0.0244, -0.1108, -0.1137, -0.02557]\n",
      "Not converged after 4 iterations\n"
     ]
    }
   ],
   "source": [
    "a= np.array([[146.71573175,  15.85034938,  31.70069876, -27.73811141],\n",
    "       [-15.85034938, 107.0898583 , -31.70069876,  27.73811141],\n",
    "       [-15.85034938,  27.73811141, -71.4265722 ,  19.81293672],\n",
    "       [  3.96258734, -39.62587344, -27.73811141,  95.20209627]])\n",
    "b= np.array([-1.0414931 , -9.37343789,  4.1659724 ,  5.2074655 ])\n",
    "lsf = LinearSystemsFactory()\n",
    "lsf.get_linear_system(system_type='gauss_seidel').solve(A = a, b = b, size=(4, 4), diag_dom=True, randomize=True,\n",
    "                                                       rounding_digit=4,\n",
    "                                                 print_iterations=True, n_iterations=4, tolerance=0.000001)"
   ]
  },
  {
   "cell_type": "markdown",
   "id": "differential-choice",
   "metadata": {},
   "source": [
    "-------------------------------------"
   ]
  },
  {
   "cell_type": "markdown",
   "id": "super-appearance",
   "metadata": {},
   "source": [
    "# Gauss Jacobi - Single Matrix"
   ]
  },
  {
   "cell_type": "code",
   "execution_count": 11,
   "id": "structural-hartford",
   "metadata": {},
   "outputs": [
    {
     "name": "stdout",
     "output_type": "stream",
     "text": [
      "\n",
      "Performing Gauss Jacobi Iterations\n",
      "\n",
      "Input Matrix 'A':\n",
      "[[ 28.37   -4.463  -7.439  13.39 ]\n",
      " [  4.463  29.86  -10.41    2.976]\n",
      " [ -8.927  -2.976  14.98    2.976]\n",
      " [ -4.463  -1.488   8.927  26.88 ]]\n",
      "\n",
      "Matrix is diagonally dominant\n",
      "\n",
      "\n",
      "Reducing diagonal elements to 1\n",
      "\n",
      "A: \n",
      "[[ 1.      -0.1573  -0.2622   0.472  ]\n",
      " [ 0.1495   1.      -0.3486   0.09967]\n",
      " [-0.5959  -0.1987   1.       0.1987 ]\n",
      " [-0.166   -0.05536  0.3321   1.     ]]\n",
      "\n",
      "b: \n",
      "[ 0.     -0.8687  1.485   0.4137]\n",
      "\n",
      "A = I + L + U, we get\n",
      "\n",
      "I: \n",
      "[[1. 0. 0. 0.]\n",
      " [0. 1. 0. 0.]\n",
      " [0. 0. 1. 0.]\n",
      " [0. 0. 0. 1.]]\n",
      "\n",
      "L:\n",
      "[[ 0.       0.       0.       0.     ]\n",
      " [ 0.1495   0.       0.       0.     ]\n",
      " [-0.5959  -0.1987   0.       0.     ]\n",
      " [-0.166   -0.05536  0.3321   0.     ]]\n",
      "\n",
      "U:\n",
      "[[ 0.      -0.1573  -0.2622   0.472  ]\n",
      " [ 0.       0.      -0.3486   0.09967]\n",
      " [ 0.       0.       0.       0.1987 ]\n",
      " [ 0.       0.       0.       0.     ]]\n",
      "\n",
      "Iteration Matrix (L+U): \n",
      "[[ 0.      -0.1573  -0.2622   0.472  ]\n",
      " [ 0.1495   0.      -0.3486   0.09967]\n",
      " [-0.5959  -0.1987   0.       0.1987 ]\n",
      " [-0.166   -0.05536  0.3321   0.     ]]\n",
      "\n",
      "norm_1 : 0.9429000000000001\n",
      "norm_inf : 0.9933\n",
      "norm_frobenius : 1.0222787185987976\n",
      "\n",
      "\n",
      "\n",
      "Initial value x: [0. 0. 0. 0.]\n",
      "Iteration - 1, x_1  = b - (L+U)*x_0 = [0.0, -0.8687, 1.485, 0.4137]\n",
      "Iteration - 2, x_2  = b - (L+U)*x_1 = [0.05745, -0.3923, 1.23, -0.1276]\n",
      "Iteration - 3, x_3  = b - (L+U)*x_2 = [0.321, -0.4358, 1.467, -0.007]\n",
      "Iteration - 4, x_4  = b - (L+U)*x_3 = [0.3194, -0.4046, 1.591, -0.0443]\n",
      "Iteration - 5, x_5  = b - (L+U)*x_4 = [0.3744, -0.3574, 1.604, -0.084]\n",
      "Iteration - 6, x_6  = b - (L+U)*x_5 = [0.404, -0.3571, 1.654, -0.0766]\n",
      "Iteration - 7, x_7  = b - (L+U)*x_6 = [0.4137, -0.3449, 1.67, -0.0883]\n",
      "Iteration - 8, x_8  = b - (L+U)*x_7 = [0.4253, -0.3396, 1.68, -0.0913]\n",
      "Iteration - 9, x_9  = b - (L+U)*x_8 = [0.4302, -0.3375, 1.689, -0.0924]\n",
      "Iteration - 10, x_10  = b - (L+U)*x_9 = [0.4334, -0.335, 1.693, -0.0945]\n",
      "Iteration - 11, x_11  = b - (L+U)*x_10 = [0.4358, -0.3339, 1.696, -0.0951]\n",
      "Iteration - 12, x_12  = b - (L+U)*x_11 = [0.4371, -0.3331, 1.697, -0.0957]\n",
      "Iteration - 13, x_13  = b - (L+U)*x_12 = [0.4377, -0.3329, 1.698, -0.0958]\n",
      "Iteration - 14, x_14  = b - (L+U)*x_13 = [0.4381, -0.3327, 1.699, -0.096]\n",
      "Iteration - 15, x_15  = b - (L+U)*x_14 = [0.4385, -0.3324, 1.699, -0.0962]\n",
      "Iteration - 16, x_16  = b - (L+U)*x_15 = [0.4386, -0.3324, 1.699, -0.0961]\n",
      "Iteration - 17, x_17  = b - (L+U)*x_16 = [0.4386, -0.3324, 1.699, -0.0961]\n",
      "Converged!\n"
     ]
    }
   ],
   "source": [
    "a = np.array([[1, 0, 1, 3], [2, 3, 4, 7], [-1, -3, -3, -4]])\n",
    "lsf = LinearSystemsFactory()\n",
    "lsf.get_linear_system(system_type='gauss_jacobi').solve(size = (4,4), diag_dom = True, randomize=True, rounding_digit= 4,\n",
    "                                                        print_iterations = True, n_iterations =100, tolerance = 0.000001)"
   ]
  },
  {
   "cell_type": "markdown",
   "id": "amber-colleague",
   "metadata": {},
   "source": [
    "---------------------------------------------------------------------------"
   ]
  },
  {
   "cell_type": "markdown",
   "id": "cellular-jumping",
   "metadata": {},
   "source": [
    "# Gauss Jacobi - Double Matrix"
   ]
  },
  {
   "cell_type": "code",
   "execution_count": 12,
   "id": "reflected-rates",
   "metadata": {},
   "outputs": [
    {
     "name": "stdout",
     "output_type": "stream",
     "text": [
      "\n",
      "Performing Gauss Jacobi Iterations\n",
      "\n",
      "Input Matrix 'A':\n",
      "[[146.7    15.85   31.7   -27.74 ]\n",
      " [-15.85  107.1   -31.7    27.74 ]\n",
      " [-15.85   27.74  -71.43   19.81 ]\n",
      " [  3.963 -39.63  -27.74   95.2  ]]\n",
      "\n",
      "Matrix is diagonally dominant\n",
      "\n",
      "\n",
      "Reducing diagonal elements to 1\n",
      "\n",
      "A: \n",
      "[[ 1.       0.108    0.2161  -0.1891 ]\n",
      " [-0.148    1.      -0.296    0.259  ]\n",
      " [ 0.2219  -0.3884   1.      -0.2773 ]\n",
      " [ 0.04163 -0.4163  -0.2914   1.     ]]\n",
      "\n",
      "b: \n",
      "[-0.007096 -0.08752  -0.05832   0.0547  ]\n",
      "\n",
      "A = I + L + U, we get\n",
      "\n",
      "I: \n",
      "[[1. 0. 0. 0.]\n",
      " [0. 1. 0. 0.]\n",
      " [0. 0. 1. 0.]\n",
      " [0. 0. 0. 1.]]\n",
      "\n",
      "L:\n",
      "[[ 0.       0.       0.       0.     ]\n",
      " [-0.148    0.       0.       0.     ]\n",
      " [ 0.2219  -0.3884   0.       0.     ]\n",
      " [ 0.04163 -0.4163  -0.2914   0.     ]]\n",
      "\n",
      "U:\n",
      "[[ 0.      0.108   0.2161 -0.1891]\n",
      " [ 0.      0.     -0.296   0.259 ]\n",
      " [ 0.      0.      0.     -0.2773]\n",
      " [ 0.      0.      0.      0.    ]]\n",
      "\n",
      "Iteration Matrix (L+U): \n",
      "[[ 0.       0.108    0.2161  -0.1891 ]\n",
      " [-0.148    0.      -0.296    0.259  ]\n",
      " [ 0.2219  -0.3884   0.      -0.2773 ]\n",
      " [ 0.04163 -0.4163  -0.2914   0.     ]]\n",
      "\n",
      "norm_1 : 0.9127000000000001\n",
      "norm_inf : 0.8876000000000001\n",
      "norm_frobenius : 0.8987019455303299\n",
      "\n",
      "\n",
      "\n",
      "Initial value x: [0. 0. 0. 0.]\n",
      "Iteration - 1, x_1  = b - (L+U)*x_0 = [-0.007096, -0.08752, -0.05832, 0.0547]\n",
      "Iteration - 2, x_2  = b - (L+U)*x_1 = [0.0253, -0.12, -0.07557, 0.00157]\n",
      "Iteration - 3, x_3  = b - (L+U)*x_2 = [0.02249, -0.1066, -0.1101, -0.01833]\n",
      "Iteration - 4, x_4  = b - (L+U)*x_3 = [0.02474, -0.112, -0.1098, -0.0227]\n",
      "Not converged after 4 iterations\n"
     ]
    }
   ],
   "source": [
    "a= np.array([[146.71573175,  15.85034938,  31.70069876, -27.73811141],\n",
    "       [-15.85034938, 107.0898583 , -31.70069876,  27.73811141],\n",
    "       [-15.85034938,  27.73811141, -71.4265722 ,  19.81293672],\n",
    "       [  3.96258734, -39.62587344, -27.73811141,  95.20209627]])\n",
    "b= np.array([-1.0414931 , -9.37343789,  4.1659724 ,  5.2074655 ])\n",
    "lsf = LinearSystemsFactory()\n",
    "lsf.get_linear_system(system_type='gauss_jacobi').solve(A = a, b = b, size=(4, 4), diag_dom=True, randomize=True,\n",
    "                                                       rounding_digit=4,\n",
    "                                                 print_iterations=True, n_iterations=4, tolerance=0.000001)"
   ]
  },
  {
   "cell_type": "markdown",
   "id": "humanitarian-effort",
   "metadata": {},
   "source": [
    "-------------------------------------------------"
   ]
  },
  {
   "cell_type": "markdown",
   "id": "dutch-queen",
   "metadata": {},
   "source": [
    "# LU_Dolittle"
   ]
  },
  {
   "cell_type": "code",
   "execution_count": 13,
   "id": "pressed-nelson",
   "metadata": {},
   "outputs": [
    {
     "name": "stdout",
     "output_type": "stream",
     "text": [
      "Starting Dolittle method for LU decomposition\n",
      "Input Matrix A:\n",
      "\n"
     ]
    },
    {
     "data": {
      "text/latex": [
       "$\\displaystyle \\left[\\begin{matrix}0 & 2 & 0 & 1\\\\2 & 2 & 3 & 2\\\\4 & -3 & 0 & 1\\\\6 & 1 & -6 & -5\\end{matrix}\\right]$"
      ],
      "text/plain": [
       "⎡0  2   0   1 ⎤\n",
       "⎢             ⎥\n",
       "⎢2  2   3   2 ⎥\n",
       "⎢             ⎥\n",
       "⎢4  -3  0   1 ⎥\n",
       "⎢             ⎥\n",
       "⎣6  1   -6  -5⎦"
      ]
     },
     "metadata": {},
     "output_type": "display_data"
    },
    {
     "name": "stdout",
     "output_type": "stream",
     "text": [
      "\n",
      "A = LU, where\n",
      "\n"
     ]
    },
    {
     "data": {
      "text/latex": [
       "$\\displaystyle L = \\left[\\begin{matrix}1 & 0 & 0 & 0\\\\l_{1, 0} & 1 & 0 & 0\\\\l_{2, 0} & l_{2, 1} & 1 & 0\\\\l_{3, 0} & l_{3, 1} & l_{3, 2} & 1\\end{matrix}\\right]$"
      ],
      "text/plain": [
       "    ⎡ 1    0    0   0⎤\n",
       "    ⎢                ⎥\n",
       "    ⎢l₁₀   1    0   0⎥\n",
       "L = ⎢                ⎥\n",
       "    ⎢l₂₀  l₂₁   1   0⎥\n",
       "    ⎢                ⎥\n",
       "    ⎣l₃₀  l₃₁  l₃₂  1⎦"
      ]
     },
     "metadata": {},
     "output_type": "display_data"
    },
    {
     "name": "stdout",
     "output_type": "stream",
     "text": [
      "\n",
      "and\n",
      "\n"
     ]
    },
    {
     "data": {
      "text/latex": [
       "$\\displaystyle U = \\left[\\begin{matrix}u_{0, 0} & u_{0, 1} & u_{0, 2} & u_{0, 3}\\\\0 & u_{1, 1} & u_{1, 2} & u_{1, 3}\\\\0 & 0 & u_{2, 2} & u_{2, 3}\\\\0 & 0 & 0 & u_{3, 3}\\end{matrix}\\right]$"
      ],
      "text/plain": [
       "    ⎡u₀₀  u₀₁  u₀₂  u₀₃⎤\n",
       "    ⎢                  ⎥\n",
       "    ⎢ 0   u₁₁  u₁₂  u₁₃⎥\n",
       "U = ⎢                  ⎥\n",
       "    ⎢ 0    0   u₂₂  u₂₃⎥\n",
       "    ⎢                  ⎥\n",
       "    ⎣ 0    0    0   u₃₃⎦"
      ]
     },
     "metadata": {},
     "output_type": "display_data"
    },
    {
     "data": {
      "text/latex": [
       "$\\displaystyle L U = \\left[\\begin{matrix}1 & 0 & 0 & 0\\\\l_{1, 0} & 1 & 0 & 0\\\\l_{2, 0} & l_{2, 1} & 1 & 0\\\\l_{3, 0} & l_{3, 1} & l_{3, 2} & 1\\end{matrix}\\right] \\left[\\begin{matrix}u_{0, 0} & u_{0, 1} & u_{0, 2} & u_{0, 3}\\\\0 & u_{1, 1} & u_{1, 2} & u_{1, 3}\\\\0 & 0 & u_{2, 2} & u_{2, 3}\\\\0 & 0 & 0 & u_{3, 3}\\end{matrix}\\right]$"
      ],
      "text/plain": [
       "      ⎡ 1    0    0   0⎤ ⎡u₀₀  u₀₁  u₀₂  u₀₃⎤\n",
       "      ⎢                ⎥ ⎢                  ⎥\n",
       "      ⎢l₁₀   1    0   0⎥ ⎢ 0   u₁₁  u₁₂  u₁₃⎥\n",
       "L⋅U = ⎢                ⎥⋅⎢                  ⎥\n",
       "      ⎢l₂₀  l₂₁   1   0⎥ ⎢ 0    0   u₂₂  u₂₃⎥\n",
       "      ⎢                ⎥ ⎢                  ⎥\n",
       "      ⎣l₃₀  l₃₁  l₃₂  1⎦ ⎣ 0    0    0   u₃₃⎦"
      ]
     },
     "metadata": {},
     "output_type": "display_data"
    },
    {
     "name": "stdout",
     "output_type": "stream",
     "text": [
      "\n"
     ]
    },
    {
     "data": {
      "text/latex": [
       "$\\displaystyle L U = \\left[\\begin{matrix}u_{0, 0} & u_{0, 1} & u_{0, 2} & u_{0, 3}\\\\l_{1, 0} u_{0, 0} & l_{1, 0} u_{0, 1} + u_{1, 1} & l_{1, 0} u_{0, 2} + u_{1, 2} & l_{1, 0} u_{0, 3} + u_{1, 3}\\\\l_{2, 0} u_{0, 0} & l_{2, 0} u_{0, 1} + l_{2, 1} u_{1, 1} & l_{2, 0} u_{0, 2} + l_{2, 1} u_{1, 2} + u_{2, 2} & l_{2, 0} u_{0, 3} + l_{2, 1} u_{1, 3} + u_{2, 3}\\\\l_{3, 0} u_{0, 0} & l_{3, 0} u_{0, 1} + l_{3, 1} u_{1, 1} & l_{3, 0} u_{0, 2} + l_{3, 1} u_{1, 2} + l_{3, 2} u_{2, 2} & l_{3, 0} u_{0, 3} + l_{3, 1} u_{1, 3} + l_{3, 2} u_{2, 3} + u_{3, 3}\\end{matrix}\\right]$"
      ],
      "text/plain": [
       "      ⎡  u₀₀           u₀₁                     u₀₂                            \n",
       "      ⎢                                                                       \n",
       "      ⎢l₁₀⋅u₀₀    l₁₀⋅u₀₁ + u₁₁           l₁₀⋅u₀₂ + u₁₂                   l₁₀⋅\n",
       "L⋅U = ⎢                                                                       \n",
       "      ⎢l₂₀⋅u₀₀  l₂₀⋅u₀₁ + l₂₁⋅u₁₁    l₂₀⋅u₀₂ + l₂₁⋅u₁₂ + u₂₂         l₂₀⋅u₀₃ +\n",
       "      ⎢                                                                       \n",
       "      ⎣l₃₀⋅u₀₀  l₃₀⋅u₀₁ + l₃₁⋅u₁₁  l₃₀⋅u₀₂ + l₃₁⋅u₁₂ + l₃₂⋅u₂₂  l₃₀⋅u₀₃ + l₃₁⋅\n",
       "\n",
       " u₀₃               ⎤\n",
       "                   ⎥\n",
       "u₀₃ + u₁₃          ⎥\n",
       "                   ⎥\n",
       " l₂₁⋅u₁₃ + u₂₃     ⎥\n",
       "                   ⎥\n",
       "u₁₃ + l₃₂⋅u₂₃ + u₃₃⎦"
      ]
     },
     "metadata": {},
     "output_type": "display_data"
    },
    {
     "name": "stdout",
     "output_type": "stream",
     "text": [
      "\n",
      "On equating this with A, we get\n"
     ]
    },
    {
     "data": {
      "text/latex": [
       "$\\displaystyle \\left[\\begin{matrix}0 & 2 & 0 & 1\\\\2 & 2 & 3 & 2\\\\4 & -3 & 0 & 1\\\\6 & 1 & -6 & -5\\end{matrix}\\right] = \\left[\\begin{matrix}u_{0, 0} & u_{0, 1} & u_{0, 2} & u_{0, 3}\\\\l_{1, 0} u_{0, 0} & l_{1, 0} u_{0, 1} + u_{1, 1} & l_{1, 0} u_{0, 2} + u_{1, 2} & l_{1, 0} u_{0, 3} + u_{1, 3}\\\\l_{2, 0} u_{0, 0} & l_{2, 0} u_{0, 1} + l_{2, 1} u_{1, 1} & l_{2, 0} u_{0, 2} + l_{2, 1} u_{1, 2} + u_{2, 2} & l_{2, 0} u_{0, 3} + l_{2, 1} u_{1, 3} + u_{2, 3}\\\\l_{3, 0} u_{0, 0} & l_{3, 0} u_{0, 1} + l_{3, 1} u_{1, 1} & l_{3, 0} u_{0, 2} + l_{3, 1} u_{1, 2} + l_{3, 2} u_{2, 2} & l_{3, 0} u_{0, 3} + l_{3, 1} u_{1, 3} + l_{3, 2} u_{2, 3} + u_{3, 3}\\end{matrix}\\right]$"
      ],
      "text/plain": [
       "⎡0  2   0   1 ⎤   ⎡  u₀₀           u₀₁                     u₀₂                \n",
       "⎢             ⎥   ⎢                                                           \n",
       "⎢2  2   3   2 ⎥   ⎢l₁₀⋅u₀₀    l₁₀⋅u₀₁ + u₁₁           l₁₀⋅u₀₂ + u₁₂           \n",
       "⎢             ⎥ = ⎢                                                           \n",
       "⎢4  -3  0   1 ⎥   ⎢l₂₀⋅u₀₀  l₂₀⋅u₀₁ + l₂₁⋅u₁₁    l₂₀⋅u₀₂ + l₂₁⋅u₁₂ + u₂₂      \n",
       "⎢             ⎥   ⎢                                                           \n",
       "⎣6  1   -6  -5⎦   ⎣l₃₀⋅u₀₀  l₃₀⋅u₀₁ + l₃₁⋅u₁₁  l₃₀⋅u₀₂ + l₃₁⋅u₁₂ + l₃₂⋅u₂₂  l₃\n",
       "\n",
       "             u₀₃               ⎤\n",
       "                               ⎥\n",
       "        l₁₀⋅u₀₃ + u₁₃          ⎥\n",
       "                               ⎥\n",
       "   l₂₀⋅u₀₃ + l₂₁⋅u₁₃ + u₂₃     ⎥\n",
       "                               ⎥\n",
       "₀⋅u₀₃ + l₃₁⋅u₁₃ + l₃₂⋅u₂₃ + u₃₃⎦"
      ]
     },
     "metadata": {},
     "output_type": "display_data"
    },
    {
     "data": {
      "image/png": "[encoded data removed]",
      "text/latex": [
       "$\\displaystyle u_{0, 0} = 0$"
      ],
      "text/plain": [
       "u₀₀ = 0"
      ]
     },
     "metadata": {},
     "output_type": "display_data"
    },
    {
     "data": {
      "image/png": "[encoded data removed]",
      "text/latex": [
       "$\\displaystyle u_{0, 1} = 2$"
      ],
      "text/plain": [
       "u₀₁ = 2"
      ]
     },
     "metadata": {},
     "output_type": "display_data"
    },
    {
     "data": {
      "image/png": "[encoded data removed]",
      "text/latex": [
       "$\\displaystyle u_{0, 2} = 0$"
      ],
      "text/plain": [
       "u₀₂ = 0"
      ]
     },
     "metadata": {},
     "output_type": "display_data"
    },
    {
     "data": {
      "image/png": "[encoded data removed]",
      "text/latex": [
       "$\\displaystyle u_{0, 3} = 1$"
      ],
      "text/plain": [
       "u₀₃ = 1"
      ]
     },
     "metadata": {},
     "output_type": "display_data"
    },
    {
     "data": {
      "image/png": "[encoded data removed]",
      "text/latex": [
       "$\\displaystyle l_{1, 0} u_{0, 0} = 2$"
      ],
      "text/plain": [
       "l₁₀⋅u₀₀ = 2"
      ]
     },
     "metadata": {},
     "output_type": "display_data"
    },
    {
     "data": {
      "image/png": "[encoded data removed]",
      "text/latex": [
       "$\\displaystyle l_{1, 0} u_{0, 1} + u_{1, 1} = 2$"
      ],
      "text/plain": [
       "l₁₀⋅u₀₁ + u₁₁ = 2"
      ]
     },
     "metadata": {},
     "output_type": "display_data"
    },
    {
     "data": {
      "image/png": "[encoded data removed]",
      "text/latex": [
       "$\\displaystyle l_{1, 0} u_{0, 2} + u_{1, 2} = 3$"
      ],
      "text/plain": [
       "l₁₀⋅u₀₂ + u₁₂ = 3"
      ]
     },
     "metadata": {},
     "output_type": "display_data"
    },
    {
     "data": {
      "image/png": "[encoded data removed]",
      "text/latex": [
       "$\\displaystyle l_{1, 0} u_{0, 3} + u_{1, 3} = 2$"
      ],
      "text/plain": [
       "l₁₀⋅u₀₃ + u₁₃ = 2"
      ]
     },
     "metadata": {},
     "output_type": "display_data"
    },
    {
     "data": {
      "image/png": "[encoded data removed]",
      "text/latex": [
       "$\\displaystyle l_{2, 0} u_{0, 0} = 4$"
      ],
      "text/plain": [
       "l₂₀⋅u₀₀ = 4"
      ]
     },
     "metadata": {},
     "output_type": "display_data"
    },
    {
     "data": {
      "image/png": "[encoded data removed]",
      "text/latex": [
       "$\\displaystyle l_{2, 0} u_{0, 1} + l_{2, 1} u_{1, 1} = -3$"
      ],
      "text/plain": [
       "l₂₀⋅u₀₁ + l₂₁⋅u₁₁ = -3"
      ]
     },
     "metadata": {},
     "output_type": "display_data"
    },
    {
     "data": {
      "image/png": "[encoded data removed]",
      "text/latex": [
       "$\\displaystyle l_{2, 0} u_{0, 2} + l_{2, 1} u_{1, 2} + u_{2, 2} = 0$"
      ],
      "text/plain": [
       "l₂₀⋅u₀₂ + l₂₁⋅u₁₂ + u₂₂ = 0"
      ]
     },
     "metadata": {},
     "output_type": "display_data"
    },
    {
     "data": {
      "image/png": "[encoded data removed]",
      "text/latex": [
       "$\\displaystyle l_{2, 0} u_{0, 3} + l_{2, 1} u_{1, 3} + u_{2, 3} = 1$"
      ],
      "text/plain": [
       "l₂₀⋅u₀₃ + l₂₁⋅u₁₃ + u₂₃ = 1"
      ]
     },
     "metadata": {},
     "output_type": "display_data"
    },
    {
     "data": {
      "image/png": "[encoded data removed]",
      "text/latex": [
       "$\\displaystyle l_{3, 0} u_{0, 0} = 6$"
      ],
      "text/plain": [
       "l₃₀⋅u₀₀ = 6"
      ]
     },
     "metadata": {},
     "output_type": "display_data"
    },
    {
     "data": {
      "image/png": "[encoded data removed]",
      "text/latex": [
       "$\\displaystyle l_{3, 0} u_{0, 1} + l_{3, 1} u_{1, 1} = 1$"
      ],
      "text/plain": [
       "l₃₀⋅u₀₁ + l₃₁⋅u₁₁ = 1"
      ]
     },
     "metadata": {},
     "output_type": "display_data"
    },
    {
     "data": {
      "image/png": "[encoded data removed]",
      "text/latex": [
       "$\\displaystyle l_{3, 0} u_{0, 2} + l_{3, 1} u_{1, 2} + l_{3, 2} u_{2, 2} = -6$"
      ],
      "text/plain": [
       "l₃₀⋅u₀₂ + l₃₁⋅u₁₂ + l₃₂⋅u₂₂ = -6"
      ]
     },
     "metadata": {},
     "output_type": "display_data"
    },
    {
     "data": {
      "image/png": "[encoded data removed]",
      "text/latex": [
       "$\\displaystyle l_{3, 0} u_{0, 3} + l_{3, 1} u_{1, 3} + l_{3, 2} u_{2, 3} + u_{3, 3} = -5$"
      ],
      "text/plain": [
       "l₃₀⋅u₀₃ + l₃₁⋅u₁₃ + l₃₂⋅u₂₃ + u₃₃ = -5"
      ]
     },
     "metadata": {},
     "output_type": "display_data"
    },
    {
     "name": "stdout",
     "output_type": "stream",
     "text": [
      "\n",
      "Solving the above equations, we get\n",
      "\n"
     ]
    },
    {
     "data": {
      "text/latex": [
       "$\\displaystyle L = \\left[\\begin{matrix}1 & 0 & 0 & 0\\\\0 & 1 & 0 & 0\\\\2 & - \\frac{7}{2} & 1 & 0\\\\3 & - \\frac{5}{2} & \\frac{5}{2} & 1\\end{matrix}\\right]$"
      ],
      "text/plain": [
       "    ⎡1   0     0   0⎤\n",
       "    ⎢               ⎥\n",
       "    ⎢0   1     0   0⎥\n",
       "L = ⎢               ⎥\n",
       "    ⎢2  -7/2   1   0⎥\n",
       "    ⎢               ⎥\n",
       "    ⎣3  -5/2  5/2  1⎦"
      ]
     },
     "metadata": {},
     "output_type": "display_data"
    },
    {
     "name": "stdout",
     "output_type": "stream",
     "text": [
      "\n",
      "and\n",
      "\n"
     ]
    },
    {
     "data": {
      "text/latex": [
       "$\\displaystyle U = \\left[\\begin{matrix}2 & 2 & 3 & 2\\\\0 & 2 & 0 & 1\\\\0 & 0 & -6 & \\frac{1}{2}\\\\0 & 0 & 0 & - \\frac{39}{4}\\end{matrix}\\right]$"
      ],
      "text/plain": [
       "    ⎡2  2  3     2  ⎤\n",
       "    ⎢               ⎥\n",
       "    ⎢0  2  0     1  ⎥\n",
       "U = ⎢               ⎥\n",
       "    ⎢0  0  -6   1/2 ⎥\n",
       "    ⎢               ⎥\n",
       "    ⎣0  0  0   -39/4⎦"
      ]
     },
     "metadata": {},
     "output_type": "display_data"
    },
    {
     "name": "stdout",
     "output_type": "stream",
     "text": [
      "\n",
      "A = LU, Thus, the system Ax = b is\n",
      "\n",
      "LUx = b\n",
      "\n",
      "Let Ux = y, then\n",
      "\n",
      "Ly = b\n",
      "\n",
      "Step-1: Solve Ly = b, to find y\n"
     ]
    },
    {
     "data": {
      "text/latex": [
       "$\\displaystyle \\left[\\begin{matrix}1 & 0 & 0 & 0\\\\0 & 1 & 0 & 0\\\\2 & - \\frac{7}{2} & 1 & 0\\\\3 & - \\frac{5}{2} & \\frac{5}{2} & 1\\end{matrix}\\right] y = \\left[\\begin{matrix}1\\\\1\\\\1\\\\1\\end{matrix}\\right]$"
      ],
      "text/plain": [
       "⎡1   0     0   0⎤     ⎡1⎤\n",
       "⎢               ⎥     ⎢ ⎥\n",
       "⎢0   1     0   0⎥     ⎢1⎥\n",
       "⎢               ⎥⋅y = ⎢ ⎥\n",
       "⎢2  -7/2   1   0⎥     ⎢1⎥\n",
       "⎢               ⎥     ⎢ ⎥\n",
       "⎣3  -5/2  5/2  1⎦     ⎣1⎦"
      ]
     },
     "metadata": {},
     "output_type": "display_data"
    },
    {
     "data": {
      "text/latex": [
       "$\\displaystyle \\left[\\begin{matrix}1 & 0 & 0 & 0\\\\0 & 1 & 0 & 0\\\\2 & - \\frac{7}{2} & 1 & 0\\\\3 & - \\frac{5}{2} & \\frac{5}{2} & 1\\end{matrix}\\right] \\left[\\begin{matrix}y_{0, 0}\\\\y_{1, 0}\\\\y_{2, 0}\\\\y_{3, 0}\\end{matrix}\\right] = \\left[\\begin{matrix}1\\\\1\\\\1\\\\1\\end{matrix}\\right]$"
      ],
      "text/plain": [
       "⎡1   0     0   0⎤ ⎡y₀₀⎤   ⎡1⎤\n",
       "⎢               ⎥ ⎢   ⎥   ⎢ ⎥\n",
       "⎢0   1     0   0⎥ ⎢y₁₀⎥   ⎢1⎥\n",
       "⎢               ⎥⋅⎢   ⎥ = ⎢ ⎥\n",
       "⎢2  -7/2   1   0⎥ ⎢y₂₀⎥   ⎢1⎥\n",
       "⎢               ⎥ ⎢   ⎥   ⎢ ⎥\n",
       "⎣3  -5/2  5/2  1⎦ ⎣y₃₀⎦   ⎣1⎦"
      ]
     },
     "metadata": {},
     "output_type": "display_data"
    },
    {
     "name": "stdout",
     "output_type": "stream",
     "text": [
      "By Applying forward substitution, we get\n"
     ]
    },
    {
     "data": {
      "text/latex": [
       "$\\displaystyle y = \\left[\\begin{matrix}1.0\\\\1.0\\\\2.5\\\\-5.75\\end{matrix}\\right]$"
      ],
      "text/plain": [
       "    ⎡ 1.0 ⎤\n",
       "    ⎢     ⎥\n",
       "    ⎢ 1.0 ⎥\n",
       "y = ⎢     ⎥\n",
       "    ⎢ 2.5 ⎥\n",
       "    ⎢     ⎥\n",
       "    ⎣-5.75⎦"
      ]
     },
     "metadata": {},
     "output_type": "display_data"
    },
    {
     "name": "stdout",
     "output_type": "stream",
     "text": [
      "Step-2: Now solve Ux = y, to find x\n"
     ]
    },
    {
     "data": {
      "text/latex": [
       "$\\displaystyle \\left[\\begin{matrix}2 & 2 & 3 & 2\\\\0 & 2 & 0 & 1\\\\0 & 0 & -6 & \\frac{1}{2}\\\\0 & 0 & 0 & - \\frac{39}{4}\\end{matrix}\\right] x = \\left[\\begin{matrix}1.0\\\\1.0\\\\2.5\\\\-5.75\\end{matrix}\\right]$"
      ],
      "text/plain": [
       "⎡2  2  3     2  ⎤     ⎡ 1.0 ⎤\n",
       "⎢               ⎥     ⎢     ⎥\n",
       "⎢0  2  0     1  ⎥     ⎢ 1.0 ⎥\n",
       "⎢               ⎥⋅x = ⎢     ⎥\n",
       "⎢0  0  -6   1/2 ⎥     ⎢ 2.5 ⎥\n",
       "⎢               ⎥     ⎢     ⎥\n",
       "⎣0  0  0   -39/4⎦     ⎣-5.75⎦"
      ]
     },
     "metadata": {},
     "output_type": "display_data"
    },
    {
     "data": {
      "text/latex": [
       "$\\displaystyle \\left[\\begin{matrix}2 & 2 & 3 & 2\\\\0 & 2 & 0 & 1\\\\0 & 0 & -6 & \\frac{1}{2}\\\\0 & 0 & 0 & - \\frac{39}{4}\\end{matrix}\\right] \\left[\\begin{matrix}x_{0, 0}\\\\x_{1, 0}\\\\x_{2, 0}\\\\x_{3, 0}\\end{matrix}\\right] = \\left[\\begin{matrix}1.0\\\\1.0\\\\2.5\\\\-5.75\\end{matrix}\\right]$"
      ],
      "text/plain": [
       "⎡2  2  3     2  ⎤ ⎡x₀₀⎤   ⎡ 1.0 ⎤\n",
       "⎢               ⎥ ⎢   ⎥   ⎢     ⎥\n",
       "⎢0  2  0     1  ⎥ ⎢x₁₀⎥   ⎢ 1.0 ⎥\n",
       "⎢               ⎥⋅⎢   ⎥ = ⎢     ⎥\n",
       "⎢0  0  -6   1/2 ⎥ ⎢x₂₀⎥   ⎢ 2.5 ⎥\n",
       "⎢               ⎥ ⎢   ⎥   ⎢     ⎥\n",
       "⎣0  0  0   -39/4⎦ ⎣x₃₀⎦   ⎣-5.75⎦"
      ]
     },
     "metadata": {},
     "output_type": "display_data"
    },
    {
     "name": "stdout",
     "output_type": "stream",
     "text": [
      "By Applying back substitution, we get\n"
     ]
    },
    {
     "data": {
      "text/latex": [
       "$\\displaystyle x = \\left[\\begin{matrix}0.2564\\\\0.2051\\\\-0.3675\\\\0.5897\\end{matrix}\\right]$"
      ],
      "text/plain": [
       "    ⎡0.2564 ⎤\n",
       "    ⎢       ⎥\n",
       "    ⎢0.2051 ⎥\n",
       "x = ⎢       ⎥\n",
       "    ⎢-0.3675⎥\n",
       "    ⎢       ⎥\n",
       "    ⎣0.5897 ⎦"
      ]
     },
     "metadata": {},
     "output_type": "display_data"
    }
   ],
   "source": [
    "a = np.array([[0,2,0,1],[2,2,3,2],[4,-3,0,1], [6,1,-6,-5]])\n",
    "b = [1,1,1,1]\n",
    "lsf = LinearSystemsFactory()\n",
    "lsf.get_linear_system(system_type='lu_dolittle').solve(a = a, b = b)\n"
   ]
  },
  {
   "cell_type": "markdown",
   "id": "engaged-possible",
   "metadata": {},
   "source": [
    "-----------------------------------------------------------------"
   ]
  },
  {
   "cell_type": "markdown",
   "id": "advisory-registration",
   "metadata": {},
   "source": [
    "# Rayleigh Quotient"
   ]
  },
  {
   "cell_type": "code",
   "execution_count": 14,
   "id": "alpha-tablet",
   "metadata": {},
   "outputs": [
    {
     "name": "stdout",
     "output_type": "stream",
     "text": [
      "\n",
      "Performing Rayleigh Quotient iterations to find dominant eigenvalue\n",
      "\n",
      "\n",
      "Input Matrix 'A':\n",
      "[[11  5  1]\n",
      " [ 5  8  2]\n",
      " [ 1  3  5]]\n",
      "\n",
      "\n",
      "Initial value x: [1. 1. 1.]\n",
      "\n",
      "\n",
      "Iteration: 1\n",
      "\n",
      "x = [1. 1. 1.]\n",
      "\n",
      "y = Ax = [17. 15.  9.]\n",
      "\n",
      "m₀ = xᵀx = 3.0\n",
      "m₁ = xᵀy = 41.0\n",
      "m₂ = yᵀy = 595.0\n",
      "y_norm = y/max(y) = [1.         0.88235294 0.52941176]\n",
      "q = m₁/m₀ = 13.66666667\n",
      "delta = sqrt(m₂/m₀ - q²) =  3.399346329  (Delta is useful only for symmetric matrix)\n",
      "\n",
      "\n",
      "Iteration: 2\n",
      "\n",
      "x = [1.         0.88235294 0.52941176]\n",
      "\n",
      "y = Ax = [15.94117647 13.11764706  6.29411765]\n",
      "\n",
      "m₀ = xᵀx = 2.058823529\n",
      "m₁ = xᵀy = 30.84775087\n",
      "m₂ = yᵀy = 465.8096886\n",
      "y_norm = y/max(y) = [1.         0.82287823 0.39483395]\n",
      "q = m₁/m₀ = 14.98319328\n",
      "delta = sqrt(m₂/m₀ - q²) =  1.324514763  (Delta is useful only for symmetric matrix)\n",
      "\n",
      "\n",
      "Iteration: 3\n",
      "\n",
      "x = [1.         0.82287823 0.39483395]\n",
      "\n",
      "y = Ax = [15.50922509 12.37269373  5.44280443]\n",
      "\n",
      "m₀ = xᵀx = 1.833022426\n",
      "m₁ = xᵀy = 27.83944936\n",
      "m₂ = yᵀy = 423.2437331\n",
      "y_norm = y/max(y) = [1.        0.7977635 0.3509398]\n",
      "q = m₁/m₀ = 15.18772982\n",
      "delta = sqrt(m₂/m₀ - q²) =  0.4819110174  (Delta is useful only for symmetric matrix)\n",
      "\n",
      "\n",
      "Iteration: 4\n",
      "\n",
      "x = [1.        0.7977635 0.3509398]\n",
      "\n",
      "y = Ax = [15.33975732 12.08398763  5.14798953]\n",
      "\n",
      "m₀ = xᵀx = 1.759585353\n",
      "m₁ = xᵀy = 26.78655606\n",
      "m₂ = yᵀy = 407.8327079\n",
      "y_norm = y/max(y) = [1.         0.78775611 0.33559785]\n",
      "q = m₁/m₀ = 15.22322064\n",
      "delta = sqrt(m₂/m₀ - q²) =  0.1768855101  (Delta is useful only for symmetric matrix)\n",
      "\n",
      "\n",
      "Iteration: 5\n",
      "\n",
      "x = [1.         0.78775611 0.33559785]\n",
      "\n",
      "y = Ax = [15.27437842 11.97324461  5.04125758]\n",
      "\n",
      "m₀ = xᵀx = 1.733185612\n",
      "m₁ = xᵀy = 26.39821027\n",
      "m₂ = yᵀy = 402.0795006\n",
      "y_norm = y/max(y) = [1.         0.7838777  0.33004666]\n",
      "q = m₁/m₀ = 15.23103474\n",
      "delta = sqrt(m₂/m₀ - q²) =  0.06553146724  (Delta is useful only for symmetric matrix)\n",
      "Not converged after 5 iterations\n"
     ]
    }
   ],
   "source": [
    "A = np.array([[11, 5, 1], [5, 8, 2], [1, 3, 5]])\n",
    "b = np.array([1, 3, 3])\n",
    "lsf = LinearSystemsFactory()\n",
    "lsf.get_linear_system(system_type='rayleigh_quotient').solve(A=A,  size=(4, 4), diag_dom=True, randomize=True,\n",
    "                                                            rounding_digit=10,\n",
    "                                                            print_iterations=True, n_iterations=5, tolerance=0.00015)"
   ]
  },
  {
   "cell_type": "markdown",
   "id": "patent-evening",
   "metadata": {},
   "source": [
    "-------------------------------------------------------------------------------------------"
   ]
  },
  {
   "cell_type": "markdown",
   "id": "august-source",
   "metadata": {},
   "source": [
    "# Power_method"
   ]
  },
  {
   "cell_type": "code",
   "execution_count": 15,
   "id": "homeless-assault",
   "metadata": {},
   "outputs": [
    {
     "name": "stdout",
     "output_type": "stream",
     "text": [
      "\n",
      "Performing Power Method iterations to find dominant eigenvalue\n",
      "\n",
      "\n",
      "Input Matrix 'A':\n",
      "[[11  5  1]\n",
      " [ 5  8  2]\n",
      " [ 1  3  5]]\n",
      "\n",
      "\n",
      "Initial value x: [1. 1. 1.]\n",
      "\n",
      "\n",
      "Iteration: 1\n",
      "\n",
      "x = [1. 1. 1.]\n",
      "\n",
      "y = Ax = [17. 15.  9.]\n",
      "\n",
      "y_norm = y/max(y) = [1.         0.88235294 0.52941176]\n",
      "\n",
      "λ_old = 0\n",
      "λ_new = max(y) = 17.0\n",
      "\n",
      "delta = |λ_new - λ_old| =  17.0\n",
      "\n",
      "delta > 0.00015 (tolerance)\n",
      "\n",
      "\n",
      "Iteration: 2\n",
      "\n",
      "x = [1.         0.88235294 0.52941176]\n",
      "\n",
      "y = Ax = [15.94117647 13.11764706  6.29411765]\n",
      "\n",
      "y_norm = y/max(y) = [1.         0.82287823 0.39483395]\n",
      "\n",
      "λ_old = 17.0\n",
      "λ_new = max(y) = 15.94117647\n",
      "\n",
      "delta = |λ_new - λ_old| =  1.05882353\n",
      "\n",
      "delta > 0.00015 (tolerance)\n",
      "\n",
      "\n",
      "Iteration: 3\n",
      "\n",
      "x = [1.         0.82287823 0.39483395]\n",
      "\n",
      "y = Ax = [15.50922509 12.37269373  5.44280443]\n",
      "\n",
      "y_norm = y/max(y) = [1.        0.7977635 0.3509398]\n",
      "\n",
      "λ_old = 15.94117647\n",
      "λ_new = max(y) = 15.50922509\n",
      "\n",
      "delta = |λ_new - λ_old| =  0.43195138\n",
      "\n",
      "delta > 0.00015 (tolerance)\n",
      "\n",
      "\n",
      "Iteration: 4\n",
      "\n",
      "x = [1.        0.7977635 0.3509398]\n",
      "\n",
      "y = Ax = [15.33975732 12.08398763  5.14798953]\n",
      "\n",
      "y_norm = y/max(y) = [1.         0.78775611 0.33559785]\n",
      "\n",
      "λ_old = 15.50922509\n",
      "λ_new = max(y) = 15.33975732\n",
      "\n",
      "delta = |λ_new - λ_old| =  0.16946777\n",
      "\n",
      "delta > 0.00015 (tolerance)\n",
      "Not converged after 4 iterations\n"
     ]
    }
   ],
   "source": [
    "A = np.array([[11, 5, 1], [5, 8, 2], [1, 3, 5]])\n",
    "lsf = LinearSystemsFactory()\n",
    "#b = np.array([1, 3, 3])\n",
    "lsf.get_linear_system(system_type='power_method').solve(A=A, size=(4, 4), diag_dom=True, randomize=True,\n",
    "                                                            rounding_digit=10,\n",
    "                                                            print_iterations=True, n_iterations=4, tolerance=0.00015)"
   ]
  },
  {
   "cell_type": "markdown",
   "id": "existing-assignment",
   "metadata": {},
   "source": [
    "---------------------------------------------"
   ]
  },
  {
   "cell_type": "markdown",
   "id": "chubby-packing",
   "metadata": {},
   "source": [
    "# Diagonalization"
   ]
  },
  {
   "cell_type": "code",
   "execution_count": 16,
   "id": "logical-marine",
   "metadata": {},
   "outputs": [
    {
     "name": "stdout",
     "output_type": "stream",
     "text": [
      "Input matrix A:\n",
      "\n"
     ]
    },
    {
     "data": {
      "text/latex": [
       "$\\displaystyle \\left[\\begin{matrix}0 & 2 & 0 & 1\\\\2 & 2 & 3 & 2\\\\4 & -3 & 0 & 1\\\\6 & 1 & -6 & -5\\end{matrix}\\right]$"
      ],
      "text/plain": [
       "⎡0  2   0   1 ⎤\n",
       "⎢             ⎥\n",
       "⎢2  2   3   2 ⎥\n",
       "⎢             ⎥\n",
       "⎢4  -3  0   1 ⎥\n",
       "⎢             ⎥\n",
       "⎣6  1   -6  -5⎦"
      ]
     },
     "metadata": {},
     "output_type": "display_data"
    },
    {
     "name": "stdout",
     "output_type": "stream",
     "text": [
      "\n",
      "Eigenvalues of A:\n",
      "[ 4.17748421+0.j         -4.82010832+0.j         -1.17868795+3.19870514j\n",
      " -1.17868795-3.19870514j]\n",
      "\n",
      "Eigenvectors of A:\n",
      "\n"
     ]
    },
    {
     "data": {
      "text/latex": [
       "$\\displaystyle \\left[\\begin{matrix}0.471839899339343\\\\0.783851350073828\\\\-0.0145526397498781\\\\0.403401030062128\\end{matrix}\\right]$"
      ],
      "text/plain": [
       "⎡ 0.471839899339343 ⎤\n",
       "⎢                   ⎥\n",
       "⎢ 0.783851350073828 ⎥\n",
       "⎢                   ⎥\n",
       "⎢-0.0145526397498781⎥\n",
       "⎢                   ⎥\n",
       "⎣ 0.403401030062128 ⎦"
      ]
     },
     "metadata": {},
     "output_type": "display_data"
    },
    {
     "data": {
      "text/latex": [
       "$\\displaystyle \\left[\\begin{matrix}0.132876791947254\\\\0.159705297538244\\\\0.188273746167119\\\\-0.959891125390909\\end{matrix}\\right]$"
      ],
      "text/plain": [
       "⎡0.132876791947254 ⎤\n",
       "⎢                  ⎥\n",
       "⎢0.159705297538244 ⎥\n",
       "⎢                  ⎥\n",
       "⎢0.188273746167119 ⎥\n",
       "⎢                  ⎥\n",
       "⎣-0.959891125390909⎦"
      ]
     },
     "metadata": {},
     "output_type": "display_data"
    },
    {
     "data": {
      "text/latex": [
       "$\\displaystyle \\left[\\begin{matrix}-0.0806922985359258 + 0.0788730506986209 i\\\\0.279714704859089 - 0.17553879199284 i\\\\0.422325225639135 + 0.431653934705593 i\\\\-0.716610002486571\\end{matrix}\\right]$"
      ],
      "text/plain": [
       "⎡-0.0806922985359258 + 0.0788730506986209⋅ⅈ⎤\n",
       "⎢                                          ⎥\n",
       "⎢  0.279714704859089 - 0.17553879199284⋅ⅈ  ⎥\n",
       "⎢                                          ⎥\n",
       "⎢ 0.422325225639135 + 0.431653934705593⋅ⅈ  ⎥\n",
       "⎢                                          ⎥\n",
       "⎣            -0.716610002486571            ⎦"
      ]
     },
     "metadata": {},
     "output_type": "display_data"
    },
    {
     "name": "stdout",
     "output_type": "stream",
     "text": [
      "\n",
      "We can write A in the form:\n",
      "\n"
     ]
    },
    {
     "data": {
      "image/png": "[encoded data removed]",
      "text/latex": [
       "$\\displaystyle A = P D P^{-1}$"
      ],
      "text/plain": [
       "         -1\n",
       "A = P⋅D⋅P  "
      ]
     },
     "metadata": {},
     "output_type": "display_data"
    },
    {
     "name": "stdout",
     "output_type": "stream",
     "text": [
      "Where, D is the diagonal matrix containing eigenvalues:\n",
      "\n"
     ]
    },
    {
     "data": {
      "text/latex": [
       "$\\displaystyle D = \\left[\\begin{matrix}4.1774842122713 & 0 & 0 & 0\\\\0 & -4.82010831935692 & 0 & 0\\\\0 & 0 & -1.17868794645719 + 3.19870513679807 i & 0\\\\0 & 0 & 0 & -1.17868794645719 - 3.19870513679807 i\\end{matrix}\\right]$"
      ],
      "text/plain": [
       "    ⎡4.1774842122713          0                            0                  \n",
       "    ⎢                                                                         \n",
       "    ⎢       0         -4.82010831935692                    0                  \n",
       "D = ⎢                                                                         \n",
       "    ⎢       0                 0          -1.17868794645719 + 3.19870513679807⋅\n",
       "    ⎢                                                                         \n",
       "    ⎣       0                 0                            0                  \n",
       "\n",
       "                     0                   ⎤\n",
       "                                         ⎥\n",
       "                     0                   ⎥\n",
       "                                         ⎥\n",
       "ⅈ                    0                   ⎥\n",
       "                                         ⎥\n",
       "   -1.17868794645719 - 3.19870513679807⋅ⅈ⎦"
      ]
     },
     "metadata": {},
     "output_type": "display_data"
    },
    {
     "name": "stdout",
     "output_type": "stream",
     "text": [
      "And P is the matrix containing eigenvectors as columns:\n",
      "\n"
     ]
    },
    {
     "data": {
      "text/latex": [
       "$\\displaystyle P = \\left[\\begin{matrix}0.471839899339343 & 0.783851350073828 & -0.0145526397498781 & 0.403401030062128\\\\0.132876791947254 & 0.159705297538244 & 0.188273746167119 & -0.959891125390909\\\\-0.0806922985359258 + 0.0788730506986209 i & 0.279714704859089 - 0.17553879199284 i & 0.422325225639135 + 0.431653934705593 i & -0.716610002486571\\\\-0.0806922985359258 - 0.0788730506986209 i & 0.279714704859089 + 0.17553879199284 i & 0.422325225639135 - 0.431653934705593 i & -0.716610002486571\\end{matrix}\\right]$"
      ],
      "text/plain": [
       "    ⎡            0.471839899339343                         0.783851350073828  \n",
       "    ⎢                                                                         \n",
       "    ⎢            0.132876791947254                         0.159705297538244  \n",
       "P = ⎢                                                                         \n",
       "    ⎢-0.0806922985359258 + 0.0788730506986209⋅ⅈ  0.279714704859089 - 0.1755387\n",
       "    ⎢                                                                         \n",
       "    ⎣-0.0806922985359258 - 0.0788730506986209⋅ⅈ  0.279714704859089 + 0.1755387\n",
       "\n",
       "                     -0.0145526397498781            0.403401030062128 ⎤\n",
       "                                                                      ⎥\n",
       "                      0.188273746167119             -0.959891125390909⎥\n",
       "                                                                      ⎥\n",
       "9199284⋅ⅈ  0.422325225639135 + 0.431653934705593⋅ⅈ  -0.716610002486571⎥\n",
       "                                                                      ⎥\n",
       "9199284⋅ⅈ  0.422325225639135 - 0.431653934705593⋅ⅈ  -0.716610002486571⎦"
      ]
     },
     "metadata": {},
     "output_type": "display_data"
    }
   ],
   "source": [
    "a = np.array([[0,2,0,1],[2,2,3,2],[4,-3,0,1], [6,1,-6,-5]])\n",
    "b = [1,1,1,1]\n",
    "lsf = LinearSystemsFactory()\n",
    "lsf.get_linear_system(system_type='diagonalization').solve(a = a, b = b)"
   ]
  },
  {
   "cell_type": "markdown",
   "id": "dominant-charger",
   "metadata": {},
   "source": [
    "--------------------------------------------------------------------------------"
   ]
  },
  {
   "cell_type": "markdown",
   "id": "accessory-custom",
   "metadata": {},
   "source": [
    "# Gram_Schmidt_Orthonormalization"
   ]
  },
  {
   "cell_type": "code",
   "execution_count": 17,
   "id": "comic-tissue",
   "metadata": {},
   "outputs": [
    {
     "name": "stdout",
     "output_type": "stream",
     "text": [
      "Input vectors: \n"
     ]
    },
    {
     "data": {
      "text/latex": [
       "$\\displaystyle a_{1} = \\left[\\begin{matrix}0\\\\2\\\\0\\\\1\\end{matrix}\\right]$"
      ],
      "text/plain": [
       "     ⎡0⎤\n",
       "     ⎢ ⎥\n",
       "     ⎢2⎥\n",
       "a₁ = ⎢ ⎥\n",
       "     ⎢0⎥\n",
       "     ⎢ ⎥\n",
       "     ⎣1⎦"
      ]
     },
     "metadata": {},
     "output_type": "display_data"
    },
    {
     "data": {
      "text/latex": [
       "$\\displaystyle a_{2} = \\left[\\begin{matrix}2\\\\2\\\\3\\\\2\\end{matrix}\\right]$"
      ],
      "text/plain": [
       "     ⎡2⎤\n",
       "     ⎢ ⎥\n",
       "     ⎢2⎥\n",
       "a₂ = ⎢ ⎥\n",
       "     ⎢3⎥\n",
       "     ⎢ ⎥\n",
       "     ⎣2⎦"
      ]
     },
     "metadata": {},
     "output_type": "display_data"
    },
    {
     "data": {
      "text/latex": [
       "$\\displaystyle a_{3} = \\left[\\begin{matrix}4\\\\-3\\\\0\\\\1\\end{matrix}\\right]$"
      ],
      "text/plain": [
       "     ⎡4 ⎤\n",
       "     ⎢  ⎥\n",
       "     ⎢-3⎥\n",
       "a₃ = ⎢  ⎥\n",
       "     ⎢0 ⎥\n",
       "     ⎢  ⎥\n",
       "     ⎣1 ⎦"
      ]
     },
     "metadata": {},
     "output_type": "display_data"
    },
    {
     "data": {
      "text/latex": [
       "$\\displaystyle a_{4} = \\left[\\begin{matrix}6\\\\1\\\\-6\\\\-5\\end{matrix}\\right]$"
      ],
      "text/plain": [
       "     ⎡6 ⎤\n",
       "     ⎢  ⎥\n",
       "     ⎢1 ⎥\n",
       "a₄ = ⎢  ⎥\n",
       "     ⎢-6⎥\n",
       "     ⎢  ⎥\n",
       "     ⎣-5⎦"
      ]
     },
     "metadata": {},
     "output_type": "display_data"
    },
    {
     "name": "stdout",
     "output_type": "stream",
     "text": [
      "\n",
      "\n",
      "Initiating Gram Schmidt Orthonormalization to find Orthonornal vectors q\n",
      "\n",
      "\n"
     ]
    },
    {
     "data": {
      "image/png": "[encoded data removed]",
      "text/latex": [
       "$\\displaystyle q_{1} = a_{1}$"
      ],
      "text/plain": [
       "q₁ = a₁"
      ]
     },
     "metadata": {},
     "output_type": "display_data"
    },
    {
     "data": {
      "text/latex": [
       "$\\displaystyle q_{1} = \\left[\\begin{matrix}0\\\\2\\\\0\\\\1\\end{matrix}\\right]$"
      ],
      "text/plain": [
       "     ⎡0⎤\n",
       "     ⎢ ⎥\n",
       "     ⎢2⎥\n",
       "q₁ = ⎢ ⎥\n",
       "     ⎢0⎥\n",
       "     ⎢ ⎥\n",
       "     ⎣1⎦"
      ]
     },
     "metadata": {},
     "output_type": "display_data"
    },
    {
     "data": {
      "text/latex": [
       "$\\displaystyle q_{1} = \\left[\\begin{matrix}0\\\\2.0\\\\0\\\\1.0\\end{matrix}\\right]$"
      ],
      "text/plain": [
       "     ⎡ 0 ⎤\n",
       "     ⎢   ⎥\n",
       "     ⎢2.0⎥\n",
       "q₁ = ⎢   ⎥\n",
       "     ⎢ 0 ⎥\n",
       "     ⎢   ⎥\n",
       "     ⎣1.0⎦"
      ]
     },
     "metadata": {},
     "output_type": "display_data"
    },
    {
     "name": "stdout",
     "output_type": "stream",
     "text": [
      "Normalizing the vector\n"
     ]
    },
    {
     "data": {
      "text/latex": [
       "$\\displaystyle q_{1} = \\left[\\begin{matrix}0\\\\\\frac{2 \\sqrt{5}}{5}\\\\0\\\\\\frac{\\sqrt{5}}{5}\\end{matrix}\\right]$"
      ],
      "text/plain": [
       "     ⎡ 0  ⎤\n",
       "     ⎢    ⎥\n",
       "     ⎢2⋅√5⎥\n",
       "     ⎢────⎥\n",
       "     ⎢ 5  ⎥\n",
       "q₁ = ⎢    ⎥\n",
       "     ⎢ 0  ⎥\n",
       "     ⎢    ⎥\n",
       "     ⎢ √5 ⎥\n",
       "     ⎢ ── ⎥\n",
       "     ⎣ 5  ⎦"
      ]
     },
     "metadata": {},
     "output_type": "display_data"
    },
    {
     "data": {
      "text/latex": [
       "$\\displaystyle q_{1} = \\left[\\begin{matrix}0\\\\0.894427190999916\\\\0\\\\0.447213595499958\\end{matrix}\\right]$"
      ],
      "text/plain": [
       "     ⎡        0        ⎤\n",
       "     ⎢                 ⎥\n",
       "     ⎢0.894427190999916⎥\n",
       "q₁ = ⎢                 ⎥\n",
       "     ⎢        0        ⎥\n",
       "     ⎢                 ⎥\n",
       "     ⎣0.447213595499958⎦"
      ]
     },
     "metadata": {},
     "output_type": "display_data"
    },
    {
     "data": {
      "image/png": "[encoded data removed]",
      "text/latex": [
       "$\\displaystyle q_{2} = a_{2} - \\frac{q_{1} \\left\\langle a_{2} \\right. {\\left|q_{1}\\right\\rangle }}{\\left\\langle q_{1} \\right. {\\left|q_{1}\\right\\rangle }}$"
      ],
      "text/plain": [
       "          q₁⋅⟨a₂❘q₁⟩\n",
       "q₂ = a₂ - ──────────\n",
       "           ⟨q₁❘q₁⟩  "
      ]
     },
     "metadata": {},
     "output_type": "display_data"
    },
    {
     "data": {
      "text/latex": [
       "$\\displaystyle q_{2} = \\left[\\begin{matrix}2\\\\- \\frac{2}{5}\\\\3\\\\\\frac{4}{5}\\end{matrix}\\right]$"
      ],
      "text/plain": [
       "     ⎡ 2  ⎤\n",
       "     ⎢    ⎥\n",
       "     ⎢-2/5⎥\n",
       "q₂ = ⎢    ⎥\n",
       "     ⎢ 3  ⎥\n",
       "     ⎢    ⎥\n",
       "     ⎣4/5 ⎦"
      ]
     },
     "metadata": {},
     "output_type": "display_data"
    },
    {
     "data": {
      "text/latex": [
       "$\\displaystyle q_{2} = \\left[\\begin{matrix}2.0\\\\-0.4\\\\3.0\\\\0.8\\end{matrix}\\right]$"
      ],
      "text/plain": [
       "     ⎡2.0 ⎤\n",
       "     ⎢    ⎥\n",
       "     ⎢-0.4⎥\n",
       "q₂ = ⎢    ⎥\n",
       "     ⎢3.0 ⎥\n",
       "     ⎢    ⎥\n",
       "     ⎣0.8 ⎦"
      ]
     },
     "metadata": {},
     "output_type": "display_data"
    },
    {
     "name": "stdout",
     "output_type": "stream",
     "text": [
      "Normalizing the vector\n"
     ]
    },
    {
     "data": {
      "text/latex": [
       "$\\displaystyle q_{2} = \\left[\\begin{matrix}\\frac{2 \\sqrt{345}}{69}\\\\- \\frac{2 \\sqrt{345}}{345}\\\\\\frac{\\sqrt{345}}{23}\\\\\\frac{4 \\sqrt{345}}{345}\\end{matrix}\\right]$"
      ],
      "text/plain": [
       "     ⎡ 2⋅√345 ⎤\n",
       "     ⎢ ────── ⎥\n",
       "     ⎢   69   ⎥\n",
       "     ⎢        ⎥\n",
       "     ⎢-2⋅√345 ⎥\n",
       "     ⎢────────⎥\n",
       "     ⎢  345   ⎥\n",
       "q₂ = ⎢        ⎥\n",
       "     ⎢  √345  ⎥\n",
       "     ⎢  ────  ⎥\n",
       "     ⎢   23   ⎥\n",
       "     ⎢        ⎥\n",
       "     ⎢ 4⋅√345 ⎥\n",
       "     ⎢ ────── ⎥\n",
       "     ⎣  345   ⎦"
      ]
     },
     "metadata": {},
     "output_type": "display_data"
    },
    {
     "data": {
      "text/latex": [
       "$\\displaystyle q_{2} = \\left[\\begin{matrix}0.538381902058165\\\\-0.107676380411633\\\\0.807572853087248\\\\0.215352760823266\\end{matrix}\\right]$"
      ],
      "text/plain": [
       "     ⎡0.538381902058165 ⎤\n",
       "     ⎢                  ⎥\n",
       "     ⎢-0.107676380411633⎥\n",
       "q₂ = ⎢                  ⎥\n",
       "     ⎢0.807572853087248 ⎥\n",
       "     ⎢                  ⎥\n",
       "     ⎣0.215352760823266 ⎦"
      ]
     },
     "metadata": {},
     "output_type": "display_data"
    },
    {
     "data": {
      "image/png": "[encoded data removed]",
      "text/latex": [
       "$\\displaystyle q_{3} = a_{3} - \\frac{q_{1} \\left\\langle a_{3} \\right. {\\left|q_{1}\\right\\rangle }}{\\left\\langle q_{1} \\right. {\\left|q_{1}\\right\\rangle }} - \\frac{q_{2} \\left\\langle a_{3} \\right. {\\left|q_{2}\\right\\rangle }}{\\left\\langle q_{2} \\right. {\\left|q_{2}\\right\\rangle }}$"
      ],
      "text/plain": [
       "          q₁⋅⟨a₃❘q₁⟩   q₂⋅⟨a₃❘q₂⟩\n",
       "q₃ = a₃ - ────────── - ──────────\n",
       "           ⟨q₁❘q₁⟩      ⟨q₂❘q₂⟩  "
      ]
     },
     "metadata": {},
     "output_type": "display_data"
    },
    {
     "data": {
      "text/latex": [
       "$\\displaystyle q_{3} = \\left[\\begin{matrix}\\frac{176}{69}\\\\- \\frac{49}{69}\\\\- \\frac{50}{23}\\\\\\frac{98}{69}\\end{matrix}\\right]$"
      ],
      "text/plain": [
       "     ⎡176 ⎤\n",
       "     ⎢─── ⎥\n",
       "     ⎢ 69 ⎥\n",
       "     ⎢    ⎥\n",
       "     ⎢-49 ⎥\n",
       "     ⎢────⎥\n",
       "     ⎢ 69 ⎥\n",
       "q₃ = ⎢    ⎥\n",
       "     ⎢-50 ⎥\n",
       "     ⎢────⎥\n",
       "     ⎢ 23 ⎥\n",
       "     ⎢    ⎥\n",
       "     ⎢ 98 ⎥\n",
       "     ⎢ ── ⎥\n",
       "     ⎣ 69 ⎦"
      ]
     },
     "metadata": {},
     "output_type": "display_data"
    },
    {
     "data": {
      "text/latex": [
       "$\\displaystyle q_{3} = \\left[\\begin{matrix}2.55072463768116\\\\-0.710144927536231\\\\-2.17391304347826\\\\1.42028985507246\\end{matrix}\\right]$"
      ],
      "text/plain": [
       "     ⎡ 2.55072463768116 ⎤\n",
       "     ⎢                  ⎥\n",
       "     ⎢-0.710144927536231⎥\n",
       "q₃ = ⎢                  ⎥\n",
       "     ⎢-2.17391304347826 ⎥\n",
       "     ⎢                  ⎥\n",
       "     ⎣ 1.42028985507246 ⎦"
      ]
     },
     "metadata": {},
     "output_type": "display_data"
    },
    {
     "name": "stdout",
     "output_type": "stream",
     "text": [
      "Normalizing the vector\n"
     ]
    },
    {
     "data": {
      "text/latex": [
       "$\\displaystyle q_{3} = \\left[\\begin{matrix}\\frac{176 \\sqrt{65481}}{65481}\\\\- \\frac{49 \\sqrt{65481}}{65481}\\\\- \\frac{50 \\sqrt{65481}}{21827}\\\\\\frac{98 \\sqrt{65481}}{65481}\\end{matrix}\\right]$"
      ],
      "text/plain": [
       "     ⎡176⋅√65481 ⎤\n",
       "     ⎢────────── ⎥\n",
       "     ⎢  65481    ⎥\n",
       "     ⎢           ⎥\n",
       "     ⎢-49⋅√65481 ⎥\n",
       "     ⎢───────────⎥\n",
       "     ⎢   65481   ⎥\n",
       "q₃ = ⎢           ⎥\n",
       "     ⎢-50⋅√65481 ⎥\n",
       "     ⎢───────────⎥\n",
       "     ⎢   21827   ⎥\n",
       "     ⎢           ⎥\n",
       "     ⎢ 98⋅√65481 ⎥\n",
       "     ⎢ ───────── ⎥\n",
       "     ⎣   65481   ⎦"
      ]
     },
     "metadata": {},
     "output_type": "display_data"
    },
    {
     "data": {
      "text/latex": [
       "$\\displaystyle q_{3} = \\left[\\begin{matrix}0.687788668188414\\\\-0.191486617847911\\\\-0.586183524024216\\\\0.382973235695821\\end{matrix}\\right]$"
      ],
      "text/plain": [
       "     ⎡0.687788668188414 ⎤\n",
       "     ⎢                  ⎥\n",
       "     ⎢-0.191486617847911⎥\n",
       "q₃ = ⎢                  ⎥\n",
       "     ⎢-0.586183524024216⎥\n",
       "     ⎢                  ⎥\n",
       "     ⎣0.382973235695821 ⎦"
      ]
     },
     "metadata": {},
     "output_type": "display_data"
    },
    {
     "data": {
      "image/png": "[encoded data removed]",
      "text/latex": [
       "$\\displaystyle q_{4} = a_{4} - \\frac{q_{1} \\left\\langle a_{4} \\right. {\\left|q_{1}\\right\\rangle }}{\\left\\langle q_{1} \\right. {\\left|q_{1}\\right\\rangle }} - \\frac{q_{2} \\left\\langle a_{4} \\right. {\\left|q_{2}\\right\\rangle }}{\\left\\langle q_{2} \\right. {\\left|q_{2}\\right\\rangle }} - \\frac{q_{3} \\left\\langle a_{4} \\right. {\\left|q_{3}\\right\\rangle }}{\\left\\langle q_{3} \\right. {\\left|q_{3}\\right\\rangle }}$"
      ],
      "text/plain": [
       "          q₁⋅⟨a₄❘q₁⟩   q₂⋅⟨a₄❘q₂⟩   q₃⋅⟨a₄❘q₃⟩\n",
       "q₄ = a₄ - ────────── - ────────── - ──────────\n",
       "           ⟨q₁❘q₁⟩      ⟨q₂❘q₂⟩      ⟨q₃❘q₃⟩  "
      ]
     },
     "metadata": {},
     "output_type": "display_data"
    },
    {
     "data": {
      "text/latex": [
       "$\\displaystyle q_{4} = \\left[\\begin{matrix}\\frac{270}{73}\\\\\\frac{216}{73}\\\\- \\frac{36}{73}\\\\- \\frac{432}{73}\\end{matrix}\\right]$"
      ],
      "text/plain": [
       "     ⎡ 270 ⎤\n",
       "     ⎢ ─── ⎥\n",
       "     ⎢  73 ⎥\n",
       "     ⎢     ⎥\n",
       "     ⎢ 216 ⎥\n",
       "     ⎢ ─── ⎥\n",
       "     ⎢  73 ⎥\n",
       "q₄ = ⎢     ⎥\n",
       "     ⎢-36  ⎥\n",
       "     ⎢──── ⎥\n",
       "     ⎢ 73  ⎥\n",
       "     ⎢     ⎥\n",
       "     ⎢-432 ⎥\n",
       "     ⎢─────⎥\n",
       "     ⎣  73 ⎦"
      ]
     },
     "metadata": {},
     "output_type": "display_data"
    },
    {
     "data": {
      "text/latex": [
       "$\\displaystyle q_{4} = \\left[\\begin{matrix}3.6986301369863\\\\2.95890410958904\\\\-0.493150684931506\\\\-5.91780821917808\\end{matrix}\\right]$"
      ],
      "text/plain": [
       "     ⎡ 3.6986301369863  ⎤\n",
       "     ⎢                  ⎥\n",
       "     ⎢ 2.95890410958904 ⎥\n",
       "q₄ = ⎢                  ⎥\n",
       "     ⎢-0.493150684931506⎥\n",
       "     ⎢                  ⎥\n",
       "     ⎣-5.91780821917808 ⎦"
      ]
     },
     "metadata": {},
     "output_type": "display_data"
    },
    {
     "name": "stdout",
     "output_type": "stream",
     "text": [
      "Normalizing the vector\n"
     ]
    },
    {
     "data": {
      "text/latex": [
       "$\\displaystyle q_{4} = \\left[\\begin{matrix}\\frac{15 \\sqrt{949}}{949}\\\\\\frac{12 \\sqrt{949}}{949}\\\\- \\frac{2 \\sqrt{949}}{949}\\\\- \\frac{24 \\sqrt{949}}{949}\\end{matrix}\\right]$"
      ],
      "text/plain": [
       "     ⎡ 15⋅√949 ⎤\n",
       "     ⎢ ─────── ⎥\n",
       "     ⎢   949   ⎥\n",
       "     ⎢         ⎥\n",
       "     ⎢ 12⋅√949 ⎥\n",
       "     ⎢ ─────── ⎥\n",
       "     ⎢   949   ⎥\n",
       "q₄ = ⎢         ⎥\n",
       "     ⎢-2⋅√949  ⎥\n",
       "     ⎢──────── ⎥\n",
       "     ⎢  949    ⎥\n",
       "     ⎢         ⎥\n",
       "     ⎢-24⋅√949 ⎥\n",
       "     ⎢─────────⎥\n",
       "     ⎣   949   ⎦"
      ]
     },
     "metadata": {},
     "output_type": "display_data"
    },
    {
     "data": {
      "text/latex": [
       "$\\displaystyle q_{4} = \\left[\\begin{matrix}0.486920604870896\\\\0.389536483896717\\\\-0.0649227473161195\\\\-0.779072967793435\\end{matrix}\\right]$"
      ],
      "text/plain": [
       "     ⎡ 0.486920604870896 ⎤\n",
       "     ⎢                   ⎥\n",
       "     ⎢ 0.389536483896717 ⎥\n",
       "q₄ = ⎢                   ⎥\n",
       "     ⎢-0.0649227473161195⎥\n",
       "     ⎢                   ⎥\n",
       "     ⎣-0.779072967793435 ⎦"
      ]
     },
     "metadata": {},
     "output_type": "display_data"
    },
    {
     "name": "stdout",
     "output_type": "stream",
     "text": [
      "\n",
      "\n",
      "The orthonormal vectors are:\n",
      "\n"
     ]
    },
    {
     "data": {
      "text/latex": [
       "$\\displaystyle q_{1} = \\left[\\begin{matrix}0\\\\\\frac{2 \\sqrt{5}}{5}\\\\0\\\\\\frac{\\sqrt{5}}{5}\\end{matrix}\\right]$"
      ],
      "text/plain": [
       "     ⎡ 0  ⎤\n",
       "     ⎢    ⎥\n",
       "     ⎢2⋅√5⎥\n",
       "     ⎢────⎥\n",
       "     ⎢ 5  ⎥\n",
       "q₁ = ⎢    ⎥\n",
       "     ⎢ 0  ⎥\n",
       "     ⎢    ⎥\n",
       "     ⎢ √5 ⎥\n",
       "     ⎢ ── ⎥\n",
       "     ⎣ 5  ⎦"
      ]
     },
     "metadata": {},
     "output_type": "display_data"
    },
    {
     "data": {
      "text/latex": [
       "$\\displaystyle q_{2} = \\left[\\begin{matrix}\\frac{2 \\sqrt{345}}{69}\\\\- \\frac{2 \\sqrt{345}}{345}\\\\\\frac{\\sqrt{345}}{23}\\\\\\frac{4 \\sqrt{345}}{345}\\end{matrix}\\right]$"
      ],
      "text/plain": [
       "     ⎡ 2⋅√345 ⎤\n",
       "     ⎢ ────── ⎥\n",
       "     ⎢   69   ⎥\n",
       "     ⎢        ⎥\n",
       "     ⎢-2⋅√345 ⎥\n",
       "     ⎢────────⎥\n",
       "     ⎢  345   ⎥\n",
       "q₂ = ⎢        ⎥\n",
       "     ⎢  √345  ⎥\n",
       "     ⎢  ────  ⎥\n",
       "     ⎢   23   ⎥\n",
       "     ⎢        ⎥\n",
       "     ⎢ 4⋅√345 ⎥\n",
       "     ⎢ ────── ⎥\n",
       "     ⎣  345   ⎦"
      ]
     },
     "metadata": {},
     "output_type": "display_data"
    },
    {
     "data": {
      "text/latex": [
       "$\\displaystyle q_{3} = \\left[\\begin{matrix}\\frac{176 \\sqrt{65481}}{65481}\\\\- \\frac{49 \\sqrt{65481}}{65481}\\\\- \\frac{50 \\sqrt{65481}}{21827}\\\\\\frac{98 \\sqrt{65481}}{65481}\\end{matrix}\\right]$"
      ],
      "text/plain": [
       "     ⎡176⋅√65481 ⎤\n",
       "     ⎢────────── ⎥\n",
       "     ⎢  65481    ⎥\n",
       "     ⎢           ⎥\n",
       "     ⎢-49⋅√65481 ⎥\n",
       "     ⎢───────────⎥\n",
       "     ⎢   65481   ⎥\n",
       "q₃ = ⎢           ⎥\n",
       "     ⎢-50⋅√65481 ⎥\n",
       "     ⎢───────────⎥\n",
       "     ⎢   21827   ⎥\n",
       "     ⎢           ⎥\n",
       "     ⎢ 98⋅√65481 ⎥\n",
       "     ⎢ ───────── ⎥\n",
       "     ⎣   65481   ⎦"
      ]
     },
     "metadata": {},
     "output_type": "display_data"
    },
    {
     "data": {
      "text/latex": [
       "$\\displaystyle q_{4} = \\left[\\begin{matrix}\\frac{15 \\sqrt{949}}{949}\\\\\\frac{12 \\sqrt{949}}{949}\\\\- \\frac{2 \\sqrt{949}}{949}\\\\- \\frac{24 \\sqrt{949}}{949}\\end{matrix}\\right]$"
      ],
      "text/plain": [
       "     ⎡ 15⋅√949 ⎤\n",
       "     ⎢ ─────── ⎥\n",
       "     ⎢   949   ⎥\n",
       "     ⎢         ⎥\n",
       "     ⎢ 12⋅√949 ⎥\n",
       "     ⎢ ─────── ⎥\n",
       "     ⎢   949   ⎥\n",
       "q₄ = ⎢         ⎥\n",
       "     ⎢-2⋅√949  ⎥\n",
       "     ⎢──────── ⎥\n",
       "     ⎢  949    ⎥\n",
       "     ⎢         ⎥\n",
       "     ⎢-24⋅√949 ⎥\n",
       "     ⎢─────────⎥\n",
       "     ⎣   949   ⎦"
      ]
     },
     "metadata": {},
     "output_type": "display_data"
    },
    {
     "data": {
      "text/plain": [
       "(array([[ 0.        ,  0.89442719,  0.        ,  0.4472136 ],\n",
       "        [ 0.5383819 , -0.10767638,  0.80757285,  0.21535276],\n",
       "        [ 0.68778867, -0.19148662, -0.58618352,  0.38297324],\n",
       "        [ 0.4869206 ,  0.38953648, -0.06492275, -0.77907297]]),\n",
       " [Matrix([\n",
       "  [0],\n",
       "  [2],\n",
       "  [0],\n",
       "  [1]]),\n",
       "  Matrix([\n",
       "  [   2],\n",
       "  [-2/5],\n",
       "  [   3],\n",
       "  [ 4/5]]),\n",
       "  Matrix([\n",
       "  [176/69],\n",
       "  [-49/69],\n",
       "  [-50/23],\n",
       "  [ 98/69]]),\n",
       "  Matrix([\n",
       "  [ 270/73],\n",
       "  [ 216/73],\n",
       "  [ -36/73],\n",
       "  [-432/73]])],\n",
       " [Matrix([\n",
       "  [          0],\n",
       "  [2*sqrt(5)/5],\n",
       "  [          0],\n",
       "  [  sqrt(5)/5]]),\n",
       "  Matrix([\n",
       "  [  2*sqrt(345)/69],\n",
       "  [-2*sqrt(345)/345],\n",
       "  [    sqrt(345)/23],\n",
       "  [ 4*sqrt(345)/345]]),\n",
       "  Matrix([\n",
       "  [176*sqrt(65481)/65481],\n",
       "  [-49*sqrt(65481)/65481],\n",
       "  [-50*sqrt(65481)/21827],\n",
       "  [ 98*sqrt(65481)/65481]]),\n",
       "  Matrix([\n",
       "  [ 15*sqrt(949)/949],\n",
       "  [ 12*sqrt(949)/949],\n",
       "  [ -2*sqrt(949)/949],\n",
       "  [-24*sqrt(949)/949]])])"
      ]
     },
     "execution_count": 17,
     "metadata": {},
     "output_type": "execute_result"
    }
   ],
   "source": [
    "#gram_schmidt_orthonormalization\n",
    "a = np.array([[0,2,0,1],[2,2,3,2],[4,-3,0,1], [6,1,-6,-5]])\n",
    "b = [1,1,1,1]\n",
    "lsf = LinearSystemsFactory()\n",
    "lsf.get_linear_system(system_type='gram_schmidt_orthonormalization').solve(a = a, b = b)"
   ]
  },
  {
   "cell_type": "markdown",
   "id": "induced-ranch",
   "metadata": {},
   "source": [
    "-----------------------------------------------------------------------------"
   ]
  },
  {
   "cell_type": "markdown",
   "id": "sorted-complex",
   "metadata": {},
   "source": [
    "#  QRFactorization"
   ]
  },
  {
   "cell_type": "code",
   "execution_count": 18,
   "id": "completed-mambo",
   "metadata": {},
   "outputs": [
    {
     "name": "stdout",
     "output_type": "stream",
     "text": [
      "Input Matrix:\n"
     ]
    },
    {
     "data": {
      "text/latex": [
       "$\\displaystyle A = \\left[\\begin{matrix}1 & 0 & 0\\\\1 & 1 & 0\\\\1 & 1 & 1\\\\1 & 1 & 1\\end{matrix}\\right]$"
      ],
      "text/plain": [
       "    ⎡1  0  0⎤\n",
       "    ⎢       ⎥\n",
       "    ⎢1  1  0⎥\n",
       "A = ⎢       ⎥\n",
       "    ⎢1  1  1⎥\n",
       "    ⎢       ⎥\n",
       "    ⎣1  1  1⎦"
      ]
     },
     "metadata": {},
     "output_type": "display_data"
    },
    {
     "name": "stdout",
     "output_type": "stream",
     "text": [
      "\n",
      "To find QR factorization of A we need to find\n",
      "\n"
     ]
    },
    {
     "data": {
      "image/png": "[encoded data removed]",
      "text/latex": [
       "$\\displaystyle A = Q R$"
      ],
      "text/plain": [
       "A = Q⋅R"
      ]
     },
     "metadata": {},
     "output_type": "display_data"
    },
    {
     "name": "stdout",
     "output_type": "stream",
     "text": [
      "\n",
      "Where Q is the matrix having orthonormal column vectors found by applying Gram Schmidt Orthonormalization to the columns of A \n",
      "\n",
      "Step-1: Find Q using Gram Schmidt Orthonormalization\n",
      "\n",
      "Input vectors: \n"
     ]
    },
    {
     "data": {
      "text/latex": [
       "$\\displaystyle a_{1} = \\left[\\begin{matrix}1\\\\1\\\\1\\\\1\\end{matrix}\\right]$"
      ],
      "text/plain": [
       "     ⎡1⎤\n",
       "     ⎢ ⎥\n",
       "     ⎢1⎥\n",
       "a₁ = ⎢ ⎥\n",
       "     ⎢1⎥\n",
       "     ⎢ ⎥\n",
       "     ⎣1⎦"
      ]
     },
     "metadata": {},
     "output_type": "display_data"
    },
    {
     "data": {
      "text/latex": [
       "$\\displaystyle a_{2} = \\left[\\begin{matrix}0\\\\1\\\\1\\\\1\\end{matrix}\\right]$"
      ],
      "text/plain": [
       "     ⎡0⎤\n",
       "     ⎢ ⎥\n",
       "     ⎢1⎥\n",
       "a₂ = ⎢ ⎥\n",
       "     ⎢1⎥\n",
       "     ⎢ ⎥\n",
       "     ⎣1⎦"
      ]
     },
     "metadata": {},
     "output_type": "display_data"
    },
    {
     "data": {
      "text/latex": [
       "$\\displaystyle a_{3} = \\left[\\begin{matrix}0\\\\0\\\\1\\\\1\\end{matrix}\\right]$"
      ],
      "text/plain": [
       "     ⎡0⎤\n",
       "     ⎢ ⎥\n",
       "     ⎢0⎥\n",
       "a₃ = ⎢ ⎥\n",
       "     ⎢1⎥\n",
       "     ⎢ ⎥\n",
       "     ⎣1⎦"
      ]
     },
     "metadata": {},
     "output_type": "display_data"
    },
    {
     "name": "stdout",
     "output_type": "stream",
     "text": [
      "\n",
      "\n",
      "Initiating Gram Schmidt Orthonormalization to find Orthonornal vectors q\n",
      "\n",
      "\n"
     ]
    },
    {
     "data": {
      "image/png": "[encoded data removed]",
      "text/latex": [
       "$\\displaystyle q_{1} = a_{1}$"
      ],
      "text/plain": [
       "q₁ = a₁"
      ]
     },
     "metadata": {},
     "output_type": "display_data"
    },
    {
     "data": {
      "text/latex": [
       "$\\displaystyle q_{1} = \\left[\\begin{matrix}1\\\\1\\\\1\\\\1\\end{matrix}\\right]$"
      ],
      "text/plain": [
       "     ⎡1⎤\n",
       "     ⎢ ⎥\n",
       "     ⎢1⎥\n",
       "q₁ = ⎢ ⎥\n",
       "     ⎢1⎥\n",
       "     ⎢ ⎥\n",
       "     ⎣1⎦"
      ]
     },
     "metadata": {},
     "output_type": "display_data"
    },
    {
     "data": {
      "text/latex": [
       "$\\displaystyle q_{1} = \\left[\\begin{matrix}1.0\\\\1.0\\\\1.0\\\\1.0\\end{matrix}\\right]$"
      ],
      "text/plain": [
       "     ⎡1.0⎤\n",
       "     ⎢   ⎥\n",
       "     ⎢1.0⎥\n",
       "q₁ = ⎢   ⎥\n",
       "     ⎢1.0⎥\n",
       "     ⎢   ⎥\n",
       "     ⎣1.0⎦"
      ]
     },
     "metadata": {},
     "output_type": "display_data"
    },
    {
     "name": "stdout",
     "output_type": "stream",
     "text": [
      "Normalizing the vector\n"
     ]
    },
    {
     "data": {
      "text/latex": [
       "$\\displaystyle q_{1} = \\left[\\begin{matrix}\\frac{1}{2}\\\\\\frac{1}{2}\\\\\\frac{1}{2}\\\\\\frac{1}{2}\\end{matrix}\\right]$"
      ],
      "text/plain": [
       "     ⎡1/2⎤\n",
       "     ⎢   ⎥\n",
       "     ⎢1/2⎥\n",
       "q₁ = ⎢   ⎥\n",
       "     ⎢1/2⎥\n",
       "     ⎢   ⎥\n",
       "     ⎣1/2⎦"
      ]
     },
     "metadata": {},
     "output_type": "display_data"
    },
    {
     "data": {
      "text/latex": [
       "$\\displaystyle q_{1} = \\left[\\begin{matrix}0.5\\\\0.5\\\\0.5\\\\0.5\\end{matrix}\\right]$"
      ],
      "text/plain": [
       "     ⎡0.5⎤\n",
       "     ⎢   ⎥\n",
       "     ⎢0.5⎥\n",
       "q₁ = ⎢   ⎥\n",
       "     ⎢0.5⎥\n",
       "     ⎢   ⎥\n",
       "     ⎣0.5⎦"
      ]
     },
     "metadata": {},
     "output_type": "display_data"
    },
    {
     "data": {
      "image/png": "[encoded data removed]",
      "text/latex": [
       "$\\displaystyle q_{2} = a_{2} - \\frac{q_{1} \\left\\langle a_{2} \\right. {\\left|q_{1}\\right\\rangle }}{\\left\\langle q_{1} \\right. {\\left|q_{1}\\right\\rangle }}$"
      ],
      "text/plain": [
       "          q₁⋅⟨a₂❘q₁⟩\n",
       "q₂ = a₂ - ──────────\n",
       "           ⟨q₁❘q₁⟩  "
      ]
     },
     "metadata": {},
     "output_type": "display_data"
    },
    {
     "data": {
      "text/latex": [
       "$\\displaystyle q_{2} = \\left[\\begin{matrix}- \\frac{3}{4}\\\\\\frac{1}{4}\\\\\\frac{1}{4}\\\\\\frac{1}{4}\\end{matrix}\\right]$"
      ],
      "text/plain": [
       "     ⎡-3/4⎤\n",
       "     ⎢    ⎥\n",
       "     ⎢1/4 ⎥\n",
       "q₂ = ⎢    ⎥\n",
       "     ⎢1/4 ⎥\n",
       "     ⎢    ⎥\n",
       "     ⎣1/4 ⎦"
      ]
     },
     "metadata": {},
     "output_type": "display_data"
    },
    {
     "data": {
      "text/latex": [
       "$\\displaystyle q_{2} = \\left[\\begin{matrix}-0.75\\\\0.25\\\\0.25\\\\0.25\\end{matrix}\\right]$"
      ],
      "text/plain": [
       "     ⎡-0.75⎤\n",
       "     ⎢     ⎥\n",
       "     ⎢0.25 ⎥\n",
       "q₂ = ⎢     ⎥\n",
       "     ⎢0.25 ⎥\n",
       "     ⎢     ⎥\n",
       "     ⎣0.25 ⎦"
      ]
     },
     "metadata": {},
     "output_type": "display_data"
    },
    {
     "name": "stdout",
     "output_type": "stream",
     "text": [
      "Normalizing the vector\n"
     ]
    },
    {
     "data": {
      "text/latex": [
       "$\\displaystyle q_{2} = \\left[\\begin{matrix}- \\frac{\\sqrt{3}}{2}\\\\\\frac{\\sqrt{3}}{6}\\\\\\frac{\\sqrt{3}}{6}\\\\\\frac{\\sqrt{3}}{6}\\end{matrix}\\right]$"
      ],
      "text/plain": [
       "     ⎡-√3 ⎤\n",
       "     ⎢────⎥\n",
       "     ⎢ 2  ⎥\n",
       "     ⎢    ⎥\n",
       "     ⎢ √3 ⎥\n",
       "     ⎢ ── ⎥\n",
       "     ⎢ 6  ⎥\n",
       "q₂ = ⎢    ⎥\n",
       "     ⎢ √3 ⎥\n",
       "     ⎢ ── ⎥\n",
       "     ⎢ 6  ⎥\n",
       "     ⎢    ⎥\n",
       "     ⎢ √3 ⎥\n",
       "     ⎢ ── ⎥\n",
       "     ⎣ 6  ⎦"
      ]
     },
     "metadata": {},
     "output_type": "display_data"
    },
    {
     "data": {
      "text/latex": [
       "$\\displaystyle q_{2} = \\left[\\begin{matrix}-0.866025403784439\\\\0.288675134594813\\\\0.288675134594813\\\\0.288675134594813\\end{matrix}\\right]$"
      ],
      "text/plain": [
       "     ⎡-0.866025403784439⎤\n",
       "     ⎢                  ⎥\n",
       "     ⎢0.288675134594813 ⎥\n",
       "q₂ = ⎢                  ⎥\n",
       "     ⎢0.288675134594813 ⎥\n",
       "     ⎢                  ⎥\n",
       "     ⎣0.288675134594813 ⎦"
      ]
     },
     "metadata": {},
     "output_type": "display_data"
    },
    {
     "data": {
      "image/png": "[encoded data removed]",
      "text/latex": [
       "$\\displaystyle q_{3} = a_{3} - \\frac{q_{1} \\left\\langle a_{3} \\right. {\\left|q_{1}\\right\\rangle }}{\\left\\langle q_{1} \\right. {\\left|q_{1}\\right\\rangle }} - \\frac{q_{2} \\left\\langle a_{3} \\right. {\\left|q_{2}\\right\\rangle }}{\\left\\langle q_{2} \\right. {\\left|q_{2}\\right\\rangle }}$"
      ],
      "text/plain": [
       "          q₁⋅⟨a₃❘q₁⟩   q₂⋅⟨a₃❘q₂⟩\n",
       "q₃ = a₃ - ────────── - ──────────\n",
       "           ⟨q₁❘q₁⟩      ⟨q₂❘q₂⟩  "
      ]
     },
     "metadata": {},
     "output_type": "display_data"
    },
    {
     "data": {
      "text/latex": [
       "$\\displaystyle q_{3} = \\left[\\begin{matrix}0\\\\- \\frac{2}{3}\\\\\\frac{1}{3}\\\\\\frac{1}{3}\\end{matrix}\\right]$"
      ],
      "text/plain": [
       "     ⎡ 0  ⎤\n",
       "     ⎢    ⎥\n",
       "     ⎢-2/3⎥\n",
       "q₃ = ⎢    ⎥\n",
       "     ⎢1/3 ⎥\n",
       "     ⎢    ⎥\n",
       "     ⎣1/3 ⎦"
      ]
     },
     "metadata": {},
     "output_type": "display_data"
    },
    {
     "data": {
      "text/latex": [
       "$\\displaystyle q_{3} = \\left[\\begin{matrix}0\\\\-0.666666666666667\\\\0.333333333333333\\\\0.333333333333333\\end{matrix}\\right]$"
      ],
      "text/plain": [
       "     ⎡        0         ⎤\n",
       "     ⎢                  ⎥\n",
       "     ⎢-0.666666666666667⎥\n",
       "q₃ = ⎢                  ⎥\n",
       "     ⎢0.333333333333333 ⎥\n",
       "     ⎢                  ⎥\n",
       "     ⎣0.333333333333333 ⎦"
      ]
     },
     "metadata": {},
     "output_type": "display_data"
    },
    {
     "name": "stdout",
     "output_type": "stream",
     "text": [
      "Normalizing the vector\n"
     ]
    },
    {
     "data": {
      "text/latex": [
       "$\\displaystyle q_{3} = \\left[\\begin{matrix}0\\\\- \\frac{\\sqrt{6}}{3}\\\\\\frac{\\sqrt{6}}{6}\\\\\\frac{\\sqrt{6}}{6}\\end{matrix}\\right]$"
      ],
      "text/plain": [
       "     ⎡ 0  ⎤\n",
       "     ⎢    ⎥\n",
       "     ⎢-√6 ⎥\n",
       "     ⎢────⎥\n",
       "     ⎢ 3  ⎥\n",
       "     ⎢    ⎥\n",
       "q₃ = ⎢ √6 ⎥\n",
       "     ⎢ ── ⎥\n",
       "     ⎢ 6  ⎥\n",
       "     ⎢    ⎥\n",
       "     ⎢ √6 ⎥\n",
       "     ⎢ ── ⎥\n",
       "     ⎣ 6  ⎦"
      ]
     },
     "metadata": {},
     "output_type": "display_data"
    },
    {
     "data": {
      "text/latex": [
       "$\\displaystyle q_{3} = \\left[\\begin{matrix}0\\\\-0.816496580927726\\\\0.408248290463863\\\\0.408248290463863\\end{matrix}\\right]$"
      ],
      "text/plain": [
       "     ⎡        0         ⎤\n",
       "     ⎢                  ⎥\n",
       "     ⎢-0.816496580927726⎥\n",
       "q₃ = ⎢                  ⎥\n",
       "     ⎢0.408248290463863 ⎥\n",
       "     ⎢                  ⎥\n",
       "     ⎣0.408248290463863 ⎦"
      ]
     },
     "metadata": {},
     "output_type": "display_data"
    },
    {
     "name": "stdout",
     "output_type": "stream",
     "text": [
      "\n",
      "\n",
      "The orthonormal vectors are:\n",
      "\n"
     ]
    },
    {
     "data": {
      "text/latex": [
       "$\\displaystyle q_{1} = \\left[\\begin{matrix}\\frac{1}{2}\\\\\\frac{1}{2}\\\\\\frac{1}{2}\\\\\\frac{1}{2}\\end{matrix}\\right]$"
      ],
      "text/plain": [
       "     ⎡1/2⎤\n",
       "     ⎢   ⎥\n",
       "     ⎢1/2⎥\n",
       "q₁ = ⎢   ⎥\n",
       "     ⎢1/2⎥\n",
       "     ⎢   ⎥\n",
       "     ⎣1/2⎦"
      ]
     },
     "metadata": {},
     "output_type": "display_data"
    },
    {
     "data": {
      "text/latex": [
       "$\\displaystyle q_{2} = \\left[\\begin{matrix}- \\frac{\\sqrt{3}}{2}\\\\\\frac{\\sqrt{3}}{6}\\\\\\frac{\\sqrt{3}}{6}\\\\\\frac{\\sqrt{3}}{6}\\end{matrix}\\right]$"
      ],
      "text/plain": [
       "     ⎡-√3 ⎤\n",
       "     ⎢────⎥\n",
       "     ⎢ 2  ⎥\n",
       "     ⎢    ⎥\n",
       "     ⎢ √3 ⎥\n",
       "     ⎢ ── ⎥\n",
       "     ⎢ 6  ⎥\n",
       "q₂ = ⎢    ⎥\n",
       "     ⎢ √3 ⎥\n",
       "     ⎢ ── ⎥\n",
       "     ⎢ 6  ⎥\n",
       "     ⎢    ⎥\n",
       "     ⎢ √3 ⎥\n",
       "     ⎢ ── ⎥\n",
       "     ⎣ 6  ⎦"
      ]
     },
     "metadata": {},
     "output_type": "display_data"
    },
    {
     "data": {
      "text/latex": [
       "$\\displaystyle q_{3} = \\left[\\begin{matrix}0\\\\- \\frac{\\sqrt{6}}{3}\\\\\\frac{\\sqrt{6}}{6}\\\\\\frac{\\sqrt{6}}{6}\\end{matrix}\\right]$"
      ],
      "text/plain": [
       "     ⎡ 0  ⎤\n",
       "     ⎢    ⎥\n",
       "     ⎢-√6 ⎥\n",
       "     ⎢────⎥\n",
       "     ⎢ 3  ⎥\n",
       "     ⎢    ⎥\n",
       "q₃ = ⎢ √6 ⎥\n",
       "     ⎢ ── ⎥\n",
       "     ⎢ 6  ⎥\n",
       "     ⎢    ⎥\n",
       "     ⎢ √6 ⎥\n",
       "     ⎢ ── ⎥\n",
       "     ⎣ 6  ⎦"
      ]
     },
     "metadata": {},
     "output_type": "display_data"
    },
    {
     "data": {
      "text/latex": [
       "$\\displaystyle Q = \\left[\\begin{matrix}\\frac{1}{2} & - \\frac{\\sqrt{3}}{2} & 0\\\\\\frac{1}{2} & \\frac{\\sqrt{3}}{6} & - \\frac{\\sqrt{6}}{3}\\\\\\frac{1}{2} & \\frac{\\sqrt{3}}{6} & \\frac{\\sqrt{6}}{6}\\\\\\frac{1}{2} & \\frac{\\sqrt{3}}{6} & \\frac{\\sqrt{6}}{6}\\end{matrix}\\right]$"
      ],
      "text/plain": [
       "    ⎡     -√3       ⎤\n",
       "    ⎢1/2  ────   0  ⎥\n",
       "    ⎢      2        ⎥\n",
       "    ⎢               ⎥\n",
       "    ⎢      √3   -√6 ⎥\n",
       "    ⎢1/2   ──   ────⎥\n",
       "    ⎢      6     3  ⎥\n",
       "Q = ⎢               ⎥\n",
       "    ⎢      √3    √6 ⎥\n",
       "    ⎢1/2   ──    ── ⎥\n",
       "    ⎢      6     6  ⎥\n",
       "    ⎢               ⎥\n",
       "    ⎢      √3    √6 ⎥\n",
       "    ⎢1/2   ──    ── ⎥\n",
       "    ⎣      6     6  ⎦"
      ]
     },
     "metadata": {},
     "output_type": "display_data"
    },
    {
     "name": "stdout",
     "output_type": "stream",
     "text": [
      "\n",
      "Step-1: Use Q to get R\n",
      "\n"
     ]
    },
    {
     "data": {
      "image/png": "[encoded data removed]",
      "text/latex": [
       "$\\displaystyle A = Q R$"
      ],
      "text/plain": [
       "A = Q⋅R"
      ]
     },
     "metadata": {},
     "output_type": "display_data"
    },
    {
     "data": {
      "image/png": "[encoded data removed]",
      "text/latex": [
       "$\\displaystyle Q^{T} A = Q^{T} Q R$"
      ],
      "text/plain": [
       " T      T    \n",
       "Q ⋅A = Q ⋅Q⋅R"
      ]
     },
     "metadata": {},
     "output_type": "display_data"
    },
    {
     "data": {
      "image/png": "[encoded data removed]",
      "text/latex": [
       "$\\displaystyle Q^{T} A = I R$"
      ],
      "text/plain": [
       " T        \n",
       "Q ⋅A = I⋅R"
      ]
     },
     "metadata": {},
     "output_type": "display_data"
    },
    {
     "data": {
      "image/png": "[encoded data removed]",
      "text/latex": [
       "$\\displaystyle R = Q^{T} A$"
      ],
      "text/plain": [
       "     T  \n",
       "R = Q ⋅A"
      ]
     },
     "metadata": {},
     "output_type": "display_data"
    },
    {
     "data": {
      "text/latex": [
       "$\\displaystyle R = \\left[\\begin{matrix}\\frac{1}{2} & - \\frac{\\sqrt{3}}{2} & 0\\\\\\frac{1}{2} & \\frac{\\sqrt{3}}{6} & - \\frac{\\sqrt{6}}{3}\\\\\\frac{1}{2} & \\frac{\\sqrt{3}}{6} & \\frac{\\sqrt{6}}{6}\\\\\\frac{1}{2} & \\frac{\\sqrt{3}}{6} & \\frac{\\sqrt{6}}{6}\\end{matrix}\\right]^{T} \\left[\\begin{matrix}1 & 0 & 0\\\\1 & 1 & 0\\\\1 & 1 & 1\\\\1 & 1 & 1\\end{matrix}\\right]$"
      ],
      "text/plain": [
       "                     T          \n",
       "    ⎡     -√3       ⎤           \n",
       "    ⎢1/2  ────   0  ⎥           \n",
       "    ⎢      2        ⎥           \n",
       "    ⎢               ⎥           \n",
       "    ⎢      √3   -√6 ⎥  ⎡1  0  0⎤\n",
       "    ⎢1/2   ──   ────⎥  ⎢       ⎥\n",
       "    ⎢      6     3  ⎥  ⎢1  1  0⎥\n",
       "R = ⎢               ⎥ ⋅⎢       ⎥\n",
       "    ⎢      √3    √6 ⎥  ⎢1  1  1⎥\n",
       "    ⎢1/2   ──    ── ⎥  ⎢       ⎥\n",
       "    ⎢      6     6  ⎥  ⎣1  1  1⎦\n",
       "    ⎢               ⎥           \n",
       "    ⎢      √3    √6 ⎥           \n",
       "    ⎢1/2   ──    ── ⎥           \n",
       "    ⎣      6     6  ⎦           "
      ]
     },
     "metadata": {},
     "output_type": "display_data"
    },
    {
     "data": {
      "text/latex": [
       "$\\displaystyle R = \\left[\\begin{matrix}2 & \\frac{3}{2} & 1\\\\0 & \\frac{\\sqrt{3}}{2} & \\frac{\\sqrt{3}}{3}\\\\0 & 0 & \\frac{\\sqrt{6}}{3}\\end{matrix}\\right]$"
      ],
      "text/plain": [
       "    ⎡2  3/2  1 ⎤\n",
       "    ⎢          ⎥\n",
       "    ⎢   √3   √3⎥\n",
       "    ⎢0  ──   ──⎥\n",
       "R = ⎢   2    3 ⎥\n",
       "    ⎢          ⎥\n",
       "    ⎢        √6⎥\n",
       "    ⎢0   0   ──⎥\n",
       "    ⎣        3 ⎦"
      ]
     },
     "metadata": {},
     "output_type": "display_data"
    }
   ],
   "source": [
    "#QRFactorization\n",
    "A = np.array([[1,0,0],[1,1,0],[1,1,1],[1,1,1]])\n",
    "lsf = LinearSystemsFactory()\n",
    "lsf.get_linear_system(system_type='qr_factorization').solve(a=A)"
   ]
  },
  {
   "cell_type": "markdown",
   "id": "fluid-underwear",
   "metadata": {},
   "source": [
    "------------------------------------------"
   ]
  },
  {
   "cell_type": "markdown",
   "id": "fabulous-midwest",
   "metadata": {},
   "source": [
    "# LU_Crout"
   ]
  },
  {
   "cell_type": "code",
   "execution_count": 19,
   "id": "sustainable-assignment",
   "metadata": {},
   "outputs": [
    {
     "name": "stdout",
     "output_type": "stream",
     "text": [
      "Starting Dolittle method for LU decomposition\n",
      "Input Matrix A:\n",
      "\n"
     ]
    },
    {
     "data": {
      "text/latex": [
       "$\\displaystyle \\left[\\begin{matrix}2 & 4 & -6\\\\1 & 5 & 3\\\\1 & 3 & 2\\end{matrix}\\right]$"
      ],
      "text/plain": [
       "⎡2  4  -6⎤\n",
       "⎢        ⎥\n",
       "⎢1  5  3 ⎥\n",
       "⎢        ⎥\n",
       "⎣1  3  2 ⎦"
      ]
     },
     "metadata": {},
     "output_type": "display_data"
    },
    {
     "name": "stdout",
     "output_type": "stream",
     "text": [
      "\n",
      "A = LU, where\n",
      "\n"
     ]
    },
    {
     "data": {
      "text/latex": [
       "$\\displaystyle L = \\left[\\begin{matrix}l_{0, 0} & 0 & 0\\\\l_{1, 0} & l_{1, 1} & 0\\\\l_{2, 0} & l_{2, 1} & l_{2, 2}\\end{matrix}\\right]$"
      ],
      "text/plain": [
       "    ⎡l₀₀   0    0 ⎤\n",
       "    ⎢             ⎥\n",
       "L = ⎢l₁₀  l₁₁   0 ⎥\n",
       "    ⎢             ⎥\n",
       "    ⎣l₂₀  l₂₁  l₂₂⎦"
      ]
     },
     "metadata": {},
     "output_type": "display_data"
    },
    {
     "name": "stdout",
     "output_type": "stream",
     "text": [
      "\n",
      "and\n",
      "\n"
     ]
    },
    {
     "data": {
      "text/latex": [
       "$\\displaystyle U = \\left[\\begin{matrix}1 & u_{0, 1} & u_{0, 2}\\\\0 & 1 & u_{1, 2}\\\\0 & 0 & 1\\end{matrix}\\right]$"
      ],
      "text/plain": [
       "    ⎡1  u₀₁  u₀₂⎤\n",
       "    ⎢           ⎥\n",
       "U = ⎢0   1   u₁₂⎥\n",
       "    ⎢           ⎥\n",
       "    ⎣0   0    1 ⎦"
      ]
     },
     "metadata": {},
     "output_type": "display_data"
    },
    {
     "data": {
      "text/latex": [
       "$\\displaystyle L U = \\left[\\begin{matrix}l_{0, 0} & 0 & 0\\\\l_{1, 0} & l_{1, 1} & 0\\\\l_{2, 0} & l_{2, 1} & l_{2, 2}\\end{matrix}\\right] \\left[\\begin{matrix}1 & u_{0, 1} & u_{0, 2}\\\\0 & 1 & u_{1, 2}\\\\0 & 0 & 1\\end{matrix}\\right]$"
      ],
      "text/plain": [
       "      ⎡l₀₀   0    0 ⎤ ⎡1  u₀₁  u₀₂⎤\n",
       "      ⎢             ⎥ ⎢           ⎥\n",
       "L⋅U = ⎢l₁₀  l₁₁   0 ⎥⋅⎢0   1   u₁₂⎥\n",
       "      ⎢             ⎥ ⎢           ⎥\n",
       "      ⎣l₂₀  l₂₁  l₂₂⎦ ⎣0   0    1 ⎦"
      ]
     },
     "metadata": {},
     "output_type": "display_data"
    },
    {
     "name": "stdout",
     "output_type": "stream",
     "text": [
      "\n"
     ]
    },
    {
     "data": {
      "text/latex": [
       "$\\displaystyle L U = \\left[\\begin{matrix}l_{0, 0} & l_{0, 0} u_{0, 1} & l_{0, 0} u_{0, 2}\\\\l_{1, 0} & l_{1, 0} u_{0, 1} + l_{1, 1} & l_{1, 0} u_{0, 2} + l_{1, 1} u_{1, 2}\\\\l_{2, 0} & l_{2, 0} u_{0, 1} + l_{2, 1} & l_{2, 0} u_{0, 2} + l_{2, 1} u_{1, 2} + l_{2, 2}\\end{matrix}\\right]$"
      ],
      "text/plain": [
       "      ⎡l₀₀     l₀₀⋅u₀₁             l₀₀⋅u₀₂        ⎤\n",
       "      ⎢                                           ⎥\n",
       "L⋅U = ⎢l₁₀  l₁₀⋅u₀₁ + l₁₁     l₁₀⋅u₀₂ + l₁₁⋅u₁₂   ⎥\n",
       "      ⎢                                           ⎥\n",
       "      ⎣l₂₀  l₂₀⋅u₀₁ + l₂₁  l₂₀⋅u₀₂ + l₂₁⋅u₁₂ + l₂₂⎦"
      ]
     },
     "metadata": {},
     "output_type": "display_data"
    },
    {
     "name": "stdout",
     "output_type": "stream",
     "text": [
      "\n",
      "On equating this with A, we get\n"
     ]
    },
    {
     "data": {
      "text/latex": [
       "$\\displaystyle \\left[\\begin{matrix}2 & 4 & -6\\\\1 & 5 & 3\\\\1 & 3 & 2\\end{matrix}\\right] = \\left[\\begin{matrix}l_{0, 0} & l_{0, 0} u_{0, 1} & l_{0, 0} u_{0, 2}\\\\l_{1, 0} & l_{1, 0} u_{0, 1} + l_{1, 1} & l_{1, 0} u_{0, 2} + l_{1, 1} u_{1, 2}\\\\l_{2, 0} & l_{2, 0} u_{0, 1} + l_{2, 1} & l_{2, 0} u_{0, 2} + l_{2, 1} u_{1, 2} + l_{2, 2}\\end{matrix}\\right]$"
      ],
      "text/plain": [
       "⎡2  4  -6⎤   ⎡l₀₀     l₀₀⋅u₀₁             l₀₀⋅u₀₂        ⎤\n",
       "⎢        ⎥   ⎢                                           ⎥\n",
       "⎢1  5  3 ⎥ = ⎢l₁₀  l₁₀⋅u₀₁ + l₁₁     l₁₀⋅u₀₂ + l₁₁⋅u₁₂   ⎥\n",
       "⎢        ⎥   ⎢                                           ⎥\n",
       "⎣1  3  2 ⎦   ⎣l₂₀  l₂₀⋅u₀₁ + l₂₁  l₂₀⋅u₀₂ + l₂₁⋅u₁₂ + l₂₂⎦"
      ]
     },
     "metadata": {},
     "output_type": "display_data"
    },
    {
     "data": {
      "image/png": "[encoded data removed]",
      "text/latex": [
       "$\\displaystyle l_{0, 0} = 2$"
      ],
      "text/plain": [
       "l₀₀ = 2"
      ]
     },
     "metadata": {},
     "output_type": "display_data"
    },
    {
     "data": {
      "image/png": "[encoded data removed]",
      "text/latex": [
       "$\\displaystyle l_{0, 0} u_{0, 1} = 4$"
      ],
      "text/plain": [
       "l₀₀⋅u₀₁ = 4"
      ]
     },
     "metadata": {},
     "output_type": "display_data"
    },
    {
     "data": {
      "image/png": "[encoded data removed]",
      "text/latex": [
       "$\\displaystyle l_{0, 0} u_{0, 2} = -6$"
      ],
      "text/plain": [
       "l₀₀⋅u₀₂ = -6"
      ]
     },
     "metadata": {},
     "output_type": "display_data"
    },
    {
     "data": {
      "image/png": "[encoded data removed]",
      "text/latex": [
       "$\\displaystyle l_{1, 0} = 1$"
      ],
      "text/plain": [
       "l₁₀ = 1"
      ]
     },
     "metadata": {},
     "output_type": "display_data"
    },
    {
     "data": {
      "image/png": "[encoded data removed]",
      "text/latex": [
       "$\\displaystyle l_{1, 0} u_{0, 1} + l_{1, 1} = 5$"
      ],
      "text/plain": [
       "l₁₀⋅u₀₁ + l₁₁ = 5"
      ]
     },
     "metadata": {},
     "output_type": "display_data"
    },
    {
     "data": {
      "image/png": "[encoded data removed]",
      "text/latex": [
       "$\\displaystyle l_{1, 0} u_{0, 2} + l_{1, 1} u_{1, 2} = 3$"
      ],
      "text/plain": [
       "l₁₀⋅u₀₂ + l₁₁⋅u₁₂ = 3"
      ]
     },
     "metadata": {},
     "output_type": "display_data"
    },
    {
     "data": {
      "image/png": "[encoded data removed]",
      "text/latex": [
       "$\\displaystyle l_{2, 0} = 1$"
      ],
      "text/plain": [
       "l₂₀ = 1"
      ]
     },
     "metadata": {},
     "output_type": "display_data"
    },
    {
     "data": {
      "image/png": "[encoded data removed]",
      "text/latex": [
       "$\\displaystyle l_{2, 0} u_{0, 1} + l_{2, 1} = 3$"
      ],
      "text/plain": [
       "l₂₀⋅u₀₁ + l₂₁ = 3"
      ]
     },
     "metadata": {},
     "output_type": "display_data"
    },
    {
     "data": {
      "image/png": "[encoded data removed]",
      "text/latex": [
       "$\\displaystyle l_{2, 0} u_{0, 2} + l_{2, 1} u_{1, 2} + l_{2, 2} = 2$"
      ],
      "text/plain": [
       "l₂₀⋅u₀₂ + l₂₁⋅u₁₂ + l₂₂ = 2"
      ]
     },
     "metadata": {},
     "output_type": "display_data"
    },
    {
     "name": "stdout",
     "output_type": "stream",
     "text": [
      "\n",
      "Solving the above equations, we get\n",
      "\n"
     ]
    },
    {
     "data": {
      "text/latex": [
       "$\\displaystyle L = \\left[\\begin{matrix}2 & 0 & 0\\\\1 & 3 & 0\\\\1 & 1 & 3\\end{matrix}\\right]$"
      ],
      "text/plain": [
       "    ⎡2  0  0⎤\n",
       "    ⎢       ⎥\n",
       "L = ⎢1  3  0⎥\n",
       "    ⎢       ⎥\n",
       "    ⎣1  1  3⎦"
      ]
     },
     "metadata": {},
     "output_type": "display_data"
    },
    {
     "name": "stdout",
     "output_type": "stream",
     "text": [
      "\n",
      "and\n",
      "\n"
     ]
    },
    {
     "data": {
      "text/latex": [
       "$\\displaystyle U = \\left[\\begin{matrix}1 & 2 & -3\\\\0 & 1 & 2\\\\0 & 0 & 1\\end{matrix}\\right]$"
      ],
      "text/plain": [
       "    ⎡1  2  -3⎤\n",
       "    ⎢        ⎥\n",
       "U = ⎢0  1  2 ⎥\n",
       "    ⎢        ⎥\n",
       "    ⎣0  0  1 ⎦"
      ]
     },
     "metadata": {},
     "output_type": "display_data"
    },
    {
     "name": "stdout",
     "output_type": "stream",
     "text": [
      "\n",
      "A = LU, Thus, the system Ax = b is\n",
      "\n",
      "LUx = b\n",
      "\n",
      "Let Ux = y, then\n",
      "\n",
      "Ly = b\n",
      "\n",
      "Step-1: Solve Ly = b, to find y\n"
     ]
    },
    {
     "data": {
      "text/latex": [
       "$\\displaystyle \\left[\\begin{matrix}2 & 0 & 0\\\\1 & 3 & 0\\\\1 & 1 & 3\\end{matrix}\\right] y = \\left[\\begin{matrix}4\\\\10\\\\5\\end{matrix}\\right]$"
      ],
      "text/plain": [
       "⎡2  0  0⎤     ⎡4 ⎤\n",
       "⎢       ⎥     ⎢  ⎥\n",
       "⎢1  3  0⎥⋅y = ⎢10⎥\n",
       "⎢       ⎥     ⎢  ⎥\n",
       "⎣1  1  3⎦     ⎣5 ⎦"
      ]
     },
     "metadata": {},
     "output_type": "display_data"
    },
    {
     "data": {
      "text/latex": [
       "$\\displaystyle \\left[\\begin{matrix}2 & 0 & 0\\\\1 & 3 & 0\\\\1 & 1 & 3\\end{matrix}\\right] \\left[\\begin{matrix}y_{0, 0}\\\\y_{1, 0}\\\\y_{2, 0}\\end{matrix}\\right] = \\left[\\begin{matrix}4\\\\10\\\\5\\end{matrix}\\right]$"
      ],
      "text/plain": [
       "⎡2  0  0⎤ ⎡y₀₀⎤   ⎡4 ⎤\n",
       "⎢       ⎥ ⎢   ⎥   ⎢  ⎥\n",
       "⎢1  3  0⎥⋅⎢y₁₀⎥ = ⎢10⎥\n",
       "⎢       ⎥ ⎢   ⎥   ⎢  ⎥\n",
       "⎣1  1  3⎦ ⎣y₂₀⎦   ⎣5 ⎦"
      ]
     },
     "metadata": {},
     "output_type": "display_data"
    },
    {
     "name": "stdout",
     "output_type": "stream",
     "text": [
      "By Applying forward substitution, we get\n"
     ]
    },
    {
     "data": {
      "text/latex": [
       "$\\displaystyle y = \\left[\\begin{matrix}2.0\\\\2.667\\\\0.1111\\end{matrix}\\right]$"
      ],
      "text/plain": [
       "    ⎡ 2.0  ⎤\n",
       "    ⎢      ⎥\n",
       "y = ⎢2.667 ⎥\n",
       "    ⎢      ⎥\n",
       "    ⎣0.1111⎦"
      ]
     },
     "metadata": {},
     "output_type": "display_data"
    },
    {
     "name": "stdout",
     "output_type": "stream",
     "text": [
      "Step-2: Now solve Ux = y, to find x\n"
     ]
    },
    {
     "data": {
      "text/latex": [
       "$\\displaystyle \\left[\\begin{matrix}1 & 2 & -3\\\\0 & 1 & 2\\\\0 & 0 & 1\\end{matrix}\\right] x = \\left[\\begin{matrix}2.0\\\\2.667\\\\0.1111\\end{matrix}\\right]$"
      ],
      "text/plain": [
       "⎡1  2  -3⎤     ⎡ 2.0  ⎤\n",
       "⎢        ⎥     ⎢      ⎥\n",
       "⎢0  1  2 ⎥⋅x = ⎢2.667 ⎥\n",
       "⎢        ⎥     ⎢      ⎥\n",
       "⎣0  0  1 ⎦     ⎣0.1111⎦"
      ]
     },
     "metadata": {},
     "output_type": "display_data"
    },
    {
     "data": {
      "text/latex": [
       "$\\displaystyle \\left[\\begin{matrix}1 & 2 & -3\\\\0 & 1 & 2\\\\0 & 0 & 1\\end{matrix}\\right] \\left[\\begin{matrix}x_{0, 0}\\\\x_{1, 0}\\\\x_{2, 0}\\end{matrix}\\right] = \\left[\\begin{matrix}2.0\\\\2.667\\\\0.1111\\end{matrix}\\right]$"
      ],
      "text/plain": [
       "⎡1  2  -3⎤ ⎡x₀₀⎤   ⎡ 2.0  ⎤\n",
       "⎢        ⎥ ⎢   ⎥   ⎢      ⎥\n",
       "⎢0  1  2 ⎥⋅⎢x₁₀⎥ = ⎢2.667 ⎥\n",
       "⎢        ⎥ ⎢   ⎥   ⎢      ⎥\n",
       "⎣0  0  1 ⎦ ⎣x₂₀⎦   ⎣0.1111⎦"
      ]
     },
     "metadata": {},
     "output_type": "display_data"
    },
    {
     "name": "stdout",
     "output_type": "stream",
     "text": [
      "By Applying back substitution, we get\n"
     ]
    },
    {
     "data": {
      "text/latex": [
       "$\\displaystyle x = \\left[\\begin{matrix}-2.556\\\\2.445\\\\0.1111\\end{matrix}\\right]$"
      ],
      "text/plain": [
       "    ⎡-2.556⎤\n",
       "    ⎢      ⎥\n",
       "x = ⎢2.445 ⎥\n",
       "    ⎢      ⎥\n",
       "    ⎣0.1111⎦"
      ]
     },
     "metadata": {},
     "output_type": "display_data"
    }
   ],
   "source": [
    "a = np.array([[2,4,-6],[1,5,3],[1,3,2]])\n",
    "b = [4,10,5]\n",
    "lsf = LinearSystemsFactory()\n",
    "lsf.get_linear_system(system_type='lu_crout').solve(a = a, b = b)"
   ]
  },
  {
   "cell_type": "markdown",
   "id": "coated-watts",
   "metadata": {},
   "source": [
    "-------------------------------------------------------------------------"
   ]
  },
  {
   "cell_type": "markdown",
   "id": "detected-officer",
   "metadata": {},
   "source": [
    "# Condition_Number"
   ]
  },
  {
   "cell_type": "code",
   "execution_count": 20,
   "id": "reported-cover",
   "metadata": {},
   "outputs": [
    {
     "name": "stdout",
     "output_type": "stream",
     "text": [
      "Finding condition number\n",
      "Input Matrix:\n",
      "\n",
      "[[ 2  4 -6]\n",
      " [ 1  5  3]\n",
      " [ 1  3  2]]\n",
      "\n",
      "\n",
      "Condition Number(1): 40.0\n",
      "Condition Number(inf): 46.0\n"
     ]
    },
    {
     "data": {
      "image/png": "[encoded data removed]",
      "text/latex": [
       "$\\displaystyle \\left( 40.0, \\  46.0\\right)$"
      ],
      "text/plain": [
       "(40.0, 46.0)"
      ]
     },
     "execution_count": 20,
     "metadata": {},
     "output_type": "execute_result"
    }
   ],
   "source": [
    "a = np.array([[2,4,-6],[1,5,3],[1,3,2]])\n",
    "b = [4,10,5]\n",
    "lsf = LinearSystemsFactory()\n",
    "lsf.get_linear_system(system_type='condition_number').solve(a=a, b=b, pivoting=True, rounding_digit=4)"
   ]
  },
  {
   "cell_type": "markdown",
   "id": "nominated-shuttle",
   "metadata": {},
   "source": [
    "---------------------------------------------"
   ]
  },
  {
   "cell_type": "markdown",
   "id": "secure-child",
   "metadata": {},
   "source": [
    "# SVD"
   ]
  },
  {
   "cell_type": "code",
   "execution_count": 22,
   "id": "stable-electron",
   "metadata": {},
   "outputs": [
    {
     "name": "stdout",
     "output_type": "stream",
     "text": [
      "Input Matrix:\n"
     ]
    },
    {
     "data": {
      "text/latex": [
       "$\\displaystyle A = \\left[\\begin{matrix}1 & 1 & 0\\\\0 & 0 & 1\\end{matrix}\\right]$"
      ],
      "text/plain": [
       "    ⎡1  1  0⎤\n",
       "A = ⎢       ⎥\n",
       "    ⎣0  0  1⎦"
      ]
     },
     "metadata": {},
     "output_type": "display_data"
    },
    {
     "name": "stdout",
     "output_type": "stream",
     "text": [
      "\n",
      "Constructing Singular Value Decomposition of A\n",
      "\n"
     ]
    },
    {
     "data": {
      "image/png": "[encoded data removed]",
      "text/latex": [
       "$\\displaystyle A = U Σ V^{T}$"
      ],
      "text/plain": [
       "         T\n",
       "A = U⋅Σ⋅V "
      ]
     },
     "metadata": {},
     "output_type": "display_data"
    },
    {
     "name": "stdout",
     "output_type": "stream",
     "text": [
      "\n",
      "Step-1: Find eigenvalues of AᵀA\n"
     ]
    },
    {
     "data": {
      "text/latex": [
       "$\\displaystyle A^{T} A = \\left[\\begin{matrix}1 & 1 & 0\\\\0 & 0 & 1\\end{matrix}\\right]^{T} \\left[\\begin{matrix}1 & 1 & 0\\\\0 & 0 & 1\\end{matrix}\\right]$"
      ],
      "text/plain": [
       "                T          \n",
       " T     ⎡1  1  0⎤  ⎡1  1  0⎤\n",
       "A ⋅A = ⎢       ⎥ ⋅⎢       ⎥\n",
       "       ⎣0  0  1⎦  ⎣0  0  1⎦"
      ]
     },
     "metadata": {},
     "output_type": "display_data"
    },
    {
     "data": {
      "text/latex": [
       "$\\displaystyle A^{T} A = \\left[\\begin{matrix}1 & 1 & 0\\\\1 & 1 & 0\\\\0 & 0 & 1\\end{matrix}\\right]$"
      ],
      "text/plain": [
       "       ⎡1  1  0⎤\n",
       " T     ⎢       ⎥\n",
       "A ⋅A = ⎢1  1  0⎥\n",
       "       ⎢       ⎥\n",
       "       ⎣0  0  1⎦"
      ]
     },
     "metadata": {},
     "output_type": "display_data"
    },
    {
     "name": "stdout",
     "output_type": "stream",
     "text": [
      "\n",
      "Eigenvalues of AᵀA are\n"
     ]
    },
    {
     "data": {
      "image/png": "[encoded data removed]",
      "text/latex": [
       "$\\displaystyle λ_{1} = 2$"
      ],
      "text/plain": [
       "λ₁ = 2"
      ]
     },
     "metadata": {},
     "output_type": "display_data"
    },
    {
     "data": {
      "image/png": "[encoded data removed]",
      "text/latex": [
       "$\\displaystyle λ_{2} = 1$"
      ],
      "text/plain": [
       "λ₂ = 1"
      ]
     },
     "metadata": {},
     "output_type": "display_data"
    },
    {
     "data": {
      "image/png": "[encoded data removed]",
      "text/latex": [
       "$\\displaystyle λ_{3} = 0$"
      ],
      "text/plain": [
       "λ₃ = 0"
      ]
     },
     "metadata": {},
     "output_type": "display_data"
    },
    {
     "name": "stdout",
     "output_type": "stream",
     "text": [
      "\n",
      "Step-2: Setup V \n",
      "\n",
      "V is the Matrix with columns as Eigenvectors of AᵀA \n"
     ]
    },
    {
     "data": {
      "text/latex": [
       "$\\displaystyle V = \\left[\\begin{matrix}\\frac{\\sqrt{2}}{2} & 0 & - \\frac{\\sqrt{2}}{2}\\\\\\frac{\\sqrt{2}}{2} & 0 & \\frac{\\sqrt{2}}{2}\\\\0 & 1 & 0\\end{matrix}\\right]$"
      ],
      "text/plain": [
       "    ⎡√2     -√2 ⎤\n",
       "    ⎢──  0  ────⎥\n",
       "    ⎢2       2  ⎥\n",
       "    ⎢           ⎥\n",
       "V = ⎢√2      √2 ⎥\n",
       "    ⎢──  0   ── ⎥\n",
       "    ⎢2       2  ⎥\n",
       "    ⎢           ⎥\n",
       "    ⎣0   1   0  ⎦"
      ]
     },
     "metadata": {},
     "output_type": "display_data"
    },
    {
     "name": "stdout",
     "output_type": "stream",
     "text": [
      "\n",
      "Step-3: Setup  Σ\n",
      "\n",
      "The square roots of Eigenvalues of AᵀA are singular values\n",
      "\n"
     ]
    },
    {
     "data": {
      "image/png": "[encoded data removed]",
      "text/latex": [
       "$\\displaystyle σ_{1} = \\sqrt{2}$"
      ],
      "text/plain": [
       "σ₁ = √2"
      ]
     },
     "metadata": {},
     "output_type": "display_data"
    },
    {
     "data": {
      "image/png": "[encoded data removed]",
      "text/latex": [
       "$\\displaystyle σ_{2} = 1$"
      ],
      "text/plain": [
       "σ₂ = 1"
      ]
     },
     "metadata": {},
     "output_type": "display_data"
    },
    {
     "data": {
      "image/png": "[encoded data removed]",
      "text/latex": [
       "$\\displaystyle σ_{3} = 0$"
      ],
      "text/plain": [
       "σ₃ = 0"
      ]
     },
     "metadata": {},
     "output_type": "display_data"
    },
    {
     "name": "stdout",
     "output_type": "stream",
     "text": [
      "\n",
      "Discarding the 0 singular values\n",
      "\n",
      "\n",
      "Σ is the matrix of same shape as A conatining non zero singular values along diagonal\n",
      "\n"
     ]
    },
    {
     "data": {
      "text/latex": [
       "$\\displaystyle Σ = \\left[\\begin{matrix}\\sqrt{2} & 0 & 0\\\\0 & 1 & 0\\end{matrix}\\right]$"
      ],
      "text/plain": [
       "    ⎡√2  0  0⎤\n",
       "Σ = ⎢        ⎥\n",
       "    ⎣0   1  0⎦"
      ]
     },
     "metadata": {},
     "output_type": "display_data"
    },
    {
     "name": "stdout",
     "output_type": "stream",
     "text": [
      "\n",
      "Step-4: Cunstruct U\n"
     ]
    },
    {
     "data": {
      "image/png": "[encoded data removed]",
      "text/latex": [
       "$\\displaystyle u_{1} = \\frac{A v_{1}}{σ_{1}}$"
      ],
      "text/plain": [
       "     A⋅v₁\n",
       "u₁ = ────\n",
       "      σ₁ "
      ]
     },
     "metadata": {},
     "output_type": "display_data"
    },
    {
     "data": {
      "text/latex": [
       "$\\displaystyle  = \\left[\\begin{matrix}1\\\\0\\end{matrix}\\right]$"
      ],
      "text/plain": [
       "   ⎡1⎤\n",
       " = ⎢ ⎥\n",
       "   ⎣0⎦"
      ]
     },
     "metadata": {},
     "output_type": "display_data"
    },
    {
     "data": {
      "image/png": "[encoded data removed]",
      "text/latex": [
       "$\\displaystyle u_{2} = \\frac{A v_{2}}{σ_{2}}$"
      ],
      "text/plain": [
       "     A⋅v₂\n",
       "u₂ = ────\n",
       "      σ₂ "
      ]
     },
     "metadata": {},
     "output_type": "display_data"
    },
    {
     "data": {
      "text/latex": [
       "$\\displaystyle  = \\left[\\begin{matrix}0\\\\1\\end{matrix}\\right]$"
      ],
      "text/plain": [
       "   ⎡0⎤\n",
       " = ⎢ ⎥\n",
       "   ⎣1⎦"
      ]
     },
     "metadata": {},
     "output_type": "display_data"
    },
    {
     "data": {
      "text/latex": [
       "$\\displaystyle U = \\left[\\begin{matrix}1 & 0\\\\0 & 1\\end{matrix}\\right]$"
      ],
      "text/plain": [
       "    ⎡1  0⎤\n",
       "U = ⎢    ⎥\n",
       "    ⎣0  1⎦"
      ]
     },
     "metadata": {},
     "output_type": "display_data"
    },
    {
     "name": "stdout",
     "output_type": "stream",
     "text": [
      "\n",
      "Singular Value decomposition of A is\n",
      "\n"
     ]
    },
    {
     "data": {
      "text/latex": [
       "$\\displaystyle A = \\left[\\begin{matrix}1 & 0\\\\0 & 1\\end{matrix}\\right] \\left[\\begin{matrix}\\sqrt{2} & 0 & 0\\\\0 & 1 & 0\\end{matrix}\\right] \\left[\\begin{matrix}\\frac{\\sqrt{2}}{2} & 0 & - \\frac{\\sqrt{2}}{2}\\\\\\frac{\\sqrt{2}}{2} & 0 & \\frac{\\sqrt{2}}{2}\\\\0 & 1 & 0\\end{matrix}\\right]^{T}$"
      ],
      "text/plain": [
       "                                   T\n",
       "                      ⎡√2     -√2 ⎤ \n",
       "                      ⎢──  0  ────⎥ \n",
       "                      ⎢2       2  ⎥ \n",
       "    ⎡1  0⎤ ⎡√2  0  0⎤ ⎢           ⎥ \n",
       "A = ⎢    ⎥⋅⎢        ⎥⋅⎢√2      √2 ⎥ \n",
       "    ⎣0  1⎦ ⎣0   1  0⎦ ⎢──  0   ── ⎥ \n",
       "                      ⎢2       2  ⎥ \n",
       "                      ⎢           ⎥ \n",
       "                      ⎣0   1   0  ⎦ "
      ]
     },
     "metadata": {},
     "output_type": "display_data"
    }
   ],
   "source": [
    "a = np.array([[1,1,0],[0,0,1]])\n",
    "#b = [4,10,5]\n",
    "lsf = LinearSystemsFactory()\n",
    "lsf.get_linear_system(system_type='svd').solve(a=a, rounding_digit=4)"
   ]
  },
  {
   "cell_type": "code",
   "execution_count": null,
   "id": "initial-registration",
   "metadata": {},
   "outputs": [],
   "source": []
  }
 ],
 "metadata": {
  "kernelspec": {
   "display_name": "Python 3 (ipykernel)",
   "language": "python",
   "name": "python3"
  },
  "language_info": {
   "codemirror_mode": {
    "name": "ipython",
    "version": 3
   },
   "file_extension": ".py",
   "mimetype": "text/x-python",
   "name": "python",
   "nbconvert_exporter": "python",
   "pygments_lexer": "ipython3",
   "version": "3.9.12"
  }
 },
 "nbformat": 4,
 "nbformat_minor": 5
}
