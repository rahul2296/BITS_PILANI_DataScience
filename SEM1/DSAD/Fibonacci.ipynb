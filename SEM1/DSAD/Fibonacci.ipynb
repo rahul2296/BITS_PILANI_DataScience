{
 "cells": [
  {
   "cell_type": "code",
   "execution_count": 22,
   "id": "522139a8",
   "metadata": {},
   "outputs": [],
   "source": [
    "class Fibonacci:\n",
    "    def __init__(self):       \n",
    "        self.dp = {}\n",
    "    def calculate(self, n):\n",
    "        \"\"\"\n",
    "        calculate the fibonacci sequence value at n using normal recursion\n",
    "        \"\"\"\n",
    "        if n <=1:\n",
    "            return n\n",
    "        return self.calculate(n-2) + self.calculate(n-1)\n",
    "    def calculate_dp(self, n):\n",
    "        \"\"\"\n",
    "        calculate the fibonacci sequence value at n using dynamic programming\n",
    "        \"\"\"\n",
    "        if n <=1:\n",
    "            return n        \n",
    "        if self.dp.get(n):            \n",
    "            return self.dp[n]\n",
    "        self.dp[n] = self.calculate_dp(n-2) + self.calculate_dp(n-1)\n",
    "        return self.dp[n]\n",
    "    "
   ]
  },
  {
   "cell_type": "code",
   "execution_count": 16,
   "id": "6b2ffd3d",
   "metadata": {},
   "outputs": [
    {
     "name": "stdout",
     "output_type": "stream",
     "text": [
      "Wall time: 35.7 s\n"
     ]
    },
    {
     "data": {
      "text/plain": [
       "102334155"
      ]
     },
     "execution_count": 16,
     "metadata": {},
     "output_type": "execute_result"
    }
   ],
   "source": [
    "%%time\n",
    "Fibonacci().calculate(40)"
   ]
  },
  {
   "cell_type": "code",
   "execution_count": 24,
   "id": "26c1dcd8",
   "metadata": {},
   "outputs": [
    {
     "name": "stdout",
     "output_type": "stream",
     "text": [
      "Wall time: 0 ns\n"
     ]
    },
    {
     "data": {
      "text/plain": [
       "176023680645013966468226945392411250770384383304492191886725992896575345044216019675"
      ]
     },
     "execution_count": 24,
     "metadata": {},
     "output_type": "execute_result"
    }
   ],
   "source": [
    "%%time\n",
    "Fibonacci().calculate_dp(40)"
   ]
  },
  {
   "cell_type": "code",
   "execution_count": 27,
   "id": "5481083a",
   "metadata": {},
   "outputs": [
    {
     "name": "stdout",
     "output_type": "stream",
     "text": [
      "Wall time: 3 ms\n"
     ]
    },
    {
     "data": {
      "text/plain": [
       "39909473435004422792081248094960912600792570982820257852628876326523051818641373433549136769424132442293969306537520118273879628025443235370362250955435654171592897966790864814458223141914272590897468472180370639695334449662650312874735560926298246249404168309064214351044459077749425236777660809226095151852052781352975449482565838369809183771787439660825140502824343131911711296392457138867486593923544177893735428602238212249156564631452507658603400012003685322984838488962351492632577755354452904049241294565662519417235020049873873878602731379207893212335423484873469083054556329894167262818692599815209582517277965059068235543139459375028276851221435815957374273143824422909416395375178739268544368126894240979135322176080374780998010657710775625856041594078495411724236560242597759185543824798332467919613598667003025993715274875"
      ]
     },
     "execution_count": 27,
     "metadata": {},
     "output_type": "execute_result"
    }
   ],
   "source": [
    "%%time\n",
    "Fibonacci().calculate_dp(4000)"
   ]
  },
  {
   "cell_type": "code",
   "execution_count": null,
   "id": "b90ca4e4",
   "metadata": {},
   "outputs": [],
   "source": []
  }
 ],
 "metadata": {
  "kernelspec": {
   "display_name": "Python 3 (ipykernel)",
   "language": "python",
   "name": "python3"
  },
  "language_info": {
   "codemirror_mode": {
    "name": "ipython",
    "version": 3
   },
   "file_extension": ".py",
   "mimetype": "text/x-python",
   "name": "python",
   "nbconvert_exporter": "python",
   "pygments_lexer": "ipython3",
   "version": "3.7.6"
  }
 },
 "nbformat": 4,
 "nbformat_minor": 5
}
