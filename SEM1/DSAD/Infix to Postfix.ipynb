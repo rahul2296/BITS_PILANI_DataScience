{
 "cells": [
  {
   "cell_type": "markdown",
   "id": "988afad0",
   "metadata": {},
   "source": [
    "## Algorithm: Infix to Postfix"
   ]
  },
  {
   "cell_type": "code",
   "execution_count": 2,
   "id": "835729f2",
   "metadata": {},
   "outputs": [],
   "source": [
    "def infix_to_postfix(infix_list):\n",
    "    postfix_stack = AStack()\n",
    "    postfix_list = []\n",
    "    postfix_stack.push('(')\n",
    "    infix_list +=')'\n",
    "    operand_list = ['^','/','*','+','-']\n",
    "    for element in infix_list:\n",
    "        if element == '(':\n",
    "            postfix_stack.push(element)\n",
    "        elif element == ')':\n",
    "            while postfix_stack.top() != '(':\n",
    "                postfix_list.append(postfix_stack.pop())\n",
    "            postfix_stack.pop()\n",
    "        elif element in operand_list:\n",
    "            while postfix_stack.top() != '(' and is_higher_precedence(element, postfix_stack.top()):\n",
    "                postfix_list.append(postfix_stack.pop())\n",
    "            postfix_stack.push(element)\n",
    "        else:\n",
    "            postfix_list.append(element)\n",
    "            \n",
    "    if not postfix_stack.is_empty():\n",
    "        raise ValueError('Input Infix List is invalid')\n",
    "    #print(postfix_list)\n",
    "    return ''.join(postfix_list)"
   ]
  },
  {
   "cell_type": "code",
   "execution_count": 3,
   "id": "f062eb38",
   "metadata": {},
   "outputs": [],
   "source": [
    "class AStack:\n",
    "    def __init__(self):\n",
    "        self.stack = [None]*50\n",
    "        self.t=-1\n",
    "        \n",
    "    def is_empty(self):\n",
    "        return self.t ==-1\n",
    "    \n",
    "    def push(self, o):\n",
    "        if self.t == len(self.stack)-1:\n",
    "            return ValueError('Stack overflow')\n",
    "        self.t +=1\n",
    "        self.stack[self.t] = o\n",
    "        \n",
    "    def pop(self):\n",
    "        if self.is_empty():\n",
    "            return ValueError('Stack underflow')\n",
    "        o = self.stack[self.t]\n",
    "        self.stack[self.t] = None\n",
    "        self.t -= 1\n",
    "        return o\n",
    "    def top(self):\n",
    "        if self.is_empty():\n",
    "            return ValueError('Stack underflow')\n",
    "        return self.stack[self.t]\n",
    "    "
   ]
  },
  {
   "cell_type": "code",
   "execution_count": 6,
   "id": "1528f14c",
   "metadata": {},
   "outputs": [],
   "source": [
    "def is_higher_precedence(element, st_element):\n",
    "    operand_list = [['^','/','*'],['+','-']]\n",
    "    element_index = 0 if element in operand_list[0] else 1\n",
    "    st_el_index = 0 if st_element in operand_list[0] else 1\n",
    "    return st_el_index <= element_index"
   ]
  },
  {
   "cell_type": "code",
   "execution_count": 7,
   "id": "e5fc1874",
   "metadata": {},
   "outputs": [
    {
     "data": {
      "text/plain": [
       "True"
      ]
     },
     "execution_count": 7,
     "metadata": {},
     "output_type": "execute_result"
    }
   ],
   "source": [
    "is_higher_precedence('-', '(')"
   ]
  },
  {
   "cell_type": "code",
   "execution_count": 8,
   "id": "aac4342c",
   "metadata": {},
   "outputs": [
    {
     "data": {
      "text/plain": [
       "'ABC+D*+'"
      ]
     },
     "execution_count": 8,
     "metadata": {},
     "output_type": "execute_result"
    }
   ],
   "source": [
    "infix_to_postfix(['A','+','(','B','+','C',')','*','D'])"
   ]
  },
  {
   "cell_type": "code",
   "execution_count": 9,
   "id": "f97acef2",
   "metadata": {},
   "outputs": [
    {
     "data": {
      "text/plain": [
       "'BC+DE/F*-'"
      ]
     },
     "execution_count": 9,
     "metadata": {},
     "output_type": "execute_result"
    }
   ],
   "source": [
    "infix_to_postfix('B+C-D/E*F')"
   ]
  },
  {
   "cell_type": "code",
   "execution_count": 10,
   "id": "a2a90286",
   "metadata": {},
   "outputs": [
    {
     "data": {
      "text/plain": [
       "'AB+'"
      ]
     },
     "execution_count": 10,
     "metadata": {},
     "output_type": "execute_result"
    }
   ],
   "source": [
    "infix_to_postfix('A+B')"
   ]
  },
  {
   "cell_type": "code",
   "execution_count": null,
   "id": "9510ad76",
   "metadata": {},
   "outputs": [],
   "source": []
  }
 ],
 "metadata": {
  "kernelspec": {
   "display_name": "Python 3 (ipykernel)",
   "language": "python",
   "name": "python3"
  },
  "language_info": {
   "codemirror_mode": {
    "name": "ipython",
    "version": 3
   },
   "file_extension": ".py",
   "mimetype": "text/x-python",
   "name": "python",
   "nbconvert_exporter": "python",
   "pygments_lexer": "ipython3",
   "version": "3.7.6"
  }
 },
 "nbformat": 4,
 "nbformat_minor": 5
}
