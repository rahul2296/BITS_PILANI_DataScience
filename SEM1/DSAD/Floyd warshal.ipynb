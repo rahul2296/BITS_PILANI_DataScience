{
 "cells": [
  {
   "cell_type": "markdown",
   "id": "25b23619",
   "metadata": {},
   "source": [
    "## Floyd-Warshall Transitive Closure"
   ]
  },
  {
   "cell_type": "code",
   "execution_count": 1,
   "id": "d5646569",
   "metadata": {},
   "outputs": [],
   "source": [
    "import numpy as np"
   ]
  },
  {
   "cell_type": "code",
   "execution_count": 2,
   "id": "14ddc2a4",
   "metadata": {},
   "outputs": [],
   "source": [
    "def floyd_warshal_tc(input_matrix):\n",
    "    R_0 = input_matrix\n",
    "    R_k_1 = R_0\n",
    "    R_k = np.zeros(input_matrix.shape)\n",
    "    N = input_matrix.shape[0]\n",
    "    print(f'R\\u2070:\\n{R_0}')\n",
    "    for k in range(N):\n",
    "        for i in range(N):\n",
    "            for j in range(N):\n",
    "                R_k[i,j] = R_k_1[i,j].astype(bool) | (R_k_1[i,k].astype(bool) & R_k_1[k,j].astype(bool))\n",
    "                R_k[i,j] = R_k[i,j].astype(int)\n",
    "        print(f'\\nR_{k+1}:\\n{R_k}')\n",
    "        R_k_1 = R_k\n",
    "    print(f'\\nTransitive Closure T: \\n {R_k}')   \n",
    "    "
   ]
  },
  {
   "cell_type": "code",
   "execution_count": 4,
   "id": "b90deb8b",
   "metadata": {},
   "outputs": [
    {
     "name": "stdout",
     "output_type": "stream",
     "text": [
      "R⁰:\n",
      "[[0 1 0 0]\n",
      " [0 0 1 0]\n",
      " [1 0 0 1]\n",
      " [0 0 0 0]]\n",
      "\n",
      "R_1:\n",
      "[[0. 1. 0. 0.]\n",
      " [0. 0. 1. 0.]\n",
      " [1. 1. 0. 1.]\n",
      " [0. 0. 0. 0.]]\n",
      "\n",
      "R_2:\n",
      "[[0. 1. 1. 0.]\n",
      " [0. 0. 1. 0.]\n",
      " [1. 1. 1. 1.]\n",
      " [0. 0. 0. 0.]]\n",
      "\n",
      "R_3:\n",
      "[[1. 1. 1. 1.]\n",
      " [1. 1. 1. 1.]\n",
      " [1. 1. 1. 1.]\n",
      " [0. 0. 0. 0.]]\n",
      "\n",
      "R_4:\n",
      "[[1. 1. 1. 1.]\n",
      " [1. 1. 1. 1.]\n",
      " [1. 1. 1. 1.]\n",
      " [0. 0. 0. 0.]]\n",
      "\n",
      "Transitive Closure T: \n",
      " [[1. 1. 1. 1.]\n",
      " [1. 1. 1. 1.]\n",
      " [1. 1. 1. 1.]\n",
      " [0. 0. 0. 0.]]\n"
     ]
    }
   ],
   "source": [
    "floyd_warshal_tc(np.array([[0,1,0,0],[0,0,1,0],[1,0,0,1],[0,0,0,0]]))"
   ]
  },
  {
   "cell_type": "markdown",
   "id": "c117fb81",
   "metadata": {},
   "source": [
    "## Floyd-Warshall All Pair shortest path"
   ]
  },
  {
   "cell_type": "code",
   "execution_count": 11,
   "id": "f6ce4c31",
   "metadata": {},
   "outputs": [],
   "source": [
    "def floyd_warshal_apsp(input_matrix):\n",
    "    \"\"\"\n",
    "    Implements Floyd's algorithm for all-pairs shortest-path problem\n",
    "    :param input_matrix: The weight matrix of the graph with no negative length cycle\n",
    "    \n",
    "    :return: The distance matrix of sh\n",
    "    \"\"\"\n",
    "    D_0 = input_matrix\n",
    "    D_k_1 = D_0\n",
    "    D_k = np.zeros(input_matrix.shape)\n",
    "    N = input_matrix.shape[0]\n",
    "    print(f'D\\u2070:\\n{D_0}')\n",
    "    for k in range(N):\n",
    "        for i in range(N):\n",
    "            for j in range(N):\n",
    "                D_k[i,j] = min(D_k_1[i,j] , (D_k_1[i,k] + D_k_1[k,j]))                \n",
    "        print(f'\\nD_{k+1}:\\n{D_k}')\n",
    "        D_k_1 = D_k\n",
    "    print(f'\\nShortest path Matrix: \\n {D_k}')  "
   ]
  },
  {
   "cell_type": "code",
   "execution_count": 12,
   "id": "021ba61b",
   "metadata": {},
   "outputs": [
    {
     "name": "stdout",
     "output_type": "stream",
     "text": [
      "D⁰:\n",
      "[[ 0. inf  3. inf]\n",
      " [ 2.  0. inf inf]\n",
      " [inf  7.  0.  1.]\n",
      " [ 6. inf inf  0.]]\n",
      "\n",
      "D_1:\n",
      "[[ 0. inf  3. inf]\n",
      " [ 2.  0.  5. inf]\n",
      " [inf  7.  0.  1.]\n",
      " [ 6. inf  9.  0.]]\n",
      "\n",
      "D_2:\n",
      "[[ 0. inf  3. inf]\n",
      " [ 2.  0.  5. inf]\n",
      " [ 9.  7.  0.  1.]\n",
      " [ 6. inf  9.  0.]]\n",
      "\n",
      "D_3:\n",
      "[[ 0. 10.  3.  4.]\n",
      " [ 2.  0.  5.  6.]\n",
      " [ 9.  7.  0.  1.]\n",
      " [ 6. 16.  9.  0.]]\n",
      "\n",
      "D_4:\n",
      "[[ 0. 10.  3.  4.]\n",
      " [ 2.  0.  5.  6.]\n",
      " [ 7.  7.  0.  1.]\n",
      " [ 6. 16.  9.  0.]]\n",
      "\n",
      "Shortest path Matrix: \n",
      " [[ 0. 10.  3.  4.]\n",
      " [ 2.  0.  5.  6.]\n",
      " [ 7.  7.  0.  1.]\n",
      " [ 6. 16.  9.  0.]]\n"
     ]
    }
   ],
   "source": [
    "floyd_warshal_apsp(np.array([[0,np.inf,3,np.inf],[2,0,np.inf,np.inf],[np.inf,7,0,1],[6,np.inf,np.inf,0]]))"
   ]
  },
  {
   "cell_type": "code",
   "execution_count": null,
   "id": "0a4a6655",
   "metadata": {},
   "outputs": [],
   "source": []
  }
 ],
 "metadata": {
  "kernelspec": {
   "display_name": "Python 3 (ipykernel)",
   "language": "python",
   "name": "python3"
  },
  "language_info": {
   "codemirror_mode": {
    "name": "ipython",
    "version": 3
   },
   "file_extension": ".py",
   "mimetype": "text/x-python",
   "name": "python",
   "nbconvert_exporter": "python",
   "pygments_lexer": "ipython3",
   "version": "3.7.6"
  }
 },
 "nbformat": 4,
 "nbformat_minor": 5
}
