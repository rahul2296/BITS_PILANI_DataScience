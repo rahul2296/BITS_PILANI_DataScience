{
 "cells": [
  {
   "cell_type": "code",
   "execution_count": 1,
   "id": "0c2ade96",
   "metadata": {},
   "outputs": [],
   "source": [
    "from sympy import *\n",
    "import numpy as np"
   ]
  },
  {
   "cell_type": "code",
   "execution_count": 2,
   "id": "4e94875c",
   "metadata": {},
   "outputs": [
    {
     "data": {
      "application/javascript": [
       "IPython.OutputArea.prototype._should_scroll = function(lines) {\n",
       "    return false;\n",
       "}\n"
      ],
      "text/plain": [
       "<IPython.core.display.Javascript object>"
      ]
     },
     "metadata": {},
     "output_type": "display_data"
    }
   ],
   "source": [
    "%%javascript\n",
    "IPython.OutputArea.prototype._should_scroll = function(lines) {\n",
    "    return false;\n",
    "}"
   ]
  },
  {
   "cell_type": "code",
   "execution_count": 24,
   "id": "e4994ed8",
   "metadata": {},
   "outputs": [],
   "source": [
    "def print_parenthesis(m, j, i , print_str = ''):\n",
    "    m = np.array(m)\n",
    "    # Displaying the parenthesis.\n",
    "    if j == i:\n",
    " \n",
    "        # The first matrix is printed as\n",
    "        # 'A', next as 'B', and so on\n",
    "        print_str += f'A_{{{j+1}}}'\n",
    "        #print(chr(65 + j), end = \"\")\n",
    "        \n",
    "    else:\n",
    "        print_str += '('\n",
    "        #print(\"(\", end = \"\")\n",
    " \n",
    "        # Passing (m, k, i) instead of (s, i, k)\n",
    "        print_str=print_parenthesis(m, m[j][i] - 1, i, print_str)\n",
    " \n",
    "        # (m, j, k+1) instead of (s, k+1, j)\n",
    "        print_str=print_parenthesis(m, j, m[j][i], print_str)\n",
    "        print_str += ')'\n",
    "        #print (\")\", end = \"\" )\n",
    "    return print_str"
   ]
  },
  {
   "cell_type": "code",
   "execution_count": 25,
   "id": "595d6ae4",
   "metadata": {},
   "outputs": [],
   "source": [
    "def matrix_chain_mult(sequence):\n",
    "    mat_array = []\n",
    "    for i in range(len(sequence)-1):\n",
    "        mat_array.append(Symbol(f'A^{i+1}_{sequence[i]}*{sequence[i+1]}'))\n",
    "    print(f'We have {len(mat_array)} matrices given below:\\n')\n",
    "    \n",
    "    display(Mul(*mat_array))\n",
    "    print()\n",
    "    size = len(mat_array)\n",
    "    k_matrix = zeros(size,size)\n",
    "    cost_matrix = zeros(size,size)\n",
    "    for i in range(size):\n",
    "        for j in range(size):\n",
    "            if i != j:\n",
    "                k_matrix[i,j] = Symbol('')\n",
    "                cost_matrix[i,j] = Symbol('')\n",
    "    k_sym = MatrixSymbol('k', size, size)\n",
    "    cost_sym = MatrixSymbol('C', size, size)\n",
    "    display(Eq(k_sym, k_matrix))\n",
    "    display(Eq(cost_sym, cost_matrix))\n",
    "    print()\n",
    "    display(Eq(Symbol('C[i,j]'),Symbol('min_{i<=k<j}[C[i,k] + C[k+1,j] + d_{i-1}d_{k}d_{j}]')))\n",
    "    print()\n",
    "    for n in range(1, size):\n",
    "        for i in range(size-n):\n",
    "            j = i+n\n",
    "            print(f'\\nCalculating C[{i+1}, {j+1}]')\n",
    "            cost_array = []\n",
    "            for k in range(i,j):\n",
    "#                 print(i,j,k)\n",
    "#                 print(cost_matrix[i,k],cost_matrix[k+1,j] ,sequence[i],sequence[k+1],sequence[j+1])\n",
    "                cost_array.append(cost_matrix[i,k] + cost_matrix[k+1,j] + sequence[i]*sequence[k+1]*sequence[j+1])\n",
    "                print(f'\\nFor k = {k + 1}')\n",
    "                display(Eq(Symbol(f'[C[{i+1},{k+1}] + C[{k+2},{j+1}] + d_{{{i}}} d_{{{k+1}}}d_{{{j+1}}}]'), cost_array[-1]))\n",
    "            \n",
    "            display(Eq(Symbol(f'C[{i+1}, {j+1}]'),Symbol(f'min{cost_array}')))\n",
    "            \n",
    "            cost_matrix[i,j] = np.min(cost_array)\n",
    "            display(Eq(Symbol(f'C[{i+1}, {j+1}]'),cost_matrix[i,j]))\n",
    "            \n",
    "            k_matrix[i,j] = np.argmin(cost_array) + i+1\n",
    "            display(Eq(Symbol(f'k[{i+1}, {j+1}]'),k_matrix[i,j]))\n",
    "            print('------------------------------------------')\n",
    "    display(Eq(k_sym, k_matrix))\n",
    "    display(Eq(cost_sym, cost_matrix))\n",
    "    \n",
    "    for i in range(size):\n",
    "        for j in range(size):\n",
    "            if i > j:\n",
    "                k_matrix[i,j] = 0\n",
    "                #cost_matrix[i,j] = 0\n",
    "    \n",
    "    print(f'\\n\\nMinimum number of scalar multiplications required is: {cost_matrix[0,size-1]}')\n",
    "    \n",
    "    print('\\nOptimal Parenthesization is:')\n",
    "    print_str = print_parenthesis(np.transpose(np.array(k_matrix)), size-1, 0)\n",
    "    display(Symbol(print_str))\n",
    "    #print(print_str)\n",
    "    "
   ]
  },
  {
   "cell_type": "code",
   "execution_count": 26,
   "id": "0ba97126",
   "metadata": {},
   "outputs": [
    {
     "name": "stdout",
     "output_type": "stream",
     "text": [
      "We have 4 matrices given below:\n",
      "\n"
     ]
    },
    {
     "data": {
      "text/latex": [
       "$\\displaystyle A^{1}_{3*2} A^{2}_{2*4} A^{3}_{4*2} A^{4}_{2*5}$"
      ],
      "text/plain": [
       "A^1_3*2*A^2_2*4*A^3_4*2*A^4_2*5"
      ]
     },
     "metadata": {},
     "output_type": "display_data"
    },
    {
     "name": "stdout",
     "output_type": "stream",
     "text": [
      "\n"
     ]
    },
    {
     "data": {
      "text/latex": [
       "$\\displaystyle k = \\left[\\begin{matrix}0 &  &  & \\\\ & 0 &  & \\\\ &  & 0 & \\\\ &  &  & 0\\end{matrix}\\right]$"
      ],
      "text/plain": [
       "Eq(k, Matrix([\n",
       "[0,  ,  ,  ],\n",
       "[ , 0,  ,  ],\n",
       "[ ,  , 0,  ],\n",
       "[ ,  ,  , 0]]))"
      ]
     },
     "metadata": {},
     "output_type": "display_data"
    },
    {
     "data": {
      "text/latex": [
       "$\\displaystyle C = \\left[\\begin{matrix}0 &  &  & \\\\ & 0 &  & \\\\ &  & 0 & \\\\ &  &  & 0\\end{matrix}\\right]$"
      ],
      "text/plain": [
       "Eq(C, Matrix([\n",
       "[0,  ,  ,  ],\n",
       "[ , 0,  ,  ],\n",
       "[ ,  , 0,  ],\n",
       "[ ,  ,  , 0]]))"
      ]
     },
     "metadata": {},
     "output_type": "display_data"
    },
    {
     "name": "stdout",
     "output_type": "stream",
     "text": [
      "\n"
     ]
    },
    {
     "data": {
      "text/latex": [
       "$\\displaystyle C[i,j] = min_{i<=k<j}[C[i,k] + C[k+1,j] + d_{i-1}d_{k}d_{j}]$"
      ],
      "text/plain": [
       "Eq(C[i,j], min_{i<=k<j}[C[i,k] + C[k+1,j] + d_{i-1}d_{k}d_{j}])"
      ]
     },
     "metadata": {},
     "output_type": "display_data"
    },
    {
     "name": "stdout",
     "output_type": "stream",
     "text": [
      "\n",
      "\n",
      "Calculating C[1, 2]\n",
      "\n",
      "For k = 1\n"
     ]
    },
    {
     "data": {
      "text/latex": [
       "$\\displaystyle [C[1,1] + C[2,2] + d_{0} d_{1}d_{2}] = 24$"
      ],
      "text/plain": [
       "Eq([C[1,1] + C[2,2] + d_{0} d_{1}d_{2}], 24)"
      ]
     },
     "metadata": {},
     "output_type": "display_data"
    },
    {
     "data": {
      "text/latex": [
       "$\\displaystyle C[1, 2] = min[24]$"
      ],
      "text/plain": [
       "Eq(C[1, 2], min[24])"
      ]
     },
     "metadata": {},
     "output_type": "display_data"
    },
    {
     "data": {
      "text/latex": [
       "$\\displaystyle C[1, 2] = 24$"
      ],
      "text/plain": [
       "Eq(C[1, 2], 24)"
      ]
     },
     "metadata": {},
     "output_type": "display_data"
    },
    {
     "data": {
      "text/latex": [
       "$\\displaystyle k[1, 2] = 1$"
      ],
      "text/plain": [
       "Eq(k[1, 2], 1)"
      ]
     },
     "metadata": {},
     "output_type": "display_data"
    },
    {
     "name": "stdout",
     "output_type": "stream",
     "text": [
      "------------------------------------------\n",
      "\n",
      "Calculating C[2, 3]\n",
      "\n",
      "For k = 2\n"
     ]
    },
    {
     "data": {
      "text/latex": [
       "$\\displaystyle [C[2,2] + C[3,3] + d_{1} d_{2}d_{3}] = 16$"
      ],
      "text/plain": [
       "Eq([C[2,2] + C[3,3] + d_{1} d_{2}d_{3}], 16)"
      ]
     },
     "metadata": {},
     "output_type": "display_data"
    },
    {
     "data": {
      "text/latex": [
       "$\\displaystyle C[2, 3] = min[16]$"
      ],
      "text/plain": [
       "Eq(C[2, 3], min[16])"
      ]
     },
     "metadata": {},
     "output_type": "display_data"
    },
    {
     "data": {
      "text/latex": [
       "$\\displaystyle C[2, 3] = 16$"
      ],
      "text/plain": [
       "Eq(C[2, 3], 16)"
      ]
     },
     "metadata": {},
     "output_type": "display_data"
    },
    {
     "data": {
      "text/latex": [
       "$\\displaystyle k[2, 3] = 2$"
      ],
      "text/plain": [
       "Eq(k[2, 3], 2)"
      ]
     },
     "metadata": {},
     "output_type": "display_data"
    },
    {
     "name": "stdout",
     "output_type": "stream",
     "text": [
      "------------------------------------------\n",
      "\n",
      "Calculating C[3, 4]\n",
      "\n",
      "For k = 3\n"
     ]
    },
    {
     "data": {
      "text/latex": [
       "$\\displaystyle [C[3,3] + C[4,4] + d_{2} d_{3}d_{4}] = 40$"
      ],
      "text/plain": [
       "Eq([C[3,3] + C[4,4] + d_{2} d_{3}d_{4}], 40)"
      ]
     },
     "metadata": {},
     "output_type": "display_data"
    },
    {
     "data": {
      "text/latex": [
       "$\\displaystyle C[3, 4] = min[40]$"
      ],
      "text/plain": [
       "Eq(C[3, 4], min[40])"
      ]
     },
     "metadata": {},
     "output_type": "display_data"
    },
    {
     "data": {
      "text/latex": [
       "$\\displaystyle C[3, 4] = 40$"
      ],
      "text/plain": [
       "Eq(C[3, 4], 40)"
      ]
     },
     "metadata": {},
     "output_type": "display_data"
    },
    {
     "data": {
      "text/latex": [
       "$\\displaystyle k[3, 4] = 3$"
      ],
      "text/plain": [
       "Eq(k[3, 4], 3)"
      ]
     },
     "metadata": {},
     "output_type": "display_data"
    },
    {
     "name": "stdout",
     "output_type": "stream",
     "text": [
      "------------------------------------------\n",
      "\n",
      "Calculating C[1, 3]\n",
      "\n",
      "For k = 1\n"
     ]
    },
    {
     "data": {
      "text/latex": [
       "$\\displaystyle [C[1,1] + C[2,3] + d_{0} d_{1}d_{3}] = 28$"
      ],
      "text/plain": [
       "Eq([C[1,1] + C[2,3] + d_{0} d_{1}d_{3}], 28)"
      ]
     },
     "metadata": {},
     "output_type": "display_data"
    },
    {
     "name": "stdout",
     "output_type": "stream",
     "text": [
      "\n",
      "For k = 2\n"
     ]
    },
    {
     "data": {
      "text/latex": [
       "$\\displaystyle [C[1,2] + C[3,3] + d_{0} d_{2}d_{3}] = 48$"
      ],
      "text/plain": [
       "Eq([C[1,2] + C[3,3] + d_{0} d_{2}d_{3}], 48)"
      ]
     },
     "metadata": {},
     "output_type": "display_data"
    },
    {
     "data": {
      "text/latex": [
       "$\\displaystyle C[1, 3] = min[28, 48]$"
      ],
      "text/plain": [
       "Eq(C[1, 3], min[28, 48])"
      ]
     },
     "metadata": {},
     "output_type": "display_data"
    },
    {
     "data": {
      "text/latex": [
       "$\\displaystyle C[1, 3] = 28$"
      ],
      "text/plain": [
       "Eq(C[1, 3], 28)"
      ]
     },
     "metadata": {},
     "output_type": "display_data"
    },
    {
     "data": {
      "text/latex": [
       "$\\displaystyle k[1, 3] = 1$"
      ],
      "text/plain": [
       "Eq(k[1, 3], 1)"
      ]
     },
     "metadata": {},
     "output_type": "display_data"
    },
    {
     "name": "stdout",
     "output_type": "stream",
     "text": [
      "------------------------------------------\n",
      "\n",
      "Calculating C[2, 4]\n",
      "\n",
      "For k = 2\n"
     ]
    },
    {
     "data": {
      "text/latex": [
       "$\\displaystyle [C[2,2] + C[3,4] + d_{1} d_{2}d_{4}] = 80$"
      ],
      "text/plain": [
       "Eq([C[2,2] + C[3,4] + d_{1} d_{2}d_{4}], 80)"
      ]
     },
     "metadata": {},
     "output_type": "display_data"
    },
    {
     "name": "stdout",
     "output_type": "stream",
     "text": [
      "\n",
      "For k = 3\n"
     ]
    },
    {
     "data": {
      "text/latex": [
       "$\\displaystyle [C[2,3] + C[4,4] + d_{1} d_{3}d_{4}] = 36$"
      ],
      "text/plain": [
       "Eq([C[2,3] + C[4,4] + d_{1} d_{3}d_{4}], 36)"
      ]
     },
     "metadata": {},
     "output_type": "display_data"
    },
    {
     "data": {
      "text/latex": [
       "$\\displaystyle C[2, 4] = min[80, 36]$"
      ],
      "text/plain": [
       "Eq(C[2, 4], min[80, 36])"
      ]
     },
     "metadata": {},
     "output_type": "display_data"
    },
    {
     "data": {
      "text/latex": [
       "$\\displaystyle C[2, 4] = 36$"
      ],
      "text/plain": [
       "Eq(C[2, 4], 36)"
      ]
     },
     "metadata": {},
     "output_type": "display_data"
    },
    {
     "data": {
      "text/latex": [
       "$\\displaystyle k[2, 4] = 3$"
      ],
      "text/plain": [
       "Eq(k[2, 4], 3)"
      ]
     },
     "metadata": {},
     "output_type": "display_data"
    },
    {
     "name": "stdout",
     "output_type": "stream",
     "text": [
      "------------------------------------------\n",
      "\n",
      "Calculating C[1, 4]\n",
      "\n",
      "For k = 1\n"
     ]
    },
    {
     "data": {
      "text/latex": [
       "$\\displaystyle [C[1,1] + C[2,4] + d_{0} d_{1}d_{4}] = 66$"
      ],
      "text/plain": [
       "Eq([C[1,1] + C[2,4] + d_{0} d_{1}d_{4}], 66)"
      ]
     },
     "metadata": {},
     "output_type": "display_data"
    },
    {
     "name": "stdout",
     "output_type": "stream",
     "text": [
      "\n",
      "For k = 2\n"
     ]
    },
    {
     "data": {
      "text/latex": [
       "$\\displaystyle [C[1,2] + C[3,4] + d_{0} d_{2}d_{4}] = 124$"
      ],
      "text/plain": [
       "Eq([C[1,2] + C[3,4] + d_{0} d_{2}d_{4}], 124)"
      ]
     },
     "metadata": {},
     "output_type": "display_data"
    },
    {
     "name": "stdout",
     "output_type": "stream",
     "text": [
      "\n",
      "For k = 3\n"
     ]
    },
    {
     "data": {
      "text/latex": [
       "$\\displaystyle [C[1,3] + C[4,4] + d_{0} d_{3}d_{4}] = 58$"
      ],
      "text/plain": [
       "Eq([C[1,3] + C[4,4] + d_{0} d_{3}d_{4}], 58)"
      ]
     },
     "metadata": {},
     "output_type": "display_data"
    },
    {
     "data": {
      "text/latex": [
       "$\\displaystyle C[1, 4] = min[66, 124, 58]$"
      ],
      "text/plain": [
       "Eq(C[1, 4], min[66, 124, 58])"
      ]
     },
     "metadata": {},
     "output_type": "display_data"
    },
    {
     "data": {
      "text/latex": [
       "$\\displaystyle C[1, 4] = 58$"
      ],
      "text/plain": [
       "Eq(C[1, 4], 58)"
      ]
     },
     "metadata": {},
     "output_type": "display_data"
    },
    {
     "data": {
      "text/latex": [
       "$\\displaystyle k[1, 4] = 3$"
      ],
      "text/plain": [
       "Eq(k[1, 4], 3)"
      ]
     },
     "metadata": {},
     "output_type": "display_data"
    },
    {
     "name": "stdout",
     "output_type": "stream",
     "text": [
      "------------------------------------------\n"
     ]
    },
    {
     "data": {
      "text/latex": [
       "$\\displaystyle k = \\left[\\begin{matrix}0 & 1 & 1 & 3\\\\ & 0 & 2 & 3\\\\ &  & 0 & 3\\\\ &  &  & 0\\end{matrix}\\right]$"
      ],
      "text/plain": [
       "Eq(k, Matrix([\n",
       "[0, 1, 1, 3],\n",
       "[ , 0, 2, 3],\n",
       "[ ,  , 0, 3],\n",
       "[ ,  ,  , 0]]))"
      ]
     },
     "metadata": {},
     "output_type": "display_data"
    },
    {
     "data": {
      "text/latex": [
       "$\\displaystyle C = \\left[\\begin{matrix}0 & 24 & 28 & 58\\\\ & 0 & 16 & 36\\\\ &  & 0 & 40\\\\ &  &  & 0\\end{matrix}\\right]$"
      ],
      "text/plain": [
       "Eq(C, Matrix([\n",
       "[0, 24, 28, 58],\n",
       "[ ,  0, 16, 36],\n",
       "[ ,   ,  0, 40],\n",
       "[ ,   ,   ,  0]]))"
      ]
     },
     "metadata": {},
     "output_type": "display_data"
    },
    {
     "name": "stdout",
     "output_type": "stream",
     "text": [
      "\n",
      "\n",
      "Minimum number of scalar multiplications required is: 58\n",
      "\n",
      "Optimal Parenthesization is:\n"
     ]
    },
    {
     "data": {
      "text/latex": [
       "$\\displaystyle ((A_{1}(A_{2}A_{3}))A_{4})$"
      ],
      "text/plain": [
       "((A_{1}(A_{2}A_{3}))A_{4})"
      ]
     },
     "metadata": {},
     "output_type": "display_data"
    }
   ],
   "source": [
    "matrix_chain_mult([3,2,4,2,5])"
   ]
  },
  {
   "cell_type": "code",
   "execution_count": null,
   "id": "37538ce1",
   "metadata": {},
   "outputs": [],
   "source": []
  }
 ],
 "metadata": {
  "kernelspec": {
   "display_name": "Python 3 (ipykernel)",
   "language": "python",
   "name": "python3"
  },
  "language_info": {
   "codemirror_mode": {
    "name": "ipython",
    "version": 3
   },
   "file_extension": ".py",
   "mimetype": "text/x-python",
   "name": "python",
   "nbconvert_exporter": "python",
   "pygments_lexer": "ipython3",
   "version": "3.7.6"
  }
 },
 "nbformat": 4,
 "nbformat_minor": 5
}
