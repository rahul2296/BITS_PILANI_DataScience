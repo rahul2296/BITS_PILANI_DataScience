{
 "cells": [
  {
   "cell_type": "code",
   "execution_count": 1,
   "id": "4c45ad0c",
   "metadata": {},
   "outputs": [],
   "source": [
    "import pandas as pd\n",
    "import numpy as np"
   ]
  },
  {
   "cell_type": "code",
   "execution_count": 57,
   "id": "c636e7ae",
   "metadata": {},
   "outputs": [],
   "source": [
    "def zero_one_knapsack(W, wt, val, items = None):\n",
    "    n =len(val)\n",
    "    V = [[0 for x in range(W + 1)] for x in range(n + 1)]\n",
    "    \n",
    "    if not items:\n",
    "        items = np.arange(1,n+1)\n",
    "        \n",
    "    items_df = pd.DataFrame(data=np.array([items, wt, val]).T,  columns=['Item', 'Weight', 'Value'])\n",
    "    print('Given input data:\\n')\n",
    "    print(items_df)\n",
    "    \n",
    "#     print(f'Weights: {wt}')\n",
    "#     print(f'\\nValues: {val}')\n",
    "    print(f'\\nW = {W}, n= {n}')\n",
    "    \n",
    "    print(f'\\nInitiating 0/1 Knapsack Algorithn with above parameters\\n')\n",
    "    \n",
    "    #V_df = pd.DataFrame(V)\n",
    "  \n",
    "    # Build table K[][] in bottom up manner\n",
    "    for i in range(n + 1):\n",
    "        for w in range(W + 1):\n",
    "            if i == 0 or w == 0:\n",
    "                V[i][w] = 0\n",
    "            elif wt[i-1] <= w:\n",
    "                V[i][w] = max(val[i-1] + V[i-1][w-wt[i-1]],  V[i-1][w])\n",
    "            else:\n",
    "                V[i][w] = V[i-1][w]\n",
    "    \n",
    "    V_df =pd.DataFrame(V)\n",
    "    V_df.index.name = 'i/W'\n",
    "    \n",
    "    print('\\nKnapsack table:\\n')\n",
    "    print(V_df)\n",
    "    \n",
    "    knapsack = []\n",
    "    \n",
    "    i = n\n",
    "    k = W\n",
    "    while i > 0 and k > 0:\n",
    "        if V[i][k] != V[i-1][k]:\n",
    "            k -= wt[i-1]\n",
    "            knapsack.append(items[i-1])\n",
    "        i-=1\n",
    "    \n",
    "    knapsack.sort()\n",
    "    \n",
    "    print(f'\\nThe max possible value that can be carried in the knapsack: {V[n][W]}') \n",
    "    print(f'\\nThe optimal knapsack should contain items: {knapsack}')\n",
    "  \n"
   ]
  },
  {
   "cell_type": "code",
   "execution_count": 60,
   "id": "1b6ac5c3",
   "metadata": {},
   "outputs": [
    {
     "name": "stdout",
     "output_type": "stream",
     "text": [
      "Given input data:\n",
      "\n",
      "  Item Weight Value\n",
      "0    A      2     3\n",
      "1    B      3     4\n",
      "2    C      4     5\n",
      "3    D      5     6\n",
      "\n",
      "W = 5, n= 4\n",
      "\n",
      "Initiating 0/1 Knapsack Algorithn with above parameters\n",
      "\n",
      "\n",
      "Knapsack table:\n",
      "\n",
      "     0  1  2  3  4  5\n",
      "i/W                  \n",
      "0    0  0  0  0  0  0\n",
      "1    0  0  3  3  3  3\n",
      "2    0  0  3  4  4  7\n",
      "3    0  0  3  4  5  7\n",
      "4    0  0  3  4  5  7\n",
      "\n",
      "The max possible value that can be carried in the knapsack: 7\n",
      "\n",
      "The optimal knapsack should contain items: ['A', 'B']\n"
     ]
    }
   ],
   "source": [
    "items = ['A', 'B', 'C', 'D']\n",
    "val = [3,4,5,6]\n",
    "wt = [2,3,4,5]\n",
    "W = 5\n",
    "\n",
    "zero_one_knapsack(W, wt, val, items)"
   ]
  },
  {
   "cell_type": "code",
   "execution_count": null,
   "id": "da5872f6",
   "metadata": {},
   "outputs": [],
   "source": []
  }
 ],
 "metadata": {
  "kernelspec": {
   "display_name": "Python 3 (ipykernel)",
   "language": "python",
   "name": "python3"
  },
  "language_info": {
   "codemirror_mode": {
    "name": "ipython",
    "version": 3
   },
   "file_extension": ".py",
   "mimetype": "text/x-python",
   "name": "python",
   "nbconvert_exporter": "python",
   "pygments_lexer": "ipython3",
   "version": "3.7.6"
  }
 },
 "nbformat": 4,
 "nbformat_minor": 5
}
