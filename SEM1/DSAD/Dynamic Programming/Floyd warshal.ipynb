{
 "cells": [
  {
   "cell_type": "markdown",
   "id": "25b23619",
   "metadata": {},
   "source": [
    "## Floyd-Warshall Transitive Closure"
   ]
  },
  {
   "cell_type": "code",
   "execution_count": 1,
   "id": "d5646569",
   "metadata": {},
   "outputs": [],
   "source": [
    "import numpy as np\n",
    "from sympy import *"
   ]
  },
  {
   "cell_type": "code",
   "execution_count": 2,
   "id": "e8296730",
   "metadata": {},
   "outputs": [
    {
     "data": {
      "application/javascript": [
       "IPython.OutputArea.prototype._should_scroll = function(lines) {\n",
       "    return false;\n",
       "}\n"
      ],
      "text/plain": [
       "<IPython.core.display.Javascript object>"
      ]
     },
     "metadata": {},
     "output_type": "display_data"
    }
   ],
   "source": [
    "%%javascript\n",
    "IPython.OutputArea.prototype._should_scroll = function(lines) {\n",
    "    return false;\n",
    "}"
   ]
  },
  {
   "cell_type": "code",
   "execution_count": 13,
   "id": "14ddc2a4",
   "metadata": {},
   "outputs": [],
   "source": [
    "def floyd_warshal_tc(input_matrix):\n",
    "    R_0 = input_matrix\n",
    "    R_k_1 = R_0\n",
    "    R_k = np.zeros(input_matrix.shape)\n",
    "    N = input_matrix.shape[0]\n",
    "    #print(f'R\\u2070:\\n{R_0}')\n",
    "    print('Adjacency Matrix\\n')\n",
    "    display(Eq(MatrixSymbol('R^0',N,N), Matrix(R_0)))\n",
    "    print('\\nFloyd Warshal Transitive Closure Formula for Matrix Generation:\\n')\n",
    "    display(Eq(Symbol('R^{k}[i,j]'),Or(Symbol('R^{(k-1)}[i,j]'),And(Symbol('R^{(k-1)}[i,k]'),Symbol('R^{(k-1)}[k,j]')))))\n",
    "    print()\n",
    "    for k in range(N):\n",
    "        display(Eq(Symbol('k'), k+1))\n",
    "        print()\n",
    "        display(Eq(Symbol(f'R^{{{k+1}}}[i,j]'),Or(Symbol(f'R^{{{k}}}[i,j]'),And(Symbol(f'R^{{{k}}}[i,k]'),Symbol(f'R^{{{k}}}[k,j]')))))\n",
    "        print()\n",
    "        for i in range(N):\n",
    "            for j in range(N):\n",
    "                R_k[i,j] = R_k_1[i,j].astype(bool) | (R_k_1[i,k].astype(bool) & R_k_1[k,j].astype(bool))\n",
    "                #R_k[i,j] = int(R_k[i,j].astype(int))\n",
    "        #print(f'\\nR_{k+1}:\\n{R_k}')\n",
    "        R_k = R_k.astype(int)\n",
    "        display(Eq(MatrixSymbol(f'R^{k+1}',N,N), Matrix(R_k)))\n",
    "        print()\n",
    "        R_k_1 = R_k\n",
    "    print(f'\\nTransitive Closure T: \\n')  \n",
    "    display(Matrix(R_k))\n",
    "    "
   ]
  },
  {
   "cell_type": "code",
   "execution_count": 14,
   "id": "b90deb8b",
   "metadata": {},
   "outputs": [
    {
     "name": "stdout",
     "output_type": "stream",
     "text": [
      "Adjacency Matrix\n",
      "\n"
     ]
    },
    {
     "data": {
      "text/latex": [
       "$\\displaystyle R^{0} = \\left[\\begin{matrix}0 & 1 & 0 & 1 & 0\\\\0 & 0 & 0 & 0 & 0\\\\0 & 1 & 0 & 0 & 0\\\\0 & 0 & 1 & 0 & 1\\\\0 & 0 & 1 & 0 & 0\\end{matrix}\\right]$"
      ],
      "text/plain": [
       "Eq(R^0, Matrix([\n",
       "[0, 1, 0, 1, 0],\n",
       "[0, 0, 0, 0, 0],\n",
       "[0, 1, 0, 0, 0],\n",
       "[0, 0, 1, 0, 1],\n",
       "[0, 0, 1, 0, 0]]))"
      ]
     },
     "metadata": {},
     "output_type": "display_data"
    },
    {
     "name": "stdout",
     "output_type": "stream",
     "text": [
      "\n",
      "Floyd Warshal Transitive Closure Formula for Matrix Generation:\n",
      "\n"
     ]
    },
    {
     "data": {
      "text/latex": [
       "$\\displaystyle R^{k}[i,j] = R^{(k-1)}[i,j] \\vee \\left(R^{(k-1)}[i,k] \\wedge R^{(k-1)}[k,j]\\right)$"
      ],
      "text/plain": [
       "Eq(R^{k}[i,j], R^{(k-1)}[i,j] | (R^{(k-1)}[i,k] & R^{(k-1)}[k,j]))"
      ]
     },
     "metadata": {},
     "output_type": "display_data"
    },
    {
     "name": "stdout",
     "output_type": "stream",
     "text": [
      "\n"
     ]
    },
    {
     "data": {
      "text/latex": [
       "$\\displaystyle k = 1$"
      ],
      "text/plain": [
       "Eq(k, 1)"
      ]
     },
     "metadata": {},
     "output_type": "display_data"
    },
    {
     "name": "stdout",
     "output_type": "stream",
     "text": [
      "\n"
     ]
    },
    {
     "data": {
      "text/latex": [
       "$\\displaystyle R^{1}[i,j] = R^{0}[i,j] \\vee \\left(R^{0}[i,k] \\wedge R^{0}[k,j]\\right)$"
      ],
      "text/plain": [
       "Eq(R^{1}[i,j], R^{0}[i,j] | (R^{0}[i,k] & R^{0}[k,j]))"
      ]
     },
     "metadata": {},
     "output_type": "display_data"
    },
    {
     "name": "stdout",
     "output_type": "stream",
     "text": [
      "\n"
     ]
    },
    {
     "data": {
      "text/latex": [
       "$\\displaystyle R^{1} = \\left[\\begin{matrix}0 & 1 & 0 & 1 & 0\\\\0 & 0 & 0 & 0 & 0\\\\0 & 1 & 0 & 0 & 0\\\\0 & 0 & 1 & 0 & 1\\\\0 & 0 & 1 & 0 & 0\\end{matrix}\\right]$"
      ],
      "text/plain": [
       "Eq(R^1, Matrix([\n",
       "[0, 1, 0, 1, 0],\n",
       "[0, 0, 0, 0, 0],\n",
       "[0, 1, 0, 0, 0],\n",
       "[0, 0, 1, 0, 1],\n",
       "[0, 0, 1, 0, 0]]))"
      ]
     },
     "metadata": {},
     "output_type": "display_data"
    },
    {
     "name": "stdout",
     "output_type": "stream",
     "text": [
      "\n"
     ]
    },
    {
     "data": {
      "text/latex": [
       "$\\displaystyle k = 2$"
      ],
      "text/plain": [
       "Eq(k, 2)"
      ]
     },
     "metadata": {},
     "output_type": "display_data"
    },
    {
     "name": "stdout",
     "output_type": "stream",
     "text": [
      "\n"
     ]
    },
    {
     "data": {
      "text/latex": [
       "$\\displaystyle R^{2}[i,j] = R^{1}[i,j] \\vee \\left(R^{1}[i,k] \\wedge R^{1}[k,j]\\right)$"
      ],
      "text/plain": [
       "Eq(R^{2}[i,j], R^{1}[i,j] | (R^{1}[i,k] & R^{1}[k,j]))"
      ]
     },
     "metadata": {},
     "output_type": "display_data"
    },
    {
     "name": "stdout",
     "output_type": "stream",
     "text": [
      "\n"
     ]
    },
    {
     "data": {
      "text/latex": [
       "$\\displaystyle R^{2} = \\left[\\begin{matrix}0 & 1 & 0 & 1 & 0\\\\0 & 0 & 0 & 0 & 0\\\\0 & 1 & 0 & 0 & 0\\\\0 & 0 & 1 & 0 & 1\\\\0 & 0 & 1 & 0 & 0\\end{matrix}\\right]$"
      ],
      "text/plain": [
       "Eq(R^2, Matrix([\n",
       "[0, 1, 0, 1, 0],\n",
       "[0, 0, 0, 0, 0],\n",
       "[0, 1, 0, 0, 0],\n",
       "[0, 0, 1, 0, 1],\n",
       "[0, 0, 1, 0, 0]]))"
      ]
     },
     "metadata": {},
     "output_type": "display_data"
    },
    {
     "name": "stdout",
     "output_type": "stream",
     "text": [
      "\n"
     ]
    },
    {
     "data": {
      "text/latex": [
       "$\\displaystyle k = 3$"
      ],
      "text/plain": [
       "Eq(k, 3)"
      ]
     },
     "metadata": {},
     "output_type": "display_data"
    },
    {
     "name": "stdout",
     "output_type": "stream",
     "text": [
      "\n"
     ]
    },
    {
     "data": {
      "text/latex": [
       "$\\displaystyle R^{3}[i,j] = R^{2}[i,j] \\vee \\left(R^{2}[i,k] \\wedge R^{2}[k,j]\\right)$"
      ],
      "text/plain": [
       "Eq(R^{3}[i,j], R^{2}[i,j] | (R^{2}[i,k] & R^{2}[k,j]))"
      ]
     },
     "metadata": {},
     "output_type": "display_data"
    },
    {
     "name": "stdout",
     "output_type": "stream",
     "text": [
      "\n"
     ]
    },
    {
     "data": {
      "text/latex": [
       "$\\displaystyle R^{3} = \\left[\\begin{matrix}0 & 1 & 0 & 1 & 0\\\\0 & 0 & 0 & 0 & 0\\\\0 & 1 & 0 & 0 & 0\\\\0 & 1 & 1 & 0 & 1\\\\0 & 1 & 1 & 0 & 0\\end{matrix}\\right]$"
      ],
      "text/plain": [
       "Eq(R^3, Matrix([\n",
       "[0, 1, 0, 1, 0],\n",
       "[0, 0, 0, 0, 0],\n",
       "[0, 1, 0, 0, 0],\n",
       "[0, 1, 1, 0, 1],\n",
       "[0, 1, 1, 0, 0]]))"
      ]
     },
     "metadata": {},
     "output_type": "display_data"
    },
    {
     "name": "stdout",
     "output_type": "stream",
     "text": [
      "\n"
     ]
    },
    {
     "data": {
      "text/latex": [
       "$\\displaystyle k = 4$"
      ],
      "text/plain": [
       "Eq(k, 4)"
      ]
     },
     "metadata": {},
     "output_type": "display_data"
    },
    {
     "name": "stdout",
     "output_type": "stream",
     "text": [
      "\n"
     ]
    },
    {
     "data": {
      "text/latex": [
       "$\\displaystyle R^{4}[i,j] = R^{3}[i,j] \\vee \\left(R^{3}[i,k] \\wedge R^{3}[k,j]\\right)$"
      ],
      "text/plain": [
       "Eq(R^{4}[i,j], R^{3}[i,j] | (R^{3}[i,k] & R^{3}[k,j]))"
      ]
     },
     "metadata": {},
     "output_type": "display_data"
    },
    {
     "name": "stdout",
     "output_type": "stream",
     "text": [
      "\n"
     ]
    },
    {
     "data": {
      "text/latex": [
       "$\\displaystyle R^{4} = \\left[\\begin{matrix}0 & 1 & 1 & 1 & 1\\\\0 & 0 & 0 & 0 & 0\\\\0 & 1 & 0 & 0 & 0\\\\0 & 1 & 1 & 0 & 1\\\\0 & 1 & 1 & 0 & 0\\end{matrix}\\right]$"
      ],
      "text/plain": [
       "Eq(R^4, Matrix([\n",
       "[0, 1, 1, 1, 1],\n",
       "[0, 0, 0, 0, 0],\n",
       "[0, 1, 0, 0, 0],\n",
       "[0, 1, 1, 0, 1],\n",
       "[0, 1, 1, 0, 0]]))"
      ]
     },
     "metadata": {},
     "output_type": "display_data"
    },
    {
     "name": "stdout",
     "output_type": "stream",
     "text": [
      "\n"
     ]
    },
    {
     "data": {
      "text/latex": [
       "$\\displaystyle k = 5$"
      ],
      "text/plain": [
       "Eq(k, 5)"
      ]
     },
     "metadata": {},
     "output_type": "display_data"
    },
    {
     "name": "stdout",
     "output_type": "stream",
     "text": [
      "\n"
     ]
    },
    {
     "data": {
      "text/latex": [
       "$\\displaystyle R^{5}[i,j] = R^{4}[i,j] \\vee \\left(R^{4}[i,k] \\wedge R^{4}[k,j]\\right)$"
      ],
      "text/plain": [
       "Eq(R^{5}[i,j], R^{4}[i,j] | (R^{4}[i,k] & R^{4}[k,j]))"
      ]
     },
     "metadata": {},
     "output_type": "display_data"
    },
    {
     "name": "stdout",
     "output_type": "stream",
     "text": [
      "\n"
     ]
    },
    {
     "data": {
      "text/latex": [
       "$\\displaystyle R^{5} = \\left[\\begin{matrix}0 & 1 & 1 & 1 & 1\\\\0 & 0 & 0 & 0 & 0\\\\0 & 1 & 0 & 0 & 0\\\\0 & 1 & 1 & 0 & 1\\\\0 & 1 & 1 & 0 & 0\\end{matrix}\\right]$"
      ],
      "text/plain": [
       "Eq(R^5, Matrix([\n",
       "[0, 1, 1, 1, 1],\n",
       "[0, 0, 0, 0, 0],\n",
       "[0, 1, 0, 0, 0],\n",
       "[0, 1, 1, 0, 1],\n",
       "[0, 1, 1, 0, 0]]))"
      ]
     },
     "metadata": {},
     "output_type": "display_data"
    },
    {
     "name": "stdout",
     "output_type": "stream",
     "text": [
      "\n",
      "\n",
      "Transitive Closure T: \n",
      "\n"
     ]
    },
    {
     "data": {
      "text/latex": [
       "$\\displaystyle \\left[\\begin{matrix}0 & 1 & 1 & 1 & 1\\\\0 & 0 & 0 & 0 & 0\\\\0 & 1 & 0 & 0 & 0\\\\0 & 1 & 1 & 0 & 1\\\\0 & 1 & 1 & 0 & 0\\end{matrix}\\right]$"
      ],
      "text/plain": [
       "Matrix([\n",
       "[0, 1, 1, 1, 1],\n",
       "[0, 0, 0, 0, 0],\n",
       "[0, 1, 0, 0, 0],\n",
       "[0, 1, 1, 0, 1],\n",
       "[0, 1, 1, 0, 0]])"
      ]
     },
     "metadata": {},
     "output_type": "display_data"
    }
   ],
   "source": [
    "floyd_warshal_tc(np.array([[0,1,0,1,0],[0,0,0,0,0],[0,1,0,0,0],[0,0,1,0,1],[0,0,1,0,0]]))"
   ]
  },
  {
   "cell_type": "markdown",
   "id": "e554bd6a",
   "metadata": {},
   "source": [
    "## Floyd-Warshall All Pair shortest path"
   ]
  },
  {
   "cell_type": "code",
   "execution_count": 33,
   "id": "f6ce4c31",
   "metadata": {},
   "outputs": [],
   "source": [
    "def floyd_warshal_apsp(input_matrix):\n",
    "    \"\"\"\n",
    "    Implements Floyd's algorithm for all-pairs shortest-path problem\n",
    "    :param input_matrix: The weight matrix of the graph with no negative length cycle\n",
    "    \n",
    "    :return: The distance matrix of shortest path's lenghts\n",
    "    \"\"\"\n",
    "    D_0 = input_matrix\n",
    "    D_k_1 = D_0\n",
    "    D_k = np.zeros(input_matrix.shape)\n",
    "    N = input_matrix.shape[0]\n",
    "    print('Cost Adjacency Matrix\\n')\n",
    "    display(Eq(MatrixSymbol('D^0',N,N), Matrix(D_0)))\n",
    "    #print(f'D\\u2070:\\n{D_0}')\n",
    "    print('\\nFloyd Warshal Equation for all pair shortest path:\\n')\n",
    "    display(Eq(Symbol('D^{k}[i,j]'),Symbol('min (D^{(k-1)}[i,j] , D^{(k-1)}[i,k]+D^{(k-1)}[k,j])')))\n",
    "    print()\n",
    "    for k in range(N):\n",
    "        display(Eq(Symbol('k'), k+1))\n",
    "        print()\n",
    "        display(Eq(Symbol(f'D^{{{k+1}}}[i,j]'),Symbol(f'min (D^{{{k}}}[i,j] , D^{{{k}}}[i,k]+D^{{{k}}}[k,j])')))\n",
    "        print()\n",
    "        for i in range(N):\n",
    "            for j in range(N):\n",
    "                D_k[i,j] = min(D_k_1[i,j] , (D_k_1[i,k] + D_k_1[k,j]))                \n",
    "        #print(f'\\nD_{k+1}:\\n{D_k}')\n",
    "        display(Eq(MatrixSymbol(f'D^{k+1}',N,N), Matrix(D_k)))\n",
    "        D_k_1 = D_k\n",
    "    print(f'\\nShortest path Matrix: \\n')  \n",
    "    display(Matrix(D_k))"
   ]
  },
  {
   "cell_type": "code",
   "execution_count": 34,
   "id": "021ba61b",
   "metadata": {},
   "outputs": [
    {
     "name": "stdout",
     "output_type": "stream",
     "text": [
      "Cost Adjacency Matrix\n",
      "\n"
     ]
    },
    {
     "data": {
      "text/latex": [
       "$\\displaystyle D^{0} = \\left[\\begin{matrix}0 & \\infty & 3.0 & \\infty\\\\2.0 & 0 & \\infty & \\infty\\\\\\infty & 7.0 & 0 & 1.0\\\\6.0 & \\infty & \\infty & 0\\end{matrix}\\right]$"
      ],
      "text/plain": [
       "Eq(D^0, Matrix([\n",
       "[  0,  oo, 3.0,  oo],\n",
       "[2.0,   0,  oo,  oo],\n",
       "[ oo, 7.0,   0, 1.0],\n",
       "[6.0,  oo,  oo,   0]]))"
      ]
     },
     "metadata": {},
     "output_type": "display_data"
    },
    {
     "name": "stdout",
     "output_type": "stream",
     "text": [
      "\n",
      "Floyd Warshal Equation for all pair shortest path:\n",
      "\n"
     ]
    },
    {
     "data": {
      "text/latex": [
       "$\\displaystyle D^{k}[i,j] = min (D^{(k-1)}[i,j] , D^{(k-1)}[i,k]+D^{(k-1)}[k,j])$"
      ],
      "text/plain": [
       "Eq(D^{k}[i,j], min (D^{(k-1)}[i,j] , D^{(k-1)}[i,k]+D^{(k-1)}[k,j]))"
      ]
     },
     "metadata": {},
     "output_type": "display_data"
    },
    {
     "name": "stdout",
     "output_type": "stream",
     "text": [
      "\n"
     ]
    },
    {
     "data": {
      "text/latex": [
       "$\\displaystyle k = 1$"
      ],
      "text/plain": [
       "Eq(k, 1)"
      ]
     },
     "metadata": {},
     "output_type": "display_data"
    },
    {
     "name": "stdout",
     "output_type": "stream",
     "text": [
      "\n"
     ]
    },
    {
     "data": {
      "text/latex": [
       "$\\displaystyle D^{1}[i,j] = min (D^{0}[i,j] , D^{0}[i,k]+D^{0}[k,j])$"
      ],
      "text/plain": [
       "Eq(D^{1}[i,j], min (D^{0}[i,j] , D^{0}[i,k]+D^{0}[k,j]))"
      ]
     },
     "metadata": {},
     "output_type": "display_data"
    },
    {
     "name": "stdout",
     "output_type": "stream",
     "text": [
      "\n"
     ]
    },
    {
     "data": {
      "text/latex": [
       "$\\displaystyle D^{1} = \\left[\\begin{matrix}0 & \\infty & 3.0 & \\infty\\\\2.0 & 0 & 5.0 & \\infty\\\\\\infty & 7.0 & 0 & 1.0\\\\6.0 & \\infty & 9.0 & 0\\end{matrix}\\right]$"
      ],
      "text/plain": [
       "Eq(D^1, Matrix([\n",
       "[  0,  oo, 3.0,  oo],\n",
       "[2.0,   0, 5.0,  oo],\n",
       "[ oo, 7.0,   0, 1.0],\n",
       "[6.0,  oo, 9.0,   0]]))"
      ]
     },
     "metadata": {},
     "output_type": "display_data"
    },
    {
     "data": {
      "text/latex": [
       "$\\displaystyle k = 2$"
      ],
      "text/plain": [
       "Eq(k, 2)"
      ]
     },
     "metadata": {},
     "output_type": "display_data"
    },
    {
     "name": "stdout",
     "output_type": "stream",
     "text": [
      "\n"
     ]
    },
    {
     "data": {
      "text/latex": [
       "$\\displaystyle D^{2}[i,j] = min (D^{1}[i,j] , D^{1}[i,k]+D^{1}[k,j])$"
      ],
      "text/plain": [
       "Eq(D^{2}[i,j], min (D^{1}[i,j] , D^{1}[i,k]+D^{1}[k,j]))"
      ]
     },
     "metadata": {},
     "output_type": "display_data"
    },
    {
     "name": "stdout",
     "output_type": "stream",
     "text": [
      "\n"
     ]
    },
    {
     "data": {
      "text/latex": [
       "$\\displaystyle D^{2} = \\left[\\begin{matrix}0 & \\infty & 3.0 & \\infty\\\\2.0 & 0 & 5.0 & \\infty\\\\9.0 & 7.0 & 0 & 1.0\\\\6.0 & \\infty & 9.0 & 0\\end{matrix}\\right]$"
      ],
      "text/plain": [
       "Eq(D^2, Matrix([\n",
       "[  0,  oo, 3.0,  oo],\n",
       "[2.0,   0, 5.0,  oo],\n",
       "[9.0, 7.0,   0, 1.0],\n",
       "[6.0,  oo, 9.0,   0]]))"
      ]
     },
     "metadata": {},
     "output_type": "display_data"
    },
    {
     "data": {
      "text/latex": [
       "$\\displaystyle k = 3$"
      ],
      "text/plain": [
       "Eq(k, 3)"
      ]
     },
     "metadata": {},
     "output_type": "display_data"
    },
    {
     "name": "stdout",
     "output_type": "stream",
     "text": [
      "\n"
     ]
    },
    {
     "data": {
      "text/latex": [
       "$\\displaystyle D^{3}[i,j] = min (D^{2}[i,j] , D^{2}[i,k]+D^{2}[k,j])$"
      ],
      "text/plain": [
       "Eq(D^{3}[i,j], min (D^{2}[i,j] , D^{2}[i,k]+D^{2}[k,j]))"
      ]
     },
     "metadata": {},
     "output_type": "display_data"
    },
    {
     "name": "stdout",
     "output_type": "stream",
     "text": [
      "\n"
     ]
    },
    {
     "data": {
      "text/latex": [
       "$\\displaystyle D^{3} = \\left[\\begin{matrix}0 & 10.0 & 3.0 & 4.0\\\\2.0 & 0 & 5.0 & 6.0\\\\9.0 & 7.0 & 0 & 1.0\\\\6.0 & 16.0 & 9.0 & 0\\end{matrix}\\right]$"
      ],
      "text/plain": [
       "Eq(D^3, Matrix([\n",
       "[  0, 10.0, 3.0, 4.0],\n",
       "[2.0,    0, 5.0, 6.0],\n",
       "[9.0,  7.0,   0, 1.0],\n",
       "[6.0, 16.0, 9.0,   0]]))"
      ]
     },
     "metadata": {},
     "output_type": "display_data"
    },
    {
     "data": {
      "text/latex": [
       "$\\displaystyle k = 4$"
      ],
      "text/plain": [
       "Eq(k, 4)"
      ]
     },
     "metadata": {},
     "output_type": "display_data"
    },
    {
     "name": "stdout",
     "output_type": "stream",
     "text": [
      "\n"
     ]
    },
    {
     "data": {
      "text/latex": [
       "$\\displaystyle D^{4}[i,j] = min (D^{3}[i,j] , D^{3}[i,k]+D^{3}[k,j])$"
      ],
      "text/plain": [
       "Eq(D^{4}[i,j], min (D^{3}[i,j] , D^{3}[i,k]+D^{3}[k,j]))"
      ]
     },
     "metadata": {},
     "output_type": "display_data"
    },
    {
     "name": "stdout",
     "output_type": "stream",
     "text": [
      "\n"
     ]
    },
    {
     "data": {
      "text/latex": [
       "$\\displaystyle D^{4} = \\left[\\begin{matrix}0 & 10.0 & 3.0 & 4.0\\\\2.0 & 0 & 5.0 & 6.0\\\\7.0 & 7.0 & 0 & 1.0\\\\6.0 & 16.0 & 9.0 & 0\\end{matrix}\\right]$"
      ],
      "text/plain": [
       "Eq(D^4, Matrix([\n",
       "[  0, 10.0, 3.0, 4.0],\n",
       "[2.0,    0, 5.0, 6.0],\n",
       "[7.0,  7.0,   0, 1.0],\n",
       "[6.0, 16.0, 9.0,   0]]))"
      ]
     },
     "metadata": {},
     "output_type": "display_data"
    },
    {
     "name": "stdout",
     "output_type": "stream",
     "text": [
      "\n",
      "Shortest path Matrix: \n",
      "\n"
     ]
    },
    {
     "data": {
      "text/latex": [
       "$\\displaystyle \\left[\\begin{matrix}0 & 10.0 & 3.0 & 4.0\\\\2.0 & 0 & 5.0 & 6.0\\\\7.0 & 7.0 & 0 & 1.0\\\\6.0 & 16.0 & 9.0 & 0\\end{matrix}\\right]$"
      ],
      "text/plain": [
       "Matrix([\n",
       "[  0, 10.0, 3.0, 4.0],\n",
       "[2.0,    0, 5.0, 6.0],\n",
       "[7.0,  7.0,   0, 1.0],\n",
       "[6.0, 16.0, 9.0,   0]])"
      ]
     },
     "metadata": {},
     "output_type": "display_data"
    }
   ],
   "source": [
    "floyd_warshal_apsp(np.array([[0,np.inf,3,np.inf],[2,0,np.inf,np.inf],[np.inf,7,0,1],[6,np.inf,np.inf,0]]))"
   ]
  },
  {
   "cell_type": "code",
   "execution_count": null,
   "id": "580a687a",
   "metadata": {},
   "outputs": [],
   "source": []
  }
 ],
 "metadata": {
  "kernelspec": {
   "display_name": "Python 3 (ipykernel)",
   "language": "python",
   "name": "python3"
  },
  "language_info": {
   "codemirror_mode": {
    "name": "ipython",
    "version": 3
   },
   "file_extension": ".py",
   "mimetype": "text/x-python",
   "name": "python",
   "nbconvert_exporter": "python",
   "pygments_lexer": "ipython3",
   "version": "3.7.6"
  }
 },
 "nbformat": 4,
 "nbformat_minor": 5
}
