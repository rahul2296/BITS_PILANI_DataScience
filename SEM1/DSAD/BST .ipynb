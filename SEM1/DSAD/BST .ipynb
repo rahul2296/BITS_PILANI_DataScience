{
 "cells": [
  {
   "cell_type": "code",
   "execution_count": 15,
   "id": "1850f99b",
   "metadata": {},
   "outputs": [
    {
     "data": {
      "application/javascript": [
       "IPython.OutputArea.prototype._should_scroll = function(lines) {\n",
       "    return false;\n",
       "}\n"
      ],
      "text/plain": [
       "<IPython.core.display.Javascript object>"
      ]
     },
     "metadata": {},
     "output_type": "display_data"
    }
   ],
   "source": [
    "%%javascript\n",
    "IPython.OutputArea.prototype._should_scroll = function(lines) {\n",
    "    return false;\n",
    "}"
   ]
  },
  {
   "cell_type": "code",
   "execution_count": 64,
   "id": "c9646749",
   "metadata": {},
   "outputs": [],
   "source": [
    "class BSTNode:\n",
    "    \n",
    "    @classmethod\n",
    "    def construct_from_list(cls, bst_list, print_step = True):\n",
    "        print(f'Input List:\\n {bst_list}')\n",
    "        bst = BSTNode(bst_list[0], print_step=print_step)\n",
    "        if len(bst_list) > 1:\n",
    "            for e in bst_list:                \n",
    "                bst.insert(e)\n",
    "        return bst \n",
    "    \n",
    "    def __init__(self, val, parent = None, child_type = None, print_step = False):\n",
    "        self.val = val\n",
    "        self.left = None\n",
    "        self.right = None\n",
    "        self.parent = parent\n",
    "        self.child_type = child_type\n",
    "        self.print_step = print_step\n",
    "        \n",
    "    def insert(self, val):\n",
    "\n",
    "        if self.val:\n",
    "            if val < self.val:\n",
    "                if self.left is None:\n",
    "                    self.left = BSTNode(val, self, 'left')\n",
    "                else:\n",
    "                    self.left.insert(val)\n",
    "            elif val > self.val:\n",
    "                if self.right is None:\n",
    "                    self.right = BSTNode(val, self, 'right')\n",
    "                else:\n",
    "                    self.right.insert(val)\n",
    "        else:\n",
    "            self.val = val\n",
    "        \n",
    "        if self.print_step:\n",
    "            print(f'\\nInserting {val}\\n')\n",
    "            self.print_tree()\n",
    "            \n",
    "            \n",
    "    def find_element(self, val):\n",
    "        if self.val:\n",
    "            if self.val == val:               \n",
    "                return self\n",
    "            elif self.val < val:\n",
    "                if self.right:\n",
    "                    return self.right.find_element(val)\n",
    "                else:\n",
    "                    return None\n",
    "            else:\n",
    "                if self.left:\n",
    "                    return self.left.find_element(val)\n",
    "                else:\n",
    "                    return None\n",
    "        else:\n",
    "            return None\n",
    "    def find_maximum(self):\n",
    "        x = self\n",
    "        while x.right:\n",
    "            x = x.right\n",
    "        return x\n",
    "    \n",
    "    def find_minimum(self):\n",
    "        x = self\n",
    "        while x.left:\n",
    "            x = x.left\n",
    "        return x\n",
    "        \n",
    "    def delete(self, val):\n",
    "        node = self.find_element(val)\n",
    "        if self.print_step:\n",
    "            self.print_tree()\n",
    "        if node:\n",
    "            # case - 1: node is a leaf node\n",
    "            if not node.left and not node.right:\n",
    "                if self.print_step:\n",
    "                    print(f'\\nNode {val} has no children(leaf)')\n",
    "                node.del_node()\n",
    "            # case - 2: node has single child\n",
    "            elif not node.left and node.right: \n",
    "                if self.print_step:\n",
    "                    print(f'\\nNode {val} has single child (right)')\n",
    "                node.right.short_circuit()\n",
    "                    \n",
    "            elif node.left and not node.right:\n",
    "                if self.print_step:\n",
    "                    print(f'\\nNode {val} has single child (left)')\n",
    "                node.left.short_circuit()\n",
    "                #node.del_node()\n",
    "            # case - 3: node has both children\n",
    "            elif node.left and node.right:\n",
    "                if self.print_step:\n",
    "                    print(f'\\nNode {val} has both children')\n",
    "                    print(f'\\nFinding successor of {val}')\n",
    "                successor = self.find_successor()                \n",
    "                node.val = successor.val\n",
    "                if self.print_step:\n",
    "                    print(f'\\nSuccessor is {successor.val}')\n",
    "                    print(f'\\nReplacing {val} with {successor.val}\\n')\n",
    "                    self.print_tree()\n",
    "                if self.print_step:\n",
    "                    print(f'\\nDeleting {successor.val}')\n",
    "                successor.delete(successor.val)\n",
    "        else:\n",
    "            print(f'element {val} not found in the tree')\n",
    "            \n",
    "        if self.print_step:\n",
    "            self.print_tree()\n",
    "            \n",
    "    def short_circuit(self):  \n",
    "        if self.print_step:\n",
    "             print(f'Short circuiting  {self.val}')\n",
    "        if self.parent.child_type == 'right':            \n",
    "            self.parent.parent.right = self\n",
    "            self.child_type = 'right'\n",
    "        elif self.parent.child_type == 'left':             \n",
    "            self.parent.parent.left = self\n",
    "            self.child_type = 'left'\n",
    "        self.parent = self.parent.parent\n",
    "                    \n",
    "    def find_successor(self):\n",
    "        if self.right:\n",
    "            return self.right.find_minimum()\n",
    "        else:\n",
    "            return self\n",
    "    def find_predessor(self):\n",
    "        if self.left:\n",
    "            return self.left.find_maximum()\n",
    "        else:\n",
    "            return self\n",
    "    \n",
    "    def go_left(self):\n",
    "        if self.left:\n",
    "            return self.left.go_left()\n",
    "        else:\n",
    "            return self\n",
    "    \n",
    "    def del_node(self):\n",
    "        if self.print_step:\n",
    "            print(f'\\nRemoving Node {val}')\n",
    "        self.val = None\n",
    "        if self.child_type:\n",
    "            if self.child_type == 'left':\n",
    "                self.parent.left = None\n",
    "            else:\n",
    "                self.parent.right = None\n",
    "        self.parent = None\n",
    "    \n",
    "    def print_tree(self):\n",
    "        lines, *_ = self.display()\n",
    "        for line in lines:\n",
    "            print(line)\n",
    "            \n",
    "        \n",
    "    def display(self):\n",
    "        \n",
    "        # No child.\n",
    "        if not self.left and not self.right:\n",
    "            line = str(self.val)\n",
    "            width = len(line)\n",
    "            height = 1\n",
    "            middle = width // 2\n",
    "            return [line], width, height, middle\n",
    "\n",
    "        # Only left child.\n",
    "        elif self.left and not self.right:\n",
    "            lines, n, p, x = self.left.display()\n",
    "            s = str(self.val)\n",
    "            u = len(s)\n",
    "            first_line = (x + 1) * ' ' + (n - x - 1) * '_' + s\n",
    "            second_line = x * ' ' + '/' + (n - x - 1 + u) * ' '\n",
    "            shifted_lines = [line + u * ' ' for line in lines]\n",
    "            return [first_line, second_line] + shifted_lines, n + u, p + 2, n + u // 2\n",
    "\n",
    "        # Only right child.\n",
    "        elif not self.left and self.right:\n",
    "            lines, n, p, x = self.right.display()\n",
    "            s = str(self.val)\n",
    "            u = len(s)\n",
    "            first_line = s + x * '_' + (n - x) * ' '\n",
    "            second_line = (u + x) * ' ' + '\\\\' + (n - x - 1) * ' '\n",
    "            shifted_lines = [u * ' ' + line for line in lines]\n",
    "            return [first_line, second_line] + shifted_lines, n + u, p + 2, u // 2\n",
    "\n",
    "        # Two children.\n",
    "        else:\n",
    "            left, n, p, x = self.left.display()\n",
    "            right, m, q, y = self.right.display()\n",
    "            s = str(self.val)\n",
    "            u = len(s)\n",
    "            first_line = (x + 1) * ' ' + (n - x - 1) * '_' + s + y * '_' + (m - y) * ' '\n",
    "            second_line = x * ' ' + '/' + (n - x - 1 + u + y) * ' ' + '\\\\' + (m - y - 1) * ' '\n",
    "            if p < q:\n",
    "                left += [n * ' '] * (q - p)\n",
    "            elif q < p:\n",
    "                right += [m * ' '] * (p - q)\n",
    "            zipped_lines = zip(left, right)\n",
    "            lines = [first_line, second_line] + [a + u * ' ' + b for a, b in zipped_lines]\n",
    "            return lines, n + m + u, max(p, q) + 2, n + u // 2\n",
    "           \n",
    "            \n",
    "\n"
   ]
  },
  {
   "cell_type": "code",
   "execution_count": 65,
   "id": "0494f4d3",
   "metadata": {},
   "outputs": [
    {
     "name": "stdout",
     "output_type": "stream",
     "text": [
      "Input List:\n",
      " [5, 4, 10, 2, 8, 13, 44, 9]\n",
      "\n",
      "Inserting 5\n",
      "\n",
      "5\n",
      "\n",
      "Inserting 4\n",
      "\n",
      " 5\n",
      "/ \n",
      "4 \n",
      "\n",
      "Inserting 10\n",
      "\n",
      " 5_ \n",
      "/  \\\n",
      "4 10\n",
      "\n",
      "Inserting 2\n",
      "\n",
      "  5_ \n",
      " /  \\\n",
      " 4 10\n",
      "/    \n",
      "2    \n",
      "\n",
      "Inserting 8\n",
      "\n",
      "  5__ \n",
      " /   \\\n",
      " 4  10\n",
      "/  /  \n",
      "2  8  \n",
      "\n",
      "Inserting 13\n",
      "\n",
      "  5__   \n",
      " /   \\  \n",
      " 4  10_ \n",
      "/  /   \\\n",
      "2  8  13\n",
      "\n",
      "Inserting 44\n",
      "\n",
      "  5__     \n",
      " /   \\    \n",
      " 4  10_   \n",
      "/  /   \\  \n",
      "2  8  13_ \n",
      "         \\\n",
      "        44\n",
      "\n",
      "Inserting 9\n",
      "\n",
      "  5___     \n",
      " /    \\    \n",
      " 4  _10_   \n",
      "/  /    \\  \n",
      "2  8   13_ \n",
      "    \\     \\\n",
      "    9    44\n"
     ]
    }
   ],
   "source": [
    "bst = BSTNode.construct_from_list([5,4,10,2,8,13,44,9])\n",
    "\n"
   ]
  },
  {
   "cell_type": "code",
   "execution_count": 62,
   "id": "0d462744",
   "metadata": {},
   "outputs": [
    {
     "name": "stdout",
     "output_type": "stream",
     "text": [
      "  5___     \n",
      " /    \\    \n",
      " 4  _10_   \n",
      "/  /    \\  \n",
      "2  8   13_ \n",
      "    \\     \\\n",
      "    9    44\n"
     ]
    }
   ],
   "source": [
    "bst.print_tree()"
   ]
  },
  {
   "cell_type": "code",
   "execution_count": 23,
   "id": "674de724",
   "metadata": {},
   "outputs": [
    {
     "data": {
      "text/plain": [
       "44"
      ]
     },
     "execution_count": 23,
     "metadata": {},
     "output_type": "execute_result"
    }
   ],
   "source": [
    "bst.find_maximum()"
   ]
  },
  {
   "cell_type": "code",
   "execution_count": 24,
   "id": "09678be0",
   "metadata": {},
   "outputs": [
    {
     "data": {
      "text/plain": [
       "2"
      ]
     },
     "execution_count": 24,
     "metadata": {},
     "output_type": "execute_result"
    }
   ],
   "source": [
    "bst.find_minimum()"
   ]
  },
  {
   "cell_type": "code",
   "execution_count": 36,
   "id": "bc6285c4",
   "metadata": {
    "scrolled": true
   },
   "outputs": [
    {
     "data": {
      "text/plain": [
       "4"
      ]
     },
     "execution_count": 36,
     "metadata": {},
     "output_type": "execute_result"
    }
   ],
   "source": [
    "bst.find_predessor().val"
   ]
  },
  {
   "cell_type": "code",
   "execution_count": 26,
   "id": "9ef4da11",
   "metadata": {},
   "outputs": [
    {
     "data": {
      "text/plain": [
       "8"
      ]
     },
     "execution_count": 26,
     "metadata": {},
     "output_type": "execute_result"
    }
   ],
   "source": [
    "bst.find_successor()"
   ]
  },
  {
   "cell_type": "code",
   "execution_count": 63,
   "id": "047d6c2a",
   "metadata": {},
   "outputs": [
    {
     "name": "stdout",
     "output_type": "stream",
     "text": [
      "  5___     \n",
      " /    \\    \n",
      " 4  _10_   \n",
      "/  /    \\  \n",
      "2  8   13_ \n",
      "    \\     \\\n",
      "    9    44\n",
      "\n",
      "Node 5 has both children\n",
      "\n",
      "Finding successor of 5\n",
      "\n",
      "Successor is 8\n",
      "\n",
      "Replacing 5 with 8\n",
      "\n",
      "  8___     \n",
      " /    \\    \n",
      " 4  _10_   \n",
      "/  /    \\  \n",
      "2  8   13_ \n",
      "    \\     \\\n",
      "    9    44\n",
      "\n",
      "Deleting 8\n",
      "  8__     \n",
      " /   \\    \n",
      " 4  10_   \n",
      "/  /   \\  \n",
      "2  9  13_ \n",
      "         \\\n",
      "        44\n"
     ]
    }
   ],
   "source": [
    "bst.delete(5)"
   ]
  },
  {
   "cell_type": "code",
   "execution_count": 59,
   "id": "92f22642",
   "metadata": {},
   "outputs": [
    {
     "name": "stdout",
     "output_type": "stream",
     "text": [
      "  8__     \n",
      " /   \\    \n",
      " 4  10_   \n",
      "/  /   \\  \n",
      "2  9  13_ \n",
      "         \\\n",
      "        44\n"
     ]
    }
   ],
   "source": [
    "bst.print_tree()"
   ]
  },
  {
   "cell_type": "code",
   "execution_count": 257,
   "id": "48e309eb",
   "metadata": {},
   "outputs": [],
   "source": [
    "rt.delete(13)"
   ]
  },
  {
   "cell_type": "code",
   "execution_count": 258,
   "id": "5a03b083",
   "metadata": {},
   "outputs": [
    {
     "name": "stdout",
     "output_type": "stream",
     "text": [
      "   8__ \n",
      "  /   \\\n",
      " _4  10\n",
      "/   /  \n",
      "2   9  \n",
      " \\     \n",
      " 3     \n"
     ]
    }
   ],
   "source": [
    "rt.print_tree()"
   ]
  },
  {
   "cell_type": "code",
   "execution_count": 259,
   "id": "35e7ea16",
   "metadata": {},
   "outputs": [],
   "source": [
    "rt.delete(2)"
   ]
  },
  {
   "cell_type": "code",
   "execution_count": 260,
   "id": "de239342",
   "metadata": {},
   "outputs": [
    {
     "name": "stdout",
     "output_type": "stream",
     "text": [
      "  8__ \n",
      " /   \\\n",
      " 4  10\n",
      "/  /  \n",
      "3  9  \n"
     ]
    }
   ],
   "source": [
    "rt.print_tree()"
   ]
  },
  {
   "cell_type": "code",
   "execution_count": 261,
   "id": "b75ce7de",
   "metadata": {},
   "outputs": [],
   "source": [
    "rt.delete(8)"
   ]
  },
  {
   "cell_type": "code",
   "execution_count": 262,
   "id": "a92e7067",
   "metadata": {},
   "outputs": [
    {
     "name": "stdout",
     "output_type": "stream",
     "text": [
      "  9_ \n",
      " /  \\\n",
      " 4 10\n",
      "/    \n",
      "3    \n"
     ]
    }
   ],
   "source": [
    "rt.print_tree()"
   ]
  },
  {
   "cell_type": "code",
   "execution_count": 263,
   "id": "618b894a",
   "metadata": {},
   "outputs": [
    {
     "name": "stdout",
     "output_type": "stream",
     "text": [
      "  10\n",
      " /  \n",
      " 4  \n",
      "/   \n",
      "3   \n"
     ]
    }
   ],
   "source": [
    "rt.delete(9)\n",
    "print_tree(rt)"
   ]
  },
  {
   "cell_type": "code",
   "execution_count": 264,
   "id": "09ca44b0",
   "metadata": {},
   "outputs": [
    {
     "name": "stdout",
     "output_type": "stream",
     "text": [
      " 10\n",
      "/  \n",
      "4  \n"
     ]
    }
   ],
   "source": [
    "rt.delete(3)\n",
    "rt.print_tree()"
   ]
  },
  {
   "cell_type": "code",
   "execution_count": 265,
   "id": "f24f5d94",
   "metadata": {},
   "outputs": [
    {
     "name": "stdout",
     "output_type": "stream",
     "text": [
      "10\n"
     ]
    }
   ],
   "source": [
    "rt.delete(4)\n",
    "rt.print_tree()"
   ]
  },
  {
   "cell_type": "code",
   "execution_count": 266,
   "id": "94589e88",
   "metadata": {},
   "outputs": [
    {
     "name": "stdout",
     "output_type": "stream",
     "text": [
      "None\n"
     ]
    }
   ],
   "source": [
    "rt.delete(10)\n",
    "rt.print_tree()"
   ]
  },
  {
   "cell_type": "code",
   "execution_count": null,
   "id": "84716b3e",
   "metadata": {},
   "outputs": [],
   "source": []
  },
  {
   "cell_type": "code",
   "execution_count": null,
   "id": "402d6f07",
   "metadata": {},
   "outputs": [],
   "source": []
  }
 ],
 "metadata": {
  "kernelspec": {
   "display_name": "Python 3 (ipykernel)",
   "language": "python",
   "name": "python3"
  },
  "language_info": {
   "codemirror_mode": {
    "name": "ipython",
    "version": 3
   },
   "file_extension": ".py",
   "mimetype": "text/x-python",
   "name": "python",
   "nbconvert_exporter": "python",
   "pygments_lexer": "ipython3",
   "version": "3.7.6"
  }
 },
 "nbformat": 4,
 "nbformat_minor": 5
}
