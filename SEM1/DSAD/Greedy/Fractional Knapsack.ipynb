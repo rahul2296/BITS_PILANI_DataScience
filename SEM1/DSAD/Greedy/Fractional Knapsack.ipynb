{
 "cells": [
  {
   "cell_type": "code",
   "execution_count": 15,
   "id": "0b7283a9",
   "metadata": {},
   "outputs": [],
   "source": [
    "class Item:\n",
    "    def __init__(self, name, value, weight):\n",
    "        self.name = name\n",
    "        self.value = value\n",
    "        self.weight = weight\n",
    " \n"
   ]
  },
  {
   "cell_type": "code",
   "execution_count": 65,
   "id": "1407fdb6",
   "metadata": {},
   "outputs": [],
   "source": [
    "# Main greedy function to solve problem\n",
    "def fractionalKnapsack(W,  values, weights, objects = None):\n",
    "    \n",
    "    if not objects:\n",
    "        objects = [i+1 for i,x in enumerate(values)]\n",
    "    \n",
    "    items = [(x,y,z) for x,y,z in zip(objects, values, weights)]\n",
    "    \n",
    "    print(f'Objects: {objects}')\n",
    "    \n",
    "    print(f'\\nValues: {values}')\n",
    "    \n",
    "    print(f'\\nWeights: {weights}')\n",
    "    print(f'\\nValue/Weight:{[x/y for x,y in zip(values, weights)]}')\n",
    "          \n",
    "    # sorting Item on basis of ratio\n",
    "    items.sort(key=lambda x: (x[1]/x[2]), reverse=True)\n",
    " \n",
    "    \n",
    "    max_val = 0.0\n",
    "    item_list = []\n",
    "    weights = []      \n",
    "    #print(items)\n",
    "\n",
    "    for item in items:\n",
    "        \n",
    "        # If adding Item won't overflow, add it completely\n",
    "        if item[2] <= W:\n",
    "            W -= item[2]\n",
    "            max_val += item[1]\n",
    "            item_list.append(item[0])\n",
    "            weights.append(item[2])\n",
    " \n",
    "        # If we can't add current Item, add fractional part\n",
    "        # of it\n",
    "        else:\n",
    "            max_val += item[1] * W / item[2]\n",
    "            item_list.append(item[0])\n",
    "            weights.append(W)\n",
    "            break\n",
    "    # Returning final value\n",
    "    print (f'\\nMaximum value we can obtain = {max_val}')\n",
    "    print(f'Items selected: {item_list}')\n",
    "    print(f'corresponding weights: {weights}')\n",
    "    #return max_val, items, weights\n",
    " \n",
    " \n",
    "\n",
    "    "
   ]
  },
  {
   "cell_type": "code",
   "execution_count": 66,
   "id": "293dd032",
   "metadata": {},
   "outputs": [
    {
     "name": "stdout",
     "output_type": "stream",
     "text": [
      "Objects: ['apple', 'orange', 'banana']\n",
      "\n",
      "Values: [60, 100, 120]\n",
      "\n",
      "Weights: [10, 20, 30]\n",
      "\n",
      "Value/Weight:[6.0, 5.0, 4.0]\n",
      "\n",
      "Maximum value we can obtain = 240.0\n",
      "Items selected: ['apple', 'orange', 'banana']\n",
      "corresponding weights: [10, 20, 20]\n"
     ]
    }
   ],
   "source": [
    "\n",
    "W = 50\n",
    "objects = ['apple', 'orange', 'banana']\n",
    "values = [60, 100, 120]\n",
    "weights = [10,20,30]\n",
    "\n",
    "fractionalKnapsack(W,  values, weights, objects)"
   ]
  },
  {
   "cell_type": "code",
   "execution_count": null,
   "id": "a9bfadc3",
   "metadata": {},
   "outputs": [],
   "source": []
  }
 ],
 "metadata": {
  "kernelspec": {
   "display_name": "Python 3 (ipykernel)",
   "language": "python",
   "name": "python3"
  },
  "language_info": {
   "codemirror_mode": {
    "name": "ipython",
    "version": 3
   },
   "file_extension": ".py",
   "mimetype": "text/x-python",
   "name": "python",
   "nbconvert_exporter": "python",
   "pygments_lexer": "ipython3",
   "version": "3.7.6"
  }
 },
 "nbformat": 4,
 "nbformat_minor": 5
}
