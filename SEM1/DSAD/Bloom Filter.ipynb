{
 "cells": [
  {
   "cell_type": "code",
   "execution_count": 46,
   "id": "cb927686",
   "metadata": {},
   "outputs": [],
   "source": [
    "import numpy as np\n",
    "from sympy import *\n",
    "import warnings\n",
    "warnings.filterwarnings('ignore')"
   ]
  },
  {
   "cell_type": "code",
   "execution_count": 112,
   "id": "f81a3363",
   "metadata": {},
   "outputs": [],
   "source": [
    "class BloomFilter:\n",
    "    def __init__(self, **kwargs):\n",
    "        #self.input_data = kwargs.get('input_data')\n",
    "        self.N = kwargs.get('N')\n",
    "        self.bit_array = [0]*self.N\n",
    "        self.hash_funcs = []\n",
    "        for k,v in kwargs.items():\n",
    "            if k.startswith('k'):\n",
    "                self.hash_funcs.append(v)\n",
    "        self.generate_hash_functions()\n",
    "        self.inserted_elements = []\n",
    "                \n",
    "    def generate_hash_functions(self):\n",
    "        self.sym =symbols('x n')\n",
    "        self.hash_funcs_expr = [parse_expr(e) for e in self.hash_funcs]\n",
    "        \n",
    "    def display_hash_functions(self):\n",
    "        for i, expr in enumerate(self.hash_funcs_expr):\n",
    "            display(Eq(Symbol(f'k{i+1}'), expr))\n",
    "    \n",
    "    def insert(self, input_data):\n",
    "        print('Input data:')\n",
    "        display(Matrix(input_data))\n",
    "        \n",
    "        print('\\nBit Array:')\n",
    "        display(Matrix(self.bit_array))\n",
    "        \n",
    "        for e in input_data:            \n",
    "            print(f'\\nInsert: {e}')\n",
    "            self.inserted_elements.append(e)\n",
    "            if isinstance(e, str):\n",
    "                e = self.convert_string_to_numeric(e)\n",
    "            display(Eq(Symbol('x'), e))  \n",
    "            display(Eq(Symbol('n'), self.N))  \n",
    "            for i, expr in enumerate(self.hash_funcs_expr):\n",
    "                display(Eq(Symbol(f'k{i+1}'), expr))\n",
    "                expr_val = expr.subs([(self.sym[0], e), (self.sym[1], self.N)])\n",
    "                display(Eq(Symbol(f'k{i+1}'), expr_val))\n",
    "                print(f'So we change bit {expr_val} in bit array to 1\\n')\n",
    "                self.bit_array[expr_val] = 1\n",
    "            print('\\nBit Array:')\n",
    "            display(Matrix(self.bit_array))\n",
    "            \n",
    "    def convert_string_to_numeric(self, exp):\n",
    "        print('\\nConverting string value to numeric\\n')\n",
    "        val = 0\n",
    "        for x in exp:\n",
    "            val +=ord(x)\n",
    "        return val\n",
    "    \n",
    "    def find_element(self, element):\n",
    "        print(f'Searching element {element}\\n')\n",
    "        if isinstance(element, str):\n",
    "            e = self.convert_string_to_numeric(element)\n",
    "        display(Eq(Symbol('x'), element))\n",
    "        display(Eq(Symbol('n'), self.N))\n",
    "        hash_list = []\n",
    "        bit_list = []\n",
    "        for i, expr in enumerate(self.hash_funcs_expr):\n",
    "                display(Eq(Symbol(f'k{i+1}'), expr))\n",
    "                expr_val = expr.subs([(self.sym[0], element), (self.sym[1], self.N)])\n",
    "                display(Eq(Symbol(f'k{i+1}'), expr_val))                \n",
    "                hash_list.append(expr_val)\n",
    "                bit_list.append(self.bit_array[expr_val])\n",
    "        print('\\nBit Array:')\n",
    "        display(Matrix(self.bit_array))\n",
    "        print(f\"\\nHash Function values are {','.join([str(s) for s in hash_list])}\")\n",
    "        print(f\"\\nCorresponding bits in bit array areare {','.join([str(s) for s in bit_list])}\")\n",
    "                                \n",
    "        present = np.all(np.array(bit_list) == 1)\n",
    "                                    \n",
    "                                \n",
    "        if present:\n",
    "            print(f'\\n{element} is probably in the table')\n",
    "        else:\n",
    "            print(f'\\n{element} is definitely not in the table')\n",
    "     \n",
    "    def cal_false_positive_probability(self):\n",
    "        m = len(self.bit_array)\n",
    "        n = len(self.inserted_elements)\n",
    "        k = len(self.hash_funcs)\n",
    "        sym = symbols('m n k')\n",
    "        fp_expr = parse_expr('(1-(1-1/m)**(k*n))**k')        \n",
    "        display(Eq(Symbol('P'),fp_expr))\n",
    "        print('\\nWhere\\n')\n",
    "        display(Eq(Symbol('m'),m))\n",
    "        display(Eq(Symbol('n'),n))\n",
    "        display(Eq(Symbol('k'),k))\n",
    "        fp_expr_val = fp_expr.subs([(sym[0], m), (sym[1], n), (sym[2], k)])\n",
    "        display(Eq(Symbol('P'),N(fp_expr_val,4)))"
   ]
  },
  {
   "cell_type": "code",
   "execution_count": 113,
   "id": "e5568097",
   "metadata": {},
   "outputs": [],
   "source": [
    "bl = BloomFilter(N=7, k1 = '(13-(x % 13)) % n', k2 = '(3 + 5*x) % n')"
   ]
  },
  {
   "cell_type": "code",
   "execution_count": 114,
   "id": "121e8ede",
   "metadata": {},
   "outputs": [
    {
     "data": {
      "text/latex": [
       "$\\displaystyle k_{1} = \\left(13 - \\left(x\\bmod{13}\\right)\\right)\\bmod{n}$"
      ],
      "text/plain": [
       "Eq(k1, Mod(13 - Mod(x, 13), n))"
      ]
     },
     "metadata": {},
     "output_type": "display_data"
    },
    {
     "data": {
      "text/latex": [
       "$\\displaystyle k_{2} = \\left(5 x + 3\\right)\\bmod{n}$"
      ],
      "text/plain": [
       "Eq(k2, Mod(5*x + 3, n))"
      ]
     },
     "metadata": {},
     "output_type": "display_data"
    }
   ],
   "source": [
    "bl.display_hash_functions()"
   ]
  },
  {
   "cell_type": "code",
   "execution_count": 115,
   "id": "1aac32d4",
   "metadata": {},
   "outputs": [
    {
     "name": "stdout",
     "output_type": "stream",
     "text": [
      "Input data:\n"
     ]
    },
    {
     "data": {
      "text/latex": [
       "$\\displaystyle \\left[\\begin{matrix}129\\\\479\\end{matrix}\\right]$"
      ],
      "text/plain": [
       "Matrix([\n",
       "[129],\n",
       "[479]])"
      ]
     },
     "metadata": {},
     "output_type": "display_data"
    },
    {
     "name": "stdout",
     "output_type": "stream",
     "text": [
      "\n",
      "Bit Array:\n"
     ]
    },
    {
     "data": {
      "text/latex": [
       "$\\displaystyle \\left[\\begin{matrix}0\\\\0\\\\0\\\\0\\\\0\\\\0\\\\0\\end{matrix}\\right]$"
      ],
      "text/plain": [
       "Matrix([\n",
       "[0],\n",
       "[0],\n",
       "[0],\n",
       "[0],\n",
       "[0],\n",
       "[0],\n",
       "[0]])"
      ]
     },
     "metadata": {},
     "output_type": "display_data"
    },
    {
     "name": "stdout",
     "output_type": "stream",
     "text": [
      "\n",
      "Insert: 129\n"
     ]
    },
    {
     "data": {
      "text/latex": [
       "$\\displaystyle x = 129$"
      ],
      "text/plain": [
       "Eq(x, 129)"
      ]
     },
     "metadata": {},
     "output_type": "display_data"
    },
    {
     "data": {
      "text/latex": [
       "$\\displaystyle n = 7$"
      ],
      "text/plain": [
       "Eq(n, 7)"
      ]
     },
     "metadata": {},
     "output_type": "display_data"
    },
    {
     "data": {
      "text/latex": [
       "$\\displaystyle k_{1} = \\left(13 - \\left(x\\bmod{13}\\right)\\right)\\bmod{n}$"
      ],
      "text/plain": [
       "Eq(k1, Mod(13 - Mod(x, 13), n))"
      ]
     },
     "metadata": {},
     "output_type": "display_data"
    },
    {
     "data": {
      "text/latex": [
       "$\\displaystyle k_{1} = 1$"
      ],
      "text/plain": [
       "Eq(k1, 1)"
      ]
     },
     "metadata": {},
     "output_type": "display_data"
    },
    {
     "name": "stdout",
     "output_type": "stream",
     "text": [
      "So we change bit 1 in bit array to 1\n",
      "\n"
     ]
    },
    {
     "data": {
      "text/latex": [
       "$\\displaystyle k_{2} = \\left(5 x + 3\\right)\\bmod{n}$"
      ],
      "text/plain": [
       "Eq(k2, Mod(5*x + 3, n))"
      ]
     },
     "metadata": {},
     "output_type": "display_data"
    },
    {
     "data": {
      "text/latex": [
       "$\\displaystyle k_{2} = 4$"
      ],
      "text/plain": [
       "Eq(k2, 4)"
      ]
     },
     "metadata": {},
     "output_type": "display_data"
    },
    {
     "name": "stdout",
     "output_type": "stream",
     "text": [
      "So we change bit 4 in bit array to 1\n",
      "\n",
      "\n",
      "Bit Array:\n"
     ]
    },
    {
     "data": {
      "text/latex": [
       "$\\displaystyle \\left[\\begin{matrix}0\\\\1\\\\0\\\\0\\\\1\\\\0\\\\0\\end{matrix}\\right]$"
      ],
      "text/plain": [
       "Matrix([\n",
       "[0],\n",
       "[1],\n",
       "[0],\n",
       "[0],\n",
       "[1],\n",
       "[0],\n",
       "[0]])"
      ]
     },
     "metadata": {},
     "output_type": "display_data"
    },
    {
     "name": "stdout",
     "output_type": "stream",
     "text": [
      "\n",
      "Insert: 479\n"
     ]
    },
    {
     "data": {
      "text/latex": [
       "$\\displaystyle x = 479$"
      ],
      "text/plain": [
       "Eq(x, 479)"
      ]
     },
     "metadata": {},
     "output_type": "display_data"
    },
    {
     "data": {
      "text/latex": [
       "$\\displaystyle n = 7$"
      ],
      "text/plain": [
       "Eq(n, 7)"
      ]
     },
     "metadata": {},
     "output_type": "display_data"
    },
    {
     "data": {
      "text/latex": [
       "$\\displaystyle k_{1} = \\left(13 - \\left(x\\bmod{13}\\right)\\right)\\bmod{n}$"
      ],
      "text/plain": [
       "Eq(k1, Mod(13 - Mod(x, 13), n))"
      ]
     },
     "metadata": {},
     "output_type": "display_data"
    },
    {
     "data": {
      "text/latex": [
       "$\\displaystyle k_{1} = 2$"
      ],
      "text/plain": [
       "Eq(k1, 2)"
      ]
     },
     "metadata": {},
     "output_type": "display_data"
    },
    {
     "name": "stdout",
     "output_type": "stream",
     "text": [
      "So we change bit 2 in bit array to 1\n",
      "\n"
     ]
    },
    {
     "data": {
      "text/latex": [
       "$\\displaystyle k_{2} = \\left(5 x + 3\\right)\\bmod{n}$"
      ],
      "text/plain": [
       "Eq(k2, Mod(5*x + 3, n))"
      ]
     },
     "metadata": {},
     "output_type": "display_data"
    },
    {
     "data": {
      "text/latex": [
       "$\\displaystyle k_{2} = 4$"
      ],
      "text/plain": [
       "Eq(k2, 4)"
      ]
     },
     "metadata": {},
     "output_type": "display_data"
    },
    {
     "name": "stdout",
     "output_type": "stream",
     "text": [
      "So we change bit 4 in bit array to 1\n",
      "\n",
      "\n",
      "Bit Array:\n"
     ]
    },
    {
     "data": {
      "text/latex": [
       "$\\displaystyle \\left[\\begin{matrix}0\\\\1\\\\1\\\\0\\\\1\\\\0\\\\0\\end{matrix}\\right]$"
      ],
      "text/plain": [
       "Matrix([\n",
       "[0],\n",
       "[1],\n",
       "[1],\n",
       "[0],\n",
       "[1],\n",
       "[0],\n",
       "[0]])"
      ]
     },
     "metadata": {},
     "output_type": "display_data"
    }
   ],
   "source": [
    "bl.insert([129, 479])"
   ]
  },
  {
   "cell_type": "code",
   "execution_count": 116,
   "id": "95ebbcc4",
   "metadata": {},
   "outputs": [
    {
     "name": "stdout",
     "output_type": "stream",
     "text": [
      "Searching element 23\n",
      "\n"
     ]
    },
    {
     "data": {
      "text/latex": [
       "$\\displaystyle x = 23$"
      ],
      "text/plain": [
       "Eq(x, 23)"
      ]
     },
     "metadata": {},
     "output_type": "display_data"
    },
    {
     "data": {
      "text/latex": [
       "$\\displaystyle n = 7$"
      ],
      "text/plain": [
       "Eq(n, 7)"
      ]
     },
     "metadata": {},
     "output_type": "display_data"
    },
    {
     "data": {
      "text/latex": [
       "$\\displaystyle k_{1} = \\left(13 - \\left(x\\bmod{13}\\right)\\right)\\bmod{n}$"
      ],
      "text/plain": [
       "Eq(k1, Mod(13 - Mod(x, 13), n))"
      ]
     },
     "metadata": {},
     "output_type": "display_data"
    },
    {
     "data": {
      "text/latex": [
       "$\\displaystyle k_{1} = 3$"
      ],
      "text/plain": [
       "Eq(k1, 3)"
      ]
     },
     "metadata": {},
     "output_type": "display_data"
    },
    {
     "data": {
      "text/latex": [
       "$\\displaystyle k_{2} = \\left(5 x + 3\\right)\\bmod{n}$"
      ],
      "text/plain": [
       "Eq(k2, Mod(5*x + 3, n))"
      ]
     },
     "metadata": {},
     "output_type": "display_data"
    },
    {
     "data": {
      "text/latex": [
       "$\\displaystyle k_{2} = 6$"
      ],
      "text/plain": [
       "Eq(k2, 6)"
      ]
     },
     "metadata": {},
     "output_type": "display_data"
    },
    {
     "name": "stdout",
     "output_type": "stream",
     "text": [
      "\n",
      "Bit Array:\n"
     ]
    },
    {
     "data": {
      "text/latex": [
       "$\\displaystyle \\left[\\begin{matrix}0\\\\1\\\\1\\\\0\\\\1\\\\0\\\\0\\end{matrix}\\right]$"
      ],
      "text/plain": [
       "Matrix([\n",
       "[0],\n",
       "[1],\n",
       "[1],\n",
       "[0],\n",
       "[1],\n",
       "[0],\n",
       "[0]])"
      ]
     },
     "metadata": {},
     "output_type": "display_data"
    },
    {
     "name": "stdout",
     "output_type": "stream",
     "text": [
      "\n",
      "Hash Function values are 3,6\n",
      "\n",
      "Corresponding bits in bit array areare 0,0\n",
      "\n",
      "23 is definitely not in the table\n"
     ]
    }
   ],
   "source": [
    "bl.find_element(23)"
   ]
  },
  {
   "cell_type": "code",
   "execution_count": 117,
   "id": "e539b325",
   "metadata": {},
   "outputs": [
    {
     "data": {
      "text/latex": [
       "$\\displaystyle P = \\left(1 - \\left(1 - \\frac{1}{m}\\right)^{k n}\\right)^{k}$"
      ],
      "text/plain": [
       "Eq(P, (1 - (1 - 1/m)**(k*n))**k)"
      ]
     },
     "metadata": {},
     "output_type": "display_data"
    },
    {
     "name": "stdout",
     "output_type": "stream",
     "text": [
      "\n",
      "Where\n",
      "\n"
     ]
    },
    {
     "data": {
      "text/latex": [
       "$\\displaystyle m = 7$"
      ],
      "text/plain": [
       "Eq(m, 7)"
      ]
     },
     "metadata": {},
     "output_type": "display_data"
    },
    {
     "data": {
      "text/latex": [
       "$\\displaystyle n = 2$"
      ],
      "text/plain": [
       "Eq(n, 2)"
      ]
     },
     "metadata": {},
     "output_type": "display_data"
    },
    {
     "data": {
      "text/latex": [
       "$\\displaystyle k = 2$"
      ],
      "text/plain": [
       "Eq(k, 2)"
      ]
     },
     "metadata": {},
     "output_type": "display_data"
    },
    {
     "data": {
      "text/latex": [
       "$\\displaystyle P = 0.2118$"
      ],
      "text/plain": [
       "Eq(P, 0.2118)"
      ]
     },
     "metadata": {},
     "output_type": "display_data"
    }
   ],
   "source": [
    "bl.cal_false_positive_probability()"
   ]
  },
  {
   "cell_type": "code",
   "execution_count": null,
   "id": "ffc01a54",
   "metadata": {},
   "outputs": [],
   "source": []
  },
  {
   "cell_type": "code",
   "execution_count": null,
   "id": "47cebfc5",
   "metadata": {},
   "outputs": [],
   "source": []
  }
 ],
 "metadata": {
  "kernelspec": {
   "display_name": "Python 3 (ipykernel)",
   "language": "python",
   "name": "python3"
  },
  "language_info": {
   "codemirror_mode": {
    "name": "ipython",
    "version": 3
   },
   "file_extension": ".py",
   "mimetype": "text/x-python",
   "name": "python",
   "nbconvert_exporter": "python",
   "pygments_lexer": "ipython3",
   "version": "3.7.6"
  }
 },
 "nbformat": 4,
 "nbformat_minor": 5
}
