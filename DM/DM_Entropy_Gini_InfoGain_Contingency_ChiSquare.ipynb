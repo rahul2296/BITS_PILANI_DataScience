{
 "cells": [
  {
   "cell_type": "code",
   "execution_count": 1,
   "id": "a1b643cb",
   "metadata": {},
   "outputs": [],
   "source": [
    "from scipy import stats\n",
    "import numpy as np\n",
    "import matplotlib.pyplot as plt\n",
    "import pandas as pd\n",
    "from sklearn.metrics import confusion_matrix, precision_recall_fscore_support, classification_report\n",
    "import scipy.spatial.distance as dist\n",
    "from scipy.stats import chi2_contingency\n"
   ]
  },
  {
   "cell_type": "code",
   "execution_count": 3,
   "id": "4cabc1ce",
   "metadata": {},
   "outputs": [],
   "source": [
    "#Code to disable scrolling"
   ]
  },
  {
   "cell_type": "code",
   "execution_count": 4,
   "id": "e24fbfe4",
   "metadata": {},
   "outputs": [
    {
     "data": {
      "application/javascript": [
       "IPython.OutputArea.prototype._should_scroll = function(lines) {\n",
       "    return false;\n",
       "}\n"
      ],
      "text/plain": [
       "<IPython.core.display.Javascript object>"
      ]
     },
     "metadata": {},
     "output_type": "display_data"
    }
   ],
   "source": [
    "%%javascript\n",
    "IPython.OutputArea.prototype._should_scroll = function(lines) {\n",
    "    return false;\n",
    "}"
   ]
  },
  {
   "cell_type": "markdown",
   "id": "bd653c94",
   "metadata": {},
   "source": [
    "## IQR and Five point summary"
   ]
  },
  {
   "cell_type": "code",
   "execution_count": 5,
   "id": "eeabceb3",
   "metadata": {},
   "outputs": [],
   "source": [
    "def calc_five_point_summary(data):\n",
    "    data = sorted(data)\n",
    "    print(f'Data: {data}\\n')\n",
    "    print(f'Minimum: {min(data)}')\n",
    "    if len(data)%2 != 0:\n",
    "        Q1 = np.percentile(data, 25, interpolation = 'lower')\n",
    "        Q3 = np.percentile(data, 75, interpolation = 'higher')\n",
    "    else:\n",
    "        Q1 = np.percentile(data, 25, interpolation = 'midpoint')\n",
    "        Q3 = np.percentile(data, 75, interpolation = 'midpoint')\n",
    "    print(f'Quartile (Q1): {Q1}')\n",
    "    median = np.median(data)\n",
    "    print(f'Median: {median}')\n",
    "    \n",
    "    print(f'Quartile (Q3): {Q3}')\n",
    "    print(f'Maximum: {max(data)}')\n",
    "    IQR = Q3 - Q1\n",
    "    print(f'IQR = Q3 - Q1: {IQR}')\n",
    "    high_value = Q3 + 1.5 *IQR\n",
    "    low_value = Q1 - 1.5*IQR\n",
    "    print(f'High value = Q3 + 1.5 * IQR : {high_value}')\n",
    "    print(f'Low value = Q1 - 1.5 * IQR : {low_value}')\n",
    "    outliers = [x for x in data if x > high_value or x < low_value]\n",
    "    print(f'Value less than {low_value} greater than {high_value} are outliers')\n",
    "    print(f'The outliers are {outliers}')\n",
    "    plt.boxplot(data)\n"
   ]
  },
  {
   "cell_type": "code",
   "execution_count": 6,
   "id": "60f9a921",
   "metadata": {},
   "outputs": [],
   "source": [
    "data = [3,3,3,4,4,4,4,4,6,12,18]"
   ]
  },
  {
   "cell_type": "code",
   "execution_count": 7,
   "id": "9ca1c4a6",
   "metadata": {},
   "outputs": [
    {
     "name": "stdout",
     "output_type": "stream",
     "text": [
      "Data: [3, 3, 3, 4, 4, 4, 4, 4, 6, 12, 18]\n",
      "\n",
      "Minimum: 3\n",
      "Quartile (Q1): 3\n",
      "Median: 4.0\n",
      "Quartile (Q3): 6\n",
      "Maximum: 18\n",
      "IQR = Q3 - Q1: 3\n",
      "High value = Q3 + 1.5 * IQR : 10.5\n",
      "Low value = Q1 - 1.5 * IQR : -1.5\n",
      "Value less than -1.5 greater than 10.5 are outliers\n",
      "The outliers are [12, 18]\n"
     ]
    },
    {
     "data": {
      "image/png": "[encoded data removed]",
      "text/plain": [
       "<Figure size 432x288 with 1 Axes>"
      ]
     },
     "metadata": {
      "needs_background": "light"
     },
     "output_type": "display_data"
    }
   ],
   "source": [
    "calc_five_point_summary(data)"
   ]
  },
  {
   "cell_type": "code",
   "execution_count": 8,
   "id": "f86622b8",
   "metadata": {},
   "outputs": [
    {
     "name": "stdout",
     "output_type": "stream",
     "text": [
      "1.5\n"
     ]
    }
   ],
   "source": [
    "IQR = stats.iqr(data )\n",
    "  \n",
    "print(IQR)"
   ]
  },
  {
   "cell_type": "markdown",
   "id": "56d40e5b",
   "metadata": {},
   "source": [
    "## Confusion Matrix"
   ]
  },
  {
   "cell_type": "code",
   "execution_count": 9,
   "id": "c62d9bf2",
   "metadata": {},
   "outputs": [],
   "source": [
    "pred = ['X','X','X','Y','Y','Y','Z','Z','Z','Z']\n",
    "act = ['X','X','Z','Y','Y','Y','X','X','X','Z']"
   ]
  },
  {
   "cell_type": "code",
   "execution_count": 10,
   "id": "9c67102c",
   "metadata": {},
   "outputs": [
    {
     "data": {
      "text/plain": [
       "array([[2, 0, 3],\n",
       "       [0, 3, 0],\n",
       "       [1, 0, 1]], dtype=int64)"
      ]
     },
     "execution_count": 10,
     "metadata": {},
     "output_type": "execute_result"
    }
   ],
   "source": [
    "confusion_matrix(act, pred)"
   ]
  },
  {
   "cell_type": "code",
   "execution_count": 11,
   "id": "f25dea21",
   "metadata": {},
   "outputs": [
    {
     "name": "stdout",
     "output_type": "stream",
     "text": [
      "(array([0.66666667, 1.        , 0.25      ]), array([0.4, 1. , 0.5]), array([0.5       , 1.        , 0.33333333]), array([5, 3, 2], dtype=int64))\n"
     ]
    }
   ],
   "source": [
    "print(precision_recall_fscore_support(act, pred))"
   ]
  },
  {
   "cell_type": "code",
   "execution_count": 12,
   "id": "9b0911dc",
   "metadata": {},
   "outputs": [
    {
     "name": "stdout",
     "output_type": "stream",
     "text": [
      "              precision    recall  f1-score   support\n",
      "\n",
      "           X       0.67      0.40      0.50         5\n",
      "           Y       1.00      1.00      1.00         3\n",
      "           Z       0.25      0.50      0.33         2\n",
      "\n",
      "    accuracy                           0.60        10\n",
      "   macro avg       0.64      0.63      0.61        10\n",
      "weighted avg       0.68      0.60      0.62        10\n",
      "\n"
     ]
    }
   ],
   "source": [
    "print(classification_report(act, pred))"
   ]
  },
  {
   "cell_type": "markdown",
   "id": "dddac1b8",
   "metadata": {},
   "source": [
    "## Chi Square test"
   ]
  },
  {
   "cell_type": "code",
   "execution_count": 23,
   "id": "6ca63231",
   "metadata": {},
   "outputs": [
    {
     "name": "stdout",
     "output_type": "stream",
     "text": [
      "8.006066246262538 0.045886500891747214 3 [[50.88607595 49.11392405]\n",
      " [49.86835443 48.13164557]\n",
      " [50.37721519 48.62278481]\n",
      " [49.86835443 48.13164557]]\n",
      "p value is 0.045886500891747214\n",
      "p value is less than alpha. So variables are dependent (reject H0)\n"
     ]
    }
   ],
   "source": [
    "\n",
    "# defining the table\n",
    "data = [[60, 40], [54, 44],[46,53],[41,57]]\n",
    "stat, p, dof, expected = chi2_contingency(data)\n",
    "  \n",
    "# interpret p-value\n",
    "alpha = 0.05\n",
    "print(stat, p, dof, expected)\n",
    "print(\"p value is \" + str(p))\n",
    "\n",
    "if p <= alpha:\n",
    "    print('p value is less than alpha. So variables are dependent (reject H0)')\n",
    "else:\n",
    "    print('p value is greater than alpha. So variables are independent (H0 holds true)')"
   ]
  },
  {
   "cell_type": "markdown",
   "id": "ed32d604",
   "metadata": {},
   "source": [
    "## Creating contingency table/crosstab"
   ]
  },
  {
   "cell_type": "code",
   "execution_count": 85,
   "id": "c38c16a8",
   "metadata": {},
   "outputs": [],
   "source": [
    "df1 = pd.DataFrame({'Order': [1, 2, 3, 4, 5, 6, 7, 8, 9, 10,\n",
    "                            11, 12, 13, 14, 15, 16, 17, 18, 19, 20],\n",
    "                   'Product': ['TV', 'TV', 'Comp', 'TV', 'TV', 'Comp',\n",
    "                               'Comp', 'Comp', 'TV', 'Radio', 'TV', 'Radio', 'Radio',\n",
    "                               'Radio', 'Comp', 'Comp', 'TV', 'TV', 'Radio', 'TV'],\n",
    "                   'Country': ['A', 'A', 'A', 'A', 'B', 'B', 'B', 'B', 'B', 'B', 'B',\n",
    "                               'B', 'C', 'C', 'C', 'C', 'C', 'C', 'C', 'C']})\n"
   ]
  },
  {
   "cell_type": "code",
   "execution_count": 86,
   "id": "ed768bd6",
   "metadata": {},
   "outputs": [
    {
     "data": {
      "text/html": [
       "<div>\n",
       "<style scoped>\n",
       "    .dataframe tbody tr th:only-of-type {\n",
       "        vertical-align: middle;\n",
       "    }\n",
       "\n",
       "    .dataframe tbody tr th {\n",
       "        vertical-align: top;\n",
       "    }\n",
       "\n",
       "    .dataframe thead th {\n",
       "        text-align: right;\n",
       "    }\n",
       "</style>\n",
       "<table border=\"1\" class=\"dataframe\">\n",
       "  <thead>\n",
       "    <tr style=\"text-align: right;\">\n",
       "      <th></th>\n",
       "      <th>Order</th>\n",
       "      <th>Product</th>\n",
       "      <th>Country</th>\n",
       "    </tr>\n",
       "  </thead>\n",
       "  <tbody>\n",
       "    <tr>\n",
       "      <th>0</th>\n",
       "      <td>1</td>\n",
       "      <td>TV</td>\n",
       "      <td>A</td>\n",
       "    </tr>\n",
       "    <tr>\n",
       "      <th>1</th>\n",
       "      <td>2</td>\n",
       "      <td>TV</td>\n",
       "      <td>A</td>\n",
       "    </tr>\n",
       "    <tr>\n",
       "      <th>2</th>\n",
       "      <td>3</td>\n",
       "      <td>Comp</td>\n",
       "      <td>A</td>\n",
       "    </tr>\n",
       "    <tr>\n",
       "      <th>3</th>\n",
       "      <td>4</td>\n",
       "      <td>TV</td>\n",
       "      <td>A</td>\n",
       "    </tr>\n",
       "    <tr>\n",
       "      <th>4</th>\n",
       "      <td>5</td>\n",
       "      <td>TV</td>\n",
       "      <td>B</td>\n",
       "    </tr>\n",
       "    <tr>\n",
       "      <th>5</th>\n",
       "      <td>6</td>\n",
       "      <td>Comp</td>\n",
       "      <td>B</td>\n",
       "    </tr>\n",
       "    <tr>\n",
       "      <th>6</th>\n",
       "      <td>7</td>\n",
       "      <td>Comp</td>\n",
       "      <td>B</td>\n",
       "    </tr>\n",
       "    <tr>\n",
       "      <th>7</th>\n",
       "      <td>8</td>\n",
       "      <td>Comp</td>\n",
       "      <td>B</td>\n",
       "    </tr>\n",
       "    <tr>\n",
       "      <th>8</th>\n",
       "      <td>9</td>\n",
       "      <td>TV</td>\n",
       "      <td>B</td>\n",
       "    </tr>\n",
       "    <tr>\n",
       "      <th>9</th>\n",
       "      <td>10</td>\n",
       "      <td>Radio</td>\n",
       "      <td>B</td>\n",
       "    </tr>\n",
       "    <tr>\n",
       "      <th>10</th>\n",
       "      <td>11</td>\n",
       "      <td>TV</td>\n",
       "      <td>B</td>\n",
       "    </tr>\n",
       "    <tr>\n",
       "      <th>11</th>\n",
       "      <td>12</td>\n",
       "      <td>Radio</td>\n",
       "      <td>B</td>\n",
       "    </tr>\n",
       "    <tr>\n",
       "      <th>12</th>\n",
       "      <td>13</td>\n",
       "      <td>Radio</td>\n",
       "      <td>C</td>\n",
       "    </tr>\n",
       "    <tr>\n",
       "      <th>13</th>\n",
       "      <td>14</td>\n",
       "      <td>Radio</td>\n",
       "      <td>C</td>\n",
       "    </tr>\n",
       "    <tr>\n",
       "      <th>14</th>\n",
       "      <td>15</td>\n",
       "      <td>Comp</td>\n",
       "      <td>C</td>\n",
       "    </tr>\n",
       "    <tr>\n",
       "      <th>15</th>\n",
       "      <td>16</td>\n",
       "      <td>Comp</td>\n",
       "      <td>C</td>\n",
       "    </tr>\n",
       "    <tr>\n",
       "      <th>16</th>\n",
       "      <td>17</td>\n",
       "      <td>TV</td>\n",
       "      <td>C</td>\n",
       "    </tr>\n",
       "    <tr>\n",
       "      <th>17</th>\n",
       "      <td>18</td>\n",
       "      <td>TV</td>\n",
       "      <td>C</td>\n",
       "    </tr>\n",
       "    <tr>\n",
       "      <th>18</th>\n",
       "      <td>19</td>\n",
       "      <td>Radio</td>\n",
       "      <td>C</td>\n",
       "    </tr>\n",
       "    <tr>\n",
       "      <th>19</th>\n",
       "      <td>20</td>\n",
       "      <td>TV</td>\n",
       "      <td>C</td>\n",
       "    </tr>\n",
       "  </tbody>\n",
       "</table>\n",
       "</div>"
      ],
      "text/plain": [
       "    Order Product Country\n",
       "0       1      TV       A\n",
       "1       2      TV       A\n",
       "2       3    Comp       A\n",
       "3       4      TV       A\n",
       "4       5      TV       B\n",
       "5       6    Comp       B\n",
       "6       7    Comp       B\n",
       "7       8    Comp       B\n",
       "8       9      TV       B\n",
       "9      10   Radio       B\n",
       "10     11      TV       B\n",
       "11     12   Radio       B\n",
       "12     13   Radio       C\n",
       "13     14   Radio       C\n",
       "14     15    Comp       C\n",
       "15     16    Comp       C\n",
       "16     17      TV       C\n",
       "17     18      TV       C\n",
       "18     19   Radio       C\n",
       "19     20      TV       C"
      ]
     },
     "execution_count": 86,
     "metadata": {},
     "output_type": "execute_result"
    }
   ],
   "source": [
    "df1"
   ]
  },
  {
   "cell_type": "code",
   "execution_count": 87,
   "id": "88d25005",
   "metadata": {},
   "outputs": [
    {
     "name": "stdout",
     "output_type": "stream",
     "text": [
      "Country  A  B  C\n",
      "Product         \n",
      "Comp     1  3  2\n",
      "Radio    0  2  3\n",
      "TV       3  3  3\n"
     ]
    }
   ],
   "source": [
    "# creating contingency table/crosstab\n",
    "data_crosstab = pd.crosstab(df1['Product'],\n",
    "                            df1['Country'], \n",
    "                               margins = False)\n",
    "print(data_crosstab)"
   ]
  },
  {
   "cell_type": "code",
   "execution_count": null,
   "id": "966811a4",
   "metadata": {},
   "outputs": [],
   "source": []
  },
  {
   "cell_type": "code",
   "execution_count": null,
   "id": "c9823c43",
   "metadata": {},
   "outputs": [],
   "source": []
  },
  {
   "cell_type": "markdown",
   "id": "0917b976",
   "metadata": {},
   "source": [
    "## Correlation"
   ]
  },
  {
   "cell_type": "code",
   "execution_count": 14,
   "id": "dd899b12",
   "metadata": {},
   "outputs": [],
   "source": [
    "X = [2, 6, 7]\n",
    "Y = [27, 20, 13]"
   ]
  },
  {
   "cell_type": "code",
   "execution_count": 15,
   "id": "fe5e3fee",
   "metadata": {
    "scrolled": true
   },
   "outputs": [
    {
     "data": {
      "text/plain": [
       "array([[ 1.        , -0.94491118],\n",
       "       [-0.94491118,  1.        ]])"
      ]
     },
     "execution_count": 15,
     "metadata": {},
     "output_type": "execute_result"
    }
   ],
   "source": [
    "np.corrcoef(X,Y)"
   ]
  },
  {
   "cell_type": "markdown",
   "id": "6d97c357",
   "metadata": {},
   "source": [
    "## Distance calculation"
   ]
  },
  {
   "cell_type": "code",
   "execution_count": 16,
   "id": "e89cc5dd",
   "metadata": {},
   "outputs": [
    {
     "data": {
      "text/plain": [
       "15"
      ]
     },
     "execution_count": 16,
     "metadata": {},
     "output_type": "execute_result"
    }
   ],
   "source": [
    "#supremum\n",
    "dist.chebyshev((21, 12, 3, 17, 48, 11, 82, 41, 35),  (34, 5, 13, 3, 57, 26, 69, 55, 27))"
   ]
  },
  {
   "cell_type": "code",
   "execution_count": 90,
   "id": "fe334c4a",
   "metadata": {},
   "outputs": [
    {
     "data": {
      "text/plain": [
       "35.34119409414458"
      ]
     },
     "execution_count": 90,
     "metadata": {},
     "output_type": "execute_result"
    }
   ],
   "source": [
    "##euclidean\n",
    "dist.euclidean((21, 12, 3, 17, 48, 11, 82, 41, 35),  (34, 5, 13, 3, 57, 26, 69, 55, 27))"
   ]
  },
  {
   "cell_type": "code",
   "execution_count": 30,
   "id": "e0a9ad52",
   "metadata": {},
   "outputs": [
    {
     "data": {
      "text/plain": [
       "35.34119409414458"
      ]
     },
     "execution_count": 30,
     "metadata": {},
     "output_type": "execute_result"
    }
   ],
   "source": [
    "#manhattan\n",
    "a = (21, 12, 3, 17, 48, 11, 82, 41, 35)\n",
    "b = (34, 5, 13, 3, 57, 26, 69, 55, 27)\n",
    "\n",
    "sum([abs(i-j) for i,j in zip(a,b)])"
   ]
  },
  {
   "cell_type": "code",
   "execution_count": 37,
   "id": "96433d52",
   "metadata": {},
   "outputs": [],
   "source": [
    "def minkowski(a,b,order):\n",
    "    return round(sum([abs(i-j)**order for i,j in zip(a,b)])**(1/order),2)"
   ]
  },
  {
   "cell_type": "code",
   "execution_count": 38,
   "id": "dd016a34",
   "metadata": {},
   "outputs": [
    {
     "data": {
      "text/plain": [
       "7.0"
      ]
     },
     "execution_count": 38,
     "metadata": {},
     "output_type": "execute_result"
    }
   ],
   "source": [
    "a=(12, 36, 42, 20)\n",
    "b=(17,35, 43, 26)\n",
    "minkowski(a,b,3)"
   ]
  },
  {
   "cell_type": "markdown",
   "id": "3f409acc",
   "metadata": {},
   "source": [
    "## Min Max scaling"
   ]
  },
  {
   "cell_type": "code",
   "execution_count": 21,
   "id": "94967b83",
   "metadata": {},
   "outputs": [],
   "source": [
    "def min_max_scale(data, min_new = 0, max_new = 1):\n",
    "    arr = np.array(data)\n",
    "    min_old = arr.min()\n",
    "    max_old = arr.max()\n",
    "    print(f'Old Min: {min_old}')\n",
    "    print(f'Old Max: {max_old}')\n",
    "    arr_new = (arr - min_old)/(max_old-min_old)*(max_new-min_new) + min_new\n",
    "    return list(np.round(arr_new, 3))"
   ]
  },
  {
   "cell_type": "code",
   "execution_count": 23,
   "id": "5e197120",
   "metadata": {},
   "outputs": [],
   "source": [
    "marks = [57, 67,77,87, 61, 45, 32, 56, 71, 78]"
   ]
  },
  {
   "cell_type": "code",
   "execution_count": 24,
   "id": "d47dc8dd",
   "metadata": {},
   "outputs": [
    {
     "name": "stdout",
     "output_type": "stream",
     "text": [
      "Old Min: 32\n",
      "Old Max: 87\n"
     ]
    },
    {
     "data": {
      "text/plain": [
       "[75.455, 83.636, 91.818, 100.0, 78.727, 65.636, 55.0, 74.636, 86.909, 92.636]"
      ]
     },
     "execution_count": 24,
     "metadata": {},
     "output_type": "execute_result"
    }
   ],
   "source": [
    "min_max_scale(marks, 55, 100)"
   ]
  },
  {
   "cell_type": "markdown",
   "id": "840fe37b",
   "metadata": {},
   "source": [
    "### Foil gain and Likelyhood ratio"
   ]
  },
  {
   "cell_type": "code",
   "execution_count": 26,
   "id": "eedeba4e",
   "metadata": {},
   "outputs": [],
   "source": [
    "def foil_gain(p_0, n_0, p_1, n_1):\n",
    "    return p_1*(np.log2(p_1/(n_1+p_1)) - np.log2(p_0/(n_0+p_0)))"
   ]
  },
  {
   "cell_type": "code",
   "execution_count": 29,
   "id": "e0e9e731",
   "metadata": {},
   "outputs": [
    {
     "data": {
      "text/plain": [
       "57.206717868255545"
      ]
     },
     "execution_count": 29,
     "metadata": {},
     "output_type": "execute_result"
    }
   ],
   "source": [
    "foil_gain(100,400,30,10)"
   ]
  },
  {
   "cell_type": "markdown",
   "id": "da1117c0",
   "metadata": {},
   "source": [
    "## Gini Index"
   ]
  },
  {
   "cell_type": "code",
   "execution_count": 19,
   "id": "0cd8c853",
   "metadata": {},
   "outputs": [],
   "source": [
    "def gini_index(df):\n",
    "    total_rows = df.shape[0]\n",
    "    print(f'Total Count: {total_rows}\\n\\n')\n",
    "    attributes = list(df.columns[:-1])\n",
    "    class_var = df.columns[-1]\n",
    "    attr_gini = []\n",
    "    for attr in attributes:\n",
    "        print(f'\\nAttribute: {attr}\\n')\n",
    "        value_counts = df[attr].value_counts()\n",
    "        print(value_counts.to_string())\n",
    "        values = value_counts.index\n",
    "        gini_list =[]\n",
    "        for value in values:\n",
    "            print(f'\\n{attr} = {value}\\n')\n",
    "            value_count = value_counts[value]\n",
    "            class_count = df[df[attr] == value].groupby(class_var)[attr].count()\n",
    "            print(class_count.to_string())\n",
    "            print(f'\\nTotal Count: {value_count}\\n')\n",
    "            gini = round(1-sum((class_count.values/value_count)**2),4)\n",
    "            print_str = f'Gini = 1 - '\n",
    "            for cnt in class_count.values:\n",
    "                print_str += f'({cnt}/{value_count})\\u00B2 - '\n",
    "            print_str = print_str[:-2]\n",
    "            print_str += f'= {gini}\\n'\n",
    "            print(print_str)\n",
    "            gini_list.append(gini)\n",
    "        \n",
    "        total_gini = round(sum(np.array(gini_list)* np.array(value_counts.values)/total_rows),4)\n",
    "        print_tot_str = f'For {attr}, Gini index = '\n",
    "        for i in range(len(gini_list)):\n",
    "            print_tot_str += f'{value_counts.values[i]}/{total_rows}*{gini_list[i]} + '\n",
    "        print_tot_str = print_tot_str[:-2]\n",
    "        print_tot_str += f'= {total_gini}\\n'\n",
    "        print(print_tot_str)\n",
    "        attr_gini.append(total_gini)\n",
    "    print(f'\\nFor {attributes} Gini index are {attr_gini}')\n",
    "    print(f'Minimum Gini Index is for {attributes[attr_gini.index(min(attr_gini))]}')"
   ]
  },
  {
   "cell_type": "code",
   "execution_count": 3,
   "id": "d1e331ac",
   "metadata": {},
   "outputs": [
    {
     "data": {
      "text/plain": [
       "0.0"
      ]
     },
     "execution_count": 3,
     "metadata": {},
     "output_type": "execute_result"
    }
   ],
   "source": [
    "0*np.log2(1)"
   ]
  },
  {
   "cell_type": "code",
   "execution_count": 16,
   "id": "889bab52",
   "metadata": {},
   "outputs": [],
   "source": [
    "df = pd.DataFrame({\n",
    "                   'Income': ['High', 'Low', 'High', 'Middle', 'Low', 'High',\n",
    "                               'Low', 'Low', 'Middle', 'Middle'],\n",
    "                   'Education': ['Low', 'High', 'Low', 'High', 'Low', 'Low',\n",
    "                               'High', 'Low', 'Low', 'High'],\n",
    "                    'Gender': ['Male', 'Female', 'Male', 'Male', 'Male', 'Female',\n",
    "                                                   'Male', 'Male', 'Female', 'Male'],\n",
    "                    \n",
    "                    'Buys Gadget': ['Yes', 'No', 'Yes', 'Yes', 'No', 'No',\n",
    "                                                   'No', 'No', 'No', 'Yes'],})\n"
   ]
  },
  {
   "cell_type": "code",
   "execution_count": 17,
   "id": "b827e88e",
   "metadata": {},
   "outputs": [],
   "source": [
    "df = pd.DataFrame({\n",
    "                   'Outlook': ['Sunny', 'Sunny', 'Overcast', 'Rainy', 'Rainy', 'Rainy',\n",
    "                               'Overcast', 'Sunny', 'Sunny', 'Rainy', 'Sunny', 'Overcast', 'Overcast',\n",
    "                               'Rainy'],\n",
    "                   'Temperature': ['Hot', 'Hot', 'Hot', 'Mild', 'Cool', 'Cool',\n",
    "                               'Cool', 'Mild', 'Cool', 'Mild', 'Mild', 'Mild', 'Hot',\n",
    "                               'Mild'],\n",
    "                    'Humidity': ['High', 'High', 'High', 'High', 'Normal', 'Normal',\n",
    "                                                   'Normal', 'High', 'Normal', 'Normal', 'Normal', 'High', 'Normal',\n",
    "                                                   'High'],\n",
    "                    'Windy': ['Weak', 'Strong', 'Weak', 'Weak', 'Weak', 'Strong',\n",
    "                                                   'Strong', 'Weak', 'Weak', 'Weak', 'Strong', 'Strong', 'Weak',\n",
    "                                                   'Strong'],\n",
    "                    'PlayTennis': ['No', 'No', 'Yes', 'Yes', 'Yes', 'No',\n",
    "                                                   'Yes', 'No', 'Yes', 'Yes', 'Yes', 'Yes', 'Yes',\n",
    "                                                   'No'],})"
   ]
  },
  {
   "cell_type": "code",
   "execution_count": 18,
   "id": "7ffd2a3f",
   "metadata": {},
   "outputs": [
    {
     "data": {
      "text/html": [
       "<div>\n",
       "<style scoped>\n",
       "    .dataframe tbody tr th:only-of-type {\n",
       "        vertical-align: middle;\n",
       "    }\n",
       "\n",
       "    .dataframe tbody tr th {\n",
       "        vertical-align: top;\n",
       "    }\n",
       "\n",
       "    .dataframe thead th {\n",
       "        text-align: right;\n",
       "    }\n",
       "</style>\n",
       "<table border=\"1\" class=\"dataframe\">\n",
       "  <thead>\n",
       "    <tr style=\"text-align: right;\">\n",
       "      <th></th>\n",
       "      <th>Outlook</th>\n",
       "      <th>Temperature</th>\n",
       "      <th>Humidity</th>\n",
       "      <th>Windy</th>\n",
       "      <th>PlayTennis</th>\n",
       "    </tr>\n",
       "  </thead>\n",
       "  <tbody>\n",
       "    <tr>\n",
       "      <th>0</th>\n",
       "      <td>Sunny</td>\n",
       "      <td>Hot</td>\n",
       "      <td>High</td>\n",
       "      <td>Weak</td>\n",
       "      <td>No</td>\n",
       "    </tr>\n",
       "    <tr>\n",
       "      <th>1</th>\n",
       "      <td>Sunny</td>\n",
       "      <td>Hot</td>\n",
       "      <td>High</td>\n",
       "      <td>Strong</td>\n",
       "      <td>No</td>\n",
       "    </tr>\n",
       "    <tr>\n",
       "      <th>2</th>\n",
       "      <td>Overcast</td>\n",
       "      <td>Hot</td>\n",
       "      <td>High</td>\n",
       "      <td>Weak</td>\n",
       "      <td>Yes</td>\n",
       "    </tr>\n",
       "    <tr>\n",
       "      <th>3</th>\n",
       "      <td>Rainy</td>\n",
       "      <td>Mild</td>\n",
       "      <td>High</td>\n",
       "      <td>Weak</td>\n",
       "      <td>Yes</td>\n",
       "    </tr>\n",
       "    <tr>\n",
       "      <th>4</th>\n",
       "      <td>Rainy</td>\n",
       "      <td>Cool</td>\n",
       "      <td>Normal</td>\n",
       "      <td>Weak</td>\n",
       "      <td>Yes</td>\n",
       "    </tr>\n",
       "    <tr>\n",
       "      <th>5</th>\n",
       "      <td>Rainy</td>\n",
       "      <td>Cool</td>\n",
       "      <td>Normal</td>\n",
       "      <td>Strong</td>\n",
       "      <td>No</td>\n",
       "    </tr>\n",
       "    <tr>\n",
       "      <th>6</th>\n",
       "      <td>Overcast</td>\n",
       "      <td>Cool</td>\n",
       "      <td>Normal</td>\n",
       "      <td>Strong</td>\n",
       "      <td>Yes</td>\n",
       "    </tr>\n",
       "    <tr>\n",
       "      <th>7</th>\n",
       "      <td>Sunny</td>\n",
       "      <td>Mild</td>\n",
       "      <td>High</td>\n",
       "      <td>Weak</td>\n",
       "      <td>No</td>\n",
       "    </tr>\n",
       "    <tr>\n",
       "      <th>8</th>\n",
       "      <td>Sunny</td>\n",
       "      <td>Cool</td>\n",
       "      <td>Normal</td>\n",
       "      <td>Weak</td>\n",
       "      <td>Yes</td>\n",
       "    </tr>\n",
       "    <tr>\n",
       "      <th>9</th>\n",
       "      <td>Rainy</td>\n",
       "      <td>Mild</td>\n",
       "      <td>Normal</td>\n",
       "      <td>Weak</td>\n",
       "      <td>Yes</td>\n",
       "    </tr>\n",
       "    <tr>\n",
       "      <th>10</th>\n",
       "      <td>Sunny</td>\n",
       "      <td>Mild</td>\n",
       "      <td>Normal</td>\n",
       "      <td>Strong</td>\n",
       "      <td>Yes</td>\n",
       "    </tr>\n",
       "    <tr>\n",
       "      <th>11</th>\n",
       "      <td>Overcast</td>\n",
       "      <td>Mild</td>\n",
       "      <td>High</td>\n",
       "      <td>Strong</td>\n",
       "      <td>Yes</td>\n",
       "    </tr>\n",
       "    <tr>\n",
       "      <th>12</th>\n",
       "      <td>Overcast</td>\n",
       "      <td>Hot</td>\n",
       "      <td>Normal</td>\n",
       "      <td>Weak</td>\n",
       "      <td>Yes</td>\n",
       "    </tr>\n",
       "    <tr>\n",
       "      <th>13</th>\n",
       "      <td>Rainy</td>\n",
       "      <td>Mild</td>\n",
       "      <td>High</td>\n",
       "      <td>Strong</td>\n",
       "      <td>No</td>\n",
       "    </tr>\n",
       "  </tbody>\n",
       "</table>\n",
       "</div>"
      ],
      "text/plain": [
       "     Outlook Temperature Humidity   Windy PlayTennis\n",
       "0      Sunny         Hot     High    Weak         No\n",
       "1      Sunny         Hot     High  Strong         No\n",
       "2   Overcast         Hot     High    Weak        Yes\n",
       "3      Rainy        Mild     High    Weak        Yes\n",
       "4      Rainy        Cool   Normal    Weak        Yes\n",
       "5      Rainy        Cool   Normal  Strong         No\n",
       "6   Overcast        Cool   Normal  Strong        Yes\n",
       "7      Sunny        Mild     High    Weak         No\n",
       "8      Sunny        Cool   Normal    Weak        Yes\n",
       "9      Rainy        Mild   Normal    Weak        Yes\n",
       "10     Sunny        Mild   Normal  Strong        Yes\n",
       "11  Overcast        Mild     High  Strong        Yes\n",
       "12  Overcast         Hot   Normal    Weak        Yes\n",
       "13     Rainy        Mild     High  Strong         No"
      ]
     },
     "execution_count": 18,
     "metadata": {},
     "output_type": "execute_result"
    }
   ],
   "source": [
    "df"
   ]
  },
  {
   "cell_type": "code",
   "execution_count": 22,
   "id": "0ba2ddd4",
   "metadata": {},
   "outputs": [
    {
     "name": "stdout",
     "output_type": "stream",
     "text": [
      "Total Count: 14\n",
      "\n",
      "\n",
      "\n",
      "Attribute: Outlook\n",
      "\n",
      "Sunny       5\n",
      "Rainy       5\n",
      "Overcast    4\n",
      "\n",
      "Outlook = Sunny\n",
      "\n",
      "PlayTennis\n",
      "No     3\n",
      "Yes    2\n",
      "\n",
      "Total Count: 5\n",
      "\n",
      "Gini = 1 - (3/5)² - (2/5)² = 0.48\n",
      "\n",
      "\n",
      "Outlook = Rainy\n",
      "\n",
      "PlayTennis\n",
      "No     2\n",
      "Yes    3\n",
      "\n",
      "Total Count: 5\n",
      "\n",
      "Gini = 1 - (2/5)² - (3/5)² = 0.48\n",
      "\n",
      "\n",
      "Outlook = Overcast\n",
      "\n",
      "PlayTennis\n",
      "Yes    4\n",
      "\n",
      "Total Count: 4\n",
      "\n",
      "Gini = 1 - (4/4)² = 0.0\n",
      "\n",
      "For Outlook, Gini index = 5/14*0.48 + 5/14*0.48 + 4/14*0.0 = 0.3429\n",
      "\n",
      "\n",
      "Attribute: Temperature\n",
      "\n",
      "Mild    6\n",
      "Hot     4\n",
      "Cool    4\n",
      "\n",
      "Temperature = Mild\n",
      "\n",
      "PlayTennis\n",
      "No     2\n",
      "Yes    4\n",
      "\n",
      "Total Count: 6\n",
      "\n",
      "Gini = 1 - (2/6)² - (4/6)² = 0.4444\n",
      "\n",
      "\n",
      "Temperature = Hot\n",
      "\n",
      "PlayTennis\n",
      "No     2\n",
      "Yes    2\n",
      "\n",
      "Total Count: 4\n",
      "\n",
      "Gini = 1 - (2/4)² - (2/4)² = 0.5\n",
      "\n",
      "\n",
      "Temperature = Cool\n",
      "\n",
      "PlayTennis\n",
      "No     1\n",
      "Yes    3\n",
      "\n",
      "Total Count: 4\n",
      "\n",
      "Gini = 1 - (1/4)² - (3/4)² = 0.375\n",
      "\n",
      "For Temperature, Gini index = 6/14*0.4444 + 4/14*0.5 + 4/14*0.375 = 0.4405\n",
      "\n",
      "\n",
      "Attribute: Humidity\n",
      "\n",
      "High      7\n",
      "Normal    7\n",
      "\n",
      "Humidity = High\n",
      "\n",
      "PlayTennis\n",
      "No     4\n",
      "Yes    3\n",
      "\n",
      "Total Count: 7\n",
      "\n",
      "Gini = 1 - (4/7)² - (3/7)² = 0.4898\n",
      "\n",
      "\n",
      "Humidity = Normal\n",
      "\n",
      "PlayTennis\n",
      "No     1\n",
      "Yes    6\n",
      "\n",
      "Total Count: 7\n",
      "\n",
      "Gini = 1 - (1/7)² - (6/7)² = 0.2449\n",
      "\n",
      "For Humidity, Gini index = 7/14*0.4898 + 7/14*0.2449 = 0.3674\n",
      "\n",
      "\n",
      "Attribute: Windy\n",
      "\n",
      "Weak      8\n",
      "Strong    6\n",
      "\n",
      "Windy = Weak\n",
      "\n",
      "PlayTennis\n",
      "No     2\n",
      "Yes    6\n",
      "\n",
      "Total Count: 8\n",
      "\n",
      "Gini = 1 - (2/8)² - (6/8)² = 0.375\n",
      "\n",
      "\n",
      "Windy = Strong\n",
      "\n",
      "PlayTennis\n",
      "No     3\n",
      "Yes    3\n",
      "\n",
      "Total Count: 6\n",
      "\n",
      "Gini = 1 - (3/6)² - (3/6)² = 0.5\n",
      "\n",
      "For Windy, Gini index = 8/14*0.375 + 6/14*0.5 = 0.4286\n",
      "\n",
      "\n",
      "For ['Outlook', 'Temperature', 'Humidity', 'Windy'] Gini index are [0.3429, 0.4405, 0.3674, 0.4286]\n",
      "Minimum Gini Index is for Outlook\n"
     ]
    }
   ],
   "source": [
    "gini_index(df)"
   ]
  },
  {
   "cell_type": "markdown",
   "id": "88d4b5d9",
   "metadata": {},
   "source": [
    "## Entropy, Informaton Gain and Gain ratio"
   ]
  },
  {
   "cell_type": "code",
   "execution_count": 20,
   "id": "566c67f9",
   "metadata": {},
   "outputs": [],
   "source": [
    "def information_gain(df, P = 'Yes', N = 'No'):\n",
    "    total_rows = df.shape[0]\n",
    "    print(f'Total Count: {total_rows}\\n')\n",
    "    \n",
    "    attributes = list(df.columns[:-1])\n",
    "    class_var = df.columns[-1]\n",
    "    df_val_count = df[class_var].value_counts()\n",
    "    print(df_val_count.to_string())\n",
    "    P_count = df_val_count[P]\n",
    "    N_count = df_val_count[N]\n",
    "    print(f'\\nP: {P_count}, N: {N_count}\\n')\n",
    "    entropy_s = -P_count/(P_count + N_count)*np.log2(P_count/(P_count + N_count)) -N_count/(P_count + N_count)*np.log2(N_count/(P_count + N_count))\n",
    "    entropy_s = round(entropy_s, 4)\n",
    "    print(f'\\nEntropy(S) = -{P_count}/({P_count} + {N_count})*log({P_count}/({P_count} + {N_count})) -{N_count}/({P_count} + {N_count})*log({N_count}/({P_count} + {N_count})) = {entropy_s}')\n",
    "    attr_information_gain = []\n",
    "    attr_gain_ratio = []\n",
    "    for attr in attributes:\n",
    "        print(f'\\nAttribute: {attr}\\n')\n",
    "        value_counts = df[attr].value_counts()\n",
    "        print(value_counts.to_string())\n",
    "        values = value_counts.index\n",
    "        entropy_list =[]\n",
    "        information_list = []\n",
    "        information_str = ''\n",
    "        for value in values:\n",
    "            print(f'\\n{attr} = {value}\\n')\n",
    "            value_count = value_counts[value]\n",
    "            class_count = df[df[attr] == value].groupby(class_var)[attr].count()\n",
    "            print(class_count.to_string())\n",
    "            print(f'\\nTotal Count: {value_count}\\n')\n",
    "            try:\n",
    "                P_i_count = class_count[P]\n",
    "            except:\n",
    "                P_i_count = 0\n",
    "            try:\n",
    "                N_i_count = class_count[N]\n",
    "            except:\n",
    "                N_i_count = 0\n",
    "            \n",
    "            print(f'\\nP: {P_i_count}, N: {N_i_count}\\n')\n",
    "            if P_i_count ==0 or N_i_count ==0:\n",
    "                entropy_i = 0\n",
    "            else:\n",
    "                entropy_i = -P_i_count/(P_i_count + N_i_count)*np.log2(P_i_count/(P_i_count + N_i_count)) -N_i_count/(P_i_count + N_i_count)*np.log2(N_i_count/(P_i_count + N_i_count))\n",
    "            entropy_i = round(entropy_i, 4)\n",
    "            print(f'\\nEntropy({attr} = {value}) = -{P_i_count}/({P_i_count} + {N_i_count})*log({P_i_count}/({P_i_count} + {N_i_count})) -{N_i_count}/({P_i_count} + {N_i_count})*log({N_i_count}/({P_i_count} + {N_i_count})) = {entropy_i}')\n",
    "            information_i = round((P_i_count+N_i_count)/(P_count + N_count)*entropy_i,4)\n",
    "            information_list.append(information_i)\n",
    "            information_str += f'({P_i_count}+{N_i_count})/({P_count} + {N_count})*{entropy_i} + '\n",
    "            entropy_list.append(entropy_i)\n",
    "        information_str = information_str[:-2]\n",
    "        average_information = round(sum(information_list),4)\n",
    "        print(f'\\nAverage Information({attr}) = {information_str} = {average_information}')\n",
    "        info_gain = round(entropy_s - average_information,4)\n",
    "        split_info = sum([-x/total_rows*np.log2(x/total_rows) for x in value_counts])\n",
    "       \n",
    "        print(f'\\nInformation Gain({attr}) = {entropy_s} - {average_information} = {info_gain}\\n')\n",
    "        print(f'Split info: = {split_info}')\n",
    "        gain_ratio = round(info_gain/split_info,4)\n",
    "        print(f'gain ratio: = {gain_ratio}')\n",
    "        attr_information_gain.append(info_gain)\n",
    "        attr_gain_ratio.append(gain_ratio)\n",
    "        \n",
    "    print(f'\\nFor {attributes} Information gain are {attr_information_gain} and gain ratios are {attr_gain_ratio}')\n",
    "    print(f'Maximum Information Gain is for {attributes[attr_information_gain.index(max(attr_information_gain))]}')\n",
    "    print(f'Maximum Gain ratio is for {attributes[attr_gain_ratio.index(max(attr_gain_ratio))]}')\n",
    "    \n",
    "    "
   ]
  },
  {
   "cell_type": "code",
   "execution_count": 21,
   "id": "0af02266",
   "metadata": {},
   "outputs": [
    {
     "name": "stdout",
     "output_type": "stream",
     "text": [
      "Total Count: 14\n",
      "\n",
      "Yes    9\n",
      "No     5\n",
      "\n",
      "P: 9, N: 5\n",
      "\n",
      "\n",
      "Entropy(S) = -9/(9 + 5)*log(9/(9 + 5)) -5/(9 + 5)*log(5/(9 + 5)) = 0.9403\n",
      "\n",
      "Attribute: Outlook\n",
      "\n",
      "Sunny       5\n",
      "Rainy       5\n",
      "Overcast    4\n",
      "\n",
      "Outlook = Sunny\n",
      "\n",
      "PlayTennis\n",
      "No     3\n",
      "Yes    2\n",
      "\n",
      "Total Count: 5\n",
      "\n",
      "\n",
      "P: 2, N: 3\n",
      "\n",
      "\n",
      "Entropy(Outlook = Sunny) = -2/(2 + 3)*log(2/(2 + 3)) -3/(2 + 3)*log(3/(2 + 3)) = 0.971\n",
      "\n",
      "Outlook = Rainy\n",
      "\n",
      "PlayTennis\n",
      "No     2\n",
      "Yes    3\n",
      "\n",
      "Total Count: 5\n",
      "\n",
      "\n",
      "P: 3, N: 2\n",
      "\n",
      "\n",
      "Entropy(Outlook = Rainy) = -3/(3 + 2)*log(3/(3 + 2)) -2/(3 + 2)*log(2/(3 + 2)) = 0.971\n",
      "\n",
      "Outlook = Overcast\n",
      "\n",
      "PlayTennis\n",
      "Yes    4\n",
      "\n",
      "Total Count: 4\n",
      "\n",
      "\n",
      "P: 4, N: 0\n",
      "\n",
      "\n",
      "Entropy(Outlook = Overcast) = -4/(4 + 0)*log(4/(4 + 0)) -0/(4 + 0)*log(0/(4 + 0)) = 0\n",
      "\n",
      "Average Information(Outlook) = (2+3)/(9 + 5)*0.971 + (3+2)/(9 + 5)*0.971 + (4+0)/(9 + 5)*0  = 0.6936\n",
      "\n",
      "Information Gain(Outlook) = 0.9403 - 0.6936 = 0.2467\n",
      "\n",
      "Split info: = 1.5774062828523454\n",
      "gain ratio: = 0.1564\n",
      "\n",
      "Attribute: Temperature\n",
      "\n",
      "Mild    6\n",
      "Hot     4\n",
      "Cool    4\n",
      "\n",
      "Temperature = Mild\n",
      "\n",
      "PlayTennis\n",
      "No     2\n",
      "Yes    4\n",
      "\n",
      "Total Count: 6\n",
      "\n",
      "\n",
      "P: 4, N: 2\n",
      "\n",
      "\n",
      "Entropy(Temperature = Mild) = -4/(4 + 2)*log(4/(4 + 2)) -2/(4 + 2)*log(2/(4 + 2)) = 0.9183\n",
      "\n",
      "Temperature = Hot\n",
      "\n",
      "PlayTennis\n",
      "No     2\n",
      "Yes    2\n",
      "\n",
      "Total Count: 4\n",
      "\n",
      "\n",
      "P: 2, N: 2\n",
      "\n",
      "\n",
      "Entropy(Temperature = Hot) = -2/(2 + 2)*log(2/(2 + 2)) -2/(2 + 2)*log(2/(2 + 2)) = 1.0\n",
      "\n",
      "Temperature = Cool\n",
      "\n",
      "PlayTennis\n",
      "No     1\n",
      "Yes    3\n",
      "\n",
      "Total Count: 4\n",
      "\n",
      "\n",
      "P: 3, N: 1\n",
      "\n",
      "\n",
      "Entropy(Temperature = Cool) = -3/(3 + 1)*log(3/(3 + 1)) -1/(3 + 1)*log(1/(3 + 1)) = 0.8113\n",
      "\n",
      "Average Information(Temperature) = (4+2)/(9 + 5)*0.9183 + (2+2)/(9 + 5)*1.0 + (3+1)/(9 + 5)*0.8113  = 0.9111\n",
      "\n",
      "Information Gain(Temperature) = 0.9403 - 0.9111 = 0.0292\n",
      "\n",
      "Split info: = 1.5566567074628228\n",
      "gain ratio: = 0.0188\n",
      "\n",
      "Attribute: Humidity\n",
      "\n",
      "High      7\n",
      "Normal    7\n",
      "\n",
      "Humidity = High\n",
      "\n",
      "PlayTennis\n",
      "No     4\n",
      "Yes    3\n",
      "\n",
      "Total Count: 7\n",
      "\n",
      "\n",
      "P: 3, N: 4\n",
      "\n",
      "\n",
      "Entropy(Humidity = High) = -3/(3 + 4)*log(3/(3 + 4)) -4/(3 + 4)*log(4/(3 + 4)) = 0.9852\n",
      "\n",
      "Humidity = Normal\n",
      "\n",
      "PlayTennis\n",
      "No     1\n",
      "Yes    6\n",
      "\n",
      "Total Count: 7\n",
      "\n",
      "\n",
      "P: 6, N: 1\n",
      "\n",
      "\n",
      "Entropy(Humidity = Normal) = -6/(6 + 1)*log(6/(6 + 1)) -1/(6 + 1)*log(1/(6 + 1)) = 0.5917\n",
      "\n",
      "Average Information(Humidity) = (3+4)/(9 + 5)*0.9852 + (6+1)/(9 + 5)*0.5917  = 0.7884\n",
      "\n",
      "Information Gain(Humidity) = 0.9403 - 0.7884 = 0.1519\n",
      "\n",
      "Split info: = 1.0\n",
      "gain ratio: = 0.1519\n",
      "\n",
      "Attribute: Windy\n",
      "\n",
      "Weak      8\n",
      "Strong    6\n",
      "\n",
      "Windy = Weak\n",
      "\n",
      "PlayTennis\n",
      "No     2\n",
      "Yes    6\n",
      "\n",
      "Total Count: 8\n",
      "\n",
      "\n",
      "P: 6, N: 2\n",
      "\n",
      "\n",
      "Entropy(Windy = Weak) = -6/(6 + 2)*log(6/(6 + 2)) -2/(6 + 2)*log(2/(6 + 2)) = 0.8113\n",
      "\n",
      "Windy = Strong\n",
      "\n",
      "PlayTennis\n",
      "No     3\n",
      "Yes    3\n",
      "\n",
      "Total Count: 6\n",
      "\n",
      "\n",
      "P: 3, N: 3\n",
      "\n",
      "\n",
      "Entropy(Windy = Strong) = -3/(3 + 3)*log(3/(3 + 3)) -3/(3 + 3)*log(3/(3 + 3)) = 1.0\n",
      "\n",
      "Average Information(Windy) = (6+2)/(9 + 5)*0.8113 + (3+3)/(9 + 5)*1.0  = 0.8922\n",
      "\n",
      "Information Gain(Windy) = 0.9403 - 0.8922 = 0.0481\n",
      "\n",
      "Split info: = 0.9852281360342515\n",
      "gain ratio: = 0.0488\n",
      "\n",
      "For ['Outlook', 'Temperature', 'Humidity', 'Windy'] Information gain are [0.2467, 0.0292, 0.1519, 0.0481] and gain ratios are [0.1564, 0.0188, 0.1519, 0.0488]\n",
      "Maximum Information Gain is for Outlook\n",
      "Maximum Gain ratio is for Outlook\n"
     ]
    }
   ],
   "source": [
    "information_gain(df)"
   ]
  },
  {
   "cell_type": "markdown",
   "id": "4e52c6db",
   "metadata": {},
   "source": [
    "### Cosine Similarity"
   ]
  },
  {
   "cell_type": "code",
   "execution_count": 77,
   "id": "cc778bf5",
   "metadata": {},
   "outputs": [],
   "source": [
    "def cos_similarity(a,b):\n",
    "    a = np.array(a)\n",
    "    b = np.array(b)\n",
    "    return a @ b/ (np.linalg.norm(a)* np.linalg.norm(b))"
   ]
  },
  {
   "cell_type": "code",
   "execution_count": 78,
   "id": "41cb7d0b",
   "metadata": {},
   "outputs": [
    {
     "data": {
      "text/plain": [
       "0.9537803748418658"
      ]
     },
     "execution_count": 78,
     "metadata": {},
     "output_type": "execute_result"
    }
   ],
   "source": [
    "a = (21, 12, 3, 17, 48, 11, 82, 41, 35)\n",
    "b = (34, 5, 13, 3, 57, 26, 69, 55, 27)\n",
    "cos_similarity(a,b)"
   ]
  },
  {
   "cell_type": "code",
   "execution_count": null,
   "id": "dca2a6a1",
   "metadata": {},
   "outputs": [],
   "source": []
  }
 ],
 "metadata": {
  "kernelspec": {
   "display_name": "Python 3 (ipykernel)",
   "language": "python",
   "name": "python3"
  },
  "language_info": {
   "codemirror_mode": {
    "name": "ipython",
    "version": 3
   },
   "file_extension": ".py",
   "mimetype": "text/x-python",
   "name": "python",
   "nbconvert_exporter": "python",
   "pygments_lexer": "ipython3",
   "version": "3.9.12"
  }
 },
 "nbformat": 4,
 "nbformat_minor": 5
}
