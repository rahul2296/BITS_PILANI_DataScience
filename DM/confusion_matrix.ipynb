{
 "cells": [
  {
   "cell_type": "code",
   "execution_count": 1,
   "id": "8ac71ffa",
   "metadata": {},
   "outputs": [
    {
     "name": "stdout",
     "output_type": "stream",
     "text": [
      "[[1 0 3]\n",
      " [1 3 0]\n",
      " [1 0 1]]\n",
      "              precision    recall  f1-score   support\n",
      "\n",
      "           1       0.33      0.25      0.29         4\n",
      "           2       1.00      0.75      0.86         4\n",
      "           3       0.25      0.50      0.33         2\n",
      "\n",
      "    accuracy                           0.50        10\n",
      "   macro avg       0.53      0.50      0.49        10\n",
      "weighted avg       0.58      0.50      0.52        10\n",
      "\n",
      "total accuracy: \n",
      "0.5\n"
     ]
    }
   ],
   "source": [
    "# Importing the dependancies\n",
    "from sklearn import metrics\n",
    "from sklearn.metrics import accuracy_score\n",
    "\n",
    "# Predicted values\n",
    "# y_pred = [\"x\", \"x\", \"x\", \"y\", \"y\", \"y\", \"z\", \"z\", \"z\", \"z\"]\n",
    "y_pred = [1, 1, 1, 2, 2, 2, 3, 3, 3, 3]\n",
    "\n",
    "# Actual values\n",
    "# y_act = [\"y\", \"x\", \"z\", \"y\", \"y\", \"y\", \"x\", \"x\", \"x\", \"z\"]\n",
    "y_act = [2, 1, 3, 2, 2, 2, 1, 1, 1, 3]\n",
    "\n",
    "# Printing the confusion matrix\n",
    "# The columns will show the instances predicted for each label,\n",
    "# and the rows will show the actual number of instances for each label.\n",
    "print(metrics.confusion_matrix(y_act, y_pred))\n",
    "# Printing the precision and recall, among other metrics\n",
    "print(metrics.classification_report(y_act, y_pred))\n",
    "\n",
    "# print(\"accuracy: \")\n",
    "# matrix = metrics.confusion_matrix(y_act, y_pred)\n",
    "# print(matrix.diagonal()/matrix.sum(axis=1))\n",
    "\n",
    "print(\"total accuracy: \")\n",
    "print(accuracy_score(y_act, y_pred))"
   ]
  },
  {
   "cell_type": "code",
   "execution_count": null,
   "id": "159026f9",
   "metadata": {},
   "outputs": [],
   "source": []
  }
 ],
 "metadata": {
  "kernelspec": {
   "display_name": "Python 3 (ipykernel)",
   "language": "python",
   "name": "python3"
  },
  "language_info": {
   "codemirror_mode": {
    "name": "ipython",
    "version": 3
   },
   "file_extension": ".py",
   "mimetype": "text/x-python",
   "name": "python",
   "nbconvert_exporter": "python",
   "pygments_lexer": "ipython3",
   "version": "3.9.12"
  }
 },
 "nbformat": 4,
 "nbformat_minor": 5
}
